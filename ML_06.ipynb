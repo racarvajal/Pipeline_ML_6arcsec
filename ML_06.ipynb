{
 "cells": [
  {
   "cell_type": "markdown",
   "metadata": {},
   "source": [
    "# Pipeline for High-z Radio Galaxies 06: Application of full pipeline for prediction with optimised thresholds"
   ]
  },
  {
   "cell_type": "markdown",
   "metadata": {},
   "source": [
    "## Introduction"
   ]
  },
  {
   "cell_type": "markdown",
   "metadata": {},
   "source": [
    "In this file, three models will be applied consecutively in order to predict  \n",
    "the detection of Radio Galaxies (radio AGN) and their redshift.  \n",
    "\n",
    "In principle, this pipeline should be applied to data in Stripe 82. But  \n",
    "it can be used with any other suitable dataset."
   ]
  },
  {
   "cell_type": "code",
   "execution_count": 1,
   "metadata": {},
   "outputs": [],
   "source": [
    "%matplotlib inline\n",
    "# Static plots\n",
    "#%matplotlib ipympl\n",
    "# Interactive plots\n",
    "import numpy as np\n",
    "import matplotlib as mpl\n",
    "import matplotlib.cm as cm\n",
    "from matplotlib import ticker\n",
    "import matplotlib.pyplot as plt\n",
    "import matplotlib.colors as mcolors\n",
    "import matplotlib.patheffects as mpe\n",
    "import matplotlib.patches as mpatches\n",
    "from matplotlib.collections import PatchCollection, QuadMesh\n",
    "from matplotlib.ticker import ScalarFormatter\n",
    "from mpl_toolkits.axes_grid1.inset_locator import inset_axes\n",
    "from scipy.ndimage import gaussian_filter\n",
    "from astropy import units as u\n",
    "from astropy.cosmology import Planck18 as cosmo\n",
    "from astropy.visualization import LogStretch, PowerStretch\n",
    "from astropy.visualization.mpl_normalize import ImageNormalize\n",
    "from sklearn.preprocessing import MinMaxScaler\n",
    "from sklearn.metrics import ConfusionMatrixDisplay\n",
    "from sklearn.model_selection import train_test_split, StratifiedKFold, KFold\n",
    "import sklearn.pipeline\n",
    "from scipy import stats\n",
    "import colorcet as cc\n",
    "import cmasher as cmr\n",
    "from pycaret import classification as pyc\n",
    "from pycaret import regression as pyr\n",
    "import pandas as pd\n",
    "import mpl_scatter_density\n",
    "from joblib import dump, load\n",
    "import global_variables as gv\n",
    "import global_functions as gf"
   ]
  },
  {
   "cell_type": "code",
   "execution_count": 2,
   "metadata": {},
   "outputs": [],
   "source": [
    "mpl.rcdefaults()"
   ]
  },
  {
   "cell_type": "code",
   "execution_count": 3,
   "metadata": {},
   "outputs": [],
   "source": [
    "plt.rcParams['text.usetex'] = True"
   ]
  },
  {
   "cell_type": "markdown",
   "metadata": {},
   "source": [
    "Functions to predict values"
   ]
  },
  {
   "cell_type": "code",
   "execution_count": 4,
   "metadata": {
    "jupyter": {
     "source_hidden": true
    }
   },
   "outputs": [],
   "source": [
    "def predict_star(catalog_df, star_model, cal_str_model, threshold, cal_threshold, raw_score=True):\n",
    "    catalog_df = pyc.predict_model(star_model, data=catalog_df, probability_threshold=threshold, raw_score=raw_score, round=10)\n",
    "    catalog_df = catalog_df.drop(columns=['Score_1'])\n",
    "    catalog_df = catalog_df.rename(columns={'Label': 'pred_star', 'Score_0': 'Score_no_star'})\n",
    "    catalog_df.loc[:, 'Score_no_star'] = np.around(catalog_df.loc[:, 'Score_no_star'], decimals=7)\n",
    "    pred_probs = cal_str_model.predict(catalog_df.loc[:, 'Score_0'])\n",
    "    cal_class  = np.array(pred_probs < (1 - cal_threshold)).astype(int)\n",
    "    catalog_df['Prob_no_star']  = pred_probs\n",
    "    catalog_df['pred_star_cal'] = cal_class\n",
    "    return catalog_df"
   ]
  },
  {
   "cell_type": "code",
   "execution_count": 5,
   "metadata": {
    "jupyter": {
     "source_hidden": true
    }
   },
   "outputs": [],
   "source": [
    "def predict_AGN_gal(catalog_df, AGN_gal_model, cal_AGN_gal_model, threshold, cal_threshold, raw_score=True):\n",
    "    catalog_df = pyc.predict_model(AGN_gal_model, data=catalog_df, probability_threshold=threshold, raw_score=raw_score, round=10)\n",
    "    catalog_df = catalog_df.drop(columns=['Score_0'])\n",
    "    catalog_df = catalog_df.rename(columns={'Label': 'pred_class', 'Score_1': 'Score_AGN'})\n",
    "    catalog_df.loc[:, 'Score_AGN'] = np.around(catalog_df.loc[:, 'Score_AGN'], decimals=7)\n",
    "    pred_probs = cal_AGN_gal_model.predict(catalog_df.loc[:, 'Score_AGN'])\n",
    "    cal_class  = np.array(pred_probs >= cal_threshold).astype(int)\n",
    "    catalog_df['Prob_AGN']       = pred_probs\n",
    "    catalog_df['pred_class_cal'] = cal_class\n",
    "    return catalog_df"
   ]
  },
  {
   "cell_type": "code",
   "execution_count": 6,
   "metadata": {
    "jupyter": {
     "source_hidden": true
    }
   },
   "outputs": [],
   "source": [
    "def predict_radio_det(catalog_df, radio_model, cal_radio_model, threshold, cal_threshold, raw_score=True):\n",
    "    catalog_df = pyc.predict_model(radio_model, data=catalog_df, probability_threshold=threshold, raw_score=raw_score, round=10)\n",
    "    catalog_df = catalog_df.drop(columns=['Score_0'])\n",
    "    catalog_df = catalog_df.rename(columns={'Label': 'pred_radio', 'Score_1': 'Score_radio'})\n",
    "    catalog_df.loc[:, 'Score_radio'] = np.around(catalog_df.loc[:, 'Score_radio'], decimals=7)\n",
    "    pred_probs = cal_radio_model.predict(catalog_df.loc[:, 'Score_radio'])\n",
    "    cal_class  = np.array(pred_probs >= cal_threshold).astype(int)\n",
    "    catalog_df['Prob_radio']     = pred_probs\n",
    "    catalog_df['pred_radio_cal'] = cal_class\n",
    "    return catalog_df"
   ]
  },
  {
   "cell_type": "code",
   "execution_count": 7,
   "metadata": {
    "jupyter": {
     "source_hidden": true
    }
   },
   "outputs": [],
   "source": [
    "def predict_z_full(catalog_df, redshift_model):\n",
    "    catalog_df = pyr.predict_model(redshift_model, data=catalog_df, round=10)\n",
    "    catalog_df = catalog_df.rename(columns={'Label': 'pred_Z'})\n",
    "    catalog_df.loc[:, 'pred_Z'] = np.around(catalog_df.loc[:, 'pred_Z'], decimals=4)\n",
    "    return catalog_df"
   ]
  },
  {
   "cell_type": "code",
   "execution_count": 8,
   "metadata": {
    "jupyter": {
     "source_hidden": true
    }
   },
   "outputs": [],
   "source": [
    "def predict_z_high(catalog_df, redshift_model, z_lim, z_tol):\n",
    "    catalog_df    = pyr.predict_model(redshift_model, data=catalog_df, round=10)\n",
    "    filter_pred_z = catalog_df.loc[:, 'pred_Z'] >= (z_lim + z_tol)\n",
    "    catalog_df.loc[:, 'pred_Z'] = catalog_df.loc[:, 'pred_Z'].mask(filter_pred_z, catalog_df.loc[filter_pred_z, 'Label'])\n",
    "    catalog_df    = catalog_df.drop(columns=['Label'])\n",
    "    catalog_df.loc[:, 'pred_Z'] = np.around(catalog_df.loc[:, 'pred_Z'], decimals=4)\n",
    "    return catalog_df"
   ]
  },
  {
   "cell_type": "code",
   "execution_count": 9,
   "metadata": {
    "jupyter": {
     "source_hidden": true
    }
   },
   "outputs": [],
   "source": [
    "def M12_AGN_criterion(catalog_df):\n",
    "    M12_column = (np.array(catalog_df.loc[:, 'W1mproPM'] - catalog_df.loc[:, 'W2mproPM'] - 2.699 + 3.339 <\n",
    "                           0.315 * (catalog_df.loc[:, 'W2mproPM'] - catalog_df.loc[:, 'W3mag'] - 3.339 + 5.174) + 0.791) &\n",
    "                  np.array(catalog_df.loc[:, 'W1mproPM'] - catalog_df.loc[:, 'W2mproPM'] - 2.699 + 3.339 >\n",
    "                           0.315 * (catalog_df.loc[:, 'W2mproPM'] - catalog_df.loc[:, 'W3mag'] - 3.339 + 5.174) - 0.222) &\n",
    "                  np.array(catalog_df.loc[:, 'W1mproPM'] - catalog_df.loc[:, 'W2mproPM'] - 2.699 + 3.339 >\n",
    "                           -3.172 * (catalog_df.loc[:, 'W2mproPM'] - catalog_df.loc[:, 'W3mag'] - 3.339 + 5.174) + 7.624)).astype(int)\n",
    "    return M12_column"
   ]
  },
  {
   "cell_type": "code",
   "execution_count": 10,
   "metadata": {
    "jupyter": {
     "source_hidden": true
    }
   },
   "outputs": [],
   "source": [
    "def S12_AGN_criterion(catalog_df):\n",
    "    S12_column = np.array(catalog_df.loc[:, 'W1mproPM'] - catalog_df.loc[:, 'W2mproPM'] - 2.699 + 3.339 >= 0.8).astype(int)\n",
    "    return S12_column"
   ]
  },
  {
   "cell_type": "code",
   "execution_count": 11,
   "metadata": {
    "jupyter": {
     "source_hidden": true
    }
   },
   "outputs": [],
   "source": [
    "def M16_AGN_criterion(catalog_df):\n",
    "    M16_column = (np.array(catalog_df.loc[:, 'W1mproPM'] - catalog_df.loc[:, 'W2mproPM'] - 2.699 + 3.339 > 0.5) &\n",
    "                  np.array(catalog_df.loc[:, 'W2mproPM'] - catalog_df.loc[:, 'W3mag'] - 3.339 + 5.174 < 4.4)).astype(int)\n",
    "    return M16_column"
   ]
  },
  {
   "cell_type": "code",
   "execution_count": 12,
   "metadata": {
    "jupyter": {
     "source_hidden": true
    }
   },
   "outputs": [],
   "source": [
    "def B18_AGN_criterion(catalog_df):\n",
    "    B18_column = (np.array(catalog_df.loc[:, 'W1mproPM'] - catalog_df.loc[:, 'W2mproPM'] - 2.699 + 3.339 > 0.5) &\n",
    "                  np.array(catalog_df.loc[:, 'W2mproPM'] - catalog_df.loc[:, 'W3mag'] - 3.339 + 5.174 > 2.2) &\n",
    "                  np.array(catalog_df.loc[:, 'W1mproPM'] - catalog_df.loc[:, 'W2mproPM'] - 2.699 + 3.339 >\n",
    "                           2 * (catalog_df.loc[:, 'W2mproPM'] - catalog_df.loc[:, 'W3mag'] - 3.339 + 5.174) - 8.9)).astype(int)\n",
    "    return B18_column"
   ]
  },
  {
   "cell_type": "code",
   "execution_count": 13,
   "metadata": {
    "jupyter": {
     "source_hidden": true
    }
   },
   "outputs": [],
   "source": [
    "def C22_AGN_criterion(catalog_df):  # This work\n",
    "    # C22_column = (np.array(catalog_df.loc[:, 'rmag'] - catalog_df.loc[:, 'zmag'] - 0.617 + 0.866 > -0.45) &\n",
    "    #               np.array(catalog_df.loc[:, 'rmag'] - catalog_df.loc[:, 'zmag'] - 0.617 + 0.866 < 1.8) &\n",
    "    #               np.array(catalog_df.loc[:, 'W1mproPM'] - catalog_df.loc[:, 'W2mproPM'] - 2.699 + 3.339 >\n",
    "    #                        0.355 * (catalog_df.loc[:, 'rmag'] - catalog_df.loc[:, 'zmag'] - 0.617 + 0.866) + 0.26)).astype(int)  # W1-W2, r-z\n",
    "    C22_column = (np.array(catalog_df.loc[:, 'gmag'] - catalog_df.loc[:, 'rmag'] - 0.481 + 0.617 > -0.76) &\n",
    "                  np.array(catalog_df.loc[:, 'gmag'] - catalog_df.loc[:, 'rmag'] - 0.481 + 0.617 < 1.8) &\n",
    "                  np.array(catalog_df.loc[:, 'W1mproPM'] - catalog_df.loc[:, 'W2mproPM'] - 2.699 + 3.339 >\n",
    "                           0.227 * (catalog_df.loc[:, 'rmag'] - catalog_df.loc[:, 'zmag'] - 0.481 + 0.617) + 0.43)).astype(int)  # W1-W2, g-r\n",
    "    return C22_column"
   ]
  },
  {
   "cell_type": "code",
   "execution_count": 14,
   "metadata": {
    "jupyter": {
     "source_hidden": true
    }
   },
   "outputs": [],
   "source": [
    "def add_AGN_criteria(catalog_df):\n",
    "    catalog_df['M12_AGN'] = M12_AGN_criterion(catalog_df)\n",
    "    catalog_df['S12_AGN'] = S12_AGN_criterion(catalog_df)\n",
    "    catalog_df['M16_AGN'] = M16_AGN_criterion(catalog_df)\n",
    "    catalog_df['B18_AGN'] = B18_AGN_criterion(catalog_df)\n",
    "    catalog_df['C22_AGN'] = C22_AGN_criterion(catalog_df)\n",
    "    return catalog_df"
   ]
  },
  {
   "cell_type": "code",
   "execution_count": 15,
   "metadata": {
    "jupyter": {
     "source_hidden": true
    }
   },
   "outputs": [],
   "source": [
    "def radio_lum(flux, z, alpha):  # Output in W Hz-1\n",
    "    lum_dist = cosmo.luminosity_distance(z).to(u.m)\n",
    "    num      = 4 * np.pi * flux.to(u.Jy) * lum_dist**2\n",
    "    denom    = (1 + z)**(alpha +1)\n",
    "    return (num/denom).to(u.W / u.Hz)"
   ]
  },
  {
   "cell_type": "code",
   "execution_count": 16,
   "metadata": {
    "jupyter": {
     "source_hidden": true
    }
   },
   "outputs": [],
   "source": [
    "def cut_rgb_val(val):\n",
    "    if val < 0.0:\n",
    "        return 0.0\n",
    "    if val > 1.0:\n",
    "        return 1.0\n",
    "    else:\n",
    "        return val"
   ]
  },
  {
   "cell_type": "code",
   "execution_count": 17,
   "metadata": {
    "jupyter": {
     "source_hidden": true
    }
   },
   "outputs": [],
   "source": [
    "def fmt(x):\n",
    "    x = x * 100.\n",
    "    x = 100. - x\n",
    "    s = f'{x:.2f}'\n",
    "    if s.endswith('0'):\n",
    "        s = f'{x:.0f}'\n",
    "    return rf'{s} \\%' if plt.rcParams['text.usetex'] else f'{s} %'"
   ]
  },
  {
   "cell_type": "code",
   "execution_count": 18,
   "metadata": {
    "jupyter": {
     "source_hidden": true
    }
   },
   "outputs": [],
   "source": [
    "def make_borders_zero(matrix):\n",
    "    matrix[:, 0]  = 0.0\n",
    "    matrix[:, -1] = 0.0\n",
    "    matrix[0, :]  = 0.0\n",
    "    matrix[-1, :] = 0.0\n",
    "    return matrix"
   ]
  },
  {
   "cell_type": "code",
   "execution_count": 19,
   "metadata": {
    "jupyter": {
     "source_hidden": true
    }
   },
   "outputs": [],
   "source": [
    "def pad_matrix_zeros(matrix, xedges, yedges):  # Pads matrices and creates centred edges\n",
    "    x_centres = 0.5 * (xedges[:-1] + xedges[1:])\n",
    "    y_centres = 0.5 * (yedges[:-1] + yedges[1:])\n",
    "    matrix    = np.pad(matrix, ((1, 1), (1, 1)), mode='constant', constant_values=(0,))\n",
    "    x_centres = np.pad(x_centres, (1, 1), mode='constant', constant_values=(xedges[0], xedges[-1]))\n",
    "    y_centres = np.pad(y_centres, (1, 1), mode='constant', constant_values=(yedges[0], yedges[-1]))\n",
    "    return matrix, x_centres, y_centres"
   ]
  },
  {
   "cell_type": "code",
   "execution_count": 20,
   "metadata": {
    "jupyter": {
     "source_hidden": true
    }
   },
   "outputs": [],
   "source": [
    "def clean_and_smooth_matrix(matrix, sigma=0.9):\n",
    "    matrix[~np.isfinite(matrix)] = 0\n",
    "    matrix_smooth = gaussian_filter(matrix, sigma=0.9)\n",
    "    matrix_smooth[~np.isfinite(matrix_smooth)] = 0\n",
    "    return matrix_smooth"
   ]
  },
  {
   "cell_type": "code",
   "execution_count": 21,
   "metadata": {
    "jupyter": {
     "source_hidden": true
    }
   },
   "outputs": [],
   "source": [
    "colour_hex_rAGN        = '#D32F2F'\n",
    "colour_cet_rAGN        = plt.get_cmap('cet_rainbow')(1.0)\n",
    "colour_rAGN            = mcolors.to_rgba(colour_cet_rAGN)\n",
    "colour_rAGN_rgb        = mcolors.to_rgb(colour_cet_rAGN)\n",
    "colour_rAGN_shade      = list(colour_rAGN)\n",
    "colour_rAGN_shade[3]   = 0.75\n",
    "colour_rAGN_shade      = tuple(colour_rAGN_shade)\n",
    "colour_rAGN_rgb_darker = list(colour_rAGN_rgb)\n",
    "colour_rAGN_rgb_darker = list([value * 0.7 for value in colour_rAGN_rgb_darker])\n",
    "colour_rAGN_rgb_bright = list([cut_rgb_val(value * 1.5) for value in list(colour_rAGN_rgb)])\n",
    "colour_rAGN_rgb_darker = tuple(colour_rAGN_rgb_darker)\n",
    "colour_rAGN_rgb_bright = tuple(colour_rAGN_rgb_bright)\n",
    "colors_rAGN            = [colour_rAGN_rgb_darker, colour_rAGN_rgb_bright] # first color is darker\n",
    "cm_gradient_rAGN       = mcolors.LinearSegmentedColormap.from_list('gradient_rAGN', colors_rAGN, N=50)"
   ]
  },
  {
   "cell_type": "markdown",
   "metadata": {},
   "source": [
    "---"
   ]
  },
  {
   "cell_type": "markdown",
   "metadata": {},
   "source": [
    "## Reading data"
   ]
  },
  {
   "cell_type": "markdown",
   "metadata": {
    "tags": []
   },
   "source": [
    "Flags."
   ]
  },
  {
   "cell_type": "code",
   "execution_count": 22,
   "metadata": {},
   "outputs": [],
   "source": [
    "save_plot_flag      = False\n",
    "load_models_flag    = True\n",
    "use_calibration     = True\n",
    "compare_A17_flag    = True  # Compare with the results from Ananna et al., 2017\n",
    "save_indices_flag   = False"
   ]
  },
  {
   "cell_type": "code",
   "execution_count": 23,
   "metadata": {},
   "outputs": [],
   "source": [
    "used_area           = 'HETDEX'  # can be 'S82', 'HETDEX', 'COSMOS'\n",
    "HETDEX_subset       = 'Validation'  # Validation, Training, Test, Test+Train, 'Calibration'\n",
    "if used_area != 'HETDEX':\n",
    "    HETDEX_subset   = ''"
   ]
  },
  {
   "cell_type": "code",
   "execution_count": 24,
   "metadata": {},
   "outputs": [],
   "source": [
    "if used_area != 'S82':\n",
    "    compare_A17_flag = False\n",
    "if used_area != 'HETDEX':\n",
    "    metrics_hiz_AGN = False"
   ]
  },
  {
   "cell_type": "code",
   "execution_count": 25,
   "metadata": {},
   "outputs": [],
   "source": [
    "radio_alpha         = -0.7"
   ]
  },
  {
   "cell_type": "code",
   "execution_count": 26,
   "metadata": {},
   "outputs": [],
   "source": [
    "if used_area == 'HETDEX':\n",
    "    int_flux_col        = 'Sint_LOFAR'\n",
    "    limit_flux_survey   = 71e-6 * 1e-3  # mJy\n",
    "    limit_flux_survey_b = 71e-6  # 25 uJy\n",
    "    radio_freq          = 150 * u.MHz\n",
    "if used_area == 'S82':\n",
    "    int_flux_col        = 'Fint_VLAS82'\n",
    "    limit_flux_survey   = 52e-6 * 1e-3  # mJy\n",
    "    limit_flux_survey_b = 52e-6  # 25 uJy\n",
    "    radio_freq          = 1.4 * u.GHz"
   ]
  },
  {
   "cell_type": "code",
   "execution_count": 27,
   "metadata": {
    "tags": []
   },
   "outputs": [],
   "source": [
    "file_name_dict      = {'S82': gv.file_S82, 'HETDEX': gv.file_HETDEX, 'COSMOS': gv.file_COSMOS}\n",
    "file_name           = file_name_dict[used_area]"
   ]
  },
  {
   "cell_type": "code",
   "execution_count": 28,
   "metadata": {
    "tags": []
   },
   "outputs": [],
   "source": [
    "feats_2_disc_S82    = ['RA_MILLI', 'DEC_MILLI', 'W1mag', 'W2mag', 'num_imputed', 'radio_detect']\n",
    "feats_2_disc_HETDEX = ['RA_MILLI', 'DEC_MILLI', 'W1mag', 'W2mag', 'num_imputed', 'radio_detect']\n",
    "feats_2_disc_COSMOS = ['RA_MILLI', 'DEC_MILLI', 'W1mag', 'W2mag', 'num_imputed', 'radio_detect', ]\n",
    "\n",
    "feats_2_disc        = {'S82': feats_2_disc_S82, 'HETDEX': feats_2_disc_HETDEX, 'COSMOS': feats_2_disc_COSMOS}\n",
    "features_2_discard  = feats_2_disc[used_area]"
   ]
  },
  {
   "cell_type": "code",
   "execution_count": 29,
   "metadata": {},
   "outputs": [],
   "source": [
    "full_catalog_df     = pd.read_hdf(gv.cat_path + file_name, key='df').drop(columns=features_2_discard)"
   ]
  },
  {
   "cell_type": "code",
   "execution_count": 30,
   "metadata": {},
   "outputs": [],
   "source": [
    "if used_area == 'S82':\n",
    "    full_catalog_df.loc[:, 'LOFAR_detect'] = full_catalog_df.loc[:, 'VLAS82_detect'].copy()\n",
    "    full_catalog_df = full_catalog_df.drop(columns=['VLAS82_detect'])\n",
    "if used_area == 'COSMOS':\n",
    "    full_catalog_df.loc[:, 'LOFAR_detect'] = full_catalog_df.loc[:, 'COSMOSVLA3_detect'].copy()\n",
    "    full_catalog_df = full_catalog_df.drop(columns=['COSMOSVLA3_detect'])"
   ]
  },
  {
   "cell_type": "markdown",
   "metadata": {},
   "source": [
    "Create features with class and combined redshift."
   ]
  },
  {
   "cell_type": "code",
   "execution_count": 31,
   "metadata": {},
   "outputs": [],
   "source": [
    "full_catalog_df['class']            = full_catalog_df.loc[:, 'is_AGN'].copy()\n",
    "filter_non_confirmed                = np.array(full_catalog_df.loc[:, 'is_AGN'] == 1) |\\\n",
    "                                      np.array(full_catalog_df.loc[:, 'is_gal'] == 1)\n",
    "full_catalog_df.loc[~filter_non_confirmed, 'class'] = 0.5\n",
    "idx_non_Z                           = full_catalog_df.loc[:, 'Z'].where(full_catalog_df.loc[:, 'Z'] > 0).isna()\n",
    "full_catalog_df.loc[idx_non_Z, 'Z'] = full_catalog_df.loc[:, 'Z'].mask(idx_non_Z, full_catalog_df.loc[idx_non_Z, 'zsp'])"
   ]
  },
  {
   "cell_type": "markdown",
   "metadata": {},
   "source": [
    "Create column for detection as Radio AGN"
   ]
  },
  {
   "cell_type": "code",
   "execution_count": 32,
   "metadata": {},
   "outputs": [],
   "source": [
    "full_catalog_df['radio_AGN']        = np.array(full_catalog_df.loc[:, 'is_AGN'] == 1) & np.array(full_catalog_df.loc[:, 'LOFAR_detect'] == 1)\n",
    "full_catalog_df['radio_gal']        = np.array(full_catalog_df.loc[:, 'is_gal'] == 1) & np.array(full_catalog_df.loc[:, 'LOFAR_detect'] == 1)"
   ]
  },
  {
   "cell_type": "markdown",
   "metadata": {},
   "source": [
    "Show early statistics of confirmed sources"
   ]
  },
  {
   "cell_type": "code",
   "execution_count": 33,
   "metadata": {},
   "outputs": [
    {
     "name": "stdout",
     "output_type": "stream",
     "text": [
      "In the HETDEX field, there are 118,734 confirmed sources.\n",
      "68,196 of them are galaxies.\n",
      "50,538 of them are AGN.\n",
      "0 of them are stars.\n"
     ]
    }
   ],
   "source": [
    "print(f'In the {used_area} field, there are {np.sum(full_catalog_df.loc[:, \"class\"] != 0.5):,} confirmed sources.')\n",
    "print(f'{np.sum(full_catalog_df.loc[:, \"class\"] == 0):,} of them are galaxies.')\n",
    "print(f'{np.sum(full_catalog_df.loc[:, \"class\"] == 1):,} of them are AGN.')\n",
    "print(f'{np.sum(full_catalog_df.loc[:, \"class\"] == 2):,} of them are stars.')"
   ]
  },
  {
   "cell_type": "markdown",
   "metadata": {},
   "source": [
    "---"
   ]
  },
  {
   "cell_type": "markdown",
   "metadata": {},
   "source": [
    "Split dataset if from HETDEX"
   ]
  },
  {
   "cell_type": "code",
   "execution_count": 34,
   "metadata": {
    "jupyter": {
     "source_hidden": true
    }
   },
   "outputs": [
    {
     "name": "stdout",
     "output_type": "stream",
     "text": [
      "Shape of used data in HETDEX\n",
      "-----------------------------------------------------------------\n",
      "Full confirmed dataset size:                      (118734, 103)\n",
      "Data for Modeling (Train, Test, and Calibration): (94987, 103)\n",
      "Training data:                                    (75989, 103)\n",
      "Testing data:                                     (9499, 103)\n",
      "Calibration data:                                 (9499, 103)\n",
      "Validation data:                                  (23747, 103)\n",
      "-----------------------------------------------------------------\n",
      "\n",
      "Using Validation data from HETDEX\n"
     ]
    }
   ],
   "source": [
    "if used_area == 'HETDEX':\n",
    "    filter_known_spec = (full_catalog_df.loc[:, 'is_AGN'] == 1) | (full_catalog_df.loc[:, 'is_gal'] == 1)\n",
    "    unknown_cat_df    = full_catalog_df.loc[~filter_known_spec]\n",
    "    full_catalog_df   = full_catalog_df.loc[filter_known_spec]\n",
    "    train_test_df, train_df, test_df, calibration_df, validation_df = gf.split_set(full_catalog_df, [0.2, 0.2, 0.5],\\\n",
    "                                                                               'is_AGN', use_calibration=use_calibration)\n",
    "    # Save indices of sources per sub-set\n",
    "    if save_indices_flag:\n",
    "        idx_train_test  = train_test_df.index.to_numpy()\n",
    "        idx_train       = train_df.index.to_numpy()\n",
    "        idx_test        = test_df.index.to_numpy()\n",
    "        idx_calibration = calibration_df.index.to_numpy()\n",
    "        idx_validation  = validation_df.index.to_numpy()\n",
    "        \n",
    "        np.savetxt(gv.indices_path + 'indices_train_test.txt',  idx_train_test,  fmt='%d')\n",
    "        np.savetxt(gv.indices_path + 'indices_train.txt',       idx_train,       fmt='%d')\n",
    "        np.savetxt(gv.indices_path + 'indices_test.txt',        idx_test,        fmt='%d')\n",
    "        np.savetxt(gv.indices_path + 'indices_calibration.txt', idx_calibration, fmt='%d')\n",
    "        np.savetxt(gv.indices_path + 'indices_validation.txt',  idx_validation,  fmt='%d')\n",
    "    \n",
    "    print('Shape of used data in HETDEX')\n",
    "    print('-' * 65)\n",
    "    print(f'Full confirmed dataset size:                      {full_catalog_df.shape}')\n",
    "    print(f'Data for Modeling (Train, Test, and Calibration): {train_test_df.shape}')\n",
    "    print(f'Training data:                                    {train_df.shape}')\n",
    "    print(f'Testing data:                                     {test_df.shape}')\n",
    "    if use_calibration:\n",
    "        print(f'Calibration data:                                 {calibration_df.shape}')\n",
    "    print(f'Validation data:                                  {validation_df.shape}')\n",
    "    print('-' * 65)\n",
    "    print()\n",
    "    print(f'Using {HETDEX_subset} data from HETDEX')\n",
    "    selected_dataset = {'Training': train_df, 'Test': test_df, 'Test+Train': train_test_df,\\\n",
    "                        'Validation': validation_df, 'Calibration': calibration_df}\n",
    "    known_catalog_df = selected_dataset[HETDEX_subset]"
   ]
  },
  {
   "cell_type": "markdown",
   "metadata": {},
   "source": [
    "Split data if not from HETDEX"
   ]
  },
  {
   "cell_type": "code",
   "execution_count": 35,
   "metadata": {},
   "outputs": [],
   "source": [
    "if used_area != 'HETDEX':\n",
    "    # filter_confirmed = (full_catalog_df.loc[:, 'class'] == 0) |\\\n",
    "    #                    (full_catalog_df.loc[:, 'class'] == 1) |\\\n",
    "    #                    (full_catalog_df.loc[:, 'class'] == 2)  # Galaxy, AGN, star\n",
    "    filter_confirmed = (full_catalog_df.loc[:, 'class'] == 0) |\\\n",
    "                       (full_catalog_df.loc[:, 'class'] == 1) # Galaxy, AGN\n",
    "    unknown_cat_df   = full_catalog_df.loc[~filter_confirmed]\n",
    "    known_catalog_df  = full_catalog_df.loc[filter_confirmed]"
   ]
  },
  {
   "cell_type": "code",
   "execution_count": 36,
   "metadata": {},
   "outputs": [],
   "source": [
    "all_subsets_dfs      = [known_catalog_df, unknown_cat_df]"
   ]
  },
  {
   "cell_type": "code",
   "execution_count": 37,
   "metadata": {},
   "outputs": [
    {
     "name": "stdout",
     "output_type": "stream",
     "text": [
      "Full used dataset size:              (23747, 103)\n",
      "--------------------------------------------------\n",
      "Thus, it has 23,747 sources and 103 features.\n"
     ]
    }
   ],
   "source": [
    "print(f'Full used dataset size:              {known_catalog_df.shape}')\n",
    "print('-' * 50)\n",
    "print(f'Thus, it has {known_catalog_df.shape[0]:,} sources and {known_catalog_df.shape[1]:,} features.')"
   ]
  },
  {
   "cell_type": "markdown",
   "metadata": {},
   "source": [
    "Discard minor features."
   ]
  },
  {
   "cell_type": "code",
   "execution_count": 38,
   "metadata": {},
   "outputs": [],
   "source": [
    "full_catalog_df                     = known_catalog_df.drop(columns=['is_AGN', 'is_SDSS_QSO', 'is_SDSS_gal', 'is_gal', 'zsp', 'spCl'])"
   ]
  },
  {
   "cell_type": "markdown",
   "metadata": {},
   "source": [
    "---"
   ]
  },
  {
   "cell_type": "markdown",
   "metadata": {},
   "source": [
    "### Load models"
   ]
  },
  {
   "cell_type": "code",
   "execution_count": 39,
   "metadata": {},
   "outputs": [
    {
     "name": "stdout",
     "output_type": "stream",
     "text": [
      "Transformation Pipeline and Model Successfully Loaded\n",
      "Transformation Pipeline and Model Successfully Loaded\n",
      "Transformation Pipeline and Model Successfully Loaded\n",
      "Transformation Pipeline and Model Successfully Loaded\n",
      "Transformation Pipeline and Model Successfully Loaded\n"
     ]
    }
   ],
   "source": [
    "if load_models_flag:\n",
    "    AGN_gal_clf           = pyc.load_model(gv.models_path + gv.AGN_gal_model)  #  AGN/galaxy\n",
    "    cal_AGN_gal_clf       = load(gv.models_path + gv.cal_AGN_gal_model)  # AGN/galaxy calibrated model\n",
    "    radio_det_AGN_clf     = pyc.load_model(gv.models_path + gv.radio_model)  # Radio detection for AGN\n",
    "    cal_radio_det_AGN_clf = load(gv.models_path + gv.cal_radio_model)  # calibrated model radio detection for AGN\n",
    "    \n",
    "    radio_det_gal_clf     = pyc.load_model(gv.models_path + gv.radio_galaxies_model)  # Radio detection for galaxies\n",
    "    cal_radio_det_gal_clf = load(gv.models_path + gv.cal_radio_gals_model)  # calibrated model radio detection for galaxie\n",
    "    \n",
    "    redshift_reg_rAGN     = pyr.load_model(gv.models_path + gv.full_z_model)  # Redshift prediction for radio-AGN\n",
    "    redshift_reg_rGal     = pyr.load_model(gv.models_path + gv.z_radio_galaxies_model)  # Redshift prediction for radio-galaxies"
   ]
  },
  {
   "cell_type": "markdown",
   "metadata": {},
   "source": [
    "Predictions with optimised thresholds."
   ]
  },
  {
   "cell_type": "code",
   "execution_count": 40,
   "metadata": {},
   "outputs": [],
   "source": [
    "threshold_AGN_logit      = np.log(gv.cal_AGN_thresh   / (1 - gv.cal_AGN_thresh))\n",
    "threshold_radio_logit    = np.log(gv.cal_radio_thresh / (1 - gv.cal_radio_thresh))"
   ]
  },
  {
   "cell_type": "code",
   "execution_count": 41,
   "metadata": {},
   "outputs": [
    {
     "name": "stdout",
     "output_type": "stream",
     "text": [
      "Predicting AGN/SFG in known dataset\n",
      "Predicting AGN/SFG in unknown dataset\n"
     ]
    }
   ],
   "source": [
    "if load_models_flag:\n",
    "    print('Predicting AGN/SFG in known dataset')\n",
    "    known_catalog_df = gf.predict_AGN_gal(known_catalog_df,\n",
    "                                            AGN_gal_clf,\n",
    "                                            cal_AGN_gal_clf,\n",
    "                                            gv.AGN_thresh,\n",
    "                                            gv.cal_AGN_thresh)\n",
    "    print('Predicting AGN/SFG in unknown dataset')\n",
    "    # unknown_cat_df = gf.predict_AGN_gal(unknown_cat_df,\n",
    "    #                                         AGN_gal_clf,\n",
    "    #                                         cal_AGN_gal_clf,\n",
    "    #                                         gv.AGN_thresh,\n",
    "    #                                         gv.cal_AGN_thresh)"
   ]
  },
  {
   "cell_type": "code",
   "execution_count": 42,
   "metadata": {},
   "outputs": [
    {
     "name": "stdout",
     "output_type": "stream",
     "text": [
      "Predicting rAGN in known dataset\n",
      "Predicting rAGN in unknown dataset\n"
     ]
    }
   ],
   "source": [
    "if load_models_flag:\n",
    "    print('Predicting rAGN in known dataset')\n",
    "    known_catalog_df = gf.predict_radio_det(known_catalog_df,\n",
    "                                              radio_det_AGN_clf,\n",
    "                                              cal_radio_det_AGN_clf,\n",
    "                                              gv.radio_thresh,\n",
    "                                              gv.cal_radio_thresh)\n",
    "    known_catalog_df = known_catalog_df.rename(columns={'Score_radio': 'Score_radio_AGN',\n",
    "                                                        'pred_radio': 'pred_radio_AGN',\n",
    "                                                        'Prob_radio': 'Prob_radio_AGN',\n",
    "                                                        'pred_radio_cal': 'pred_radio_cal_AGN'})\n",
    "    print('Predicting rAGN in unknown dataset')\n",
    "    # unknown_cat_df = gf.predict_radio_det(unknown_cat_df,\n",
    "    #                                           radio_det_AGN_clf,\n",
    "    #                                           cal_radio_det_AGN_clf,\n",
    "    #                                           gv.radio_thresh,\n",
    "    #                                           gv.cal_radio_thresh)\n",
    "    # unknown_cat_df = unknown_cat_df.rename(columns={'Score_radio': 'Score_radio_AGN',\n",
    "    #                                                     'pred_radio': 'pred_radio_AGN',\n",
    "    #                                                     'Prob_radio': 'Prob_radio_AGN',\n",
    "    #                                                     'pred_radio_cal': 'pred_radio_cal_AGN'})"
   ]
  },
  {
   "cell_type": "code",
   "execution_count": 43,
   "metadata": {},
   "outputs": [
    {
     "name": "stdout",
     "output_type": "stream",
     "text": [
      "Predicting rSFG in known dataset\n",
      "Predicting rSFG in unknown dataset\n"
     ]
    }
   ],
   "source": [
    "if load_models_flag:\n",
    "    print('Predicting rSFG in known dataset')\n",
    "    known_catalog_df = gf.predict_radio_det(known_catalog_df,\n",
    "                                              radio_det_gal_clf,\n",
    "                                              cal_radio_det_gal_clf,\n",
    "                                              gv.radio_gals_thresh,\n",
    "                                              gv.cal_radio_gals_thresh)\n",
    "    known_catalog_df = known_catalog_df.rename(columns={'Score_radio': 'Score_radio_gal',\n",
    "                                                        'pred_radio': 'pred_radio_gal',\n",
    "                                                        'Prob_radio': 'Prob_radio_gal',\n",
    "                                                        'pred_radio_cal': 'pred_radio_cal_gal'})\n",
    "    print('Predicting rSFG in unknown dataset')\n",
    "    # unknown_cat_df = gf.predict_radio_det(unknown_cat_df,\n",
    "    #                                           radio_det_gal_clf,\n",
    "    #                                           cal_radio_det_gal_clf,\n",
    "    #                                           gv.radio_gals_thresh,\n",
    "    #                                           gv.cal_radio_gals_thresh)\n",
    "    # unknown_cat_df = unknown_cat_df.rename(columns={'Score_radio': 'Score_radio_gal',\n",
    "    #                                                     'pred_radio': 'pred_radio_gal',\n",
    "    #                                                     'Prob_radio': 'Prob_radio_gal',\n",
    "    #                                                     'pred_radio_cal': 'pred_radio_cal_gal'})"
   ]
  },
  {
   "cell_type": "code",
   "execution_count": 44,
   "metadata": {},
   "outputs": [],
   "source": [
    "known_catalog_df.loc[:, 'pred_rAGN_cal'] = (np.array(known_catalog_df.loc[:, 'pred_class_cal'] == 1) & np.array(known_catalog_df.loc[:, 'pred_radio_cal_AGN'] == 1)).astype(int)\n",
    "known_catalog_df.loc[:, 'pred_rGal_cal'] = (np.array(known_catalog_df.loc[:, 'pred_class_cal'] == 0) & np.array(known_catalog_df.loc[:, 'pred_radio_cal_gal'] == 1)).astype(int)"
   ]
  },
  {
   "cell_type": "code",
   "execution_count": 45,
   "metadata": {},
   "outputs": [],
   "source": [
    "known_catalog_df.loc[:, 'class_gal']          = 1 - known_catalog_df.loc[:, 'class']\n",
    "known_catalog_df.loc[:, 'pred_class_gal_cal'] = 1 - known_catalog_df.loc[:, 'pred_class_cal']"
   ]
  },
  {
   "cell_type": "code",
   "execution_count": 46,
   "metadata": {},
   "outputs": [
    {
     "name": "stdout",
     "output_type": "stream",
     "text": [
      "Predicting redshift for rAGN in known dataset\n",
      "Predicting redshift for rAGN in unknown dataset\n"
     ]
    }
   ],
   "source": [
    "if load_models_flag:\n",
    "    print('Predicting redshift for rAGN in known dataset')\n",
    "    known_catalog_df = gf.predict_z(known_catalog_df, redshift_reg_rAGN)\n",
    "    known_catalog_df = known_catalog_df.rename(columns={'pred_Z': 'pred_Z_rAGN'})\n",
    "    print('Predicting redshift for rAGN in unknown dataset')\n",
    "    # unknown_cat_df = gf.predict_z(unknown_cat_df, redshift_reg_rAGN)\n",
    "    # unknown_cat_df = unknown_cat_df.rename(columns={'pred_Z': 'pred_Z_rAGN'})"
   ]
  },
  {
   "cell_type": "code",
   "execution_count": 47,
   "metadata": {},
   "outputs": [
    {
     "name": "stdout",
     "output_type": "stream",
     "text": [
      "Predicting redshift for rSFG in known dataset\n",
      "Predicting redshift for rSFG in unknown dataset\n"
     ]
    }
   ],
   "source": [
    "if load_models_flag:\n",
    "    print('Predicting redshift for rSFG in known dataset')\n",
    "    known_catalog_df = gf.predict_z(known_catalog_df, redshift_reg_rGal)\n",
    "    known_catalog_df = known_catalog_df.rename(columns={'pred_Z': 'pred_Z_rGal'})\n",
    "    print('Predicting redshift for rSFG in unknown dataset')\n",
    "    # unknown_cat_df = gf.predict_z(unknown_cat_df, redshift_reg_rGal)\n",
    "    # unknown_cat_df = unknown_cat_df.rename(columns={'pred_Z': 'pred_Z_rGal'})"
   ]
  },
  {
   "cell_type": "code",
   "execution_count": 48,
   "metadata": {},
   "outputs": [],
   "source": [
    "all_subsets_dfs      = [known_catalog_df, unknown_cat_df]"
   ]
  },
  {
   "cell_type": "markdown",
   "metadata": {},
   "source": [
    "##### Include AGN detection criteria from literature"
   ]
  },
  {
   "cell_type": "code",
   "execution_count": 49,
   "metadata": {},
   "outputs": [],
   "source": [
    "known_catalog_df = add_AGN_criteria(known_catalog_df)\n",
    "known_catalog_df = add_AGN_criteria(known_catalog_df)"
   ]
  },
  {
   "cell_type": "markdown",
   "metadata": {},
   "source": [
    "#### Only metrics for known sources predicted with calibrated models"
   ]
  },
  {
   "cell_type": "code",
   "execution_count": 50,
   "metadata": {},
   "outputs": [],
   "source": [
    "filt_true_AGN  = np.array(known_catalog_df.loc[:, 'class'] == 1)\n",
    "filt_true_gal  = np.array(known_catalog_df.loc[:, 'class'] == 0)\n",
    "filt_true_rAGN = np.array(known_catalog_df.loc[:, 'class'] == 1) & np.array(known_catalog_df.loc[:, 'LOFAR_detect'] == 1)\n",
    "filt_true_rGal = np.array(known_catalog_df.loc[:, 'class'] == 0) & np.array(known_catalog_df.loc[:, 'LOFAR_detect'] == 1)"
   ]
  },
  {
   "cell_type": "code",
   "execution_count": 51,
   "metadata": {},
   "outputs": [],
   "source": [
    "filt_pred_AGN  = np.array(known_catalog_df.loc[:, 'pred_class_cal'] == 1)\n",
    "filt_pred_gal  = np.array(known_catalog_df.loc[:, 'pred_class_cal'] == 0)\n",
    "filt_pred_rAGN = np.array(known_catalog_df.loc[:, 'pred_class_cal'] == 1) & np.array(known_catalog_df.loc[:, 'pred_radio_cal_AGN'] == 1)\n",
    "filt_pred_rGal = np.array(known_catalog_df.loc[:, 'pred_class_cal'] == 0) & np.array(known_catalog_df.loc[:, 'pred_radio_cal_gal'] == 1)"
   ]
  },
  {
   "cell_type": "code",
   "execution_count": 52,
   "metadata": {},
   "outputs": [],
   "source": [
    "filt_good_true_z = np.array(known_catalog_df.loc[:, 'Z'] > 0)"
   ]
  },
  {
   "cell_type": "code",
   "execution_count": 53,
   "metadata": {
    "tags": []
   },
   "outputs": [],
   "source": [
    "cm_AGN        = gf.conf_mat_func(known_catalog_df.loc[:, 'class'],\n",
    "                                 known_catalog_df.loc[:, 'pred_class_cal'])\n",
    "cm_AGN_random = gf.conf_mat_random(known_catalog_df.loc[:, 'class'])\n",
    "\n",
    "cm_gal        = np.rot90(cm_AGN, k=2)\n",
    "cm_gal_random = np.rot90(cm_AGN_random, k=2)"
   ]
  },
  {
   "cell_type": "code",
   "execution_count": 54,
   "metadata": {},
   "outputs": [
    {
     "name": "stdout",
     "output_type": "stream",
     "text": [
      "[[13072   567]\n",
      " [  383  9725]]\n",
      "\n",
      "[[7834 5805]\n",
      " [5805 4303]]\n",
      "\n",
      "[[ 9725   383]\n",
      " [  567 13072]]\n",
      "\n",
      "[[4303 5805]\n",
      " [5805 7834]]\n"
     ]
    }
   ],
   "source": [
    "print(cm_AGN)\n",
    "print()\n",
    "print(cm_AGN_random)\n",
    "print()\n",
    "print(cm_gal)\n",
    "print()\n",
    "print(cm_gal_random)"
   ]
  },
  {
   "cell_type": "code",
   "execution_count": 55,
   "metadata": {
    "tags": []
   },
   "outputs": [],
   "source": [
    "cm_r_in_pred_AGN        = gf.conf_mat_func(known_catalog_df.loc[filt_pred_AGN, 'LOFAR_detect'],\n",
    "                                           known_catalog_df.loc[filt_pred_AGN, 'pred_radio_cal_AGN'])\n",
    "cm_r_in_true_AGN        = gf.conf_mat_func(known_catalog_df.loc[filt_true_AGN, 'LOFAR_detect'],\n",
    "                                           known_catalog_df.loc[filt_true_AGN, 'pred_radio_cal_AGN'])\n",
    "cm_r_in_pred_AGN_random = gf.conf_mat_random(known_catalog_df.loc[filt_pred_AGN, 'LOFAR_detect'])\n",
    "cm_r_in_true_AGN_random = gf.conf_mat_random(known_catalog_df.loc[filt_true_AGN, 'LOFAR_detect'])\n",
    "\n",
    "cm_r_in_pred_gal        = gf.conf_mat_func(known_catalog_df.loc[filt_pred_gal, 'LOFAR_detect'],\n",
    "                                           known_catalog_df.loc[filt_pred_gal, 'pred_radio_cal_gal'])\n",
    "cm_r_in_true_gal        = gf.conf_mat_func(known_catalog_df.loc[filt_true_gal, 'LOFAR_detect'],\n",
    "                                           known_catalog_df.loc[filt_true_gal, 'pred_radio_cal_gal'])\n",
    "cm_r_in_pred_gal_random = gf.conf_mat_random(known_catalog_df.loc[filt_pred_gal, 'LOFAR_detect'])\n",
    "cm_r_in_true_gal_random = gf.conf_mat_random(known_catalog_df.loc[filt_true_gal, 'LOFAR_detect'])"
   ]
  },
  {
   "cell_type": "code",
   "execution_count": 56,
   "metadata": {},
   "outputs": [
    {
     "name": "stdout",
     "output_type": "stream",
     "text": [
      "[[7666 1030]\n",
      " [ 843  753]]\n",
      "\n",
      "[[7367 1077]\n",
      " [ 841  823]]\n",
      "\n",
      "[[7347 1349]\n",
      " [1349  247]]\n",
      "\n",
      "[[7054 1390]\n",
      " [1390  274]]\n",
      "\n",
      "[[10321  1062]\n",
      " [ 1129   943]]\n",
      "\n",
      "[[10566  1069]\n",
      " [ 1089   915]]\n",
      "\n",
      "[[9630 1753]\n",
      " [1753  319]]\n",
      "\n",
      "[[9925 1710]\n",
      " [1710  294]]\n"
     ]
    }
   ],
   "source": [
    "print(cm_r_in_pred_AGN)\n",
    "print()\n",
    "print(cm_r_in_true_AGN)\n",
    "print()\n",
    "print(cm_r_in_pred_AGN_random)\n",
    "print()\n",
    "print(cm_r_in_true_AGN_random)\n",
    "print()\n",
    "print(cm_r_in_pred_gal)\n",
    "print()\n",
    "print(cm_r_in_true_gal)\n",
    "print()\n",
    "print(cm_r_in_pred_gal_random)\n",
    "print()\n",
    "print(cm_r_in_true_gal_random)"
   ]
  },
  {
   "cell_type": "code",
   "execution_count": 57,
   "metadata": {
    "tags": []
   },
   "outputs": [],
   "source": [
    "cm_rAGN        = gf.conf_mat_func(known_catalog_df.loc[filt_pred_AGN, 'radio_AGN'],\n",
    "                                  known_catalog_df.loc[filt_pred_AGN, 'pred_rAGN_cal'])\n",
    "cm_rAGN_random = gf.conf_mat_random(known_catalog_df.loc[filt_pred_AGN, 'radio_AGN'])\n",
    "\n",
    "cm_rGal        = gf.conf_mat_func(known_catalog_df.loc[filt_pred_gal, 'radio_gal'],\n",
    "                                  known_catalog_df.loc[filt_pred_gal, 'pred_rGal_cal'])\n",
    "cm_rGal_random = gf.conf_mat_random(known_catalog_df.loc[filt_pred_gal, 'radio_gal'])"
   ]
  },
  {
   "cell_type": "code",
   "execution_count": 58,
   "metadata": {},
   "outputs": [
    {
     "name": "stdout",
     "output_type": "stream",
     "text": [
      "[[7692 1093]\n",
      " [ 817  690]]\n",
      "\n",
      "[[7499 1286]\n",
      " [1286  221]]\n",
      "\n",
      "[[10382  1158]\n",
      " [ 1068   847]]\n",
      "\n",
      "[[9898 1642]\n",
      " [1642  273]]\n"
     ]
    }
   ],
   "source": [
    "print(cm_rAGN)\n",
    "print()\n",
    "print(cm_rAGN_random)\n",
    "print()\n",
    "print(cm_rGal)\n",
    "print()\n",
    "print(cm_rGal_random)"
   ]
  },
  {
   "cell_type": "markdown",
   "metadata": {},
   "source": [
    "Confusion matrices from literature AGN criteria."
   ]
  },
  {
   "cell_type": "code",
   "execution_count": 59,
   "metadata": {},
   "outputs": [],
   "source": [
    "cm_AGN_S12 = gf.conf_mat_func(known_catalog_df.loc[:, 'class'],\n",
    "                              known_catalog_df.loc[:, 'S12_AGN'])\n",
    "cm_AGN_M12 = gf.conf_mat_func(known_catalog_df.loc[:, 'class'],\n",
    "                              known_catalog_df.loc[:, 'M12_AGN'])\n",
    "cm_AGN_M16 = gf.conf_mat_func(known_catalog_df.loc[:, 'class'],\n",
    "                              known_catalog_df.loc[:, 'M16_AGN'])\n",
    "cm_AGN_B18 = gf.conf_mat_func(known_catalog_df.loc[:, 'class'],\n",
    "                              known_catalog_df.loc[:, 'B18_AGN'])\n",
    "cm_AGN_C22 = gf.conf_mat_func(known_catalog_df.loc[:, 'class'],\n",
    "                              known_catalog_df.loc[:, 'C22_AGN'])\n",
    "\n",
    "cm_gal_S12 = np.rot90(cm_AGN_S12, k=2)\n",
    "cm_gal_M12 = np.rot90(cm_AGN_M12, k=2)\n",
    "cm_gal_M16 = np.rot90(cm_AGN_M16, k=2)\n",
    "cm_gal_B18 = np.rot90(cm_AGN_B18, k=2)\n",
    "cm_gal_C22 = np.rot90(cm_AGN_C22, k=2)"
   ]
  },
  {
   "cell_type": "code",
   "execution_count": 60,
   "metadata": {},
   "outputs": [
    {
     "name": "stdout",
     "output_type": "stream",
     "text": [
      "[[13118   521]\n",
      " [ 1970  8138]]\n",
      "\n",
      "[[13596    43]\n",
      " [ 6350  3758]]\n",
      "\n",
      "[[13499   140]\n",
      " [ 4702  5406]]\n",
      "\n",
      "[[13454   185]\n",
      " [ 2764  7344]]\n",
      "\n",
      "[[13048   591]\n",
      " [  842  9266]]\n"
     ]
    }
   ],
   "source": [
    "print(cm_AGN_S12)\n",
    "print()\n",
    "print(cm_AGN_M12)\n",
    "print()\n",
    "print(cm_AGN_M16)\n",
    "print()\n",
    "print(cm_AGN_B18)\n",
    "print()\n",
    "print(cm_AGN_C22)"
   ]
  },
  {
   "cell_type": "code",
   "execution_count": 61,
   "metadata": {},
   "outputs": [
    {
     "name": "stdout",
     "output_type": "stream",
     "text": [
      "[[ 8138  1970]\n",
      " [  521 13118]]\n",
      "\n",
      "[[ 3758  6350]\n",
      " [   43 13596]]\n",
      "\n",
      "[[ 5406  4702]\n",
      " [  140 13499]]\n",
      "\n",
      "[[ 7344  2764]\n",
      " [  185 13454]]\n",
      "\n",
      "[[ 9266   842]\n",
      " [  591 13048]]\n"
     ]
    }
   ],
   "source": [
    "print(cm_gal_S12)\n",
    "print()\n",
    "print(cm_gal_M12)\n",
    "print()\n",
    "print(cm_gal_M16)\n",
    "print()\n",
    "print(cm_gal_B18)\n",
    "print()\n",
    "print(cm_gal_C22)"
   ]
  },
  {
   "cell_type": "markdown",
   "metadata": {},
   "source": [
    "Metrics from confusion matrices"
   ]
  },
  {
   "cell_type": "code",
   "execution_count": 62,
   "metadata": {},
   "outputs": [],
   "source": [
    "MCC_AGN              = gf.MCC_from_CM(cm_AGN)\n",
    "Fb_AGN               = gf.Fb_from_CM(cm_AGN)\n",
    "Precision_AGN        = gf.Precision_from_CM(cm_AGN)\n",
    "Recall_AGN           = gf.Recall_from_CM(cm_AGN)\n",
    "ACC_AGN              = gf.ACC_from_CM(cm_AGN)\n",
    "\n",
    "MCC_AGN_random       = gf.MCC_from_CM(cm_AGN_random)\n",
    "ACC_AGN_random       = gf.ACC_from_CM(cm_AGN_random)\n",
    "Fb_AGN_random        = gf.Fb_from_CM(cm_AGN_random)\n",
    "Precision_AGN_random = gf.Precision_from_CM(cm_AGN_random)\n",
    "Recall_AGN_random    = gf.Recall_from_CM(cm_AGN_random)"
   ]
  },
  {
   "cell_type": "code",
   "execution_count": 63,
   "metadata": {},
   "outputs": [],
   "source": [
    "MCC_r_in_pred_AGN              = gf.MCC_from_CM(cm_r_in_pred_AGN)\n",
    "Fb_r_in_pred_AGN               = gf.Fb_from_CM(cm_r_in_pred_AGN)\n",
    "Precision_r_in_pred_AGN        = gf.Precision_from_CM(cm_r_in_pred_AGN)\n",
    "Recall_r_in_pred_AGN           = gf.Recall_from_CM(cm_r_in_pred_AGN)\n",
    "ACC_r_in_pred_AGN              = gf.ACC_from_CM(cm_r_in_pred_AGN)\n",
    "\n",
    "MCC_r_in_true_AGN              = gf.MCC_from_CM(cm_r_in_true_AGN)\n",
    "Fb_r_in_true_AGN               = gf.Fb_from_CM(cm_r_in_true_AGN)\n",
    "Precision_r_in_true_AGN        = gf.Precision_from_CM(cm_r_in_true_AGN)\n",
    "Recall_r_in_true_AGN           = gf.Recall_from_CM(cm_r_in_true_AGN)\n",
    "ACC_r_in_true_AGN              = gf.ACC_from_CM(cm_r_in_true_AGN)\n",
    "\n",
    "MCC_r_in_pred_AGN_random       = gf.MCC_from_CM(cm_r_in_pred_AGN_random)\n",
    "ACC_r_in_pred_AGN_random       = gf.ACC_from_CM(cm_r_in_pred_AGN_random)\n",
    "Fb_r_in_pred_AGN_random        = gf.Fb_from_CM(cm_r_in_pred_AGN_random)\n",
    "Precision_r_in_pred_AGN_random = gf.Precision_from_CM(cm_r_in_pred_AGN_random)\n",
    "Recall_r_in_pred_AGN_random    = gf.Recall_from_CM(cm_r_in_pred_AGN_random)\n",
    "\n",
    "MCC_r_in_true_AGN_random       = gf.MCC_from_CM(cm_r_in_true_AGN_random)\n",
    "ACC_r_in_true_AGN_random       = gf.ACC_from_CM(cm_r_in_true_AGN_random)\n",
    "Fb_r_in_true_AGN_random        = gf.Fb_from_CM(cm_r_in_true_AGN_random)\n",
    "Precision_r_in_true_AGN_random = gf.Precision_from_CM(cm_r_in_true_AGN_random)\n",
    "Recall_r_in_true_AGN_random    = gf.Recall_from_CM(cm_r_in_true_AGN_random)"
   ]
  },
  {
   "cell_type": "code",
   "execution_count": 64,
   "metadata": {},
   "outputs": [],
   "source": [
    "MCC_rAGN              = gf.MCC_from_CM(cm_rAGN)\n",
    "Fb_rAGN               = gf.Fb_from_CM(cm_rAGN)\n",
    "Precision_rAGN        = gf.Precision_from_CM(cm_rAGN)\n",
    "Recall_rAGN           = gf.Recall_from_CM(cm_rAGN)\n",
    "ACC_rAGN              = gf.ACC_from_CM(cm_rAGN)\n",
    "\n",
    "MCC_rAGN_random       = gf.MCC_from_CM(cm_rAGN_random)\n",
    "ACC_rAGN_random       = gf.ACC_from_CM(cm_rAGN_random)\n",
    "Fb_rAGN_random        = gf.Fb_from_CM(cm_rAGN_random)\n",
    "Precision_rAGN_random = gf.Precision_from_CM(cm_rAGN_random)\n",
    "Recall_rAGN_random    = gf.Recall_from_CM(cm_rAGN_random)"
   ]
  },
  {
   "cell_type": "code",
   "execution_count": 65,
   "metadata": {},
   "outputs": [],
   "source": [
    "MCC_gal              = gf.MCC_from_CM(cm_gal)\n",
    "Fb_gal               = gf.Fb_from_CM(cm_gal)\n",
    "Precision_gal        = gf.Precision_from_CM(cm_gal)\n",
    "Recall_gal           = gf.Recall_from_CM(cm_gal)\n",
    "ACC_gal              = gf.ACC_from_CM(cm_gal)\n",
    "\n",
    "MCC_gal_random       = gf.MCC_from_CM(cm_gal_random)\n",
    "ACC_gal_random       = gf.ACC_from_CM(cm_gal_random)\n",
    "Fb_gal_random        = gf.Fb_from_CM(cm_gal_random)\n",
    "Precision_gal_random = gf.Precision_from_CM(cm_gal_random)\n",
    "Recall_gal_random    = gf.Recall_from_CM(cm_gal_random)"
   ]
  },
  {
   "cell_type": "code",
   "execution_count": 66,
   "metadata": {},
   "outputs": [],
   "source": [
    "MCC_r_in_pred_gal              = gf.MCC_from_CM(cm_r_in_pred_gal)\n",
    "Fb_r_in_pred_gal               = gf.Fb_from_CM(cm_r_in_pred_gal)\n",
    "Precision_r_in_pred_gal        = gf.Precision_from_CM(cm_r_in_pred_gal)\n",
    "Recall_r_in_pred_gal           = gf.Recall_from_CM(cm_r_in_pred_gal)\n",
    "ACC_r_in_pred_gal              = gf.ACC_from_CM(cm_r_in_pred_gal)\n",
    "\n",
    "MCC_r_in_true_gal              = gf.MCC_from_CM(cm_r_in_true_gal)\n",
    "Fb_r_in_true_gal               = gf.Fb_from_CM(cm_r_in_true_gal)\n",
    "Precision_r_in_true_gal        = gf.Precision_from_CM(cm_r_in_true_gal)\n",
    "Recall_r_in_true_gal           = gf.Recall_from_CM(cm_r_in_true_gal)\n",
    "ACC_r_in_true_gal              = gf.ACC_from_CM(cm_r_in_true_gal)\n",
    "\n",
    "MCC_r_in_pred_gal_random       = gf.MCC_from_CM(cm_r_in_pred_gal_random)\n",
    "ACC_r_in_pred_gal_random       = gf.ACC_from_CM(cm_r_in_pred_gal_random)\n",
    "Fb_r_in_pred_gal_random        = gf.Fb_from_CM(cm_r_in_pred_gal_random)\n",
    "Precision_r_in_pred_gal_random = gf.Precision_from_CM(cm_r_in_pred_gal_random)\n",
    "Recall_r_in_pred_gal_random    = gf.Recall_from_CM(cm_r_in_pred_gal_random)\n",
    "\n",
    "MCC_r_in_true_gal_random       = gf.MCC_from_CM(cm_r_in_true_gal_random)\n",
    "ACC_r_in_true_gal_random       = gf.ACC_from_CM(cm_r_in_true_gal_random)\n",
    "Fb_r_in_true_gal_random        = gf.Fb_from_CM(cm_r_in_true_gal_random)\n",
    "Precision_r_in_true_gal_random = gf.Precision_from_CM(cm_r_in_true_gal_random)\n",
    "Recall_r_in_true_gal_random    = gf.Recall_from_CM(cm_r_in_true_gal_random)"
   ]
  },
  {
   "cell_type": "code",
   "execution_count": 67,
   "metadata": {},
   "outputs": [],
   "source": [
    "MCC_rGal              = gf.MCC_from_CM(cm_rGal)\n",
    "Fb_rGal               = gf.Fb_from_CM(cm_rGal)\n",
    "Precision_rGal        = gf.Precision_from_CM(cm_rGal)\n",
    "Recall_rGal           = gf.Recall_from_CM(cm_rGal)\n",
    "ACC_rGal              = gf.ACC_from_CM(cm_rGal)\n",
    "\n",
    "MCC_rGal_random       = gf.MCC_from_CM(cm_rGal_random)\n",
    "ACC_rGal_random       = gf.ACC_from_CM(cm_rGal_random)\n",
    "Fb_rGal_random        = gf.Fb_from_CM(cm_rGal_random)\n",
    "Precision_rGal_random = gf.Precision_from_CM(cm_rGal_random)\n",
    "Recall_rGal_random    = gf.Recall_from_CM(cm_rGal_random)"
   ]
  },
  {
   "cell_type": "markdown",
   "metadata": {},
   "source": [
    "Confusion matrices for AGN criteria from literature"
   ]
  },
  {
   "cell_type": "code",
   "execution_count": 68,
   "metadata": {},
   "outputs": [],
   "source": [
    "MCC_AGN_S12          = gf.MCC_from_CM(cm_AGN_S12)\n",
    "ACC_AGN_S12          = gf.ACC_from_CM(cm_AGN_S12)\n",
    "Fb_AGN_S12           = gf.Fb_from_CM(cm_AGN_S12)\n",
    "Precision_AGN_S12    = gf.Precision_from_CM(cm_AGN_S12)\n",
    "Recall_AGN_S12       = gf.Recall_from_CM(cm_AGN_S12)\n",
    "\n",
    "MCC_AGN_M12          = gf.MCC_from_CM(cm_AGN_M12)\n",
    "ACC_AGN_M12          = gf.ACC_from_CM(cm_AGN_M12)\n",
    "Fb_AGN_M12           = gf.Fb_from_CM(cm_AGN_M12)\n",
    "Precision_AGN_M12    = gf.Precision_from_CM(cm_AGN_M12)\n",
    "Recall_AGN_M12       = gf.Recall_from_CM(cm_AGN_M12)\n",
    "\n",
    "MCC_AGN_M16          = gf.MCC_from_CM(cm_AGN_M16)\n",
    "ACC_AGN_M16          = gf.ACC_from_CM(cm_AGN_M16)\n",
    "Fb_AGN_M16           = gf.Fb_from_CM(cm_AGN_M16)\n",
    "Precision_AGN_M16    = gf.Precision_from_CM(cm_AGN_M16)\n",
    "Recall_AGN_M16       = gf.Recall_from_CM(cm_AGN_M16)\n",
    "\n",
    "MCC_AGN_B18          = gf.MCC_from_CM(cm_AGN_B18)\n",
    "ACC_AGN_B18          = gf.ACC_from_CM(cm_AGN_B18)\n",
    "Fb_AGN_B18           = gf.Fb_from_CM(cm_AGN_B18)\n",
    "Precision_AGN_B18    = gf.Precision_from_CM(cm_AGN_B18)\n",
    "Recall_AGN_B18       = gf.Recall_from_CM(cm_AGN_B18)\n",
    "\n",
    "MCC_AGN_C22          = gf.MCC_from_CM(cm_AGN_C22)\n",
    "ACC_AGN_C22          = gf.ACC_from_CM(cm_AGN_C22)\n",
    "Fb_AGN_C22           = gf.Fb_from_CM(cm_AGN_C22)\n",
    "Precision_AGN_C22    = gf.Precision_from_CM(cm_AGN_C22)\n",
    "Recall_AGN_C22       = gf.Recall_from_CM(cm_AGN_C22)\n",
    "\n",
    "metrics_AGN_criteria    = np.array([[Fb_AGN_S12,        Fb_AGN_M12,        Fb_AGN_M16,        Fb_AGN_B18,        Fb_AGN_C22],\\\n",
    "                                    [MCC_AGN_S12,       MCC_AGN_M12,       MCC_AGN_M16,       MCC_AGN_B18,       MCC_AGN_C22],\\\n",
    "                                    [Precision_AGN_S12, Precision_AGN_M12, Precision_AGN_M16, Precision_AGN_B18, Precision_AGN_C22],\\\n",
    "                                    [Recall_AGN_S12,    Recall_AGN_M12,    Recall_AGN_M16,    Recall_AGN_B18,    Recall_AGN_C22],\\\n",
    "                                    [ACC_AGN_S12,       ACC_AGN_M12,       ACC_AGN_M16,       ACC_AGN_B18,       ACC_AGN_C22]]) \n",
    "\n",
    "metrics_AGN_criteria_df = pd.DataFrame(data=metrics_AGN_criteria.T, columns=['F-\\u03B2', 'MCC', 'Precision', 'Recall', 'Accuracy'],\\\n",
    "                                       index=['S12', 'M12', 'M16', 'B18', 'C22'])"
   ]
  },
  {
   "cell_type": "markdown",
   "metadata": {},
   "source": [
    "Metrics from redshift predictions"
   ]
  },
  {
   "cell_type": "code",
   "execution_count": 69,
   "metadata": {},
   "outputs": [],
   "source": [
    "sigma_mad_in_pred_rAGN    = gf.sigma_mad(known_catalog_df.loc[filt_pred_rAGN, 'Z'],    known_catalog_df.loc[filt_pred_rAGN, 'pred_Z_rAGN'])\n",
    "sigma_nmad_in_pred_rAGN   = gf.sigma_nmad(known_catalog_df.loc[filt_pred_rAGN, 'Z'],   known_catalog_df.loc[filt_pred_rAGN, 'pred_Z_rAGN'])\n",
    "sigma_z_in_pred_rAGN      = gf.sigma_z(known_catalog_df.loc[filt_pred_rAGN, 'Z'],      known_catalog_df.loc[filt_pred_rAGN, 'pred_Z_rAGN'])\n",
    "sigma_z_norm_in_pred_rAGN = gf.sigma_z_norm(known_catalog_df.loc[filt_pred_rAGN, 'Z'], known_catalog_df.loc[filt_pred_rAGN, 'pred_Z_rAGN'])\n",
    "out_frac_in_pred_rAGN     = gf.outlier_frac(known_catalog_df.loc[filt_pred_rAGN, 'Z'], known_catalog_df.loc[filt_pred_rAGN, 'pred_Z_rAGN'])\n",
    "\n",
    "sigma_mad_in_true_rAGN    = gf.sigma_mad(known_catalog_df.loc[filt_true_rAGN, 'Z'],    known_catalog_df.loc[filt_true_rAGN, 'pred_Z_rAGN'])\n",
    "sigma_nmad_in_true_rAGN   = gf.sigma_nmad(known_catalog_df.loc[filt_true_rAGN, 'Z'],   known_catalog_df.loc[filt_true_rAGN, 'pred_Z_rAGN'])\n",
    "sigma_z_in_true_rAGN      = gf.sigma_z(known_catalog_df.loc[filt_true_rAGN, 'Z'],      known_catalog_df.loc[filt_true_rAGN, 'pred_Z_rAGN'])\n",
    "sigma_z_norm_in_true_rAGN = gf.sigma_z_norm(known_catalog_df.loc[filt_true_rAGN, 'Z'], known_catalog_df.loc[filt_true_rAGN, 'pred_Z_rAGN'])\n",
    "out_frac_in_true_rAGN     = gf.outlier_frac(known_catalog_df.loc[filt_true_rAGN, 'Z'], known_catalog_df.loc[filt_true_rAGN, 'pred_Z_rAGN'])"
   ]
  },
  {
   "cell_type": "code",
   "execution_count": 70,
   "metadata": {},
   "outputs": [],
   "source": [
    "sigma_mad_in_pred_rGal    = gf.sigma_mad(known_catalog_df.loc[filt_pred_rGal, 'Z'],    known_catalog_df.loc[filt_pred_rGal, 'pred_Z_rGal'])\n",
    "sigma_nmad_in_pred_rGal   = gf.sigma_nmad(known_catalog_df.loc[filt_pred_rGal, 'Z'],   known_catalog_df.loc[filt_pred_rGal, 'pred_Z_rGal'])\n",
    "sigma_z_in_pred_rGal      = gf.sigma_z(known_catalog_df.loc[filt_pred_rGal, 'Z'],      known_catalog_df.loc[filt_pred_rGal, 'pred_Z_rGal'])\n",
    "sigma_z_norm_in_pred_rGal = gf.sigma_z_norm(known_catalog_df.loc[filt_pred_rGal, 'Z'], known_catalog_df.loc[filt_pred_rGal, 'pred_Z_rGal'])\n",
    "out_frac_in_pred_rGal     = gf.outlier_frac(known_catalog_df.loc[filt_pred_rGal, 'Z'], known_catalog_df.loc[filt_pred_rGal, 'pred_Z_rGal'])\n",
    "\n",
    "sigma_mad_in_true_rGal    = gf.sigma_mad(known_catalog_df.loc[filt_true_rGal, 'Z'],    known_catalog_df.loc[filt_true_rGal, 'pred_Z_rGal'])\n",
    "sigma_nmad_in_true_rGal   = gf.sigma_nmad(known_catalog_df.loc[filt_true_rGal, 'Z'],   known_catalog_df.loc[filt_true_rGal, 'pred_Z_rGal'])\n",
    "sigma_z_in_true_rGal      = gf.sigma_z(known_catalog_df.loc[filt_true_rGal, 'Z'],      known_catalog_df.loc[filt_true_rGal, 'pred_Z_rGal'])\n",
    "sigma_z_norm_in_true_rGal = gf.sigma_z_norm(known_catalog_df.loc[filt_true_rGal, 'Z'], known_catalog_df.loc[filt_true_rGal, 'pred_Z_rGal'])\n",
    "out_frac_in_true_rGal     = gf.outlier_frac(known_catalog_df.loc[filt_true_rGal, 'Z'], known_catalog_df.loc[filt_true_rGal, 'pred_Z_rGal'])"
   ]
  },
  {
   "cell_type": "markdown",
   "metadata": {},
   "source": [
    "Obtain uncertainties from CV"
   ]
  },
  {
   "cell_type": "code",
   "execution_count": 71,
   "metadata": {},
   "outputs": [],
   "source": [
    "subsets_clf_filt    = [np.array([True] * len(known_catalog_df)), np.array([True] * len(known_catalog_df)),\n",
    "                       filt_true_AGN, filt_pred_AGN, filt_true_gal, filt_pred_gal,\n",
    "                       np.array([True] * len(known_catalog_df)), np.array([True] * len(known_catalog_df))]\n",
    "subsets_reg_filt    = [filt_true_rAGN, filt_pred_rAGN, filt_true_rGal, filt_pred_rGal]"
   ]
  },
  {
   "cell_type": "code",
   "execution_count": 72,
   "metadata": {},
   "outputs": [],
   "source": [
    "subsets_clf_names  = ['AGN', 'Galaxy', 'Radio in true AGN', 'Radio in pred AGN',\n",
    "                      'Radio in true gal', 'Radio in pred gal', 'Radio AGN', 'Radio gal']\n",
    "subsets_reg_names  = ['Redshift in true rAGN', 'Redshift in pred rAGN',\n",
    "                      'Redshift in true rGal', 'Redshift in pred rGal']"
   ]
  },
  {
   "cell_type": "code",
   "execution_count": 73,
   "metadata": {},
   "outputs": [],
   "source": [
    "true_classes_clf   = ['class', 'class_gal',\n",
    "                      'LOFAR_detect', 'LOFAR_detect', 'LOFAR_detect', 'LOFAR_detect',\n",
    "                      'radio_AGN', 'radio_gal']\n",
    "pred_classes_clf   = ['pred_class_cal', 'pred_class_gal_cal', 'pred_radio_cal_AGN',\n",
    "                      'pred_radio_cal_AGN', 'pred_radio_cal_gal', 'pred_radio_cal_gal',\n",
    "                      'pred_rAGN_cal', 'pred_rGal_cal']\n",
    "true_target_reg    = ['Z', 'Z', 'Z', 'Z']\n",
    "pred_target_reg    = ['pred_Z_rAGN', 'pred_Z_rAGN', 'pred_Z_rGal', 'pred_Z_rGal']"
   ]
  },
  {
   "cell_type": "code",
   "execution_count": 74,
   "metadata": {},
   "outputs": [],
   "source": [
    "clf_scores_names   = ['F-\\u03B2', 'MCC', 'Precision', 'Recall']\n",
    "reg_scores_names   = ['\\u03C3 MAD', '\\u03C3 NMAD', '\\u03C3 z', '\\u03C3 z N', '\\u03B7']"
   ]
  },
  {
   "cell_type": "code",
   "execution_count": 75,
   "metadata": {},
   "outputs": [],
   "source": [
    "CV_object_clf      = StratifiedKFold(n_splits=10, random_state=gv.seed, shuffle=True)\n",
    "CV_object_reg      = KFold(n_splits=10, random_state=gv.seed, shuffle=True)"
   ]
  },
  {
   "cell_type": "code",
   "execution_count": 76,
   "metadata": {},
   "outputs": [],
   "source": [
    "cv_scores_clf      = {}\n",
    "cv_scores_mean_clf = {}\n",
    "cv_scores_std_clf  = {}"
   ]
  },
  {
   "cell_type": "code",
   "execution_count": 77,
   "metadata": {},
   "outputs": [],
   "source": [
    "cv_scores_reg      = {}\n",
    "cv_scores_mean_reg = {}\n",
    "cv_scores_std_reg  = {}"
   ]
  },
  {
   "cell_type": "code",
   "execution_count": 78,
   "metadata": {},
   "outputs": [],
   "source": [
    "for count, (subset_filter, subset_name) in enumerate(zip(subsets_clf_filt, subsets_clf_names)):\n",
    "    tmp_f_betas = []\n",
    "    tmp_mccs    = []\n",
    "    tmp_precs   = []\n",
    "    tmp_recalls = []\n",
    "    for _, fold_index in iter(CV_object_clf.split(known_catalog_df.loc[subset_filter,\n",
    "                                                  pred_classes_clf[count]],\n",
    "                                                  known_catalog_df.loc[subset_filter, true_classes_clf[count]])):\n",
    "        tmp_cm     = gf.conf_mat_func(known_catalog_df.loc[subset_filter, true_classes_clf[count]].iloc[fold_index], \n",
    "                                      known_catalog_df.loc[subset_filter, pred_classes_clf[count]].iloc[fold_index])\n",
    "        tmp_f_beta = gf.Fb_from_CM(tmp_cm)\n",
    "        tmp_mcc    = gf.MCC_from_CM(tmp_cm)\n",
    "        tmp_prec   = gf.Precision_from_CM(tmp_cm)\n",
    "        tmp_recall = gf.Recall_from_CM(tmp_cm)\n",
    "        tmp_f_betas.append(tmp_f_beta)\n",
    "        tmp_mccs.append(tmp_mcc)\n",
    "        tmp_precs.append(tmp_prec)\n",
    "        tmp_recalls.append(tmp_recall)\n",
    "    cv_scores_clf[subset_name] = {'F-\\u03B2': tmp_f_betas, 'MCC': tmp_mccs, \n",
    "                                  'Precision': tmp_precs, 'Recall': tmp_recalls}"
   ]
  },
  {
   "cell_type": "code",
   "execution_count": 79,
   "metadata": {},
   "outputs": [],
   "source": [
    "for count, (subset_filter, subset_name) in enumerate(zip(subsets_reg_filt, subsets_reg_names)):\n",
    "    tmp_s_mads  = []\n",
    "    tmp_s_nmads = []\n",
    "    tmp_s_zs    = []\n",
    "    tmp_s_z_ns  = []\n",
    "    tmp_out_fs  = []\n",
    "    for _, fold_index in iter(CV_object_reg.split(known_catalog_df.loc[subset_filter, pred_target_reg[count]],\n",
    "                                                  known_catalog_df.loc[subset_filter, true_target_reg[count]])):\n",
    "        tmp_s_mad  = gf.sigma_mad(known_catalog_df.loc[subset_filter, true_target_reg[count]].iloc[fold_index], \n",
    "                                  known_catalog_df.loc[subset_filter, pred_target_reg[count]].iloc[fold_index])\n",
    "        tmp_s_nmad = gf.sigma_nmad(known_catalog_df.loc[subset_filter, true_target_reg[count]].iloc[fold_index],\n",
    "                                   known_catalog_df.loc[subset_filter, pred_target_reg[count]].iloc[fold_index])\n",
    "        tmp_s_z    = gf.sigma_z(known_catalog_df.loc[subset_filter, true_target_reg[count]].iloc[fold_index], \n",
    "                                known_catalog_df.loc[subset_filter, pred_target_reg[count]].iloc[fold_index])\n",
    "        tmp_s_z_n  = gf.sigma_z_norm(known_catalog_df.loc[subset_filter, true_target_reg[count]].iloc[fold_index], \n",
    "                                     known_catalog_df.loc[subset_filter, pred_target_reg[count]].iloc[fold_index])\n",
    "        tmp_out_f  = gf.outlier_frac(known_catalog_df.loc[subset_filter, true_target_reg[count]].iloc[fold_index], \n",
    "                                     known_catalog_df.loc[subset_filter, pred_target_reg[count]].iloc[fold_index])\n",
    "        tmp_s_mads.append(tmp_s_mad)\n",
    "        tmp_s_nmads.append(tmp_s_nmad)\n",
    "        tmp_s_zs.append(tmp_s_z)\n",
    "        tmp_s_z_ns.append(tmp_s_z_n)\n",
    "        tmp_out_fs.append(tmp_out_f)\n",
    "    cv_scores_reg[subset_name] = {'\\u03C3 MAD': tmp_s_mads, '\\u03C3 NMAD': tmp_s_nmads,\n",
    "                                  '\\u03C3 z': tmp_s_zs, '\\u03C3 z N': tmp_s_z_ns, \n",
    "                                  '\\u03B7':tmp_out_fs}"
   ]
  },
  {
   "cell_type": "code",
   "execution_count": 80,
   "metadata": {},
   "outputs": [],
   "source": [
    "for sub_set in cv_scores_clf:\n",
    "    cv_scores_mean_clf[sub_set] = {}\n",
    "    cv_scores_std_clf[sub_set]  = {}\n",
    "    for score in cv_scores_clf[sub_set]:\n",
    "        cv_scores_mean_clf[sub_set][score] = np.nanmean(cv_scores_clf[sub_set][score])\n",
    "        cv_scores_std_clf[sub_set][score]  = np.nanstd(cv_scores_clf[sub_set][score])"
   ]
  },
  {
   "cell_type": "code",
   "execution_count": 81,
   "metadata": {},
   "outputs": [],
   "source": [
    "for sub_set in cv_scores_reg:\n",
    "    cv_scores_mean_reg[sub_set] = {}\n",
    "    cv_scores_std_reg[sub_set]  = {}\n",
    "    for score in cv_scores_reg[sub_set]:\n",
    "        cv_scores_mean_reg[sub_set][score] = np.nanmean(cv_scores_reg[sub_set][score])\n",
    "        cv_scores_std_reg[sub_set][score]  = np.nanstd(cv_scores_reg[sub_set][score])"
   ]
  },
  {
   "cell_type": "code",
   "execution_count": 82,
   "metadata": {},
   "outputs": [],
   "source": [
    "cv_scores_mean_clf_df = pd.DataFrame(columns=clf_scores_names, index=[*cv_scores_mean_clf.keys()])\n",
    "cv_scores_std_clf_df  = pd.DataFrame(columns=clf_scores_names, index=[*cv_scores_std_clf.keys()])\n",
    "\n",
    "cv_scores_mean_reg_df = pd.DataFrame(columns=reg_scores_names, index=[*cv_scores_mean_reg.keys()])\n",
    "cv_scores_std_reg_df  = pd.DataFrame(columns=reg_scores_names, index=[*cv_scores_std_reg.keys()])"
   ]
  },
  {
   "cell_type": "code",
   "execution_count": 83,
   "metadata": {},
   "outputs": [],
   "source": [
    "for row in [*cv_scores_mean_clf.keys()]:\n",
    "    for column in [*cv_scores_mean_clf[row].keys()]:\n",
    "        cv_scores_mean_clf_df.loc[row, column] = cv_scores_mean_clf[row][column]"
   ]
  },
  {
   "cell_type": "code",
   "execution_count": 84,
   "metadata": {},
   "outputs": [],
   "source": [
    "for row in [*cv_scores_std_clf.keys()]:\n",
    "    for column in [*cv_scores_std_clf[row].keys()]:\n",
    "        cv_scores_std_clf_df.loc[row, column] = cv_scores_std_clf[row][column]"
   ]
  },
  {
   "cell_type": "code",
   "execution_count": 85,
   "metadata": {},
   "outputs": [],
   "source": [
    "for row in [*cv_scores_mean_reg.keys()]:\n",
    "    for column in [*cv_scores_mean_reg[row].keys()]:\n",
    "        cv_scores_mean_reg_df.loc[row, column] = cv_scores_mean_reg[row][column]"
   ]
  },
  {
   "cell_type": "code",
   "execution_count": 86,
   "metadata": {},
   "outputs": [],
   "source": [
    "for row in [*cv_scores_std_reg.keys()]:\n",
    "    for column in [*cv_scores_std_reg[row].keys()]:\n",
    "        cv_scores_std_reg_df.loc[row, column] = cv_scores_std_reg[row][column]"
   ]
  },
  {
   "cell_type": "markdown",
   "metadata": {},
   "source": [
    "Join metrics for classification."
   ]
  },
  {
   "cell_type": "code",
   "execution_count": 87,
   "metadata": {},
   "outputs": [],
   "source": [
    "metrics_classif      = np.array([[len(known_catalog_df), Fb_AGN,       MCC_AGN,       Precision_AGN,       Recall_AGN,       ACC_AGN],\n",
    "                                 [len(known_catalog_df), Fb_gal,       MCC_gal,       Precision_gal,       Recall_gal,       ACC_gal],\n",
    "                                 [np.sum(filt_true_AGN),  Fb_r_in_true_AGN, MCC_r_in_true_AGN, Precision_r_in_true_AGN, Recall_r_in_true_AGN, ACC_r_in_true_AGN],\n",
    "                                 [np.sum(filt_pred_AGN),  Fb_r_in_pred_AGN, MCC_r_in_pred_AGN, Precision_r_in_pred_AGN, Recall_r_in_pred_AGN, ACC_r_in_pred_AGN],\n",
    "                                 [np.sum(filt_true_gal), Fb_r_in_true_gal, MCC_r_in_true_gal, Precision_r_in_true_gal, Recall_r_in_true_gal, ACC_r_in_true_gal],\n",
    "                                 [np.sum(filt_pred_gal), Fb_r_in_pred_gal, MCC_r_in_pred_gal, Precision_r_in_pred_gal, Recall_r_in_pred_gal, ACC_r_in_pred_gal],\n",
    "                                 [len(known_catalog_df), Fb_rAGN, MCC_rAGN, Precision_rAGN, Recall_rAGN, ACC_rAGN],\n",
    "                                 [len(known_catalog_df), Fb_rGal, MCC_rGal, Precision_rGal, Recall_rGal, ACC_rGal]])\n",
    "metrics_classif_df   = pd.DataFrame(data=metrics_classif, columns=['Sample', 'F-\\u03B2', 'MCC', 'Precision', 'Recall', 'Accuracy'],\n",
    "                                    index=subsets_clf_names)\n",
    "\n",
    "metrics_classif_random    = np.array([[len(known_catalog_df), Fb_AGN_random,       MCC_AGN_random,       Precision_AGN_random,       Recall_AGN_random,       ACC_AGN_random],\n",
    "                                 [len(known_catalog_df), Fb_gal_random,       MCC_gal_random,       Precision_gal_random,       Recall_gal_random,       ACC_gal_random],\n",
    "                                 [np.sum(filt_true_AGN),  Fb_r_in_true_AGN_random, MCC_r_in_true_AGN_random, Precision_r_in_true_AGN_random, Recall_r_in_true_AGN_random, ACC_r_in_true_AGN_random],\n",
    "                                 [np.sum(filt_pred_AGN),  Fb_r_in_pred_AGN_random, MCC_r_in_pred_AGN_random, Precision_r_in_pred_AGN_random, Recall_r_in_pred_AGN_random, ACC_r_in_pred_AGN_random],\n",
    "                                 [np.sum(filt_true_gal), Fb_r_in_true_gal_random, MCC_r_in_true_gal_random, Precision_r_in_true_gal_random, Recall_r_in_true_gal_random, ACC_r_in_true_gal_random],\n",
    "                                 [np.sum(filt_pred_gal), Fb_r_in_pred_gal_random, MCC_r_in_pred_gal_random, Precision_r_in_pred_gal_random, Recall_r_in_pred_gal_random, ACC_r_in_pred_gal_random],\n",
    "                                 [len(known_catalog_df), Fb_rAGN_random, MCC_rAGN_random, Precision_rAGN_random, Recall_rAGN_random, ACC_rAGN_random],\n",
    "                                 [len(known_catalog_df), Fb_rGal_random, MCC_rGal_random, Precision_rGal_random, Recall_rGal_random, ACC_rGal_random]])\n",
    "\n",
    "metrics_classif_random_df   = pd.DataFrame(data=metrics_classif_random, \n",
    "                                           columns=['Sample', 'F-\\u03B2', 'MCC', 'Precision', 'Recall', 'Accuracy'], \n",
    "                                           index=subsets_clf_names)"
   ]
  },
  {
   "cell_type": "markdown",
   "metadata": {},
   "source": [
    "Join metrics for regression."
   ]
  },
  {
   "cell_type": "code",
   "execution_count": 88,
   "metadata": {},
   "outputs": [],
   "source": [
    "size_true_rAGN    = np.sum(filt_true_rAGN & filt_good_true_z)\n",
    "size_true_rGal    = np.sum(filt_true_rGal & filt_good_true_z)\n",
    "size_pred_rAGN    = np.sum(filt_pred_rAGN & filt_good_true_z)\n",
    "size_pred_rGal    = np.sum(filt_pred_rGal & filt_good_true_z)\n",
    "metrics_z    = np.array([[size_true_rAGN, sigma_mad_in_true_rAGN, sigma_nmad_in_true_rAGN, sigma_z_in_true_rAGN, sigma_z_norm_in_true_rAGN, out_frac_in_true_rAGN],\n",
    "                         [size_pred_rAGN, sigma_mad_in_pred_rAGN, sigma_nmad_in_pred_rAGN, sigma_z_in_pred_rAGN, sigma_z_norm_in_pred_rAGN, out_frac_in_pred_rAGN],\n",
    "                         [size_true_rGal, sigma_mad_in_true_rGal, sigma_nmad_in_true_rGal, sigma_z_in_true_rGal, sigma_z_norm_in_true_rGal, out_frac_in_true_rGal],\n",
    "                         [size_pred_rGal, sigma_mad_in_pred_rGal, sigma_nmad_in_pred_rGal, sigma_z_in_pred_rGal, sigma_z_norm_in_pred_rGal, out_frac_in_pred_rGal]])\n",
    "metrics_z_df = pd.DataFrame(data=metrics_z,\n",
    "                            columns=['Sample', '\\u03C3 MAD', '\\u03C3 NMAD', '\\u03C3 z', '\\u03C3 z N', '\\u03B7'],\n",
    "                            index=subsets_reg_names)"
   ]
  },
  {
   "cell_type": "markdown",
   "metadata": {},
   "source": [
    "Print metrics"
   ]
  },
  {
   "cell_type": "code",
   "execution_count": 89,
   "metadata": {},
   "outputs": [
    {
     "name": "stdout",
     "output_type": "stream",
     "text": [
      "Metrics for classification steps.\n"
     ]
    },
    {
     "data": {
      "text/html": [
       "<div>\n",
       "<style scoped>\n",
       "    .dataframe tbody tr th:only-of-type {\n",
       "        vertical-align: middle;\n",
       "    }\n",
       "\n",
       "    .dataframe tbody tr th {\n",
       "        vertical-align: top;\n",
       "    }\n",
       "\n",
       "    .dataframe thead th {\n",
       "        text-align: right;\n",
       "    }\n",
       "</style>\n",
       "<table border=\"1\" class=\"dataframe\">\n",
       "  <thead>\n",
       "    <tr style=\"text-align: right;\">\n",
       "      <th></th>\n",
       "      <th>Sample</th>\n",
       "      <th>F-β</th>\n",
       "      <th>MCC</th>\n",
       "      <th>Precision</th>\n",
       "      <th>Recall</th>\n",
       "    </tr>\n",
       "  </thead>\n",
       "  <tbody>\n",
       "    <tr>\n",
       "      <th>AGN</th>\n",
       "      <td>23747</td>\n",
       "      <td>0.9542</td>\n",
       "      <td>0.9185</td>\n",
       "      <td>0.9449</td>\n",
       "      <td>0.9621</td>\n",
       "    </tr>\n",
       "    <tr>\n",
       "      <th>Galaxy</th>\n",
       "      <td>23747</td>\n",
       "      <td>0.9643</td>\n",
       "      <td>0.9185</td>\n",
       "      <td>0.9715</td>\n",
       "      <td>0.9584</td>\n",
       "    </tr>\n",
       "    <tr>\n",
       "      <th>Radio in true AGN</th>\n",
       "      <td>10108</td>\n",
       "      <td>0.4648</td>\n",
       "      <td>0.3484</td>\n",
       "      <td>0.4332</td>\n",
       "      <td>0.4946</td>\n",
       "    </tr>\n",
       "    <tr>\n",
       "      <th>Radio in pred AGN</th>\n",
       "      <td>10292</td>\n",
       "      <td>0.4481</td>\n",
       "      <td>0.3380</td>\n",
       "      <td>0.4223</td>\n",
       "      <td>0.4718</td>\n",
       "    </tr>\n",
       "    <tr>\n",
       "      <th>Radio in true gal</th>\n",
       "      <td>13639</td>\n",
       "      <td>0.4587</td>\n",
       "      <td>0.3662</td>\n",
       "      <td>0.4612</td>\n",
       "      <td>0.4566</td>\n",
       "    </tr>\n",
       "    <tr>\n",
       "      <th>Radio in pred gal</th>\n",
       "      <td>13455</td>\n",
       "      <td>0.4619</td>\n",
       "      <td>0.3667</td>\n",
       "      <td>0.4703</td>\n",
       "      <td>0.4551</td>\n",
       "    </tr>\n",
       "    <tr>\n",
       "      <th>Radio AGN</th>\n",
       "      <td>23747</td>\n",
       "      <td>0.4228</td>\n",
       "      <td>0.3115</td>\n",
       "      <td>0.3870</td>\n",
       "      <td>0.4579</td>\n",
       "    </tr>\n",
       "    <tr>\n",
       "      <th>Radio gal</th>\n",
       "      <td>23747</td>\n",
       "      <td>0.4331</td>\n",
       "      <td>0.3355</td>\n",
       "      <td>0.4224</td>\n",
       "      <td>0.4423</td>\n",
       "    </tr>\n",
       "  </tbody>\n",
       "</table>\n",
       "</div>"
      ],
      "text/plain": [
       "                   Sample    F-β    MCC  Precision  Recall\n",
       "AGN                 23747 0.9542 0.9185     0.9449  0.9621\n",
       "Galaxy              23747 0.9643 0.9185     0.9715  0.9584\n",
       "Radio in true AGN   10108 0.4648 0.3484     0.4332  0.4946\n",
       "Radio in pred AGN   10292 0.4481 0.3380     0.4223  0.4718\n",
       "Radio in true gal   13639 0.4587 0.3662     0.4612  0.4566\n",
       "Radio in pred gal   13455 0.4619 0.3667     0.4703  0.4551\n",
       "Radio AGN           23747 0.4228 0.3115     0.3870  0.4579\n",
       "Radio gal           23747 0.4331 0.3355     0.4224  0.4423"
      ]
     },
     "metadata": {},
     "output_type": "display_data"
    }
   ],
   "source": [
    "print('Metrics for classification steps.')\n",
    "metrics_classif_df.loc[:, 'Sample'] = metrics_classif_df.loc[:, 'Sample'].astype(int)\n",
    "with pd.option_context('display.float_format', '{:.4f}'.format):\n",
    "    display(metrics_classif_df.drop(columns=['Accuracy']))"
   ]
  },
  {
   "cell_type": "code",
   "execution_count": 90,
   "metadata": {},
   "outputs": [
    {
     "name": "stdout",
     "output_type": "stream",
     "text": [
      "Metrics and uncertainties for classification using CV.\n"
     ]
    },
    {
     "data": {
      "text/html": [
       "<div>\n",
       "<style scoped>\n",
       "    .dataframe tbody tr th:only-of-type {\n",
       "        vertical-align: middle;\n",
       "    }\n",
       "\n",
       "    .dataframe tbody tr th {\n",
       "        vertical-align: top;\n",
       "    }\n",
       "\n",
       "    .dataframe thead th {\n",
       "        text-align: right;\n",
       "    }\n",
       "</style>\n",
       "<table border=\"1\" class=\"dataframe\">\n",
       "  <thead>\n",
       "    <tr style=\"text-align: right;\">\n",
       "      <th></th>\n",
       "      <th>Sample</th>\n",
       "      <th>F-β</th>\n",
       "      <th>MCC</th>\n",
       "      <th>Precision</th>\n",
       "      <th>Recall</th>\n",
       "    </tr>\n",
       "  </thead>\n",
       "  <tbody>\n",
       "    <tr>\n",
       "      <th>AGN</th>\n",
       "      <td>23747</td>\n",
       "      <td>0.9543</td>\n",
       "      <td>0.9185</td>\n",
       "      <td>0.9450</td>\n",
       "      <td>0.9621</td>\n",
       "    </tr>\n",
       "    <tr>\n",
       "      <th>Galaxy</th>\n",
       "      <td>23747</td>\n",
       "      <td>0.9643</td>\n",
       "      <td>0.9185</td>\n",
       "      <td>0.9715</td>\n",
       "      <td>0.9584</td>\n",
       "    </tr>\n",
       "    <tr>\n",
       "      <th>Radio in true AGN</th>\n",
       "      <td>10108</td>\n",
       "      <td>0.4646</td>\n",
       "      <td>0.3486</td>\n",
       "      <td>0.4337</td>\n",
       "      <td>0.4946</td>\n",
       "    </tr>\n",
       "    <tr>\n",
       "      <th>Radio in pred AGN</th>\n",
       "      <td>10292</td>\n",
       "      <td>0.4482</td>\n",
       "      <td>0.3385</td>\n",
       "      <td>0.4234</td>\n",
       "      <td>0.4719</td>\n",
       "    </tr>\n",
       "    <tr>\n",
       "      <th>Radio in true gal</th>\n",
       "      <td>13639</td>\n",
       "      <td>0.4588</td>\n",
       "      <td>0.3667</td>\n",
       "      <td>0.4623</td>\n",
       "      <td>0.4566</td>\n",
       "    </tr>\n",
       "    <tr>\n",
       "      <th>Radio in pred gal</th>\n",
       "      <td>13455</td>\n",
       "      <td>0.4622</td>\n",
       "      <td>0.3673</td>\n",
       "      <td>0.4717</td>\n",
       "      <td>0.4551</td>\n",
       "    </tr>\n",
       "    <tr>\n",
       "      <th>Radio AGN</th>\n",
       "      <td>23747</td>\n",
       "      <td>0.4019</td>\n",
       "      <td>0.3542</td>\n",
       "      <td>0.3881</td>\n",
       "      <td>0.4147</td>\n",
       "    </tr>\n",
       "    <tr>\n",
       "      <th>Radio gal</th>\n",
       "      <td>23747</td>\n",
       "      <td>0.4224</td>\n",
       "      <td>0.3694</td>\n",
       "      <td>0.4228</td>\n",
       "      <td>0.4226</td>\n",
       "    </tr>\n",
       "  </tbody>\n",
       "</table>\n",
       "</div>"
      ],
      "text/plain": [
       "                   Sample    F-β    MCC Precision Recall\n",
       "AGN                 23747 0.9543 0.9185    0.9450 0.9621\n",
       "Galaxy              23747 0.9643 0.9185    0.9715 0.9584\n",
       "Radio in true AGN   10108 0.4646 0.3486    0.4337 0.4946\n",
       "Radio in pred AGN   10292 0.4482 0.3385    0.4234 0.4719\n",
       "Radio in true gal   13639 0.4588 0.3667    0.4623 0.4566\n",
       "Radio in pred gal   13455 0.4622 0.3673    0.4717 0.4551\n",
       "Radio AGN           23747 0.4019 0.3542    0.3881 0.4147\n",
       "Radio gal           23747 0.4224 0.3694    0.4228 0.4226"
      ]
     },
     "metadata": {},
     "output_type": "display_data"
    },
    {
     "data": {
      "text/html": [
       "<div>\n",
       "<style scoped>\n",
       "    .dataframe tbody tr th:only-of-type {\n",
       "        vertical-align: middle;\n",
       "    }\n",
       "\n",
       "    .dataframe tbody tr th {\n",
       "        vertical-align: top;\n",
       "    }\n",
       "\n",
       "    .dataframe thead th {\n",
       "        text-align: right;\n",
       "    }\n",
       "</style>\n",
       "<table border=\"1\" class=\"dataframe\">\n",
       "  <thead>\n",
       "    <tr style=\"text-align: right;\">\n",
       "      <th></th>\n",
       "      <th>Sample</th>\n",
       "      <th>F-β</th>\n",
       "      <th>MCC</th>\n",
       "      <th>Precision</th>\n",
       "      <th>Recall</th>\n",
       "    </tr>\n",
       "  </thead>\n",
       "  <tbody>\n",
       "    <tr>\n",
       "      <th>AGN</th>\n",
       "      <td>23747</td>\n",
       "      <td>0.0038</td>\n",
       "      <td>0.0070</td>\n",
       "      <td>0.0065</td>\n",
       "      <td>0.0043</td>\n",
       "    </tr>\n",
       "    <tr>\n",
       "      <th>Galaxy</th>\n",
       "      <td>23747</td>\n",
       "      <td>0.0033</td>\n",
       "      <td>0.0070</td>\n",
       "      <td>0.0031</td>\n",
       "      <td>0.0052</td>\n",
       "    </tr>\n",
       "    <tr>\n",
       "      <th>Radio in true AGN</th>\n",
       "      <td>10108</td>\n",
       "      <td>0.0325</td>\n",
       "      <td>0.0390</td>\n",
       "      <td>0.0318</td>\n",
       "      <td>0.0395</td>\n",
       "    </tr>\n",
       "    <tr>\n",
       "      <th>Radio in pred AGN</th>\n",
       "      <td>10292</td>\n",
       "      <td>0.0297</td>\n",
       "      <td>0.0367</td>\n",
       "      <td>0.0327</td>\n",
       "      <td>0.0328</td>\n",
       "    </tr>\n",
       "    <tr>\n",
       "      <th>Radio in true gal</th>\n",
       "      <td>13639</td>\n",
       "      <td>0.0254</td>\n",
       "      <td>0.0308</td>\n",
       "      <td>0.0321</td>\n",
       "      <td>0.0262</td>\n",
       "    </tr>\n",
       "    <tr>\n",
       "      <th>Radio in pred gal</th>\n",
       "      <td>13455</td>\n",
       "      <td>0.0311</td>\n",
       "      <td>0.0389</td>\n",
       "      <td>0.0394</td>\n",
       "      <td>0.0271</td>\n",
       "    </tr>\n",
       "    <tr>\n",
       "      <th>Radio AGN</th>\n",
       "      <td>23747</td>\n",
       "      <td>0.0285</td>\n",
       "      <td>0.0313</td>\n",
       "      <td>0.0322</td>\n",
       "      <td>0.0296</td>\n",
       "    </tr>\n",
       "    <tr>\n",
       "      <th>Radio gal</th>\n",
       "      <td>23747</td>\n",
       "      <td>0.0219</td>\n",
       "      <td>0.0232</td>\n",
       "      <td>0.0216</td>\n",
       "      <td>0.0277</td>\n",
       "    </tr>\n",
       "  </tbody>\n",
       "</table>\n",
       "</div>"
      ],
      "text/plain": [
       "                   Sample    F-β    MCC Precision Recall\n",
       "AGN                 23747 0.0038 0.0070    0.0065 0.0043\n",
       "Galaxy              23747 0.0033 0.0070    0.0031 0.0052\n",
       "Radio in true AGN   10108 0.0325 0.0390    0.0318 0.0395\n",
       "Radio in pred AGN   10292 0.0297 0.0367    0.0327 0.0328\n",
       "Radio in true gal   13639 0.0254 0.0308    0.0321 0.0262\n",
       "Radio in pred gal   13455 0.0311 0.0389    0.0394 0.0271\n",
       "Radio AGN           23747 0.0285 0.0313    0.0322 0.0296\n",
       "Radio gal           23747 0.0219 0.0232    0.0216 0.0277"
      ]
     },
     "metadata": {},
     "output_type": "display_data"
    }
   ],
   "source": [
    "print('Metrics and uncertainties for classification using CV.')\n",
    "for df_object in [cv_scores_mean_clf_df, cv_scores_std_clf_df]:\n",
    "    df_object.loc[:, 'Sample'] = metrics_classif_df.loc[df_object.index, 'Sample']\n",
    "with pd.option_context('display.float_format', '{:.4f}'.format):\n",
    "    display(cv_scores_mean_clf_df.loc[:, ['Sample', 'F-\\u03B2', 'MCC', 'Precision', 'Recall']])\n",
    "    display(cv_scores_std_clf_df.loc[:, ['Sample', 'F-\\u03B2', 'MCC', 'Precision', 'Recall']])"
   ]
  },
  {
   "cell_type": "code",
   "execution_count": 91,
   "metadata": {},
   "outputs": [
    {
     "name": "stdout",
     "output_type": "stream",
     "text": [
      "Metrics for classification steps using random guesses to obtain classes.\n"
     ]
    },
    {
     "data": {
      "text/html": [
       "<div>\n",
       "<style scoped>\n",
       "    .dataframe tbody tr th:only-of-type {\n",
       "        vertical-align: middle;\n",
       "    }\n",
       "\n",
       "    .dataframe tbody tr th {\n",
       "        vertical-align: top;\n",
       "    }\n",
       "\n",
       "    .dataframe thead th {\n",
       "        text-align: right;\n",
       "    }\n",
       "</style>\n",
       "<table border=\"1\" class=\"dataframe\">\n",
       "  <thead>\n",
       "    <tr style=\"text-align: right;\">\n",
       "      <th></th>\n",
       "      <th>Sample</th>\n",
       "      <th>F-β</th>\n",
       "      <th>MCC</th>\n",
       "      <th>Precision</th>\n",
       "      <th>Recall</th>\n",
       "    </tr>\n",
       "  </thead>\n",
       "  <tbody>\n",
       "    <tr>\n",
       "      <th>AGN</th>\n",
       "      <td>23747</td>\n",
       "      <td>0.4257</td>\n",
       "      <td>0.0001</td>\n",
       "      <td>0.4257</td>\n",
       "      <td>0.4257</td>\n",
       "    </tr>\n",
       "    <tr>\n",
       "      <th>Galaxy</th>\n",
       "      <td>23747</td>\n",
       "      <td>0.5744</td>\n",
       "      <td>0.0001</td>\n",
       "      <td>0.5744</td>\n",
       "      <td>0.5744</td>\n",
       "    </tr>\n",
       "    <tr>\n",
       "      <th>Radio in true AGN</th>\n",
       "      <td>10108</td>\n",
       "      <td>0.1647</td>\n",
       "      <td>0.0000</td>\n",
       "      <td>0.1647</td>\n",
       "      <td>0.1647</td>\n",
       "    </tr>\n",
       "    <tr>\n",
       "      <th>Radio in pred AGN</th>\n",
       "      <td>10292</td>\n",
       "      <td>0.1548</td>\n",
       "      <td>-0.0004</td>\n",
       "      <td>0.1548</td>\n",
       "      <td>0.1548</td>\n",
       "    </tr>\n",
       "    <tr>\n",
       "      <th>Radio in true gal</th>\n",
       "      <td>13639</td>\n",
       "      <td>0.1467</td>\n",
       "      <td>-0.0003</td>\n",
       "      <td>0.1467</td>\n",
       "      <td>0.1467</td>\n",
       "    </tr>\n",
       "    <tr>\n",
       "      <th>Radio in pred gal</th>\n",
       "      <td>13455</td>\n",
       "      <td>0.1540</td>\n",
       "      <td>-0.0000</td>\n",
       "      <td>0.1540</td>\n",
       "      <td>0.1540</td>\n",
       "    </tr>\n",
       "    <tr>\n",
       "      <th>Radio AGN</th>\n",
       "      <td>23747</td>\n",
       "      <td>0.1466</td>\n",
       "      <td>0.0003</td>\n",
       "      <td>0.1466</td>\n",
       "      <td>0.1466</td>\n",
       "    </tr>\n",
       "    <tr>\n",
       "      <th>Radio gal</th>\n",
       "      <td>23747</td>\n",
       "      <td>0.1426</td>\n",
       "      <td>0.0003</td>\n",
       "      <td>0.1426</td>\n",
       "      <td>0.1426</td>\n",
       "    </tr>\n",
       "  </tbody>\n",
       "</table>\n",
       "</div>"
      ],
      "text/plain": [
       "                   Sample    F-β     MCC  Precision  Recall\n",
       "AGN                 23747 0.4257  0.0001     0.4257  0.4257\n",
       "Galaxy              23747 0.5744  0.0001     0.5744  0.5744\n",
       "Radio in true AGN   10108 0.1647  0.0000     0.1647  0.1647\n",
       "Radio in pred AGN   10292 0.1548 -0.0004     0.1548  0.1548\n",
       "Radio in true gal   13639 0.1467 -0.0003     0.1467  0.1467\n",
       "Radio in pred gal   13455 0.1540 -0.0000     0.1540  0.1540\n",
       "Radio AGN           23747 0.1466  0.0003     0.1466  0.1466\n",
       "Radio gal           23747 0.1426  0.0003     0.1426  0.1426"
      ]
     },
     "metadata": {},
     "output_type": "display_data"
    }
   ],
   "source": [
    "print('Metrics for classification steps using random guesses to obtain classes.')\n",
    "metrics_classif_random_df.loc[:, 'Sample'] = metrics_classif_random_df.loc[:, 'Sample'].astype(int)\n",
    "with pd.option_context('display.float_format', '{:.4f}'.format):\n",
    "    display(metrics_classif_random_df.drop(columns=['Accuracy']))"
   ]
  },
  {
   "cell_type": "code",
   "execution_count": 92,
   "metadata": {
    "tags": []
   },
   "outputs": [
    {
     "name": "stdout",
     "output_type": "stream",
     "text": [
      "Metrics for AGN diagnostics criteria (from literature).\n",
      "Sample size, N = 23,747\n"
     ]
    },
    {
     "data": {
      "text/html": [
       "<div>\n",
       "<style scoped>\n",
       "    .dataframe tbody tr th:only-of-type {\n",
       "        vertical-align: middle;\n",
       "    }\n",
       "\n",
       "    .dataframe tbody tr th {\n",
       "        vertical-align: top;\n",
       "    }\n",
       "\n",
       "    .dataframe thead th {\n",
       "        text-align: right;\n",
       "    }\n",
       "</style>\n",
       "<table border=\"1\" class=\"dataframe\">\n",
       "  <thead>\n",
       "    <tr style=\"text-align: right;\">\n",
       "      <th></th>\n",
       "      <th>F-β</th>\n",
       "      <th>MCC</th>\n",
       "      <th>Precision</th>\n",
       "      <th>Recall</th>\n",
       "    </tr>\n",
       "  </thead>\n",
       "  <tbody>\n",
       "    <tr>\n",
       "      <th>S12</th>\n",
       "      <td>0.8610</td>\n",
       "      <td>0.7878</td>\n",
       "      <td>0.9398</td>\n",
       "      <td>0.8051</td>\n",
       "    </tr>\n",
       "    <tr>\n",
       "      <th>M12</th>\n",
       "      <td>0.5180</td>\n",
       "      <td>0.4971</td>\n",
       "      <td>0.9887</td>\n",
       "      <td>0.3718</td>\n",
       "    </tr>\n",
       "    <tr>\n",
       "      <th>M16</th>\n",
       "      <td>0.6721</td>\n",
       "      <td>0.6130</td>\n",
       "      <td>0.9748</td>\n",
       "      <td>0.5348</td>\n",
       "    </tr>\n",
       "    <tr>\n",
       "      <th>B18</th>\n",
       "      <td>0.8214</td>\n",
       "      <td>0.7576</td>\n",
       "      <td>0.9754</td>\n",
       "      <td>0.7266</td>\n",
       "    </tr>\n",
       "    <tr>\n",
       "      <th>C22</th>\n",
       "      <td>0.9271</td>\n",
       "      <td>0.8764</td>\n",
       "      <td>0.9400</td>\n",
       "      <td>0.9167</td>\n",
       "    </tr>\n",
       "  </tbody>\n",
       "</table>\n",
       "</div>"
      ],
      "text/plain": [
       "       F-β    MCC  Precision  Recall\n",
       "S12 0.8610 0.7878     0.9398  0.8051\n",
       "M12 0.5180 0.4971     0.9887  0.3718\n",
       "M16 0.6721 0.6130     0.9748  0.5348\n",
       "B18 0.8214 0.7576     0.9754  0.7266\n",
       "C22 0.9271 0.8764     0.9400  0.9167"
      ]
     },
     "metadata": {},
     "output_type": "display_data"
    }
   ],
   "source": [
    "print('Metrics for AGN diagnostics criteria (from literature).')\n",
    "print(f'Sample size, N = {len(known_catalog_df):,}')\n",
    "with pd.option_context('display.float_format', '{:.4f}'.format):\n",
    "    display(metrics_AGN_criteria_df.drop(columns=['Accuracy']))"
   ]
  },
  {
   "cell_type": "code",
   "execution_count": 93,
   "metadata": {},
   "outputs": [
    {
     "name": "stdout",
     "output_type": "stream",
     "text": [
      "Metrics for redshift predictions for sources predicted to be detected in radio\n"
     ]
    },
    {
     "data": {
      "text/html": [
       "<div>\n",
       "<style scoped>\n",
       "    .dataframe tbody tr th:only-of-type {\n",
       "        vertical-align: middle;\n",
       "    }\n",
       "\n",
       "    .dataframe tbody tr th {\n",
       "        vertical-align: top;\n",
       "    }\n",
       "\n",
       "    .dataframe thead th {\n",
       "        text-align: right;\n",
       "    }\n",
       "</style>\n",
       "<table border=\"1\" class=\"dataframe\">\n",
       "  <thead>\n",
       "    <tr style=\"text-align: right;\">\n",
       "      <th></th>\n",
       "      <th>Sample</th>\n",
       "      <th>σ MAD</th>\n",
       "      <th>σ NMAD</th>\n",
       "      <th>σ z</th>\n",
       "      <th>σ z N</th>\n",
       "      <th>η</th>\n",
       "    </tr>\n",
       "  </thead>\n",
       "  <tbody>\n",
       "    <tr>\n",
       "      <th>Redshift in true rAGN</th>\n",
       "      <td>1664</td>\n",
       "      <td>0.1482</td>\n",
       "      <td>0.0664</td>\n",
       "      <td>0.3890</td>\n",
       "      <td>0.1820</td>\n",
       "      <td>0.1659</td>\n",
       "    </tr>\n",
       "    <tr>\n",
       "      <th>Redshift in pred rAGN</th>\n",
       "      <td>1779</td>\n",
       "      <td>0.1424</td>\n",
       "      <td>0.0656</td>\n",
       "      <td>0.3731</td>\n",
       "      <td>0.2380</td>\n",
       "      <td>0.1699</td>\n",
       "    </tr>\n",
       "    <tr>\n",
       "      <th>Redshift in true rGal</th>\n",
       "      <td>1994</td>\n",
       "      <td>0.0386</td>\n",
       "      <td>0.0289</td>\n",
       "      <td>0.1044</td>\n",
       "      <td>0.0709</td>\n",
       "      <td>0.0279</td>\n",
       "    </tr>\n",
       "    <tr>\n",
       "      <th>Redshift in pred rGal</th>\n",
       "      <td>1997</td>\n",
       "      <td>0.0355</td>\n",
       "      <td>0.0283</td>\n",
       "      <td>0.1622</td>\n",
       "      <td>0.0774</td>\n",
       "      <td>0.0279</td>\n",
       "    </tr>\n",
       "  </tbody>\n",
       "</table>\n",
       "</div>"
      ],
      "text/plain": [
       "                       Sample  σ MAD  σ NMAD    σ z  σ z N      η\n",
       "Redshift in true rAGN    1664 0.1482  0.0664 0.3890 0.1820 0.1659\n",
       "Redshift in pred rAGN    1779 0.1424  0.0656 0.3731 0.2380 0.1699\n",
       "Redshift in true rGal    1994 0.0386  0.0289 0.1044 0.0709 0.0279\n",
       "Redshift in pred rGal    1997 0.0355  0.0283 0.1622 0.0774 0.0279"
      ]
     },
     "metadata": {},
     "output_type": "display_data"
    }
   ],
   "source": [
    "print('Metrics for redshift predictions for sources predicted to be detected in radio')\n",
    "metrics_z_df.loc[:, 'Sample'] = metrics_z_df.loc[:, 'Sample'].astype(int)\n",
    "with pd.option_context('display.float_format', '{:.4f}'.format):\n",
    "    display(metrics_z_df)"
   ]
  },
  {
   "cell_type": "code",
   "execution_count": 94,
   "metadata": {},
   "outputs": [
    {
     "name": "stdout",
     "output_type": "stream",
     "text": [
      "Metrics and uncertainties for redshift predictions (from CV) for sources predicted to be detected in radio\n"
     ]
    },
    {
     "data": {
      "text/html": [
       "<div>\n",
       "<style scoped>\n",
       "    .dataframe tbody tr th:only-of-type {\n",
       "        vertical-align: middle;\n",
       "    }\n",
       "\n",
       "    .dataframe tbody tr th {\n",
       "        vertical-align: top;\n",
       "    }\n",
       "\n",
       "    .dataframe thead th {\n",
       "        text-align: right;\n",
       "    }\n",
       "</style>\n",
       "<table border=\"1\" class=\"dataframe\">\n",
       "  <thead>\n",
       "    <tr style=\"text-align: right;\">\n",
       "      <th></th>\n",
       "      <th>Sample</th>\n",
       "      <th>σ MAD</th>\n",
       "      <th>σ NMAD</th>\n",
       "      <th>σ z</th>\n",
       "      <th>σ z N</th>\n",
       "      <th>η</th>\n",
       "    </tr>\n",
       "  </thead>\n",
       "  <tbody>\n",
       "    <tr>\n",
       "      <th>Redshift in true rAGN</th>\n",
       "      <td>1664</td>\n",
       "      <td>0.1478</td>\n",
       "      <td>0.0665</td>\n",
       "      <td>0.3863</td>\n",
       "      <td>0.1797</td>\n",
       "      <td>0.1658</td>\n",
       "    </tr>\n",
       "    <tr>\n",
       "      <th>Redshift in pred rAGN</th>\n",
       "      <td>1779</td>\n",
       "      <td>0.1456</td>\n",
       "      <td>0.0665</td>\n",
       "      <td>0.3685</td>\n",
       "      <td>0.2304</td>\n",
       "      <td>0.1700</td>\n",
       "    </tr>\n",
       "    <tr>\n",
       "      <th>Redshift in true rGal</th>\n",
       "      <td>1994</td>\n",
       "      <td>0.0390</td>\n",
       "      <td>0.0293</td>\n",
       "      <td>0.1038</td>\n",
       "      <td>0.0701</td>\n",
       "      <td>0.0279</td>\n",
       "    </tr>\n",
       "    <tr>\n",
       "      <th>Redshift in pred rGal</th>\n",
       "      <td>1997</td>\n",
       "      <td>0.0355</td>\n",
       "      <td>0.0285</td>\n",
       "      <td>0.1435</td>\n",
       "      <td>0.0757</td>\n",
       "      <td>0.0279</td>\n",
       "    </tr>\n",
       "  </tbody>\n",
       "</table>\n",
       "</div>"
      ],
      "text/plain": [
       "                       Sample  σ MAD σ NMAD    σ z  σ z N      η\n",
       "Redshift in true rAGN    1664 0.1478 0.0665 0.3863 0.1797 0.1658\n",
       "Redshift in pred rAGN    1779 0.1456 0.0665 0.3685 0.2304 0.1700\n",
       "Redshift in true rGal    1994 0.0390 0.0293 0.1038 0.0701 0.0279\n",
       "Redshift in pred rGal    1997 0.0355 0.0285 0.1435 0.0757 0.0279"
      ]
     },
     "metadata": {},
     "output_type": "display_data"
    },
    {
     "data": {
      "text/html": [
       "<div>\n",
       "<style scoped>\n",
       "    .dataframe tbody tr th:only-of-type {\n",
       "        vertical-align: middle;\n",
       "    }\n",
       "\n",
       "    .dataframe tbody tr th {\n",
       "        vertical-align: top;\n",
       "    }\n",
       "\n",
       "    .dataframe thead th {\n",
       "        text-align: right;\n",
       "    }\n",
       "</style>\n",
       "<table border=\"1\" class=\"dataframe\">\n",
       "  <thead>\n",
       "    <tr style=\"text-align: right;\">\n",
       "      <th></th>\n",
       "      <th>Sample</th>\n",
       "      <th>σ MAD</th>\n",
       "      <th>σ NMAD</th>\n",
       "      <th>σ z</th>\n",
       "      <th>σ z N</th>\n",
       "      <th>η</th>\n",
       "    </tr>\n",
       "  </thead>\n",
       "  <tbody>\n",
       "    <tr>\n",
       "      <th>Redshift in true rAGN</th>\n",
       "      <td>1664</td>\n",
       "      <td>0.0209</td>\n",
       "      <td>0.0070</td>\n",
       "      <td>0.0454</td>\n",
       "      <td>0.0290</td>\n",
       "      <td>0.0272</td>\n",
       "    </tr>\n",
       "    <tr>\n",
       "      <th>Redshift in pred rAGN</th>\n",
       "      <td>1779</td>\n",
       "      <td>0.0234</td>\n",
       "      <td>0.0065</td>\n",
       "      <td>0.0590</td>\n",
       "      <td>0.0600</td>\n",
       "      <td>0.0308</td>\n",
       "    </tr>\n",
       "    <tr>\n",
       "      <th>Redshift in true rGal</th>\n",
       "      <td>1994</td>\n",
       "      <td>0.0034</td>\n",
       "      <td>0.0025</td>\n",
       "      <td>0.0106</td>\n",
       "      <td>0.0103</td>\n",
       "      <td>0.0097</td>\n",
       "    </tr>\n",
       "    <tr>\n",
       "      <th>Redshift in pred rGal</th>\n",
       "      <td>1997</td>\n",
       "      <td>0.0034</td>\n",
       "      <td>0.0030</td>\n",
       "      <td>0.0755</td>\n",
       "      <td>0.0161</td>\n",
       "      <td>0.0107</td>\n",
       "    </tr>\n",
       "  </tbody>\n",
       "</table>\n",
       "</div>"
      ],
      "text/plain": [
       "                       Sample  σ MAD σ NMAD    σ z  σ z N      η\n",
       "Redshift in true rAGN    1664 0.0209 0.0070 0.0454 0.0290 0.0272\n",
       "Redshift in pred rAGN    1779 0.0234 0.0065 0.0590 0.0600 0.0308\n",
       "Redshift in true rGal    1994 0.0034 0.0025 0.0106 0.0103 0.0097\n",
       "Redshift in pred rGal    1997 0.0034 0.0030 0.0755 0.0161 0.0107"
      ]
     },
     "metadata": {},
     "output_type": "display_data"
    }
   ],
   "source": [
    "print('Metrics and uncertainties for redshift predictions (from CV) for sources predicted to be detected in radio')\n",
    "for df_object in [cv_scores_mean_reg_df, cv_scores_std_reg_df]:\n",
    "    df_object.loc[:, 'Sample'] = metrics_z_df.loc[df_object.index, 'Sample']\n",
    "with pd.option_context('display.float_format', '{:.4f}'.format):\n",
    "    display(cv_scores_mean_reg_df.loc[:, ['Sample', '\\u03C3 MAD', '\\u03C3 NMAD', '\\u03C3 z', '\\u03C3 z N', '\\u03B7']])\n",
    "    display(cv_scores_std_reg_df.loc[:, ['Sample', '\\u03C3 MAD', '\\u03C3 NMAD', '\\u03C3 z', '\\u03C3 z N', '\\u03B7']])"
   ]
  },
  {
   "cell_type": "code",
   "execution_count": null,
   "metadata": {},
   "outputs": [],
   "source": []
  },
  {
   "cell_type": "markdown",
   "metadata": {},
   "source": [
    "### Plot to compare redshift values"
   ]
  },
  {
   "cell_type": "code",
   "execution_count": 97,
   "metadata": {},
   "outputs": [],
   "source": [
    "colour_hex_SFG      = '#1E88E5'\n",
    "colour_hex_AGN      = '#D32F2F'"
   ]
  },
  {
   "cell_type": "code",
   "execution_count": 98,
   "metadata": {},
   "outputs": [],
   "source": [
    "colour_hex_rSFG = '#1E88E5'\n",
    "colour_hex_rAGN = '#D32F2F'\n",
    "\n",
    "colour_rSFG = mcolors.to_rgba(colour_hex_rSFG)\n",
    "colour_rAGN = mcolors.to_rgba(colour_hex_rAGN)\n",
    "\n",
    "colour_rSFG_rgb = mcolors.to_rgb(colour_hex_rSFG)\n",
    "colour_rAGN_rgb = mcolors.to_rgb(colour_hex_rAGN)\n",
    "\n",
    "colour_rSFG_shade = list(colour_rSFG)\n",
    "colour_rAGN_shade = list(colour_rAGN)\n",
    "\n",
    "colour_rSFG_shade[3] = 0.6\n",
    "colour_rAGN_shade[3] = 0.6\n",
    "\n",
    "colour_rSFG_shade = tuple(colour_rSFG_shade)\n",
    "colour_rAGN_shade = tuple(colour_rAGN_shade)"
   ]
  },
  {
   "cell_type": "code",
   "execution_count": 99,
   "metadata": {},
   "outputs": [],
   "source": [
    "colour_rSFG_rgb_darker = list(colour_rSFG_rgb)\n",
    "colour_rAGN_rgb_darker = list(colour_rAGN_rgb)\n",
    "\n",
    "colour_rSFG_rgb_darker = list([value * 0.7 for value in colour_rSFG_rgb_darker])\n",
    "colour_rAGN_rgb_darker = list([value * 0.7 for value in colour_rAGN_rgb_darker])\n",
    "\n",
    "colour_rSFG_rgb_bright = list([cut_rgb_val(value * 1.5) for value in list(colour_rSFG_rgb)])\n",
    "colour_rAGN_rgb_bright = list([cut_rgb_val(value * 1.5) for value in list(colour_rAGN_rgb)])\n",
    "\n",
    "colour_rSFG_rgb_darker = tuple(colour_rSFG_rgb_darker)\n",
    "colour_rAGN_rgb_darker = tuple(colour_rAGN_rgb_darker)\n",
    "colour_rSFG_rgb_bright = tuple(colour_rSFG_rgb_bright)\n",
    "colour_rAGN_rgb_bright = tuple(colour_rAGN_rgb_bright)"
   ]
  },
  {
   "cell_type": "code",
   "execution_count": 100,
   "metadata": {},
   "outputs": [],
   "source": [
    "colors_rAGN      = [colour_rAGN_rgb_darker, colour_rAGN_rgb_bright] # first color is darker\n",
    "cm_gradient_rAGN = mcolors.LinearSegmentedColormap.from_list('gradient_rAGN', colors_rAGN, N=50)\n",
    "\n",
    "colors_rSFG      = [colour_rSFG_rgb_darker, colour_rSFG_rgb_bright] # first color is darker\n",
    "cm_gradient_rSFG = mcolors.LinearSegmentedColormap.from_list('gradient_rGal', colors_rSFG, N=50)\n",
    "\n",
    "cm_gradient      = {'rAGN': cm_gradient_rAGN, 'rSFG': cm_gradient_rSFG}"
   ]
  },
  {
   "cell_type": "code",
   "execution_count": 101,
   "metadata": {},
   "outputs": [],
   "source": [
    "cm_gradient_AGN = gf.create_colour_gradient(colour_hex_AGN)\n",
    "cm_gradient_SFG = gf.create_colour_gradient(colour_hex_SFG)\n",
    "\n",
    "cm_grad_AGN_whi = gf.create_colour_gradient_to_white(colour_hex_AGN)\n",
    "cm_grad_SFG_whi = gf.create_colour_gradient_to_white(colour_hex_SFG)"
   ]
  },
  {
   "cell_type": "code",
   "execution_count": 102,
   "metadata": {},
   "outputs": [],
   "source": [
    "colour_hex_black      = '#000000'\n",
    "colour_black          = mcolors.to_rgba(colour_hex_black)\n",
    "colour_black_shade    = list(colour_black)\n",
    "colour_black_shade[3] = 0.6\n",
    "colour_black_shade    = tuple(colour_black_shade)\n",
    "colour_black_solid    = list(colour_black)\n",
    "colour_black_solid[3] = 1.0\n",
    "colour_black_solid    = tuple(colour_black_solid)\n",
    "\n",
    "cm_gradient_black     = gf.create_colour_gradient(colour_hex_black)"
   ]
  },
  {
   "cell_type": "code",
   "execution_count": 103,
   "metadata": {},
   "outputs": [
    {
     "name": "stdout",
     "output_type": "stream",
     "text": [
      "There are 1902 sources inside contours\n",
      "There are 95 sources outside contours\n",
      "It is expected to have 99 sources outside contours\n"
     ]
    },
    {
     "data": {
      "image/png": "[encoded data removed]",
      "text/plain": [
       "<Figure size 650x525 with 2 Axes>"
      ]
     },
     "metadata": {},
     "output_type": "display_data"
    }
   ],
   "source": [
    "fig                = plt.figure(figsize=(6.5, 5.25), layout='constrained')\n",
    "ax1                = fig.add_subplot(111, xscale='log', yscale='log')\n",
    "\n",
    "try:\n",
    "    norm_dens = mcolors.LogNorm()\n",
    "except:\n",
    "    pass\n",
    "\n",
    "CM_focus = 'rSFG'  # 'AGN', 'SFG', 'rAGN', 'rSFG'\n",
    "\n",
    "column_x         = 'Z'\n",
    "column_y         = 'pred_Z_rGal'\n",
    "column_z         = 'Prob_AGN'\n",
    "filter_good_cols = filt_pred_rGal & filt_good_true_z\n",
    "\n",
    "dens_plot_data_x = 1 + known_catalog_df.loc[filter_good_cols, column_x].astype(np.float64)\n",
    "dens_plot_data_y = 1 + known_catalog_df.loc[filter_good_cols, column_y]\n",
    "dens_plot_data_z = 1 - known_catalog_df.loc[filter_good_cols, column_z]\n",
    "N_sources        = np.nansum(filter_good_cols)\n",
    "\n",
    "min_X  = np.nanmin(1 + known_catalog_df.loc[filter_good_cols, column_x])\n",
    "# max_X  = np.nanmax(1 + EMU_df.loc[filter_good_cols, column_x])\n",
    "min_Y  = np.nanmin(1 + known_catalog_df.loc[filter_good_cols, column_y])\n",
    "# max_Y  = np.nanmax(1 + EMU_df.loc[filter_good_cols, column_y])\n",
    "max_X  = np.nanmax(1 + 1.99)  # Ad-hoc limit\n",
    "max_Y  = np.nanmax(1 + 1.99)  # Ad-hoc limit\n",
    "n_bins = [20, 20]\n",
    "bins_X_cont = np.logspace(np.log10(np.min([min_X, min_Y])), np.log10(np.max([max_X, max_Y])), int(np.floor(n_bins[0] * 1.7)))\n",
    "bins_Y_cont = np.logspace(np.log10(np.min([min_X, min_Y])), np.log10(np.max([max_X, max_Y])), int(np.floor(n_bins[1] * 1.7)))\n",
    "bins_X_hist = np.logspace(np.log10(np.min([min_X, min_Y])), np.log10(np.max([max_X, max_Y])), n_bins[0])\n",
    "bins_Y_hist = np.logspace(np.log10(np.min([min_X, min_Y])), np.log10(np.max([max_X, max_Y])), n_bins[1])\n",
    "bins_arr_cont = [bins_X_cont, bins_Y_cont]\n",
    "bins_arr_hist = [bins_X_hist, bins_Y_hist]\n",
    "\n",
    "dens_CW = gf.color_hist2d_scipy(dens_plot_data_x,\n",
    "                             dens_plot_data_y,\n",
    "                             dens_plot_data_z,\n",
    "                             ax_tmp=ax1,\n",
    "                             target_statistic='count',\n",
    "                             bins=bins_arr_hist,\n",
    "                             cmap=cm_grad_SFG_whi,\n",
    "                             lw=0,\n",
    "                             norm=norm_dens)\n",
    "\n",
    "added_lim_up    = 0.0  # 0.049\n",
    "added_lim_do    = 0.99  # 9.9e-1\n",
    "# lims_x          = (added_lim_do, np.max([max_X, max_Y]) + added_lim_up)\n",
    "# lims_y          = (added_lim_do, np.max([max_X, max_Y]) + added_lim_up)\n",
    "lims_x          = (added_lim_do, max_X)\n",
    "lims_y          = (added_lim_do, max_Y)\n",
    "\n",
    "# sigmas_perc     = [0.39346934, 0.86466472, 0.988891]  # [0.39346934, 0.86466472, 0.988891, 0.99966454, 0.99999627]\n",
    "sigmas_perc     = [0.5, 0.75, 0.95]  # [50%, 75%, 95% of data]\n",
    "outlier_number  = int(np.floor(N_sources * (1 - sigmas_perc[-1]))) # expected number of points outside last contour\n",
    "nstep           = len(sigmas_perc)\n",
    "seq_cont        = np.linspace(0, 1, nstep)\n",
    "\n",
    "H_SFG, xedges_SFG, yedges_SFG = np.histogram2d(dens_plot_data_x, dens_plot_data_y,\n",
    "                                               bins=bins_arr_cont, density=False)\n",
    "\n",
    "cont_SFG = ax1.scatter([-1], [10], marker='o', edgecolor=colour_rSFG, color=colour_black,\n",
    "                       s=80, label='$\\mathrm{Predicted ~ rAGN}$', linewidths=2.5)\n",
    "\n",
    "# Flatten histogram and sort by density\n",
    "H_flat   = H_SFG.ravel()\n",
    "H_sorted = np.sort(H_flat)[::-1]  # Sort descending\n",
    "cumulative_density = np.cumsum(H_sorted) / np.sum(H_sorted)\n",
    "\n",
    "# Find bin count thresholds for the desired percentiles\n",
    "target_percentiles = np.array(sigmas_perc) * np.sum(H_SFG)\n",
    "density_thresholds = []\n",
    "for target in target_percentiles:\n",
    "    idx = np.argmin(np.abs(cumulative_density * np.sum(H_SFG) - target))\n",
    "    threshold = H_sorted[idx]\n",
    "    density_thresholds.append(threshold)\n",
    "density_thresholds = sorted(set(density_thresholds), reverse=True)  # Ensure unique, decreasing values\n",
    "\n",
    "# fix probable lines not closing\n",
    "H_SFG, x_centers_SFG, y_centers_SFG = gf.pad_matrix_zeros(H_SFG, xedges_SFG, yedges_SFG)\n",
    "\n",
    "# Plot contours using the computed density thresholds\n",
    "CS_SFG = ax1.contour(x_centers_SFG, y_centers_SFG, H_SFG.T,  \n",
    "                     levels=density_thresholds[::-1],  \n",
    "                     colors=cm_gradient_black.reversed()(seq_cont),  \n",
    "                     linewidths=2.25, zorder=3)\n",
    "\n",
    "# Calculate percentage levels from density thresholds\n",
    "# density_percentages = [100.0 * cumulative_density[np.searchsorted(np.sort(H_flat), level)] for level in density_thresholds]\n",
    "density_percentages = [100 * sigma_perc for sigma_perc in sigmas_perc]\n",
    "\n",
    "# Identify and plot points outside contours\n",
    "try:\n",
    "    p_SFG = CS_SFG.get_paths()\n",
    "except Exception as e:\n",
    "    p_SFG = CS_SFG.collections[0].get_paths()\n",
    "inside_SFG = np.full_like(dens_plot_data_x, False, dtype=bool)\n",
    "for level in p_SFG:\n",
    "    inside_SFG |= level.contains_points(np.column_stack((dens_plot_data_x, dens_plot_data_y)))\n",
    "print(f'There are {np.sum(inside_SFG)} sources inside contours')\n",
    "print(f'There are {np.sum(~inside_SFG)} sources outside contours')\n",
    "print(f'It is expected to have {outlier_number} sources outside contours')\n",
    "out_SFG, = ax1.plot(dens_plot_data_x.loc[~inside_SFG], dens_plot_data_y.loc[~inside_SFG],\n",
    "                    marker='.', ls='None', color=colour_black, zorder=2, alpha=0.4)\n",
    "\n",
    "num_str = f'$\\mathrm{{N}} = {N_sources}$'\n",
    "if N_sources / 1e4 > 1:\n",
    "    num_str = f'$\\mathrm{{N}} = {N_sources:,.0f}$'.replace(',', '$\\,$')\n",
    "ax1.annotate(num_str, xy=(0.07, 0.93), xycoords='axes fraction',\n",
    "                    fontsize=24, path_effects=gf.path_white(2.5),\n",
    "                    va='top', ha='left')\n",
    "\n",
    "ax1.axline((2, 2), (3, 3), ls='--', lw=2.5, color='gray')\n",
    "# Include outlier limits\n",
    "ax1.axline((2 + 1, 1 + 2.529411764705882), (3 + 1, 1 + 3.7058823529411766), ls='--', lw=2.5, color='gray')\n",
    "ax1.axline((2 + 1, 1 + 1.608695652173913), (3 + 1, 1 + 2.4782608695652173), ls='--', lw=2.5, color='gray')\n",
    "ax1.set_xlim(lims_x)\n",
    "ax1.set_ylim(lims_y)\n",
    "\n",
    "# cbar_str = r'$\\mathrm{Prob ~ AGN} \\times \\mathrm{Prob ~ Radio}$'\n",
    "# cbar_str = r'$\\mathrm{Prob ~ AGN}$'\n",
    "cbar_str = r'$\\mathrm{Sources ~ per ~ bin}$'\n",
    "cbar = fig.colorbar(dens_CW[1], ax=ax1, pad=0.0, format=ScalarFormatter())\n",
    "cbar.ax.minorticks_on()\n",
    "cbar.ax.tick_params(labelsize=22)\n",
    "cbar.ax.tick_params(which='major', length=8, width=1.5, direction='in', color='k')\n",
    "cbar.ax.tick_params(which='minor', length=4, width=1.5, direction='in', color='k')\n",
    "cbar.outline.set_linewidth(3.5)\n",
    "cbar.ax.set_ylabel(cbar_str, size=24, labelpad=-1)\n",
    "\n",
    "ax1.minorticks_on()\n",
    "ax1.tick_params(which='both', top=True, right=True, direction='in')\n",
    "ax1.tick_params(axis='both', which='major', labelsize=26)\n",
    "# ax1.tick_params(axis='both', which='minor', labelsize=26)\n",
    "ax1.tick_params(which='major', length=8, width=1.5)\n",
    "ax1.tick_params(which='minor', length=4, width=1.5)\n",
    "ax1.set_xlabel('$1 + z_{\\mathrm{True}}$', size=30)\n",
    "ax1.set_ylabel('$1 + z_{\\mathrm{Predicted}}$', size=30)\n",
    "plt.setp(ax1.spines.values(), linewidth=3.5)\n",
    "plt.setp(ax1.spines.values(), linewidth=3.5)\n",
    "\n",
    "\n",
    "arr_legends = ['$\\mathrm{Predicted ~ rSFG}$']\n",
    "# ax1.legend([(cont_AGN, out_AGN)], arr_legends, scatterpoints=1,\n",
    "#                numpoints=1, handler_map={tuple: HandlerTuple(ndivide=None)}, loc='upper left',\n",
    "#            fontsize=18, title=r'$\\mathrm{EMU-PS}$', title_fontsize=16)\n",
    "\n",
    "\n",
    "ax1.xaxis.set_ticks(np.arange(*lims_x, 0.3))\n",
    "ax1.yaxis.set_ticks(np.arange(*lims_y, 0.3))\n",
    "ax1.xaxis.set_major_formatter(ticker.FormatStrFormatter('$%0.1f$'))\n",
    "ax1.yaxis.set_major_formatter(ticker.FormatStrFormatter('$%0.1f$'))\n",
    "\n",
    "# ax1.xaxis.set_major_formatter(ScalarFormatter()) \n",
    "# ax1.xaxis.set_minor_formatter(ticker.NullFormatter())\n",
    "ax1.xaxis.set_minor_locator(ticker.NullLocator())\n",
    "ax1.yaxis.set_minor_locator(ticker.NullLocator())\n",
    "ax1.tick_params(axis='x', labelrotation=35)\n",
    "\n",
    "ax1.set_aspect('equal', 'box')\n",
    "if save_plot_flag:\n",
    "    plt.savefig(gv.plots_path + f'log_true_pred_z_true_rSFG_{used_area}_{HETDEX_subset}.pdf',\n",
    "                bbox_inches='tight')\n",
    "plt.show()"
   ]
  },
  {
   "cell_type": "code",
   "execution_count": 104,
   "metadata": {},
   "outputs": [
    {
     "name": "stdout",
     "output_type": "stream",
     "text": [
      "There are 1862 sources inside contours\n",
      "There are 132 sources outside contours\n",
      "It is expected to have 99 sources outside contours\n"
     ]
    },
    {
     "data": {
      "image/png": "[encoded data removed]",
      "text/plain": [
       "<Figure size 650x525 with 2 Axes>"
      ]
     },
     "metadata": {},
     "output_type": "display_data"
    }
   ],
   "source": [
    "fig                = plt.figure(figsize=(6.5, 5.25), layout='constrained')\n",
    "ax1                = fig.add_subplot(111, xscale='log', yscale='log')\n",
    "\n",
    "try:\n",
    "    norm_dens = mcolors.LogNorm()\n",
    "except:\n",
    "    pass\n",
    "\n",
    "CM_focus = 'rSFG'  # 'AGN', 'SFG', 'rAGN', 'rSFG'\n",
    "\n",
    "column_x         = 'Z'\n",
    "column_y         = 'pred_Z_rGal'\n",
    "column_z         = 'Prob_AGN'\n",
    "filter_good_cols = filt_true_rGal & filt_good_true_z\n",
    "\n",
    "dens_plot_data_x = 1 + known_catalog_df.loc[filter_good_cols, column_x].astype(np.float64)\n",
    "dens_plot_data_y = 1 + known_catalog_df.loc[filter_good_cols, column_y]\n",
    "dens_plot_data_z = 1 - known_catalog_df.loc[filter_good_cols, column_z]\n",
    "N_sources        = np.nansum(filter_good_cols)\n",
    "\n",
    "min_X  = np.nanmin(1 + known_catalog_df.loc[filter_good_cols, column_x])\n",
    "# max_X  = np.nanmax(1 + EMU_df.loc[filter_good_cols, column_x])\n",
    "min_Y  = np.nanmin(1 + known_catalog_df.loc[filter_good_cols, column_y])\n",
    "# max_Y  = np.nanmax(1 + EMU_df.loc[filter_good_cols, column_y])\n",
    "max_X  = np.nanmax(1 + 1.99)  # Ad-hoc limit\n",
    "max_Y  = np.nanmax(1 + 1.99)  # Ad-hoc limit\n",
    "n_bins = [20, 20]\n",
    "bins_X_cont = np.logspace(np.log10(np.min([min_X, min_Y])), np.log10(np.max([max_X, max_Y])), int(np.floor(n_bins[0] * 1.7)))\n",
    "bins_Y_cont = np.logspace(np.log10(np.min([min_X, min_Y])), np.log10(np.max([max_X, max_Y])), int(np.floor(n_bins[1] * 1.7)))\n",
    "bins_X_hist = np.logspace(np.log10(np.min([min_X, min_Y])), np.log10(np.max([max_X, max_Y])), n_bins[0])\n",
    "bins_Y_hist = np.logspace(np.log10(np.min([min_X, min_Y])), np.log10(np.max([max_X, max_Y])), n_bins[1])\n",
    "bins_arr_cont = [bins_X_cont, bins_Y_cont]\n",
    "bins_arr_hist = [bins_X_hist, bins_Y_hist]\n",
    "\n",
    "dens_CW = gf.color_hist2d_scipy(dens_plot_data_x,\n",
    "                             dens_plot_data_y,\n",
    "                             dens_plot_data_z,\n",
    "                             ax_tmp=ax1,\n",
    "                             target_statistic='count',\n",
    "                             bins=bins_arr_hist,\n",
    "                             cmap=cm_grad_SFG_whi,\n",
    "                             lw=0,\n",
    "                             norm=norm_dens)\n",
    "\n",
    "added_lim_up    = 0.0  # 0.049\n",
    "added_lim_do    = 0.99  # 9.9e-1\n",
    "# lims_x          = (added_lim_do, np.max([max_X, max_Y]) + added_lim_up)\n",
    "# lims_y          = (added_lim_do, np.max([max_X, max_Y]) + added_lim_up)\n",
    "lims_x          = (added_lim_do, max_X)\n",
    "lims_y          = (added_lim_do, max_Y)\n",
    "\n",
    "# sigmas_perc     = [0.39346934, 0.86466472, 0.988891]  # [0.39346934, 0.86466472, 0.988891, 0.99966454, 0.99999627]\n",
    "sigmas_perc     = [0.5, 0.75, 0.95]  # [50%, 75%, 95% of data]\n",
    "outlier_number  = int(np.floor(N_sources * (1 - sigmas_perc[-1]))) # expected number of points outside last contour\n",
    "nstep           = len(sigmas_perc)\n",
    "seq_cont        = np.linspace(0, 1, nstep)\n",
    "\n",
    "H_SFG, xedges_SFG, yedges_SFG = np.histogram2d(dens_plot_data_x, dens_plot_data_y,\n",
    "                                               bins=bins_arr_cont, density=False)\n",
    "\n",
    "cont_SFG = ax1.scatter([-1], [10], marker='o', edgecolor=colour_rSFG, color=colour_black,\n",
    "                       s=80, label='$\\mathrm{Predicted ~ rAGN}$', linewidths=2.5)\n",
    "\n",
    "# Flatten histogram and sort by density\n",
    "H_flat   = H_SFG.ravel()\n",
    "H_sorted = np.sort(H_flat)[::-1]  # Sort descending\n",
    "cumulative_density = np.cumsum(H_sorted) / np.sum(H_sorted)\n",
    "\n",
    "# Find bin count thresholds for the desired percentiles\n",
    "target_percentiles = np.array(sigmas_perc) * np.sum(H_SFG)\n",
    "density_thresholds = []\n",
    "for target in target_percentiles:\n",
    "    idx = np.argmin(np.abs(cumulative_density * np.sum(H_SFG) - target))\n",
    "    threshold = H_sorted[idx]\n",
    "    density_thresholds.append(threshold)\n",
    "density_thresholds = sorted(set(density_thresholds), reverse=True)  # Ensure unique, decreasing values\n",
    "\n",
    "# fix probable lines not closing\n",
    "H_SFG, x_centers_SFG, y_centers_SFG = gf.pad_matrix_zeros(H_SFG, xedges_SFG, yedges_SFG)\n",
    "\n",
    "# Plot contours using the computed density thresholds\n",
    "CS_SFG = ax1.contour(x_centers_SFG, y_centers_SFG, H_SFG.T,  \n",
    "                     levels=density_thresholds[::-1],  \n",
    "                     colors=cm_gradient_black.reversed()(seq_cont),  \n",
    "                     linewidths=2.25, zorder=3)\n",
    "\n",
    "# Calculate percentage levels from density thresholds\n",
    "# density_percentages = [100.0 * cumulative_density[np.searchsorted(np.sort(H_flat), level)] for level in density_thresholds]\n",
    "density_percentages = [100 * sigma_perc for sigma_perc in sigmas_perc]\n",
    "\n",
    "# Identify and plot points outside contours\n",
    "try:\n",
    "    p_SFG = CS_SFG.get_paths()\n",
    "except Exception as e:\n",
    "    p_SFG = CS_SFG.collections[0].get_paths()\n",
    "inside_SFG = np.full_like(dens_plot_data_x, False, dtype=bool)\n",
    "for level in p_SFG:\n",
    "    inside_SFG |= level.contains_points(np.column_stack((dens_plot_data_x, dens_plot_data_y)))\n",
    "print(f'There are {np.sum(inside_SFG)} sources inside contours')\n",
    "print(f'There are {np.sum(~inside_SFG)} sources outside contours')\n",
    "print(f'It is expected to have {outlier_number} sources outside contours')\n",
    "out_SFG, = ax1.plot(dens_plot_data_x.loc[~inside_SFG], dens_plot_data_y.loc[~inside_SFG],\n",
    "                    marker='.', ls='None', color=colour_black, zorder=2, alpha=0.4)\n",
    "\n",
    "num_str = f'$\\mathrm{{N}} = {N_sources}$'\n",
    "if N_sources / 1e4 > 1:\n",
    "    num_str = f'$\\mathrm{{N}} = {N_sources:,.0f}$'.replace(',', '$\\,$')\n",
    "ax1.annotate(num_str, xy=(0.07, 0.93), xycoords='axes fraction',\n",
    "                    fontsize=24, path_effects=gf.path_white(2.5),\n",
    "                    va='top', ha='left')\n",
    "\n",
    "ax1.axline((2, 2), (3, 3), ls='--', lw=2.5, color='gray')\n",
    "# Include outlier limits\n",
    "ax1.axline((2 + 1, 1 + 2.529411764705882), (3 + 1, 1 + 3.7058823529411766), ls='--', lw=2.5, color='gray')\n",
    "ax1.axline((2 + 1, 1 + 1.608695652173913), (3 + 1, 1 + 2.4782608695652173), ls='--', lw=2.5, color='gray')\n",
    "ax1.set_xlim(lims_x)\n",
    "ax1.set_ylim(lims_y)\n",
    "\n",
    "# cbar_str = r'$\\mathrm{Prob ~ AGN} \\times \\mathrm{Prob ~ Radio}$'\n",
    "# cbar_str = r'$\\mathrm{Prob ~ AGN}$'\n",
    "cbar_str = r'$\\mathrm{Sources ~ per ~ bin}$'\n",
    "cbar = fig.colorbar(dens_CW[1], ax=ax1, pad=0.0, format=ScalarFormatter())\n",
    "cbar.ax.minorticks_on()\n",
    "cbar.ax.tick_params(labelsize=22)\n",
    "cbar.ax.tick_params(which='major', length=8, width=1.5, direction='in', color='k')\n",
    "cbar.ax.tick_params(which='minor', length=4, width=1.5, direction='in', color='k')\n",
    "cbar.outline.set_linewidth(3.5)\n",
    "cbar.ax.set_ylabel(cbar_str, size=24, labelpad=-1)\n",
    "\n",
    "ax1.minorticks_on()\n",
    "ax1.tick_params(which='both', top=True, right=True, direction='in')\n",
    "ax1.tick_params(axis='both', which='major', labelsize=26)\n",
    "# ax1.tick_params(axis='both', which='minor', labelsize=26)\n",
    "ax1.tick_params(which='major', length=8, width=1.5)\n",
    "ax1.tick_params(which='minor', length=4, width=1.5)\n",
    "ax1.set_xlabel('$1 + z_{\\mathrm{True}}$', size=30)\n",
    "ax1.set_ylabel('$1 + z_{\\mathrm{Predicted}}$', size=30)\n",
    "plt.setp(ax1.spines.values(), linewidth=3.5)\n",
    "plt.setp(ax1.spines.values(), linewidth=3.5)\n",
    "\n",
    "\n",
    "arr_legends = ['$\\mathrm{Predicted ~ rSFG}$']\n",
    "# ax1.legend([(cont_AGN, out_AGN)], arr_legends, scatterpoints=1,\n",
    "#                numpoints=1, handler_map={tuple: HandlerTuple(ndivide=None)}, loc='upper left',\n",
    "#            fontsize=18, title=r'$\\mathrm{EMU-PS}$', title_fontsize=16)\n",
    "\n",
    "\n",
    "ax1.xaxis.set_ticks(np.arange(*lims_x, 0.3))\n",
    "ax1.yaxis.set_ticks(np.arange(*lims_y, 0.3))\n",
    "ax1.xaxis.set_major_formatter(ticker.FormatStrFormatter('$%0.1f$'))\n",
    "ax1.yaxis.set_major_formatter(ticker.FormatStrFormatter('$%0.1f$'))\n",
    "\n",
    "# ax1.xaxis.set_major_formatter(ScalarFormatter()) \n",
    "# ax1.xaxis.set_minor_formatter(ticker.NullFormatter())\n",
    "ax1.xaxis.set_minor_locator(ticker.NullLocator())\n",
    "ax1.yaxis.set_minor_locator(ticker.NullLocator())\n",
    "ax1.tick_params(axis='x', labelrotation=35)\n",
    "\n",
    "ax1.set_aspect('equal', 'box')\n",
    "if save_plot_flag:\n",
    "    plt.savefig(gv.plots_path + f'log_true_pred_z_pred_rSFG_{used_area}_{HETDEX_subset}.pdf',\n",
    "                bbox_inches='tight')\n",
    "plt.show()"
   ]
  },
  {
   "cell_type": "markdown",
   "metadata": {},
   "source": [
    "---"
   ]
  },
  {
   "cell_type": "code",
   "execution_count": null,
   "metadata": {},
   "outputs": [],
   "source": []
  }
 ],
 "metadata": {
  "kernelspec": {
   "display_name": "Python 3 (ipykernel)",
   "language": "python",
   "name": "python3"
  },
  "language_info": {
   "codemirror_mode": {
    "name": "ipython",
    "version": 3
   },
   "file_extension": ".py",
   "mimetype": "text/x-python",
   "name": "python",
   "nbconvert_exporter": "python",
   "pygments_lexer": "ipython3",
   "version": "3.8.16"
  }
 },
 "nbformat": 4,
 "nbformat_minor": 4
}
