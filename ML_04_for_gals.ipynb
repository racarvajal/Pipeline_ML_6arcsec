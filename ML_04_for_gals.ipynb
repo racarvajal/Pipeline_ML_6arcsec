{
 "cells": [
  {
   "cell_type": "markdown",
   "id": "6ded1a1e",
   "metadata": {
    "id": "c71fae7e-a4c4-4950-8c16-4a74a1e69482"
   },
   "source": [
    "# Pipeline for High-z Radio Galaxies 04: Redshift prediction on radio AGN"
   ]
  },
  {
   "cell_type": "markdown",
   "id": "40a13799",
   "metadata": {
    "id": "714a7301-9b3d-4ad9-9659-b68cad4014c5"
   },
   "source": [
    "## Introduction"
   ]
  },
  {
   "cell_type": "markdown",
   "id": "c86243b1",
   "metadata": {
    "id": "dea6dd12-650e-4ab6-bae7-0268f78e7fea"
   },
   "source": [
    "Training for regression (prediction) of redshift for sources in the HETDEX field. \n",
    "\n",
    "Sources are all elements detected in the CatWISE2020 catalogue. But regression  \n",
    "will be done with AGN from the Million Quasar Catalog (MQC) and QSO from SDSS DR16.  \n",
    "Only sources with confirmed $z$ will be used.\n",
    "\n",
    "Being either AGN or galaxy will not be used as an additional feature."
   ]
  },
  {
   "cell_type": "markdown",
   "id": "e35a178f",
   "metadata": {
    "id": "00a0aec8-0112-4728-a8fe-f99cdf05a33b"
   },
   "source": [
    "Training data is from HETDEX Spring Field."
   ]
  },
  {
   "cell_type": "code",
   "execution_count": 1,
   "id": "df4f21be",
   "metadata": {
    "id": "1161a2b6-ef8d-429d-8dea-40f0de36e393"
   },
   "outputs": [],
   "source": [
    "%matplotlib inline\n",
    "# Static plots\n",
    "#%matplotlib ipympl\n",
    "# Interactive plots\n",
    "import numpy as np\n",
    "import matplotlib as mpl\n",
    "from matplotlib import ticker\n",
    "import matplotlib.cm as cm\n",
    "import matplotlib.pyplot as plt\n",
    "import matplotlib.colors as mcolors\n",
    "import matplotlib.patheffects as mpe\n",
    "import mpl_scatter_density\n",
    "from mpl_toolkits.axes_grid1.inset_locator import inset_axes\n",
    "from astropy.visualization import LogStretch, PowerStretch\n",
    "from astropy.visualization.mpl_normalize import ImageNormalize\n",
    "from sklearn.preprocessing import MinMaxScaler\n",
    "from sklearn.model_selection import train_test_split\n",
    "# from sklearn.metrics import ConfusionMatrixDisplay, roc_auc_score, roc_curve, RocCurveDisplay, matthews_corrcoef\n",
    "# from sklearn.calibration import calibration_curve\n",
    "import sklearn.pipeline\n",
    "import ppscore as pps\n",
    "import seaborn as sns\n",
    "import colorcet as cc\n",
    "import cmasher as cmr\n",
    "from pycaret import regression as pyr\n",
    "import pandas as pd\n",
    "import global_variables as gv\n",
    "import global_functions as gf"
   ]
  },
  {
   "cell_type": "code",
   "execution_count": 2,
   "id": "a545330f",
   "metadata": {},
   "outputs": [],
   "source": [
    "mpl.rcdefaults()"
   ]
  },
  {
   "cell_type": "code",
   "execution_count": 3,
   "id": "3bd4e66d",
   "metadata": {},
   "outputs": [],
   "source": [
    "plt.rcParams['text.usetex'] = True"
   ]
  },
  {
   "cell_type": "markdown",
   "id": "f9fe17ba",
   "metadata": {},
   "source": [
    "Define specific metrics for redshift values:  \n",
    "\n",
    "$$\n",
    "\\sigma_{\\mathrm{NMAD}} = 1.48 \\times \\mathrm{median}\\left(\\frac{|(z_{True} - z_{Predict})|}{(1 + z_{True})}\\right)\n",
    "$$"
   ]
  },
  {
   "cell_type": "markdown",
   "id": "1213c6ab",
   "metadata": {},
   "source": [
    "Methods to create values of metrics by redshift ranges"
   ]
  },
  {
   "cell_type": "code",
   "execution_count": 4,
   "id": "a75f379e",
   "metadata": {
    "jupyter": {
     "source_hidden": true
    }
   },
   "outputs": [],
   "source": [
    "def z_metric_in_z_ranges(data_set_df, z_col, z_range, metric_function, *metricArgs):\n",
    "    metric_output  = np.zeros_like(z_range)\n",
    "    true_vals      = metricArgs[0]\n",
    "    predicted_vals = metricArgs[1]\n",
    "    for count, z_thresh in enumerate(z_range):\n",
    "        filter_z             = data_set_df.loc[:, z_col] >= z_thresh\n",
    "        if np.sum(filter_z) == 0:\n",
    "            metric_output[count] = np.nan\n",
    "            continue\n",
    "        sub_set              = data_set_df.loc[filter_z, [*metricArgs]]\n",
    "        metric_output[count] = metric_function(sub_set.loc[:, true_vals], sub_set.loc[:, predicted_vals])\n",
    "    return metric_output"
   ]
  },
  {
   "cell_type": "markdown",
   "id": "ddadde9b",
   "metadata": {},
   "source": [
    "Method to plot metrics"
   ]
  },
  {
   "cell_type": "code",
   "execution_count": 5,
   "id": "6e832faf",
   "metadata": {
    "jupyter": {
     "source_hidden": true
    }
   },
   "outputs": [],
   "source": [
    "def plot_metric_over_z(z_range, metric_range, name_metric, ax_pre, title=None, color=plt.get_cmap('cmr.redshift')(0.8)):\n",
    "    ax_pre.plot(z_range, metric_range, color=color, zorder=10, alpha=0.93, marker='o', ls='-', lw=2.5)\n",
    "    ##\n",
    "    ax_pre.set_xlabel('$z_{\\mathrm{True}}$', fontsize=20)\n",
    "    ax_pre.set_ylabel(f'$\\mathrm{{{name_metric}}} (\\geq z)$', fontsize=20)\n",
    "    ax_pre.tick_params(which='both', top=True, right=True, direction='in')\n",
    "    ax_pre.tick_params(axis='both', which='major', labelsize=16)\n",
    "    ax_pre.tick_params(which='major', length=8, width=1.5)\n",
    "    ax_pre.tick_params(which='minor', length=4, width=1.5)\n",
    "    plt.setp(ax_pre.spines.values(), linewidth=2.5)\n",
    "    plt.setp(ax_pre.spines.values(), linewidth=2.5)\n",
    "    ax_pre.set_title(title, fontsize=14)\n",
    "    ax_pre.grid(visible=True, alpha=0.1, zorder=0)\n",
    "    plt.tight_layout()"
   ]
  },
  {
   "cell_type": "markdown",
   "id": "e4d92ebc",
   "metadata": {
    "id": "8222df68-1b98-436b-af43-d9f38d015ba6"
   },
   "source": [
    "***"
   ]
  },
  {
   "cell_type": "markdown",
   "id": "730be3e2",
   "metadata": {
    "id": "e2ce5669-172d-4ed4-b6fe-5fff8afc7df5"
   },
   "source": [
    "## Reading data"
   ]
  },
  {
   "cell_type": "code",
   "execution_count": 6,
   "id": "6f8f1c30",
   "metadata": {},
   "outputs": [],
   "source": [
    "save_plot_flag  = False\n",
    "save_model_flag = True\n",
    "read_idx_flag   = True\n",
    "load_model_flag = False\n",
    "use_calibration = True"
   ]
  },
  {
   "cell_type": "markdown",
   "id": "8f96aef8",
   "metadata": {
    "id": "2cd751bd-1eb4-4c54-b6fa-418773ac8938"
   },
   "source": [
    "First, open the file as astropy Table to modify (and standardise)  \n",
    "the units of fluxes and/or magnitudes."
   ]
  },
  {
   "cell_type": "markdown",
   "id": "13581f35",
   "metadata": {
    "id": "d0ce0178-04a7-4113-bbb8-1b70ce220764"
   },
   "source": [
    "---"
   ]
  },
  {
   "cell_type": "markdown",
   "id": "9c388386",
   "metadata": {
    "id": "6e66f66c-4987-4340-bf82-7d8e218033fb"
   },
   "source": [
    "Create `pandas` DataFrame from `astropy` table."
   ]
  },
  {
   "cell_type": "code",
   "execution_count": 7,
   "id": "f44953ef",
   "metadata": {},
   "outputs": [],
   "source": [
    "features_2_discard = ['objID', 'RA_ICRS', 'DE_ICRS', 'Name', 'RA_MILLI', 'DEC_MILLI', \n",
    "                      'TYPE', 'Sint_LOFAR', 'Sint_LOFAR_AB', 'W1mag', 'W2mag', 'num_imputed', 'radio_detect'] # , 'mode',\\\n",
    "                     # 'class', 'f_zsp', 'subCl', 'zph', 'e_zph']  # Not needed for training in this model"
   ]
  },
  {
   "cell_type": "code",
   "execution_count": 8,
   "id": "7723b338",
   "metadata": {
    "id": "498083f5-b8c6-44aa-8de4-75b1dc899296",
    "tags": []
   },
   "outputs": [],
   "source": [
    "full_catalog_df = pd.read_hdf(gv.cat_path + gv.file_HETDEX, key='df').drop(columns=features_2_discard)"
   ]
  },
  {
   "cell_type": "code",
   "execution_count": 9,
   "id": "42ef1eb2",
   "metadata": {},
   "outputs": [],
   "source": [
    "full_catalog_df.loc[:, 'LOFAR_detect'] = full_catalog_df.loc[:, 'LOFAR_detect'].astype(int)"
   ]
  },
  {
   "cell_type": "code",
   "execution_count": 10,
   "id": "ec286b00",
   "metadata": {},
   "outputs": [],
   "source": [
    "# full_catalog_df.describe()"
   ]
  },
  {
   "cell_type": "markdown",
   "id": "2b639033",
   "metadata": {},
   "source": [
    "#### Select only confirmed radio galaxies"
   ]
  },
  {
   "cell_type": "code",
   "execution_count": 11,
   "id": "f2055611",
   "metadata": {
    "jupyter": {
     "source_hidden": true
    },
    "tags": []
   },
   "outputs": [
    {
     "name": "stdout",
     "output_type": "stream",
     "text": [
      "In this dataset, with 15,136,878 elements,\n",
      "50,538 of them are marked as AGN, 68,196 have been indentified as galaxies, and 382,430 are identified as radio detections (in LOFAR).\n"
     ]
    }
   ],
   "source": [
    "n_full   = len(full_catalog_df)\n",
    "n_is_AGN = np.sum(full_catalog_df.loc[:, 'is_AGN'] == 1)\n",
    "n_is_gal = np.sum(full_catalog_df.loc[:, 'is_gal'] == 1)\n",
    "n_is_rad = np.sum(full_catalog_df.loc[:, 'LOFAR_detect'] == 1)\n",
    "print(f'In this dataset, with {n_full:,} elements,\\n' +\\\n",
    "         f'{n_is_AGN:,} of them are marked as AGN, {n_is_gal:,} have been indentified as galaxies,' +\\\n",
    "      f' and {n_is_rad:,} are identified as radio detections (in LOFAR).')"
   ]
  },
  {
   "cell_type": "code",
   "execution_count": 12,
   "id": "d15387c8",
   "metadata": {},
   "outputs": [],
   "source": [
    "target_feat = 'Z'"
   ]
  },
  {
   "cell_type": "markdown",
   "id": "af0131d4",
   "metadata": {
    "id": "6619390c-a04f-4bd0-9f97-9ca54bc9c764"
   },
   "source": [
    "---"
   ]
  },
  {
   "cell_type": "markdown",
   "id": "b2d3e4a3",
   "metadata": {},
   "source": [
    "Combine redshift values (AGN + galaxies)."
   ]
  },
  {
   "cell_type": "code",
   "execution_count": 13,
   "id": "3e5b9c9d",
   "metadata": {},
   "outputs": [],
   "source": [
    "idx_non_Z                = full_catalog_df.loc[:, target_feat].where(full_catalog_df.loc[:, target_feat] > 0).isna()\n",
    "full_catalog_df.loc[idx_non_Z, target_feat] = full_catalog_df.loc[:, target_feat].mask(idx_non_Z, full_catalog_df.loc[idx_non_Z, 'zsp'])"
   ]
  },
  {
   "cell_type": "markdown",
   "id": "a44da246",
   "metadata": {
    "id": "27645d12-9370-40d8-aeba-24d4415bb9eb"
   },
   "source": [
    "---"
   ]
  },
  {
   "cell_type": "markdown",
   "id": "c81c570c",
   "metadata": {
    "id": "e1111608-acd0-41fd-a79d-831539eb56b9"
   },
   "source": [
    "## Possible correlations"
   ]
  },
  {
   "cell_type": "code",
   "execution_count": 14,
   "id": "cc0923db",
   "metadata": {
    "id": "c5787752-376d-4409-bda6-ed1ab94bbe9b",
    "jupyter": {
     "source_hidden": true
    },
    "outputId": "80a70466-b8d8-4390-8734-77688a25a7de",
    "tags": []
   },
   "outputs": [
    {
     "name": "stdout",
     "output_type": "stream",
     "text": [
      "['Z', 'zsp', 'spCl', 'band_num', 'LOFAR_detect', 'is_str', 'is_SDSS_QSO', 'is_AGN', 'is_SDSS_gal', 'is_gal', 'W1mproPM', 'W2mproPM', 'gmag', 'rmag', 'imag', 'zmag', 'ymag', 'W3mag', 'W4mag', 'Jmag', 'Hmag', 'Kmag', 'g_r', 'g_i', 'g_z', 'g_y', 'g_J', 'g_H', 'g_K', 'g_W1', 'g_W2', 'g_W3', 'g_W4', 'r_i', 'r_z', 'r_y', 'r_J', 'r_H', 'r_K', 'r_W1', 'r_W2', 'r_W3', 'r_W4', 'i_z', 'i_y', 'i_J', 'i_H', 'i_K', 'i_W1', 'i_W2', 'i_W3', 'i_W4', 'z_y', 'z_J', 'z_H', 'z_K', 'z_W1', 'z_W2', 'z_W3', 'z_W4', 'y_J', 'y_H', 'y_K', 'y_W1', 'y_W2', 'y_W3', 'y_W4', 'J_H', 'J_K', 'J_W1', 'J_W2', 'J_W3', 'J_W4', 'H_K', 'H_W1', 'H_W2', 'H_W3', 'H_W4', 'K_W1', 'K_W2', 'K_W3', 'K_W4', 'W1_W2', 'W1_W3', 'W1_W4', 'W2_W3', 'W2_W4', 'W3_W4']\n"
     ]
    }
   ],
   "source": [
    "print(full_catalog_df.columns.to_list())"
   ]
  },
  {
   "cell_type": "markdown",
   "id": "b73db81f",
   "metadata": {
    "id": "27645d12-9370-40d8-aeba-24d4415bb9eb"
   },
   "source": [
    "---"
   ]
  },
  {
   "cell_type": "markdown",
   "id": "119847f6",
   "metadata": {},
   "source": [
    "## Split data: Test, Train, Validation"
   ]
  },
  {
   "cell_type": "markdown",
   "id": "d176141a",
   "metadata": {},
   "source": [
    "Create same train/test/validation sub-sets as with AGN/galaxy model.  \n",
    "After this, select sources needed for this model (`is_gal == 1` and `radio_detect == 1`)."
   ]
  },
  {
   "cell_type": "code",
   "execution_count": 15,
   "id": "2a8b53f0",
   "metadata": {
    "jupyter": {
     "source_hidden": true
    }
   },
   "outputs": [
    {
     "name": "stdout",
     "output_type": "stream",
     "text": [
      "Shape of used data in HETDEX\n",
      "-----------------------------------------------------------------\n",
      "Full confirmed dataset size:                      (118734, 88)\n",
      "Data for Modeling (Train, Test, and Calibration): (94987, 88)\n",
      "Training data:                                    (75989, 88)\n",
      "Testing data:                                     (9499, 88)\n",
      "Calibration data:                                 (9499, 88)\n",
      "Validation data:                                  (23747, 88)\n",
      "-----------------------------------------------------------------\n",
      "\n"
     ]
    }
   ],
   "source": [
    "filter_known_spec  = (full_catalog_df.loc[:, 'is_AGN'] == 1) | (full_catalog_df.loc[:, 'is_gal'] == 1)\n",
    "filter_known_radio = full_catalog_df.loc[:, 'LOFAR_detect'] == 1\n",
    "full_catalog_df    = full_catalog_df.loc[filter_known_spec]\n",
    "if not read_idx_flag:\n",
    "    train_test_df, train_df, test_df, calibration_df, validation_df = gf.split_set(full_catalog_df, [0.2, 0.2, 0.5],\\\n",
    "                                                                                   'is_AGN', use_calibration=use_calibration)\n",
    "\n",
    "if read_idx_flag:\n",
    "    known_idx            = np.loadtxt(gv.indices_path + 'indices_known.txt')\n",
    "    train_idx            = np.loadtxt(gv.indices_path + 'indices_train.txt')\n",
    "    train_validation_idx = np.loadtxt(gv.indices_path + 'indices_train_validation.txt')  # in the future, fix naming\n",
    "    validation_idx       = np.loadtxt(gv.indices_path + 'indices_validation.txt')  # in the future, fix naming\n",
    "    calibration_idx      = np.loadtxt(gv.indices_path + 'indices_calibration.txt')\n",
    "    test_idx             = np.loadtxt(gv.indices_path + 'indices_test.txt')\n",
    "    \n",
    "    train_test_df  = full_catalog_df.loc[train_validation_idx]\n",
    "    train_df       = full_catalog_df.loc[train_idx]\n",
    "    test_df        = full_catalog_df.loc[validation_idx]\n",
    "    calibration_df = full_catalog_df.loc[calibration_idx]\n",
    "    validation_df  = full_catalog_df.loc[test_idx]\n",
    "    \n",
    "print('Shape of used data in HETDEX')\n",
    "print('-' * 65)\n",
    "print(f'Full confirmed dataset size:                      {full_catalog_df.shape}')\n",
    "print(f'Data for Modeling (Train, Test, and Calibration): {train_test_df.shape}')\n",
    "print(f'Training data:                                    {train_df.shape}')\n",
    "print(f'Testing data:                                     {test_df.shape}')\n",
    "if use_calibration:\n",
    "    print(f'Calibration data:                                 {calibration_df.shape}')\n",
    "print(f'Validation data:                                  {validation_df.shape}')\n",
    "print('-' * 65)\n",
    "print()"
   ]
  },
  {
   "cell_type": "code",
   "execution_count": 16,
   "id": "2e6d8bae",
   "metadata": {
    "jupyter": {
     "source_hidden": true
    }
   },
   "outputs": [],
   "source": [
    "full_catalog_df = full_catalog_df.loc[(full_catalog_df.loc[:, 'is_gal'] == 1) & (full_catalog_df.loc[:, 'LOFAR_detect'] == 1)]\n",
    "train_test_df   = train_test_df.loc[(train_test_df.loc[:, 'is_gal'] == 1) & (train_test_df.loc[:, 'LOFAR_detect'] == 1)]\n",
    "train_df        = train_df.loc[(train_df.loc[:, 'is_gal'] == 1) & (train_df.loc[:, 'LOFAR_detect'] == 1)]\n",
    "test_df         = test_df.loc[(test_df.loc[:, 'is_gal'] == 1) & (test_df.loc[:, 'LOFAR_detect'] == 1)]\n",
    "calibration_df  = calibration_df.loc[(calibration_df.loc[:, 'is_gal'] == 1) & (calibration_df.loc[:, 'LOFAR_detect'] == 1)]\n",
    "validation_df   = validation_df.loc[(validation_df.loc[:, 'is_gal'] == 1) & (validation_df.loc[:, 'LOFAR_detect'] == 1)]"
   ]
  },
  {
   "cell_type": "code",
   "execution_count": 17,
   "id": "0470fac5",
   "metadata": {
    "jupyter": {
     "source_hidden": true
    },
    "tags": []
   },
   "outputs": [
    {
     "name": "stdout",
     "output_type": "stream",
     "text": [
      "In this dataset (HETDEX), with 9,853 elements,\n",
      "9,853 of them are marked as galaxies, and, from them, 9,853 have confirmed LOFAR radio detection.\n"
     ]
    }
   ],
   "source": [
    "n_is_gal = np.sum(full_catalog_df.loc[:, 'is_gal'] == 1)\n",
    "n_is_rad = np.sum(full_catalog_df.loc[:, 'LOFAR_detect'] == 1)\n",
    "print(f'In this dataset (HETDEX), with {len(full_catalog_df.loc[:, \"is_gal\"]):,} elements,\\n' +\\\n",
    "         f'{n_is_gal:,} of them are marked as galaxies, and, from them, {n_is_rad:,} have confirmed LOFAR radio detection.')"
   ]
  },
  {
   "cell_type": "markdown",
   "id": "8bc574c6",
   "metadata": {},
   "source": [
    "Remove intermediate targets"
   ]
  },
  {
   "cell_type": "code",
   "execution_count": 18,
   "id": "213b7867",
   "metadata": {
    "jupyter": {
     "source_hidden": true
    }
   },
   "outputs": [],
   "source": [
    "cols_discard_class = ['is_AGN', 'is_SDSS_QSO', 'is_SDSS_gal', 'is_gal', 'is_str', 'spCl', 'LOFAR_detect', 'zsp']\n",
    "full_catalog_df    = full_catalog_df.drop(columns=cols_discard_class)\n",
    "train_test_df      = train_test_df.drop(columns=cols_discard_class)\n",
    "train_df           = train_df.drop(columns=cols_discard_class)\n",
    "test_df            = test_df.drop(columns=cols_discard_class)\n",
    "calibration_df     = calibration_df.drop(columns=cols_discard_class)\n",
    "validation_df      = validation_df.drop(columns=cols_discard_class)"
   ]
  },
  {
   "cell_type": "markdown",
   "id": "f3f7231d",
   "metadata": {
    "id": "6619390c-a04f-4bd0-9f97-9ca54bc9c764"
   },
   "source": [
    "---"
   ]
  },
  {
   "cell_type": "code",
   "execution_count": 19,
   "id": "ba184009",
   "metadata": {
    "jupyter": {
     "source_hidden": true
    },
    "tags": []
   },
   "outputs": [
    {
     "name": "stdout",
     "output_type": "stream",
     "text": [
      "Final shape of used data\n",
      "--------------------------------------------------\n",
      "Confirmed Radio AGN\n",
      "--------------------------------------------------\n",
      "Full confirmed dataset size:        (9853, 80)\n",
      "Data for Modeling (Train and Test): (7849, 80)\n",
      "Training data:                      (6290, 80)\n",
      "Testing data:                       (784, 80)\n",
      "Calibration data:                   (775, 80)\n",
      "Validation data:                    (2004, 80)\n",
      "--------------------------------------------------\n"
     ]
    }
   ],
   "source": [
    "print('Final shape of used data')\n",
    "print('-' * 50)\n",
    "print('Confirmed Radio AGN')\n",
    "print('-' * 50)\n",
    "print(f'Full confirmed dataset size:        {full_catalog_df.shape}')\n",
    "print(f'Data for Modeling (Train and Test): {train_test_df.shape}')\n",
    "print(f'Training data:                      {train_df.shape}')\n",
    "print(f'Testing data:                       {test_df.shape}')\n",
    "print(f'Calibration data:                   {calibration_df.shape}')\n",
    "print(f'Validation data:                    {validation_df.shape}')\n",
    "print('-' * 50)"
   ]
  },
  {
   "cell_type": "code",
   "execution_count": 47,
   "id": "1ff16a6b",
   "metadata": {
    "jupyter": {
     "source_hidden": true
    },
    "tags": []
   },
   "outputs": [
    {
     "data": {
      "image/png": "[encoded data removed]",
      "text/plain": [
       "<Figure size 700x450 with 1 Axes>"
      ]
     },
     "metadata": {},
     "output_type": "display_data"
    }
   ],
   "source": [
    "fig             = plt.figure(figsize=(7,4.5))\n",
    "ax1             = fig.add_subplot(111, xscale='linear', yscale='log')\n",
    "\n",
    "min_score  = np.nanmin(full_catalog_df.loc[:, target_feat])\n",
    "max_score  = np.nanmax(full_catalog_df.loc[:, target_feat])\n",
    "score_bins = np.linspace(min_score, max_score, 30)\n",
    "\n",
    "ax1.hist(train_test_df.loc[:, target_feat], bins=score_bins, histtype='stepfilled', ec='k',\\\n",
    "         lw=3.5, color=cm.get_cmap('cet_gray')(0.8), alpha=1.0, label='Train+Test')\n",
    "ax1.hist(validation_df.loc[:, target_feat], bins=score_bins, histtype='stepfilled', ec='k',\\\n",
    "         lw=3.5, color=cm.get_cmap('cet_gray')(0.95), alpha=1.0, label='Validation')\n",
    "\n",
    "# ax1.axvline(x=3.7, ls='--', c='k', lw=2.5)\n",
    "    \n",
    "ax1.tick_params(which='both', top=True, right=True, direction='in')\n",
    "ax1.tick_params(axis='both', which='major', labelsize=14)\n",
    "ax1.tick_params(which='major', length=8, width=1.5)\n",
    "ax1.tick_params(which='minor', length=4, width=1.5)\n",
    "ax1.set_xlabel('Redshift', size=20)\n",
    "ax1.set_ylabel('Frequency', size=20)\n",
    "plt.setp(ax1.spines.values(), linewidth=3.5)\n",
    "plt.setp(ax1.spines.values(), linewidth=3.5)\n",
    "plt.legend(loc=1, fontsize=14)\n",
    "plt.grid(False)\n",
    "# ax1.set_xlim(left=min_score - 1e-2, right=max_score + 1e-2)\n",
    "#ax1.set_aspect('equal', 'box')\n",
    "fig.tight_layout()"
   ]
  },
  {
   "cell_type": "markdown",
   "id": "ff7fb3b7",
   "metadata": {},
   "source": [
    "Save indices of sources in validation sub-set for future steps."
   ]
  },
  {
   "cell_type": "code",
   "execution_count": 21,
   "id": "dfb837df",
   "metadata": {},
   "outputs": [],
   "source": [
    "# val_idx = validation_df.index.to_numpy()\n",
    "# np.savetxt(fname='idx_validation_radio_01.txt', X=val_idx, header='Indices from first radio detection training.', fmt='%i')"
   ]
  },
  {
   "cell_type": "markdown",
   "id": "372024bc",
   "metadata": {},
   "source": [
    "---"
   ]
  },
  {
   "cell_type": "markdown",
   "id": "2b768506",
   "metadata": {},
   "source": [
    "## Use Correlation matrix to discard some features"
   ]
  },
  {
   "cell_type": "code",
   "execution_count": 22,
   "id": "94f3467b",
   "metadata": {
    "jupyter": {
     "source_hidden": true
    },
    "tags": []
   },
   "outputs": [],
   "source": [
    "min_max_scaler              = MinMaxScaler(feature_range=(0., 1.))\n",
    "full_scaled                 = min_max_scaler.fit_transform(train_test_df.values)\n",
    "norm_train_test_df = pd.DataFrame(data=full_scaled, columns=train_test_df.columns, index=train_test_df.index)"
   ]
  },
  {
   "cell_type": "markdown",
   "id": "97a9b932",
   "metadata": {},
   "source": [
    "Calculate Reduced Standard deviation to discard between pairs of features:  \n",
    "\n",
    "$$\\mathrm{RSD} = \\frac{\\sigma}{\\mu} \\times 100$$"
   ]
  },
  {
   "cell_type": "code",
   "execution_count": 23,
   "id": "c1985e84",
   "metadata": {},
   "outputs": [],
   "source": [
    "rsd_vals = (train_test_df.std() / train_test_df.mean() * 100).sort_values(ascending=False)"
   ]
  },
  {
   "cell_type": "code",
   "execution_count": 24,
   "id": "5c6212b2",
   "metadata": {},
   "outputs": [
    {
     "data": {
      "text/plain": [
       "K_W3        320.334206\n",
       "i_z         139.874101\n",
       "z_y         135.867079\n",
       "i_y          80.959232\n",
       "H_W3         80.422819\n",
       "r_i          75.304824\n",
       "g_r          71.129928\n",
       "y_W2         67.005474\n",
       "Z            64.459007\n",
       "J_W3         61.391051\n",
       "r_z          60.323946\n",
       "z_W2         53.565224\n",
       "J_H          52.470582\n",
       "W1_W3        50.981808\n",
       "r_y          50.198709\n",
       "g_i          49.156848\n",
       "H_K          49.135309\n",
       "y_J          49.125352\n",
       "i_W2         47.386239\n",
       "g_z          46.208710\n",
       "y_W1         43.940728\n",
       "z_J          43.777150\n",
       "y_H          43.229642\n",
       "i_J          42.512950\n",
       "g_y          42.191108\n",
       "r_W2         42.183987\n",
       "r_J          40.977404\n",
       "y_K          39.985964\n",
       "z_H          39.146804\n",
       "z_W1         38.769600\n",
       "i_H          38.545696\n",
       "r_H          37.958997\n",
       "z_K          36.990345\n",
       "i_W1         36.843135\n",
       "i_K          36.798653\n",
       "W2_W3        36.771174\n",
       "r_K          36.578835\n",
       "g_J          36.426560\n",
       "r_W1         36.033116\n",
       "g_W2         35.264546\n",
       "g_H          34.320476\n",
       "y_W3         34.092675\n",
       "g_K          33.796415\n",
       "g_W1         32.257170\n",
       "J_K          32.193605\n",
       "z_W3         31.631435\n",
       "i_W3         31.082735\n",
       "r_W3         31.010054\n",
       "W3_W4        30.598026\n",
       "g_W3         27.971699\n",
       "W1_W4        26.711822\n",
       "r_W4         25.521476\n",
       "g_W4         24.969435\n",
       "y_W4         24.479458\n",
       "i_W4         24.321332\n",
       "W2_W4        23.858539\n",
       "z_W4         23.649457\n",
       "band_num     23.230521\n",
       "H_W4         18.263130\n",
       "J_W4         16.333589\n",
       "K_W4         16.118719\n",
       "gmag          8.277959\n",
       "rmag          7.599028\n",
       "imag          6.654141\n",
       "zmag          6.181488\n",
       "ymag          6.109592\n",
       "W2mproPM      5.186668\n",
       "W1mproPM      5.136733\n",
       "W3mag         4.235654\n",
       "Hmag          2.953798\n",
       "Jmag          2.839657\n",
       "W4mag         1.887798\n",
       "Kmag          1.875077\n",
       "W1_W2       -38.431598\n",
       "K_W2        -47.123526\n",
       "H_W2        -55.029491\n",
       "K_W1        -63.173591\n",
       "J_W2        -70.594805\n",
       "H_W1        -89.846429\n",
       "J_W1       -143.840692\n",
       "dtype: float64"
      ]
     },
     "execution_count": 24,
     "metadata": {},
     "output_type": "execute_result"
    }
   ],
   "source": [
    "rsd_vals"
   ]
  },
  {
   "cell_type": "code",
   "execution_count": 25,
   "id": "a909f6a7",
   "metadata": {},
   "outputs": [],
   "source": [
    "correlation = norm_train_test_df.corr()"
   ]
  },
  {
   "cell_type": "code",
   "execution_count": 26,
   "id": "951a5cb6",
   "metadata": {
    "jupyter": {
     "source_hidden": true
    },
    "tags": []
   },
   "outputs": [],
   "source": [
    "filt_high_corr = np.array(correlation.abs().unstack().sort_values(ascending=False).drop_duplicates().values > 0.75) &\\\n",
    "np.array(correlation.abs().unstack().sort_values(ascending=False).drop_duplicates().values < 1.00)"
   ]
  },
  {
   "cell_type": "code",
   "execution_count": 27,
   "id": "cd17cae0",
   "metadata": {
    "jupyter": {
     "source_hidden": true
    },
    "tags": []
   },
   "outputs": [],
   "source": [
    "corr_pairs     = correlation.abs().unstack().sort_values(ascending=False).drop_duplicates().index[filt_high_corr]"
   ]
  },
  {
   "cell_type": "code",
   "execution_count": 28,
   "id": "66d1f030",
   "metadata": {
    "jupyter": {
     "source_hidden": true
    },
    "tags": []
   },
   "outputs": [],
   "source": [
    "list_drop_corr = []"
   ]
  },
  {
   "cell_type": "markdown",
   "id": "e47056ff",
   "metadata": {},
   "source": [
    "We want to discard features that are highly correlated (>0.75).  \n",
    "Between two features, we will discard the one with the lowest standard deviation (RSD)."
   ]
  },
  {
   "cell_type": "code",
   "execution_count": 29,
   "id": "8acc15ee",
   "metadata": {
    "jupyter": {
     "source_hidden": true
    },
    "tags": []
   },
   "outputs": [],
   "source": [
    "for row in corr_pairs:\n",
    "    if target_feat in row:\n",
    "        continue\n",
    "    elif row[0] in list_drop_corr:\n",
    "        continue\n",
    "    elif row[1] in list_drop_corr:\n",
    "        continue\n",
    "    else:\n",
    "        metric_a = rsd_vals[row[0]]\n",
    "        metric_b = rsd_vals[row[1]]\n",
    "        if metric_a >= metric_b:\n",
    "            list_drop_corr.append(row[1])\n",
    "        else:\n",
    "            list_drop_corr.append(row[0])"
   ]
  },
  {
   "cell_type": "code",
   "execution_count": 30,
   "id": "2be3dcf0",
   "metadata": {},
   "outputs": [
    {
     "data": {
      "text/plain": [
       "['g_H',\n",
       " 'r_H',\n",
       " 'i_H',\n",
       " 'g_K',\n",
       " 'z_H',\n",
       " 'y_H',\n",
       " 'r_K',\n",
       " 'gmag',\n",
       " 'g_W1',\n",
       " 'rmag',\n",
       " 'i_K',\n",
       " 'J_W2',\n",
       " 'r_W1',\n",
       " 'W1mproPM',\n",
       " 'z_K',\n",
       " 'J_W3',\n",
       " 'J_W1',\n",
       " 'imag',\n",
       " 'y_K',\n",
       " 'W2_W4',\n",
       " 'zmag',\n",
       " 'ymag',\n",
       " 'Jmag',\n",
       " 'K_W1',\n",
       " 'g_W4',\n",
       " 'i_W1',\n",
       " 'J_W4',\n",
       " 'W2_W3',\n",
       " 'r_W4',\n",
       " 'z_W1',\n",
       " 'H_W2',\n",
       " 'K_W2',\n",
       " 'y_W1',\n",
       " 'i_W4',\n",
       " 'z_W4',\n",
       " 'W3mag',\n",
       " 'W2mproPM',\n",
       " 'y_W4',\n",
       " 'g_W3',\n",
       " 'g_W2',\n",
       " 'r_J',\n",
       " 'Kmag',\n",
       " 'r_W3',\n",
       " 'H_W3',\n",
       " 'z_W3',\n",
       " 'g_y',\n",
       " 'i_J',\n",
       " 'z_J',\n",
       " 'J_K',\n",
       " 'i_W3',\n",
       " 'g_z',\n",
       " 'Hmag',\n",
       " 'W3_W4',\n",
       " 'H_W1',\n",
       " 'K_W4',\n",
       " 'r_W2',\n",
       " 'i_W2',\n",
       " 'z_W2',\n",
       " 'y_W3',\n",
       " 'r_y',\n",
       " 'g_J',\n",
       " 'band_num',\n",
       " 'g_i',\n",
       " 'H_W4',\n",
       " 'W1_W4']"
      ]
     },
     "execution_count": 30,
     "metadata": {},
     "output_type": "execute_result"
    }
   ],
   "source": [
    "list_drop_corr"
   ]
  },
  {
   "cell_type": "code",
   "execution_count": 31,
   "id": "b935ddf3",
   "metadata": {},
   "outputs": [],
   "source": [
    "# correlation.abs().unstack().sort_values(ascending=False).drop_duplicates()[:15]"
   ]
  },
  {
   "cell_type": "code",
   "execution_count": 32,
   "id": "517b4a8d",
   "metadata": {},
   "outputs": [],
   "source": [
    "norm_train_test_discard = norm_train_test_df.drop(columns=list_drop_corr)"
   ]
  },
  {
   "cell_type": "code",
   "execution_count": 33,
   "id": "653f0222",
   "metadata": {},
   "outputs": [],
   "source": [
    "corr_discard = norm_train_test_discard.corr()"
   ]
  },
  {
   "cell_type": "code",
   "execution_count": 34,
   "id": "a86da1a7",
   "metadata": {},
   "outputs": [
    {
     "data": {
      "text/plain": [
       "Z      Z        1.000000\n",
       "y_J    Z        0.755637\n",
       "r_i    r_z      0.718559\n",
       "y_W2   y_J      0.710570\n",
       "i_z    i_y      0.626415\n",
       "Z      H_K      0.612831\n",
       "r_z    Z        0.583041\n",
       "W4mag  K_W3     0.566784\n",
       "i_y    z_y      0.544642\n",
       "r_z    i_z      0.531743\n",
       "y_J    H_K      0.497581\n",
       "Z      K_W3     0.474152\n",
       "r_z    y_J      0.472564\n",
       "Z      r_i      0.439648\n",
       "H_K    W1_W3    0.429388\n",
       "dtype: float64"
      ]
     },
     "execution_count": 34,
     "metadata": {},
     "output_type": "execute_result"
    }
   ],
   "source": [
    "corr_discard.abs().unstack().sort_values(ascending=False).drop_duplicates()[:15]"
   ]
  },
  {
   "cell_type": "code",
   "execution_count": 35,
   "id": "50ac1c9c",
   "metadata": {
    "jupyter": {
     "source_hidden": true
    },
    "tags": []
   },
   "outputs": [
    {
     "data": {
      "text/plain": [
       "Text(1052.0930609538775, 0.5, 'feature')"
      ]
     },
     "execution_count": 35,
     "metadata": {},
     "output_type": "execute_result"
    },
    {
     "data": {
      "image/png": "[encoded data removed]",
      "text/plain": [
       "<Figure size 3000x1500 with 2 Axes>"
      ]
     },
     "metadata": {},
     "output_type": "display_data"
    }
   ],
   "source": [
    "plt.figure(figsize=(30,15))\n",
    "sns.set_context('paper', rc={'axes.labelsize':20, 'axes.ticklabelsize':14})\n",
    "ax1 = sns.heatmap(corr_discard, annot=True, cmap=plt.get_cmap('cet_CET_D1A'), center=0.0, square=True)\n",
    "ax1.set_xlabel('feature')\n",
    "ax1.set_ylabel('feature')"
   ]
  },
  {
   "cell_type": "code",
   "execution_count": 36,
   "id": "841a8d8b",
   "metadata": {},
   "outputs": [],
   "source": [
    "# norm_train_test_discard.loc[:, target_feat] = norm_train_test_discard.loc[:, target_feat].astype(bool)"
   ]
  },
  {
   "cell_type": "code",
   "execution_count": 37,
   "id": "b46e05dc",
   "metadata": {},
   "outputs": [],
   "source": [
    "pps_matrix = pps.matrix(norm_train_test_discard, random_seed=gv.seed)[['x', 'y', 'ppscore']].pivot(columns='x', index='y', values='ppscore')"
   ]
  },
  {
   "cell_type": "code",
   "execution_count": 38,
   "id": "100e0906",
   "metadata": {},
   "outputs": [
    {
     "data": {
      "text/plain": [
       "x      y    \n",
       "H_K    H_K      1.000000\n",
       "J_H    H_K      0.415777\n",
       "y_J    Z        0.402650\n",
       "K_W3   Z        0.389769\n",
       "H_K    Z        0.387609\n",
       "J_H    Z        0.383487\n",
       "r_z    r_i      0.303165\n",
       "Z      y_J      0.302568\n",
       "J_H    y_J      0.294858\n",
       "H_K    y_J      0.278275\n",
       "r_i    r_z      0.272310\n",
       "r_z    Z        0.270374\n",
       "K_W3   y_J      0.235284\n",
       "r_i    Z        0.200583\n",
       "K_W3   H_K      0.155345\n",
       "r_z    y_J      0.143810\n",
       "K_W3   W1_W3    0.126322\n",
       "Z      H_K      0.123997\n",
       "W1_W2  Z        0.121282\n",
       "W4mag  Z        0.112752\n",
       "dtype: float64"
      ]
     },
     "execution_count": 38,
     "metadata": {},
     "output_type": "execute_result"
    }
   ],
   "source": [
    "pps_matrix.unstack().sort_values(ascending=False).drop_duplicates()[:20]"
   ]
  },
  {
   "cell_type": "code",
   "execution_count": 39,
   "id": "2b0ea004",
   "metadata": {
    "jupyter": {
     "source_hidden": true
    },
    "tags": []
   },
   "outputs": [],
   "source": [
    "filt_high_pps = np.array(pps_matrix.abs().unstack().sort_values(ascending=False).drop_duplicates().values > 0.75) &\\\n",
    "np.array(pps_matrix.abs().unstack().sort_values(ascending=False).drop_duplicates().values < 1.00)"
   ]
  },
  {
   "cell_type": "code",
   "execution_count": 40,
   "id": "9e57bd8b",
   "metadata": {},
   "outputs": [],
   "source": [
    "pps_pairs     = pps_matrix.abs().unstack().sort_values(ascending=False).drop_duplicates().index[filt_high_pps]"
   ]
  },
  {
   "cell_type": "code",
   "execution_count": 41,
   "id": "f5308381",
   "metadata": {
    "tags": []
   },
   "outputs": [],
   "source": [
    "list_drop_pps = []"
   ]
  },
  {
   "cell_type": "code",
   "execution_count": 42,
   "id": "0ce37dfa",
   "metadata": {
    "jupyter": {
     "source_hidden": true
    },
    "tags": []
   },
   "outputs": [],
   "source": [
    "for row in pps_pairs:\n",
    "    if target_feat in row:\n",
    "        continue\n",
    "    elif row[0] in list_drop_pps:\n",
    "        continue\n",
    "    elif row[1] in list_drop_pps:\n",
    "        continue\n",
    "    else:\n",
    "        metric_a = rsd_vals[row[0]]\n",
    "        metric_b = rsd_vals[row[1]]\n",
    "        if metric_a >= metric_b:\n",
    "            list_drop_pps.append(row[1])\n",
    "        else:\n",
    "            list_drop_pps.append(row[0])"
   ]
  },
  {
   "cell_type": "code",
   "execution_count": 43,
   "id": "3d5b379f",
   "metadata": {},
   "outputs": [
    {
     "data": {
      "text/plain": [
       "[]"
      ]
     },
     "execution_count": 43,
     "metadata": {},
     "output_type": "execute_result"
    }
   ],
   "source": [
    "list_drop_pps"
   ]
  },
  {
   "cell_type": "code",
   "execution_count": 44,
   "id": "81b1785e",
   "metadata": {},
   "outputs": [],
   "source": [
    "norm_train_test_discard = norm_train_test_discard.drop(columns=list_drop_pps)"
   ]
  },
  {
   "cell_type": "code",
   "execution_count": 45,
   "id": "d6681fa6",
   "metadata": {},
   "outputs": [],
   "source": [
    "pps_pred_target = pps.predictors(norm_train_test_discard, target_feat, random_seed=gv.seed)"
   ]
  },
  {
   "cell_type": "code",
   "execution_count": 46,
   "id": "799c0122",
   "metadata": {},
   "outputs": [
    {
     "data": {
      "text/html": [
       "<div>\n",
       "<style scoped>\n",
       "    .dataframe tbody tr th:only-of-type {\n",
       "        vertical-align: middle;\n",
       "    }\n",
       "\n",
       "    .dataframe tbody tr th {\n",
       "        vertical-align: top;\n",
       "    }\n",
       "\n",
       "    .dataframe thead th {\n",
       "        text-align: right;\n",
       "    }\n",
       "</style>\n",
       "<table border=\"1\" class=\"dataframe\">\n",
       "  <thead>\n",
       "    <tr style=\"text-align: right;\">\n",
       "      <th></th>\n",
       "      <th>x</th>\n",
       "      <th>y</th>\n",
       "      <th>ppscore</th>\n",
       "      <th>case</th>\n",
       "      <th>is_valid_score</th>\n",
       "      <th>metric</th>\n",
       "      <th>baseline_score</th>\n",
       "      <th>model_score</th>\n",
       "      <th>model</th>\n",
       "    </tr>\n",
       "  </thead>\n",
       "  <tbody>\n",
       "    <tr>\n",
       "      <th>0</th>\n",
       "      <td>y_J</td>\n",
       "      <td>Z</td>\n",
       "      <td>0.402650</td>\n",
       "      <td>regression</td>\n",
       "      <td>True</td>\n",
       "      <td>mean absolute error</td>\n",
       "      <td>0.101762</td>\n",
       "      <td>0.060788</td>\n",
       "      <td>DecisionTreeRegressor()</td>\n",
       "    </tr>\n",
       "    <tr>\n",
       "      <th>1</th>\n",
       "      <td>K_W3</td>\n",
       "      <td>Z</td>\n",
       "      <td>0.389769</td>\n",
       "      <td>regression</td>\n",
       "      <td>True</td>\n",
       "      <td>mean absolute error</td>\n",
       "      <td>0.101762</td>\n",
       "      <td>0.062099</td>\n",
       "      <td>DecisionTreeRegressor()</td>\n",
       "    </tr>\n",
       "    <tr>\n",
       "      <th>2</th>\n",
       "      <td>H_K</td>\n",
       "      <td>Z</td>\n",
       "      <td>0.387609</td>\n",
       "      <td>regression</td>\n",
       "      <td>True</td>\n",
       "      <td>mean absolute error</td>\n",
       "      <td>0.101762</td>\n",
       "      <td>0.062318</td>\n",
       "      <td>DecisionTreeRegressor()</td>\n",
       "    </tr>\n",
       "    <tr>\n",
       "      <th>3</th>\n",
       "      <td>J_H</td>\n",
       "      <td>Z</td>\n",
       "      <td>0.383487</td>\n",
       "      <td>regression</td>\n",
       "      <td>True</td>\n",
       "      <td>mean absolute error</td>\n",
       "      <td>0.101762</td>\n",
       "      <td>0.062738</td>\n",
       "      <td>DecisionTreeRegressor()</td>\n",
       "    </tr>\n",
       "    <tr>\n",
       "      <th>4</th>\n",
       "      <td>r_z</td>\n",
       "      <td>Z</td>\n",
       "      <td>0.270374</td>\n",
       "      <td>regression</td>\n",
       "      <td>True</td>\n",
       "      <td>mean absolute error</td>\n",
       "      <td>0.101762</td>\n",
       "      <td>0.074249</td>\n",
       "      <td>DecisionTreeRegressor()</td>\n",
       "    </tr>\n",
       "    <tr>\n",
       "      <th>5</th>\n",
       "      <td>r_i</td>\n",
       "      <td>Z</td>\n",
       "      <td>0.200583</td>\n",
       "      <td>regression</td>\n",
       "      <td>True</td>\n",
       "      <td>mean absolute error</td>\n",
       "      <td>0.101762</td>\n",
       "      <td>0.081351</td>\n",
       "      <td>DecisionTreeRegressor()</td>\n",
       "    </tr>\n",
       "    <tr>\n",
       "      <th>6</th>\n",
       "      <td>W1_W2</td>\n",
       "      <td>Z</td>\n",
       "      <td>0.121282</td>\n",
       "      <td>regression</td>\n",
       "      <td>True</td>\n",
       "      <td>mean absolute error</td>\n",
       "      <td>0.101762</td>\n",
       "      <td>0.089420</td>\n",
       "      <td>DecisionTreeRegressor()</td>\n",
       "    </tr>\n",
       "    <tr>\n",
       "      <th>7</th>\n",
       "      <td>W4mag</td>\n",
       "      <td>Z</td>\n",
       "      <td>0.112752</td>\n",
       "      <td>regression</td>\n",
       "      <td>True</td>\n",
       "      <td>mean absolute error</td>\n",
       "      <td>0.101762</td>\n",
       "      <td>0.090289</td>\n",
       "      <td>DecisionTreeRegressor()</td>\n",
       "    </tr>\n",
       "    <tr>\n",
       "      <th>8</th>\n",
       "      <td>g_r</td>\n",
       "      <td>Z</td>\n",
       "      <td>0.095679</td>\n",
       "      <td>regression</td>\n",
       "      <td>True</td>\n",
       "      <td>mean absolute error</td>\n",
       "      <td>0.101762</td>\n",
       "      <td>0.092026</td>\n",
       "      <td>DecisionTreeRegressor()</td>\n",
       "    </tr>\n",
       "    <tr>\n",
       "      <th>9</th>\n",
       "      <td>i_y</td>\n",
       "      <td>Z</td>\n",
       "      <td>0.049873</td>\n",
       "      <td>regression</td>\n",
       "      <td>True</td>\n",
       "      <td>mean absolute error</td>\n",
       "      <td>0.101762</td>\n",
       "      <td>0.096687</td>\n",
       "      <td>DecisionTreeRegressor()</td>\n",
       "    </tr>\n",
       "    <tr>\n",
       "      <th>10</th>\n",
       "      <td>i_z</td>\n",
       "      <td>Z</td>\n",
       "      <td>0.000000</td>\n",
       "      <td>regression</td>\n",
       "      <td>True</td>\n",
       "      <td>mean absolute error</td>\n",
       "      <td>0.101762</td>\n",
       "      <td>0.108076</td>\n",
       "      <td>DecisionTreeRegressor()</td>\n",
       "    </tr>\n",
       "    <tr>\n",
       "      <th>11</th>\n",
       "      <td>z_y</td>\n",
       "      <td>Z</td>\n",
       "      <td>0.000000</td>\n",
       "      <td>regression</td>\n",
       "      <td>True</td>\n",
       "      <td>mean absolute error</td>\n",
       "      <td>0.101762</td>\n",
       "      <td>0.120328</td>\n",
       "      <td>DecisionTreeRegressor()</td>\n",
       "    </tr>\n",
       "    <tr>\n",
       "      <th>12</th>\n",
       "      <td>y_W2</td>\n",
       "      <td>Z</td>\n",
       "      <td>0.000000</td>\n",
       "      <td>regression</td>\n",
       "      <td>True</td>\n",
       "      <td>mean absolute error</td>\n",
       "      <td>0.101762</td>\n",
       "      <td>0.116049</td>\n",
       "      <td>DecisionTreeRegressor()</td>\n",
       "    </tr>\n",
       "    <tr>\n",
       "      <th>13</th>\n",
       "      <td>W1_W3</td>\n",
       "      <td>Z</td>\n",
       "      <td>0.000000</td>\n",
       "      <td>regression</td>\n",
       "      <td>True</td>\n",
       "      <td>mean absolute error</td>\n",
       "      <td>0.101762</td>\n",
       "      <td>0.104019</td>\n",
       "      <td>DecisionTreeRegressor()</td>\n",
       "    </tr>\n",
       "  </tbody>\n",
       "</table>\n",
       "</div>"
      ],
      "text/plain": [
       "        x  y   ppscore        case  is_valid_score               metric  \\\n",
       "0     y_J  Z  0.402650  regression            True  mean absolute error   \n",
       "1    K_W3  Z  0.389769  regression            True  mean absolute error   \n",
       "2     H_K  Z  0.387609  regression            True  mean absolute error   \n",
       "3     J_H  Z  0.383487  regression            True  mean absolute error   \n",
       "4     r_z  Z  0.270374  regression            True  mean absolute error   \n",
       "5     r_i  Z  0.200583  regression            True  mean absolute error   \n",
       "6   W1_W2  Z  0.121282  regression            True  mean absolute error   \n",
       "7   W4mag  Z  0.112752  regression            True  mean absolute error   \n",
       "8     g_r  Z  0.095679  regression            True  mean absolute error   \n",
       "9     i_y  Z  0.049873  regression            True  mean absolute error   \n",
       "10    i_z  Z  0.000000  regression            True  mean absolute error   \n",
       "11    z_y  Z  0.000000  regression            True  mean absolute error   \n",
       "12   y_W2  Z  0.000000  regression            True  mean absolute error   \n",
       "13  W1_W3  Z  0.000000  regression            True  mean absolute error   \n",
       "\n",
       "    baseline_score  model_score                    model  \n",
       "0         0.101762     0.060788  DecisionTreeRegressor()  \n",
       "1         0.101762     0.062099  DecisionTreeRegressor()  \n",
       "2         0.101762     0.062318  DecisionTreeRegressor()  \n",
       "3         0.101762     0.062738  DecisionTreeRegressor()  \n",
       "4         0.101762     0.074249  DecisionTreeRegressor()  \n",
       "5         0.101762     0.081351  DecisionTreeRegressor()  \n",
       "6         0.101762     0.089420  DecisionTreeRegressor()  \n",
       "7         0.101762     0.090289  DecisionTreeRegressor()  \n",
       "8         0.101762     0.092026  DecisionTreeRegressor()  \n",
       "9         0.101762     0.096687  DecisionTreeRegressor()  \n",
       "10        0.101762     0.108076  DecisionTreeRegressor()  \n",
       "11        0.101762     0.120328  DecisionTreeRegressor()  \n",
       "12        0.101762     0.116049  DecisionTreeRegressor()  \n",
       "13        0.101762     0.104019  DecisionTreeRegressor()  "
      ]
     },
     "execution_count": 46,
     "metadata": {},
     "output_type": "execute_result"
    }
   ],
   "source": [
    "pps_pred_target"
   ]
  },
  {
   "cell_type": "markdown",
   "id": "e39b998d",
   "metadata": {
    "id": "f567638a-2720-4d09-8fc4-0832c0307148"
   },
   "source": [
    "---"
   ]
  },
  {
   "cell_type": "markdown",
   "id": "bc2df80e",
   "metadata": {
    "id": "1b55b413-36ea-4c3a-b261-ae4f4b71045d"
   },
   "source": [
    "## Use Machine Learning (ML): PyCaret"
   ]
  },
  {
   "cell_type": "markdown",
   "id": "174394fc",
   "metadata": {
    "id": "8BFUMLcApfnI"
   },
   "source": [
    "## Train Models"
   ]
  },
  {
   "cell_type": "markdown",
   "id": "c83e0e76",
   "metadata": {
    "id": "L0rK_gTcprFK"
   },
   "source": [
    "### AGN Detection Prediction"
   ]
  },
  {
   "cell_type": "code",
   "execution_count": 48,
   "id": "487bb2df",
   "metadata": {},
   "outputs": [],
   "source": [
    "final_feats = pps_pred_target.x.to_list()  # Before Boruta\n",
    "# final_feats.remove('band_num')       # After Boruta"
   ]
  },
  {
   "cell_type": "code",
   "execution_count": 49,
   "id": "c8e950d1",
   "metadata": {},
   "outputs": [],
   "source": [
    "feats_2_discard = list_drop_corr + list_drop_pps #  + ['band_num']"
   ]
  },
  {
   "cell_type": "markdown",
   "id": "58e05f5f",
   "metadata": {},
   "source": [
    "Boruta discards one feature."
   ]
  },
  {
   "cell_type": "code",
   "execution_count": 50,
   "id": "71524764",
   "metadata": {
    "id": "ttLEcpmVst4j"
   },
   "outputs": [
    {
     "data": {
      "text/html": [
       "<style type=\"text/css\">\n",
       "#T_65ba5_row27_col1, #T_65ba5_row29_col1, #T_65ba5_row42_col1 {\n",
       "  background-color: lightgreen;\n",
       "}\n",
       "</style>\n",
       "<table id=\"T_65ba5\">\n",
       "  <thead>\n",
       "    <tr>\n",
       "      <th class=\"blank level0\" >&nbsp;</th>\n",
       "      <th id=\"T_65ba5_level0_col0\" class=\"col_heading level0 col0\" >Description</th>\n",
       "      <th id=\"T_65ba5_level0_col1\" class=\"col_heading level0 col1\" >Value</th>\n",
       "    </tr>\n",
       "  </thead>\n",
       "  <tbody>\n",
       "    <tr>\n",
       "      <th id=\"T_65ba5_level0_row0\" class=\"row_heading level0 row0\" >0</th>\n",
       "      <td id=\"T_65ba5_row0_col0\" class=\"data row0 col0\" >session_id</td>\n",
       "      <td id=\"T_65ba5_row0_col1\" class=\"data row0 col1\" >42</td>\n",
       "    </tr>\n",
       "    <tr>\n",
       "      <th id=\"T_65ba5_level0_row1\" class=\"row_heading level0 row1\" >1</th>\n",
       "      <td id=\"T_65ba5_row1_col0\" class=\"data row1 col0\" >Target</td>\n",
       "      <td id=\"T_65ba5_row1_col1\" class=\"data row1 col1\" >Z</td>\n",
       "    </tr>\n",
       "    <tr>\n",
       "      <th id=\"T_65ba5_level0_row2\" class=\"row_heading level0 row2\" >2</th>\n",
       "      <td id=\"T_65ba5_row2_col0\" class=\"data row2 col0\" >Original Data</td>\n",
       "      <td id=\"T_65ba5_row2_col1\" class=\"data row2 col1\" >(6290, 80)</td>\n",
       "    </tr>\n",
       "    <tr>\n",
       "      <th id=\"T_65ba5_level0_row3\" class=\"row_heading level0 row3\" >3</th>\n",
       "      <td id=\"T_65ba5_row3_col0\" class=\"data row3 col0\" >Missing Values</td>\n",
       "      <td id=\"T_65ba5_row3_col1\" class=\"data row3 col1\" >False</td>\n",
       "    </tr>\n",
       "    <tr>\n",
       "      <th id=\"T_65ba5_level0_row4\" class=\"row_heading level0 row4\" >4</th>\n",
       "      <td id=\"T_65ba5_row4_col0\" class=\"data row4 col0\" >Numeric Features</td>\n",
       "      <td id=\"T_65ba5_row4_col1\" class=\"data row4 col1\" >14</td>\n",
       "    </tr>\n",
       "    <tr>\n",
       "      <th id=\"T_65ba5_level0_row5\" class=\"row_heading level0 row5\" >5</th>\n",
       "      <td id=\"T_65ba5_row5_col0\" class=\"data row5 col0\" >Categorical Features</td>\n",
       "      <td id=\"T_65ba5_row5_col1\" class=\"data row5 col1\" >0</td>\n",
       "    </tr>\n",
       "    <tr>\n",
       "      <th id=\"T_65ba5_level0_row6\" class=\"row_heading level0 row6\" >6</th>\n",
       "      <td id=\"T_65ba5_row6_col0\" class=\"data row6 col0\" >Ordinal Features</td>\n",
       "      <td id=\"T_65ba5_row6_col1\" class=\"data row6 col1\" >False</td>\n",
       "    </tr>\n",
       "    <tr>\n",
       "      <th id=\"T_65ba5_level0_row7\" class=\"row_heading level0 row7\" >7</th>\n",
       "      <td id=\"T_65ba5_row7_col0\" class=\"data row7 col0\" >High Cardinality Features</td>\n",
       "      <td id=\"T_65ba5_row7_col1\" class=\"data row7 col1\" >False</td>\n",
       "    </tr>\n",
       "    <tr>\n",
       "      <th id=\"T_65ba5_level0_row8\" class=\"row_heading level0 row8\" >8</th>\n",
       "      <td id=\"T_65ba5_row8_col0\" class=\"data row8 col0\" >High Cardinality Method</td>\n",
       "      <td id=\"T_65ba5_row8_col1\" class=\"data row8 col1\" >None</td>\n",
       "    </tr>\n",
       "    <tr>\n",
       "      <th id=\"T_65ba5_level0_row9\" class=\"row_heading level0 row9\" >9</th>\n",
       "      <td id=\"T_65ba5_row9_col0\" class=\"data row9 col0\" >Transformed Train Set</td>\n",
       "      <td id=\"T_65ba5_row9_col1\" class=\"data row9 col1\" >(6290, 14)</td>\n",
       "    </tr>\n",
       "    <tr>\n",
       "      <th id=\"T_65ba5_level0_row10\" class=\"row_heading level0 row10\" >10</th>\n",
       "      <td id=\"T_65ba5_row10_col0\" class=\"data row10 col0\" >Transformed Test Set</td>\n",
       "      <td id=\"T_65ba5_row10_col1\" class=\"data row10 col1\" >(784, 14)</td>\n",
       "    </tr>\n",
       "    <tr>\n",
       "      <th id=\"T_65ba5_level0_row11\" class=\"row_heading level0 row11\" >11</th>\n",
       "      <td id=\"T_65ba5_row11_col0\" class=\"data row11 col0\" >Shuffle Train-Test</td>\n",
       "      <td id=\"T_65ba5_row11_col1\" class=\"data row11 col1\" >True</td>\n",
       "    </tr>\n",
       "    <tr>\n",
       "      <th id=\"T_65ba5_level0_row12\" class=\"row_heading level0 row12\" >12</th>\n",
       "      <td id=\"T_65ba5_row12_col0\" class=\"data row12 col0\" >Stratify Train-Test</td>\n",
       "      <td id=\"T_65ba5_row12_col1\" class=\"data row12 col1\" >False</td>\n",
       "    </tr>\n",
       "    <tr>\n",
       "      <th id=\"T_65ba5_level0_row13\" class=\"row_heading level0 row13\" >13</th>\n",
       "      <td id=\"T_65ba5_row13_col0\" class=\"data row13 col0\" >Fold Generator</td>\n",
       "      <td id=\"T_65ba5_row13_col1\" class=\"data row13 col1\" >KFold</td>\n",
       "    </tr>\n",
       "    <tr>\n",
       "      <th id=\"T_65ba5_level0_row14\" class=\"row_heading level0 row14\" >14</th>\n",
       "      <td id=\"T_65ba5_row14_col0\" class=\"data row14 col0\" >Fold Number</td>\n",
       "      <td id=\"T_65ba5_row14_col1\" class=\"data row14 col1\" >10</td>\n",
       "    </tr>\n",
       "    <tr>\n",
       "      <th id=\"T_65ba5_level0_row15\" class=\"row_heading level0 row15\" >15</th>\n",
       "      <td id=\"T_65ba5_row15_col0\" class=\"data row15 col0\" >CPU Jobs</td>\n",
       "      <td id=\"T_65ba5_row15_col1\" class=\"data row15 col1\" >12</td>\n",
       "    </tr>\n",
       "    <tr>\n",
       "      <th id=\"T_65ba5_level0_row16\" class=\"row_heading level0 row16\" >16</th>\n",
       "      <td id=\"T_65ba5_row16_col0\" class=\"data row16 col0\" >Use GPU</td>\n",
       "      <td id=\"T_65ba5_row16_col1\" class=\"data row16 col1\" >False</td>\n",
       "    </tr>\n",
       "    <tr>\n",
       "      <th id=\"T_65ba5_level0_row17\" class=\"row_heading level0 row17\" >17</th>\n",
       "      <td id=\"T_65ba5_row17_col0\" class=\"data row17 col0\" >Log Experiment</td>\n",
       "      <td id=\"T_65ba5_row17_col1\" class=\"data row17 col1\" >False</td>\n",
       "    </tr>\n",
       "    <tr>\n",
       "      <th id=\"T_65ba5_level0_row18\" class=\"row_heading level0 row18\" >18</th>\n",
       "      <td id=\"T_65ba5_row18_col0\" class=\"data row18 col0\" >Experiment Name</td>\n",
       "      <td id=\"T_65ba5_row18_col1\" class=\"data row18 col1\" >reg-default-name</td>\n",
       "    </tr>\n",
       "    <tr>\n",
       "      <th id=\"T_65ba5_level0_row19\" class=\"row_heading level0 row19\" >19</th>\n",
       "      <td id=\"T_65ba5_row19_col0\" class=\"data row19 col0\" >USI</td>\n",
       "      <td id=\"T_65ba5_row19_col1\" class=\"data row19 col1\" >ce19</td>\n",
       "    </tr>\n",
       "    <tr>\n",
       "      <th id=\"T_65ba5_level0_row20\" class=\"row_heading level0 row20\" >20</th>\n",
       "      <td id=\"T_65ba5_row20_col0\" class=\"data row20 col0\" >Imputation Type</td>\n",
       "      <td id=\"T_65ba5_row20_col1\" class=\"data row20 col1\" >simple</td>\n",
       "    </tr>\n",
       "    <tr>\n",
       "      <th id=\"T_65ba5_level0_row21\" class=\"row_heading level0 row21\" >21</th>\n",
       "      <td id=\"T_65ba5_row21_col0\" class=\"data row21 col0\" >Iterative Imputation Iteration</td>\n",
       "      <td id=\"T_65ba5_row21_col1\" class=\"data row21 col1\" >None</td>\n",
       "    </tr>\n",
       "    <tr>\n",
       "      <th id=\"T_65ba5_level0_row22\" class=\"row_heading level0 row22\" >22</th>\n",
       "      <td id=\"T_65ba5_row22_col0\" class=\"data row22 col0\" >Numeric Imputer</td>\n",
       "      <td id=\"T_65ba5_row22_col1\" class=\"data row22 col1\" >mean</td>\n",
       "    </tr>\n",
       "    <tr>\n",
       "      <th id=\"T_65ba5_level0_row23\" class=\"row_heading level0 row23\" >23</th>\n",
       "      <td id=\"T_65ba5_row23_col0\" class=\"data row23 col0\" >Iterative Imputation Numeric Model</td>\n",
       "      <td id=\"T_65ba5_row23_col1\" class=\"data row23 col1\" >None</td>\n",
       "    </tr>\n",
       "    <tr>\n",
       "      <th id=\"T_65ba5_level0_row24\" class=\"row_heading level0 row24\" >24</th>\n",
       "      <td id=\"T_65ba5_row24_col0\" class=\"data row24 col0\" >Categorical Imputer</td>\n",
       "      <td id=\"T_65ba5_row24_col1\" class=\"data row24 col1\" >constant</td>\n",
       "    </tr>\n",
       "    <tr>\n",
       "      <th id=\"T_65ba5_level0_row25\" class=\"row_heading level0 row25\" >25</th>\n",
       "      <td id=\"T_65ba5_row25_col0\" class=\"data row25 col0\" >Iterative Imputation Categorical Model</td>\n",
       "      <td id=\"T_65ba5_row25_col1\" class=\"data row25 col1\" >None</td>\n",
       "    </tr>\n",
       "    <tr>\n",
       "      <th id=\"T_65ba5_level0_row26\" class=\"row_heading level0 row26\" >26</th>\n",
       "      <td id=\"T_65ba5_row26_col0\" class=\"data row26 col0\" >Unknown Categoricals Handling</td>\n",
       "      <td id=\"T_65ba5_row26_col1\" class=\"data row26 col1\" >least_frequent</td>\n",
       "    </tr>\n",
       "    <tr>\n",
       "      <th id=\"T_65ba5_level0_row27\" class=\"row_heading level0 row27\" >27</th>\n",
       "      <td id=\"T_65ba5_row27_col0\" class=\"data row27 col0\" >Normalize</td>\n",
       "      <td id=\"T_65ba5_row27_col1\" class=\"data row27 col1\" >True</td>\n",
       "    </tr>\n",
       "    <tr>\n",
       "      <th id=\"T_65ba5_level0_row28\" class=\"row_heading level0 row28\" >28</th>\n",
       "      <td id=\"T_65ba5_row28_col0\" class=\"data row28 col0\" >Normalize Method</td>\n",
       "      <td id=\"T_65ba5_row28_col1\" class=\"data row28 col1\" >zscore</td>\n",
       "    </tr>\n",
       "    <tr>\n",
       "      <th id=\"T_65ba5_level0_row29\" class=\"row_heading level0 row29\" >29</th>\n",
       "      <td id=\"T_65ba5_row29_col0\" class=\"data row29 col0\" >Transformation</td>\n",
       "      <td id=\"T_65ba5_row29_col1\" class=\"data row29 col1\" >True</td>\n",
       "    </tr>\n",
       "    <tr>\n",
       "      <th id=\"T_65ba5_level0_row30\" class=\"row_heading level0 row30\" >30</th>\n",
       "      <td id=\"T_65ba5_row30_col0\" class=\"data row30 col0\" >Transformation Method</td>\n",
       "      <td id=\"T_65ba5_row30_col1\" class=\"data row30 col1\" >yeo-johnson</td>\n",
       "    </tr>\n",
       "    <tr>\n",
       "      <th id=\"T_65ba5_level0_row31\" class=\"row_heading level0 row31\" >31</th>\n",
       "      <td id=\"T_65ba5_row31_col0\" class=\"data row31 col0\" >PCA</td>\n",
       "      <td id=\"T_65ba5_row31_col1\" class=\"data row31 col1\" >False</td>\n",
       "    </tr>\n",
       "    <tr>\n",
       "      <th id=\"T_65ba5_level0_row32\" class=\"row_heading level0 row32\" >32</th>\n",
       "      <td id=\"T_65ba5_row32_col0\" class=\"data row32 col0\" >PCA Method</td>\n",
       "      <td id=\"T_65ba5_row32_col1\" class=\"data row32 col1\" >None</td>\n",
       "    </tr>\n",
       "    <tr>\n",
       "      <th id=\"T_65ba5_level0_row33\" class=\"row_heading level0 row33\" >33</th>\n",
       "      <td id=\"T_65ba5_row33_col0\" class=\"data row33 col0\" >PCA Components</td>\n",
       "      <td id=\"T_65ba5_row33_col1\" class=\"data row33 col1\" >None</td>\n",
       "    </tr>\n",
       "    <tr>\n",
       "      <th id=\"T_65ba5_level0_row34\" class=\"row_heading level0 row34\" >34</th>\n",
       "      <td id=\"T_65ba5_row34_col0\" class=\"data row34 col0\" >Ignore Low Variance</td>\n",
       "      <td id=\"T_65ba5_row34_col1\" class=\"data row34 col1\" >False</td>\n",
       "    </tr>\n",
       "    <tr>\n",
       "      <th id=\"T_65ba5_level0_row35\" class=\"row_heading level0 row35\" >35</th>\n",
       "      <td id=\"T_65ba5_row35_col0\" class=\"data row35 col0\" >Combine Rare Levels</td>\n",
       "      <td id=\"T_65ba5_row35_col1\" class=\"data row35 col1\" >False</td>\n",
       "    </tr>\n",
       "    <tr>\n",
       "      <th id=\"T_65ba5_level0_row36\" class=\"row_heading level0 row36\" >36</th>\n",
       "      <td id=\"T_65ba5_row36_col0\" class=\"data row36 col0\" >Rare Level Threshold</td>\n",
       "      <td id=\"T_65ba5_row36_col1\" class=\"data row36 col1\" >None</td>\n",
       "    </tr>\n",
       "    <tr>\n",
       "      <th id=\"T_65ba5_level0_row37\" class=\"row_heading level0 row37\" >37</th>\n",
       "      <td id=\"T_65ba5_row37_col0\" class=\"data row37 col0\" >Numeric Binning</td>\n",
       "      <td id=\"T_65ba5_row37_col1\" class=\"data row37 col1\" >False</td>\n",
       "    </tr>\n",
       "    <tr>\n",
       "      <th id=\"T_65ba5_level0_row38\" class=\"row_heading level0 row38\" >38</th>\n",
       "      <td id=\"T_65ba5_row38_col0\" class=\"data row38 col0\" >Remove Outliers</td>\n",
       "      <td id=\"T_65ba5_row38_col1\" class=\"data row38 col1\" >False</td>\n",
       "    </tr>\n",
       "    <tr>\n",
       "      <th id=\"T_65ba5_level0_row39\" class=\"row_heading level0 row39\" >39</th>\n",
       "      <td id=\"T_65ba5_row39_col0\" class=\"data row39 col0\" >Outliers Threshold</td>\n",
       "      <td id=\"T_65ba5_row39_col1\" class=\"data row39 col1\" >None</td>\n",
       "    </tr>\n",
       "    <tr>\n",
       "      <th id=\"T_65ba5_level0_row40\" class=\"row_heading level0 row40\" >40</th>\n",
       "      <td id=\"T_65ba5_row40_col0\" class=\"data row40 col0\" >Remove Multicollinearity</td>\n",
       "      <td id=\"T_65ba5_row40_col1\" class=\"data row40 col1\" >False</td>\n",
       "    </tr>\n",
       "    <tr>\n",
       "      <th id=\"T_65ba5_level0_row41\" class=\"row_heading level0 row41\" >41</th>\n",
       "      <td id=\"T_65ba5_row41_col0\" class=\"data row41 col0\" >Multicollinearity Threshold</td>\n",
       "      <td id=\"T_65ba5_row41_col1\" class=\"data row41 col1\" >None</td>\n",
       "    </tr>\n",
       "    <tr>\n",
       "      <th id=\"T_65ba5_level0_row42\" class=\"row_heading level0 row42\" >42</th>\n",
       "      <td id=\"T_65ba5_row42_col0\" class=\"data row42 col0\" >Remove Perfect Collinearity</td>\n",
       "      <td id=\"T_65ba5_row42_col1\" class=\"data row42 col1\" >True</td>\n",
       "    </tr>\n",
       "    <tr>\n",
       "      <th id=\"T_65ba5_level0_row43\" class=\"row_heading level0 row43\" >43</th>\n",
       "      <td id=\"T_65ba5_row43_col0\" class=\"data row43 col0\" >Clustering</td>\n",
       "      <td id=\"T_65ba5_row43_col1\" class=\"data row43 col1\" >False</td>\n",
       "    </tr>\n",
       "    <tr>\n",
       "      <th id=\"T_65ba5_level0_row44\" class=\"row_heading level0 row44\" >44</th>\n",
       "      <td id=\"T_65ba5_row44_col0\" class=\"data row44 col0\" >Clustering Iteration</td>\n",
       "      <td id=\"T_65ba5_row44_col1\" class=\"data row44 col1\" >None</td>\n",
       "    </tr>\n",
       "    <tr>\n",
       "      <th id=\"T_65ba5_level0_row45\" class=\"row_heading level0 row45\" >45</th>\n",
       "      <td id=\"T_65ba5_row45_col0\" class=\"data row45 col0\" >Polynomial Features</td>\n",
       "      <td id=\"T_65ba5_row45_col1\" class=\"data row45 col1\" >False</td>\n",
       "    </tr>\n",
       "    <tr>\n",
       "      <th id=\"T_65ba5_level0_row46\" class=\"row_heading level0 row46\" >46</th>\n",
       "      <td id=\"T_65ba5_row46_col0\" class=\"data row46 col0\" >Polynomial Degree</td>\n",
       "      <td id=\"T_65ba5_row46_col1\" class=\"data row46 col1\" >None</td>\n",
       "    </tr>\n",
       "    <tr>\n",
       "      <th id=\"T_65ba5_level0_row47\" class=\"row_heading level0 row47\" >47</th>\n",
       "      <td id=\"T_65ba5_row47_col0\" class=\"data row47 col0\" >Trignometry Features</td>\n",
       "      <td id=\"T_65ba5_row47_col1\" class=\"data row47 col1\" >False</td>\n",
       "    </tr>\n",
       "    <tr>\n",
       "      <th id=\"T_65ba5_level0_row48\" class=\"row_heading level0 row48\" >48</th>\n",
       "      <td id=\"T_65ba5_row48_col0\" class=\"data row48 col0\" >Polynomial Threshold</td>\n",
       "      <td id=\"T_65ba5_row48_col1\" class=\"data row48 col1\" >None</td>\n",
       "    </tr>\n",
       "    <tr>\n",
       "      <th id=\"T_65ba5_level0_row49\" class=\"row_heading level0 row49\" >49</th>\n",
       "      <td id=\"T_65ba5_row49_col0\" class=\"data row49 col0\" >Group Features</td>\n",
       "      <td id=\"T_65ba5_row49_col1\" class=\"data row49 col1\" >False</td>\n",
       "    </tr>\n",
       "    <tr>\n",
       "      <th id=\"T_65ba5_level0_row50\" class=\"row_heading level0 row50\" >50</th>\n",
       "      <td id=\"T_65ba5_row50_col0\" class=\"data row50 col0\" >Feature Selection</td>\n",
       "      <td id=\"T_65ba5_row50_col1\" class=\"data row50 col1\" >False</td>\n",
       "    </tr>\n",
       "    <tr>\n",
       "      <th id=\"T_65ba5_level0_row51\" class=\"row_heading level0 row51\" >51</th>\n",
       "      <td id=\"T_65ba5_row51_col0\" class=\"data row51 col0\" >Feature Selection Method</td>\n",
       "      <td id=\"T_65ba5_row51_col1\" class=\"data row51 col1\" >boruta</td>\n",
       "    </tr>\n",
       "    <tr>\n",
       "      <th id=\"T_65ba5_level0_row52\" class=\"row_heading level0 row52\" >52</th>\n",
       "      <td id=\"T_65ba5_row52_col0\" class=\"data row52 col0\" >Features Selection Threshold</td>\n",
       "      <td id=\"T_65ba5_row52_col1\" class=\"data row52 col1\" >None</td>\n",
       "    </tr>\n",
       "    <tr>\n",
       "      <th id=\"T_65ba5_level0_row53\" class=\"row_heading level0 row53\" >53</th>\n",
       "      <td id=\"T_65ba5_row53_col0\" class=\"data row53 col0\" >Feature Interaction</td>\n",
       "      <td id=\"T_65ba5_row53_col1\" class=\"data row53 col1\" >False</td>\n",
       "    </tr>\n",
       "    <tr>\n",
       "      <th id=\"T_65ba5_level0_row54\" class=\"row_heading level0 row54\" >54</th>\n",
       "      <td id=\"T_65ba5_row54_col0\" class=\"data row54 col0\" >Feature Ratio</td>\n",
       "      <td id=\"T_65ba5_row54_col1\" class=\"data row54 col1\" >False</td>\n",
       "    </tr>\n",
       "    <tr>\n",
       "      <th id=\"T_65ba5_level0_row55\" class=\"row_heading level0 row55\" >55</th>\n",
       "      <td id=\"T_65ba5_row55_col0\" class=\"data row55 col0\" >Interaction Threshold</td>\n",
       "      <td id=\"T_65ba5_row55_col1\" class=\"data row55 col1\" >None</td>\n",
       "    </tr>\n",
       "    <tr>\n",
       "      <th id=\"T_65ba5_level0_row56\" class=\"row_heading level0 row56\" >56</th>\n",
       "      <td id=\"T_65ba5_row56_col0\" class=\"data row56 col0\" >Transform Target</td>\n",
       "      <td id=\"T_65ba5_row56_col1\" class=\"data row56 col1\" >False</td>\n",
       "    </tr>\n",
       "    <tr>\n",
       "      <th id=\"T_65ba5_level0_row57\" class=\"row_heading level0 row57\" >57</th>\n",
       "      <td id=\"T_65ba5_row57_col0\" class=\"data row57 col0\" >Transform Target Method</td>\n",
       "      <td id=\"T_65ba5_row57_col1\" class=\"data row57 col1\" >box-cox</td>\n",
       "    </tr>\n",
       "  </tbody>\n",
       "</table>\n"
      ],
      "text/plain": [
       "<pandas.io.formats.style.Styler at 0x7f2df7e62910>"
      ]
     },
     "metadata": {},
     "output_type": "display_data"
    }
   ],
   "source": [
    "exp_radio = pyr.setup(data                     = train_df,\n",
    "                      test_data                = test_df,\n",
    "                      target                   = target_feat,\n",
    "                      session_id               = gv.seed,\n",
    "                      silent                   = True,\n",
    "                      feature_selection        = False,\n",
    "                      feature_selection_method = 'boruta',\n",
    "                      numeric_features         = final_feats,\n",
    "                      ignore_features          = feats_2_discard,\n",
    "                      transformation           = True,\n",
    "                      transformation_method    = 'yeo-johnson',\n",
    "                      n_jobs                   = 12,\n",
    "                      normalize                = True,\n",
    "                      normalize_method         = 'zscore',\n",
    "                      use_gpu                  = False)  # 15 minutes with Boruta # 5 without"
   ]
  },
  {
   "cell_type": "code",
   "execution_count": 51,
   "id": "1b4fb7bb",
   "metadata": {
    "id": "ykHUiWyetG0G"
   },
   "outputs": [
    {
     "data": {
      "text/plain": [
       "Index(['W4mag', 'g_r', 'r_i', 'r_z', 'i_z', 'i_y', 'z_y', 'y_J', 'y_W2', 'J_H',\n",
       "       'H_K', 'K_W3', 'W1_W2', 'W1_W3'],\n",
       "      dtype='object')"
      ]
     },
     "execution_count": 51,
     "metadata": {},
     "output_type": "execute_result"
    }
   ],
   "source": [
    "pyr.get_config('X').columns"
   ]
  },
  {
   "cell_type": "code",
   "execution_count": 52,
   "id": "c207620d",
   "metadata": {
    "id": "JFF_T52ztI11"
   },
   "outputs": [
    {
     "data": {
      "text/html": [
       "<div>\n",
       "<style scoped>\n",
       "    .dataframe tbody tr th:only-of-type {\n",
       "        vertical-align: middle;\n",
       "    }\n",
       "\n",
       "    .dataframe tbody tr th {\n",
       "        vertical-align: top;\n",
       "    }\n",
       "\n",
       "    .dataframe thead th {\n",
       "        text-align: right;\n",
       "    }\n",
       "</style>\n",
       "<table border=\"1\" class=\"dataframe\">\n",
       "  <thead>\n",
       "    <tr style=\"text-align: right;\">\n",
       "      <th></th>\n",
       "      <th>Name</th>\n",
       "      <th>Reference</th>\n",
       "      <th>Turbo</th>\n",
       "    </tr>\n",
       "    <tr>\n",
       "      <th>ID</th>\n",
       "      <th></th>\n",
       "      <th></th>\n",
       "      <th></th>\n",
       "    </tr>\n",
       "  </thead>\n",
       "  <tbody>\n",
       "    <tr>\n",
       "      <th>lr</th>\n",
       "      <td>Linear Regression</td>\n",
       "      <td>sklearn.linear_model._base.LinearRegression</td>\n",
       "      <td>True</td>\n",
       "    </tr>\n",
       "    <tr>\n",
       "      <th>lasso</th>\n",
       "      <td>Lasso Regression</td>\n",
       "      <td>sklearn.linear_model._coordinate_descent.Lasso</td>\n",
       "      <td>True</td>\n",
       "    </tr>\n",
       "    <tr>\n",
       "      <th>ridge</th>\n",
       "      <td>Ridge Regression</td>\n",
       "      <td>sklearn.linear_model._ridge.Ridge</td>\n",
       "      <td>True</td>\n",
       "    </tr>\n",
       "    <tr>\n",
       "      <th>en</th>\n",
       "      <td>Elastic Net</td>\n",
       "      <td>sklearn.linear_model._coordinate_descent.Elast...</td>\n",
       "      <td>True</td>\n",
       "    </tr>\n",
       "    <tr>\n",
       "      <th>lar</th>\n",
       "      <td>Least Angle Regression</td>\n",
       "      <td>sklearn.linear_model._least_angle.Lars</td>\n",
       "      <td>True</td>\n",
       "    </tr>\n",
       "    <tr>\n",
       "      <th>llar</th>\n",
       "      <td>Lasso Least Angle Regression</td>\n",
       "      <td>sklearn.linear_model._least_angle.LassoLars</td>\n",
       "      <td>True</td>\n",
       "    </tr>\n",
       "    <tr>\n",
       "      <th>omp</th>\n",
       "      <td>Orthogonal Matching Pursuit</td>\n",
       "      <td>sklearn.linear_model._omp.OrthogonalMatchingPu...</td>\n",
       "      <td>True</td>\n",
       "    </tr>\n",
       "    <tr>\n",
       "      <th>br</th>\n",
       "      <td>Bayesian Ridge</td>\n",
       "      <td>sklearn.linear_model._bayes.BayesianRidge</td>\n",
       "      <td>True</td>\n",
       "    </tr>\n",
       "    <tr>\n",
       "      <th>ard</th>\n",
       "      <td>Automatic Relevance Determination</td>\n",
       "      <td>sklearn.linear_model._bayes.ARDRegression</td>\n",
       "      <td>False</td>\n",
       "    </tr>\n",
       "    <tr>\n",
       "      <th>par</th>\n",
       "      <td>Passive Aggressive Regressor</td>\n",
       "      <td>sklearn.linear_model._passive_aggressive.Passi...</td>\n",
       "      <td>True</td>\n",
       "    </tr>\n",
       "    <tr>\n",
       "      <th>ransac</th>\n",
       "      <td>Random Sample Consensus</td>\n",
       "      <td>sklearn.linear_model._ransac.RANSACRegressor</td>\n",
       "      <td>False</td>\n",
       "    </tr>\n",
       "    <tr>\n",
       "      <th>tr</th>\n",
       "      <td>TheilSen Regressor</td>\n",
       "      <td>sklearn.linear_model._theil_sen.TheilSenRegressor</td>\n",
       "      <td>False</td>\n",
       "    </tr>\n",
       "    <tr>\n",
       "      <th>huber</th>\n",
       "      <td>Huber Regressor</td>\n",
       "      <td>sklearn.linear_model._huber.HuberRegressor</td>\n",
       "      <td>True</td>\n",
       "    </tr>\n",
       "    <tr>\n",
       "      <th>kr</th>\n",
       "      <td>Kernel Ridge</td>\n",
       "      <td>sklearn.kernel_ridge.KernelRidge</td>\n",
       "      <td>False</td>\n",
       "    </tr>\n",
       "    <tr>\n",
       "      <th>svm</th>\n",
       "      <td>Support Vector Regression</td>\n",
       "      <td>sklearn.svm._classes.SVR</td>\n",
       "      <td>False</td>\n",
       "    </tr>\n",
       "    <tr>\n",
       "      <th>knn</th>\n",
       "      <td>K Neighbors Regressor</td>\n",
       "      <td>sklearn.neighbors._regression.KNeighborsRegressor</td>\n",
       "      <td>True</td>\n",
       "    </tr>\n",
       "    <tr>\n",
       "      <th>dt</th>\n",
       "      <td>Decision Tree Regressor</td>\n",
       "      <td>sklearn.tree._classes.DecisionTreeRegressor</td>\n",
       "      <td>True</td>\n",
       "    </tr>\n",
       "    <tr>\n",
       "      <th>rf</th>\n",
       "      <td>Random Forest Regressor</td>\n",
       "      <td>sklearn.ensemble._forest.RandomForestRegressor</td>\n",
       "      <td>True</td>\n",
       "    </tr>\n",
       "    <tr>\n",
       "      <th>et</th>\n",
       "      <td>Extra Trees Regressor</td>\n",
       "      <td>sklearn.ensemble._forest.ExtraTreesRegressor</td>\n",
       "      <td>True</td>\n",
       "    </tr>\n",
       "    <tr>\n",
       "      <th>ada</th>\n",
       "      <td>AdaBoost Regressor</td>\n",
       "      <td>sklearn.ensemble._weight_boosting.AdaBoostRegr...</td>\n",
       "      <td>True</td>\n",
       "    </tr>\n",
       "    <tr>\n",
       "      <th>gbr</th>\n",
       "      <td>Gradient Boosting Regressor</td>\n",
       "      <td>sklearn.ensemble._gb.GradientBoostingRegressor</td>\n",
       "      <td>True</td>\n",
       "    </tr>\n",
       "    <tr>\n",
       "      <th>mlp</th>\n",
       "      <td>MLP Regressor</td>\n",
       "      <td>sklearn.neural_network._multilayer_perceptron....</td>\n",
       "      <td>False</td>\n",
       "    </tr>\n",
       "    <tr>\n",
       "      <th>xgboost</th>\n",
       "      <td>Extreme Gradient Boosting</td>\n",
       "      <td>xgboost.sklearn.XGBRegressor</td>\n",
       "      <td>True</td>\n",
       "    </tr>\n",
       "    <tr>\n",
       "      <th>lightgbm</th>\n",
       "      <td>Light Gradient Boosting Machine</td>\n",
       "      <td>lightgbm.sklearn.LGBMRegressor</td>\n",
       "      <td>True</td>\n",
       "    </tr>\n",
       "    <tr>\n",
       "      <th>catboost</th>\n",
       "      <td>CatBoost Regressor</td>\n",
       "      <td>catboost.core.CatBoostRegressor</td>\n",
       "      <td>True</td>\n",
       "    </tr>\n",
       "    <tr>\n",
       "      <th>dummy</th>\n",
       "      <td>Dummy Regressor</td>\n",
       "      <td>sklearn.dummy.DummyRegressor</td>\n",
       "      <td>True</td>\n",
       "    </tr>\n",
       "  </tbody>\n",
       "</table>\n",
       "</div>"
      ],
      "text/plain": [
       "                                       Name  \\\n",
       "ID                                            \n",
       "lr                        Linear Regression   \n",
       "lasso                      Lasso Regression   \n",
       "ridge                      Ridge Regression   \n",
       "en                              Elastic Net   \n",
       "lar                  Least Angle Regression   \n",
       "llar           Lasso Least Angle Regression   \n",
       "omp             Orthogonal Matching Pursuit   \n",
       "br                           Bayesian Ridge   \n",
       "ard       Automatic Relevance Determination   \n",
       "par            Passive Aggressive Regressor   \n",
       "ransac              Random Sample Consensus   \n",
       "tr                       TheilSen Regressor   \n",
       "huber                       Huber Regressor   \n",
       "kr                             Kernel Ridge   \n",
       "svm               Support Vector Regression   \n",
       "knn                   K Neighbors Regressor   \n",
       "dt                  Decision Tree Regressor   \n",
       "rf                  Random Forest Regressor   \n",
       "et                    Extra Trees Regressor   \n",
       "ada                      AdaBoost Regressor   \n",
       "gbr             Gradient Boosting Regressor   \n",
       "mlp                           MLP Regressor   \n",
       "xgboost           Extreme Gradient Boosting   \n",
       "lightgbm    Light Gradient Boosting Machine   \n",
       "catboost                 CatBoost Regressor   \n",
       "dummy                       Dummy Regressor   \n",
       "\n",
       "                                                  Reference  Turbo  \n",
       "ID                                                                  \n",
       "lr              sklearn.linear_model._base.LinearRegression   True  \n",
       "lasso        sklearn.linear_model._coordinate_descent.Lasso   True  \n",
       "ridge                     sklearn.linear_model._ridge.Ridge   True  \n",
       "en        sklearn.linear_model._coordinate_descent.Elast...   True  \n",
       "lar                  sklearn.linear_model._least_angle.Lars   True  \n",
       "llar            sklearn.linear_model._least_angle.LassoLars   True  \n",
       "omp       sklearn.linear_model._omp.OrthogonalMatchingPu...   True  \n",
       "br                sklearn.linear_model._bayes.BayesianRidge   True  \n",
       "ard               sklearn.linear_model._bayes.ARDRegression  False  \n",
       "par       sklearn.linear_model._passive_aggressive.Passi...   True  \n",
       "ransac         sklearn.linear_model._ransac.RANSACRegressor  False  \n",
       "tr        sklearn.linear_model._theil_sen.TheilSenRegressor  False  \n",
       "huber            sklearn.linear_model._huber.HuberRegressor   True  \n",
       "kr                         sklearn.kernel_ridge.KernelRidge  False  \n",
       "svm                                sklearn.svm._classes.SVR  False  \n",
       "knn       sklearn.neighbors._regression.KNeighborsRegressor   True  \n",
       "dt              sklearn.tree._classes.DecisionTreeRegressor   True  \n",
       "rf           sklearn.ensemble._forest.RandomForestRegressor   True  \n",
       "et             sklearn.ensemble._forest.ExtraTreesRegressor   True  \n",
       "ada       sklearn.ensemble._weight_boosting.AdaBoostRegr...   True  \n",
       "gbr          sklearn.ensemble._gb.GradientBoostingRegressor   True  \n",
       "mlp       sklearn.neural_network._multilayer_perceptron....  False  \n",
       "xgboost                        xgboost.sklearn.XGBRegressor   True  \n",
       "lightgbm                     lightgbm.sklearn.LGBMRegressor   True  \n",
       "catboost                    catboost.core.CatBoostRegressor   True  \n",
       "dummy                          sklearn.dummy.DummyRegressor   True  "
      ]
     },
     "execution_count": 52,
     "metadata": {},
     "output_type": "execute_result"
    }
   ],
   "source": [
    "pyr.models()"
   ]
  },
  {
   "cell_type": "markdown",
   "id": "a2caa454",
   "metadata": {},
   "source": [
    "Add custom metrics"
   ]
  },
  {
   "cell_type": "code",
   "execution_count": 53,
   "id": "e475f9e5",
   "metadata": {
    "jupyter": {
     "source_hidden": true
    }
   },
   "outputs": [
    {
     "data": {
      "text/plain": [
       "Name                                                        outlier_fr\n",
       "Display Name                                                outlier_fr\n",
       "Score Function               <function outlier_frac at 0x7f3141e10940>\n",
       "Scorer               make_scorer(outlier_frac, greater_is_better=Fa...\n",
       "Target                                                            pred\n",
       "Args                                                                {}\n",
       "Greater is Better                                                False\n",
       "Custom                                                            True\n",
       "Name: out_f, dtype: object"
      ]
     },
     "execution_count": 53,
     "metadata": {},
     "output_type": "execute_result"
    }
   ],
   "source": [
    "pyr.add_metric('s_mad',  'sigma_mad',    gf.sigma_mad,    greater_is_better=False)\n",
    "pyr.add_metric('s_nmad', 'sigma_nmad',   gf.sigma_nmad,   greater_is_better=False)\n",
    "pyr.add_metric('s_z',    'sigma_z',      gf.sigma_z,      greater_is_better=False)\n",
    "pyr.add_metric('s_z_n',  'sigma_z_norm', gf.sigma_z_norm, greater_is_better=False)\n",
    "pyr.add_metric('out_f',  'outlier_fr',   gf.outlier_frac, greater_is_better=False)"
   ]
  },
  {
   "cell_type": "code",
   "execution_count": 53,
   "id": "d79099b6",
   "metadata": {},
   "outputs": [
    {
     "data": {
      "text/plain": [
       "dict_keys(['n_estimators', 'max_depth', 'min_impurity_decrease', 'max_features', 'bootstrap', 'criterion', 'min_samples_split', 'min_samples_leaf'])"
      ]
     },
     "execution_count": 53,
     "metadata": {},
     "output_type": "execute_result"
    }
   ],
   "source": [
    "pyr.models(internal=True).loc['rf']['Tune Grid'].keys()"
   ]
  },
  {
   "cell_type": "code",
   "execution_count": 54,
   "id": "b7e88b14",
   "metadata": {},
   "outputs": [
    {
     "data": {
      "text/plain": [
       "dict_keys(['n_estimators', 'criterion', 'max_depth', 'min_impurity_decrease', 'max_features', 'bootstrap', 'min_samples_split', 'min_samples_leaf'])"
      ]
     },
     "execution_count": 54,
     "metadata": {},
     "output_type": "execute_result"
    }
   ],
   "source": [
    "pyr.models(internal=True).loc['et']['Tune Grid'].keys()"
   ]
  },
  {
   "cell_type": "code",
   "execution_count": 55,
   "id": "7fc2d628",
   "metadata": {},
   "outputs": [
    {
     "data": {
      "text/plain": [
       "dict_keys(['eta', 'depth', 'n_estimators', 'random_strength', 'l2_leaf_reg'])"
      ]
     },
     "execution_count": 55,
     "metadata": {},
     "output_type": "execute_result"
    }
   ],
   "source": [
    "pyr.models(internal=True).loc['catboost']['Tune Grid'].keys()"
   ]
  },
  {
   "cell_type": "code",
   "execution_count": 56,
   "id": "d02a4038",
   "metadata": {},
   "outputs": [
    {
     "data": {
      "text/plain": [
       "dict_keys(['learning_rate', 'n_estimators', 'subsample', 'max_depth', 'colsample_bytree', 'min_child_weight', 'reg_alpha', 'reg_lambda', 'scale_pos_weight'])"
      ]
     },
     "execution_count": 56,
     "metadata": {},
     "output_type": "execute_result"
    }
   ],
   "source": [
    "pyr.models(internal=True).loc['xgboost']['Tune Grid'].keys()"
   ]
  },
  {
   "cell_type": "code",
   "execution_count": 57,
   "id": "8eb14c6b",
   "metadata": {},
   "outputs": [
    {
     "data": {
      "text/plain": [
       "dict_keys(['n_estimators', 'learning_rate', 'subsample', 'min_samples_split', 'min_samples_leaf', 'max_depth', 'min_impurity_decrease', 'max_features'])"
      ]
     },
     "execution_count": 57,
     "metadata": {},
     "output_type": "execute_result"
    }
   ],
   "source": [
    "pyr.models(internal=True).loc['gbr']['Tune Grid'].keys()"
   ]
  },
  {
   "cell_type": "code",
   "execution_count": 54,
   "id": "d8e7a7fb",
   "metadata": {
    "id": "m3mCNspXtLnI"
   },
   "outputs": [
    {
     "data": {
      "text/html": [
       "<style type=\"text/css\">\n",
       "#T_49761 th {\n",
       "  text-align: left;\n",
       "}\n",
       "#T_49761_row0_col0, #T_49761_row0_col1, #T_49761_row0_col2, #T_49761_row0_col3, #T_49761_row0_col4, #T_49761_row0_col5, #T_49761_row0_col9, #T_49761_row0_col10, #T_49761_row0_col11, #T_49761_row1_col0, #T_49761_row1_col1, #T_49761_row1_col3, #T_49761_row1_col4, #T_49761_row1_col5, #T_49761_row1_col6, #T_49761_row1_col7, #T_49761_row1_col8, #T_49761_row1_col9, #T_49761_row1_col11, #T_49761_row2_col0, #T_49761_row2_col6, #T_49761_row2_col7, #T_49761_row2_col8, #T_49761_row2_col10, #T_49761_row3_col0, #T_49761_row3_col1, #T_49761_row3_col2, #T_49761_row3_col3, #T_49761_row3_col4, #T_49761_row3_col5, #T_49761_row3_col6, #T_49761_row3_col7, #T_49761_row3_col8, #T_49761_row3_col9, #T_49761_row3_col10, #T_49761_row3_col11, #T_49761_row4_col0, #T_49761_row4_col1, #T_49761_row4_col2, #T_49761_row4_col3, #T_49761_row4_col4, #T_49761_row4_col5, #T_49761_row4_col6, #T_49761_row4_col7, #T_49761_row4_col8, #T_49761_row4_col9, #T_49761_row4_col10, #T_49761_row4_col11, #T_49761_row5_col0, #T_49761_row5_col1, #T_49761_row5_col2, #T_49761_row5_col3, #T_49761_row5_col4, #T_49761_row5_col5, #T_49761_row5_col6, #T_49761_row5_col7, #T_49761_row5_col8, #T_49761_row5_col9, #T_49761_row5_col10, #T_49761_row5_col11 {\n",
       "  text-align: left;\n",
       "}\n",
       "#T_49761_row0_col6, #T_49761_row0_col7, #T_49761_row0_col8, #T_49761_row1_col2, #T_49761_row1_col10, #T_49761_row2_col1, #T_49761_row2_col2, #T_49761_row2_col3, #T_49761_row2_col4, #T_49761_row2_col5, #T_49761_row2_col9, #T_49761_row2_col11 {\n",
       "  text-align: left;\n",
       "  background-color: yellow;\n",
       "}\n",
       "#T_49761_row0_col12, #T_49761_row1_col12, #T_49761_row2_col12, #T_49761_row3_col12, #T_49761_row4_col12 {\n",
       "  text-align: left;\n",
       "  background-color: lightgrey;\n",
       "}\n",
       "#T_49761_row5_col12 {\n",
       "  text-align: left;\n",
       "  background-color: yellow;\n",
       "  background-color: lightgrey;\n",
       "}\n",
       "</style>\n",
       "<table id=\"T_49761\">\n",
       "  <thead>\n",
       "    <tr>\n",
       "      <th class=\"blank level0\" >&nbsp;</th>\n",
       "      <th id=\"T_49761_level0_col0\" class=\"col_heading level0 col0\" >Model</th>\n",
       "      <th id=\"T_49761_level0_col1\" class=\"col_heading level0 col1\" >MAE</th>\n",
       "      <th id=\"T_49761_level0_col2\" class=\"col_heading level0 col2\" >MSE</th>\n",
       "      <th id=\"T_49761_level0_col3\" class=\"col_heading level0 col3\" >RMSE</th>\n",
       "      <th id=\"T_49761_level0_col4\" class=\"col_heading level0 col4\" >R2</th>\n",
       "      <th id=\"T_49761_level0_col5\" class=\"col_heading level0 col5\" >RMSLE</th>\n",
       "      <th id=\"T_49761_level0_col6\" class=\"col_heading level0 col6\" >MAPE</th>\n",
       "      <th id=\"T_49761_level0_col7\" class=\"col_heading level0 col7\" >sigma_mad</th>\n",
       "      <th id=\"T_49761_level0_col8\" class=\"col_heading level0 col8\" >sigma_nmad</th>\n",
       "      <th id=\"T_49761_level0_col9\" class=\"col_heading level0 col9\" >sigma_z</th>\n",
       "      <th id=\"T_49761_level0_col10\" class=\"col_heading level0 col10\" >sigma_z_norm</th>\n",
       "      <th id=\"T_49761_level0_col11\" class=\"col_heading level0 col11\" >outlier_fr</th>\n",
       "      <th id=\"T_49761_level0_col12\" class=\"col_heading level0 col12\" >TT (Sec)</th>\n",
       "    </tr>\n",
       "  </thead>\n",
       "  <tbody>\n",
       "    <tr>\n",
       "      <th id=\"T_49761_level0_row0\" class=\"row_heading level0 row0\" >et</th>\n",
       "      <td id=\"T_49761_row0_col0\" class=\"data row0 col0\" >Extra Trees Regressor</td>\n",
       "      <td id=\"T_49761_row0_col1\" class=\"data row0 col1\" >0.0509</td>\n",
       "      <td id=\"T_49761_row0_col2\" class=\"data row0 col2\" >0.0098</td>\n",
       "      <td id=\"T_49761_row0_col3\" class=\"data row0 col3\" >0.0989</td>\n",
       "      <td id=\"T_49761_row0_col4\" class=\"data row0 col4\" >0.8597</td>\n",
       "      <td id=\"T_49761_row0_col5\" class=\"data row0 col5\" >0.0639</td>\n",
       "      <td id=\"T_49761_row0_col6\" class=\"data row0 col6\" >0.1881</td>\n",
       "      <td id=\"T_49761_row0_col7\" class=\"data row0 col7\" >0.0385</td>\n",
       "      <td id=\"T_49761_row0_col8\" class=\"data row0 col8\" >0.0281</td>\n",
       "      <td id=\"T_49761_row0_col9\" class=\"data row0 col9\" >0.0989</td>\n",
       "      <td id=\"T_49761_row0_col10\" class=\"data row0 col10\" >0.0703</td>\n",
       "      <td id=\"T_49761_row0_col11\" class=\"data row0 col11\" >0.0291</td>\n",
       "      <td id=\"T_49761_row0_col12\" class=\"data row0 col12\" >0.3330</td>\n",
       "    </tr>\n",
       "    <tr>\n",
       "      <th id=\"T_49761_level0_row1\" class=\"row_heading level0 row1\" >rf</th>\n",
       "      <td id=\"T_49761_row1_col0\" class=\"data row1 col0\" >Random Forest Regressor</td>\n",
       "      <td id=\"T_49761_row1_col1\" class=\"data row1 col1\" >0.0509</td>\n",
       "      <td id=\"T_49761_row1_col2\" class=\"data row1 col2\" >0.0096</td>\n",
       "      <td id=\"T_49761_row1_col3\" class=\"data row1 col3\" >0.0978</td>\n",
       "      <td id=\"T_49761_row1_col4\" class=\"data row1 col4\" >0.8625</td>\n",
       "      <td id=\"T_49761_row1_col5\" class=\"data row1 col5\" >0.0637</td>\n",
       "      <td id=\"T_49761_row1_col6\" class=\"data row1 col6\" >0.1994</td>\n",
       "      <td id=\"T_49761_row1_col7\" class=\"data row1 col7\" >0.0389</td>\n",
       "      <td id=\"T_49761_row1_col8\" class=\"data row1 col8\" >0.0286</td>\n",
       "      <td id=\"T_49761_row1_col9\" class=\"data row1 col9\" >0.0978</td>\n",
       "      <td id=\"T_49761_row1_col10\" class=\"data row1 col10\" >0.0698</td>\n",
       "      <td id=\"T_49761_row1_col11\" class=\"data row1 col11\" >0.0308</td>\n",
       "      <td id=\"T_49761_row1_col12\" class=\"data row1 col12\" >0.6550</td>\n",
       "    </tr>\n",
       "    <tr>\n",
       "      <th id=\"T_49761_level0_row2\" class=\"row_heading level0 row2\" >catboost</th>\n",
       "      <td id=\"T_49761_row2_col0\" class=\"data row2 col0\" >CatBoost Regressor</td>\n",
       "      <td id=\"T_49761_row2_col1\" class=\"data row2 col1\" >0.0507</td>\n",
       "      <td id=\"T_49761_row2_col2\" class=\"data row2 col2\" >0.0096</td>\n",
       "      <td id=\"T_49761_row2_col3\" class=\"data row2 col3\" >0.0975</td>\n",
       "      <td id=\"T_49761_row2_col4\" class=\"data row2 col4\" >0.8640</td>\n",
       "      <td id=\"T_49761_row2_col5\" class=\"data row2 col5\" >0.0632</td>\n",
       "      <td id=\"T_49761_row2_col6\" class=\"data row2 col6\" >0.1943</td>\n",
       "      <td id=\"T_49761_row2_col7\" class=\"data row2 col7\" >0.0401</td>\n",
       "      <td id=\"T_49761_row2_col8\" class=\"data row2 col8\" >0.0296</td>\n",
       "      <td id=\"T_49761_row2_col9\" class=\"data row2 col9\" >0.0975</td>\n",
       "      <td id=\"T_49761_row2_col10\" class=\"data row2 col10\" >0.0699</td>\n",
       "      <td id=\"T_49761_row2_col11\" class=\"data row2 col11\" >0.0278</td>\n",
       "      <td id=\"T_49761_row2_col12\" class=\"data row2 col12\" >0.5360</td>\n",
       "    </tr>\n",
       "    <tr>\n",
       "      <th id=\"T_49761_level0_row3\" class=\"row_heading level0 row3\" >xgboost</th>\n",
       "      <td id=\"T_49761_row3_col0\" class=\"data row3 col0\" >Extreme Gradient Boosting</td>\n",
       "      <td id=\"T_49761_row3_col1\" class=\"data row3 col1\" >0.0541</td>\n",
       "      <td id=\"T_49761_row3_col2\" class=\"data row3 col2\" >0.0100</td>\n",
       "      <td id=\"T_49761_row3_col3\" class=\"data row3 col3\" >0.0998</td>\n",
       "      <td id=\"T_49761_row3_col4\" class=\"data row3 col4\" >0.8572</td>\n",
       "      <td id=\"T_49761_row3_col5\" class=\"data row3 col5\" >0.0646</td>\n",
       "      <td id=\"T_49761_row3_col6\" class=\"data row3 col6\" >0.2059</td>\n",
       "      <td id=\"T_49761_row3_col7\" class=\"data row3 col7\" >0.0431</td>\n",
       "      <td id=\"T_49761_row3_col8\" class=\"data row3 col8\" >0.0316</td>\n",
       "      <td id=\"T_49761_row3_col9\" class=\"data row3 col9\" >0.0998</td>\n",
       "      <td id=\"T_49761_row3_col10\" class=\"data row3 col10\" >0.0705</td>\n",
       "      <td id=\"T_49761_row3_col11\" class=\"data row3 col11\" >0.0313</td>\n",
       "      <td id=\"T_49761_row3_col12\" class=\"data row3 col12\" >8.7210</td>\n",
       "    </tr>\n",
       "    <tr>\n",
       "      <th id=\"T_49761_level0_row4\" class=\"row_heading level0 row4\" >gbr</th>\n",
       "      <td id=\"T_49761_row4_col0\" class=\"data row4 col0\" >Gradient Boosting Regressor</td>\n",
       "      <td id=\"T_49761_row4_col1\" class=\"data row4 col1\" >0.0569</td>\n",
       "      <td id=\"T_49761_row4_col2\" class=\"data row4 col2\" >0.0100</td>\n",
       "      <td id=\"T_49761_row4_col3\" class=\"data row4 col3\" >0.0996</td>\n",
       "      <td id=\"T_49761_row4_col4\" class=\"data row4 col4\" >0.8578</td>\n",
       "      <td id=\"T_49761_row4_col5\" class=\"data row4 col5\" >0.0653</td>\n",
       "      <td id=\"T_49761_row4_col6\" class=\"data row4 col6\" >0.2308</td>\n",
       "      <td id=\"T_49761_row4_col7\" class=\"data row4 col7\" >0.0481</td>\n",
       "      <td id=\"T_49761_row4_col8\" class=\"data row4 col8\" >0.0354</td>\n",
       "      <td id=\"T_49761_row4_col9\" class=\"data row4 col9\" >0.0996</td>\n",
       "      <td id=\"T_49761_row4_col10\" class=\"data row4 col10\" >0.0705</td>\n",
       "      <td id=\"T_49761_row4_col11\" class=\"data row4 col11\" >0.0345</td>\n",
       "      <td id=\"T_49761_row4_col12\" class=\"data row4 col12\" >0.2060</td>\n",
       "    </tr>\n",
       "    <tr>\n",
       "      <th id=\"T_49761_level0_row5\" class=\"row_heading level0 row5\" >dummy</th>\n",
       "      <td id=\"T_49761_row5_col0\" class=\"data row5 col0\" >Dummy Regressor</td>\n",
       "      <td id=\"T_49761_row5_col1\" class=\"data row5 col1\" >0.2281</td>\n",
       "      <td id=\"T_49761_row5_col2\" class=\"data row5 col2\" >0.0703</td>\n",
       "      <td id=\"T_49761_row5_col3\" class=\"data row5 col3\" >0.2650</td>\n",
       "      <td id=\"T_49761_row5_col4\" class=\"data row5 col4\" >-0.0015</td>\n",
       "      <td id=\"T_49761_row5_col5\" class=\"data row5 col5\" >0.1895</td>\n",
       "      <td id=\"T_49761_row5_col6\" class=\"data row5 col6\" >1.6113</td>\n",
       "      <td id=\"T_49761_row5_col7\" class=\"data row5 col7\" >0.3446</td>\n",
       "      <td id=\"T_49761_row5_col8\" class=\"data row5 col8\" >0.2322</td>\n",
       "      <td id=\"T_49761_row5_col9\" class=\"data row5 col9\" >0.2650</td>\n",
       "      <td id=\"T_49761_row5_col10\" class=\"data row5 col10\" >0.1985</td>\n",
       "      <td id=\"T_49761_row5_col11\" class=\"data row5 col11\" >0.5164</td>\n",
       "      <td id=\"T_49761_row5_col12\" class=\"data row5 col12\" >0.0060</td>\n",
       "    </tr>\n",
       "  </tbody>\n",
       "</table>\n"
      ],
      "text/plain": [
       "<pandas.io.formats.style.Styler at 0x7f2dcf2607f0>"
      ]
     },
     "metadata": {},
     "output_type": "display_data"
    }
   ],
   "source": [
    "metric_2_opt          = 's_mad'\n",
    "final_selection_reg   = ['rf', 'et', 'catboost', 'xgboost', 'gbr', 'dummy']  # knn discarded: no feature importances\n",
    "initial_selection_reg = ['rf', 'et', 'gbr', 'xgboost', 'catboost', 'dummy']  # Only tree-based models (except lightgbm, dt)\n",
    "n_models              = 5\n",
    "top_model_z           = pyr.compare_models(n_select = n_models,\n",
    "                                           include  = final_selection_reg,\n",
    "                                           sort     = metric_2_opt)  # 1:15 hour for used_models_clf\n",
    "# top_model_z           = pyr.compare_models(n_select=n_models, include=initial_selection_reg, sort=metric_2_opt)  # 5 minutes, using all models."
   ]
  },
  {
   "cell_type": "markdown",
   "id": "6044c3ee",
   "metadata": {},
   "source": [
    "Thus, we select `et` as meta learner. It has the best mean rank and best sigma_mad value."
   ]
  },
  {
   "cell_type": "markdown",
   "id": "7b8b7b7c",
   "metadata": {},
   "source": [
    "Thus, we stack the models."
   ]
  },
  {
   "cell_type": "code",
   "execution_count": 55,
   "id": "649e95e4",
   "metadata": {},
   "outputs": [],
   "source": [
    "base_models = top_model_z[1:]\n",
    "meta_model  = top_model_z[0]\n",
    "# base_models = top_model_z[0:1] + top_model_z[2:]\n",
    "# meta_model  = top_model_z[1]"
   ]
  },
  {
   "cell_type": "code",
   "execution_count": 56,
   "id": "3a44f001",
   "metadata": {},
   "outputs": [
    {
     "data": {
      "text/html": [
       "<style type=\"text/css\">\n",
       "#T_3c7a6_row10_col0, #T_3c7a6_row10_col1, #T_3c7a6_row10_col2, #T_3c7a6_row10_col3, #T_3c7a6_row10_col4, #T_3c7a6_row10_col5, #T_3c7a6_row10_col6, #T_3c7a6_row10_col7, #T_3c7a6_row10_col8, #T_3c7a6_row10_col9, #T_3c7a6_row10_col10 {\n",
       "  background: yellow;\n",
       "}\n",
       "</style>\n",
       "<table id=\"T_3c7a6\">\n",
       "  <thead>\n",
       "    <tr>\n",
       "      <th class=\"blank level0\" >&nbsp;</th>\n",
       "      <th id=\"T_3c7a6_level0_col0\" class=\"col_heading level0 col0\" >MAE</th>\n",
       "      <th id=\"T_3c7a6_level0_col1\" class=\"col_heading level0 col1\" >MSE</th>\n",
       "      <th id=\"T_3c7a6_level0_col2\" class=\"col_heading level0 col2\" >RMSE</th>\n",
       "      <th id=\"T_3c7a6_level0_col3\" class=\"col_heading level0 col3\" >R2</th>\n",
       "      <th id=\"T_3c7a6_level0_col4\" class=\"col_heading level0 col4\" >RMSLE</th>\n",
       "      <th id=\"T_3c7a6_level0_col5\" class=\"col_heading level0 col5\" >MAPE</th>\n",
       "      <th id=\"T_3c7a6_level0_col6\" class=\"col_heading level0 col6\" >sigma_mad</th>\n",
       "      <th id=\"T_3c7a6_level0_col7\" class=\"col_heading level0 col7\" >sigma_nmad</th>\n",
       "      <th id=\"T_3c7a6_level0_col8\" class=\"col_heading level0 col8\" >sigma_z</th>\n",
       "      <th id=\"T_3c7a6_level0_col9\" class=\"col_heading level0 col9\" >sigma_z_norm</th>\n",
       "      <th id=\"T_3c7a6_level0_col10\" class=\"col_heading level0 col10\" >outlier_fr</th>\n",
       "    </tr>\n",
       "    <tr>\n",
       "      <th class=\"index_name level0\" >Fold</th>\n",
       "      <th class=\"blank col0\" >&nbsp;</th>\n",
       "      <th class=\"blank col1\" >&nbsp;</th>\n",
       "      <th class=\"blank col2\" >&nbsp;</th>\n",
       "      <th class=\"blank col3\" >&nbsp;</th>\n",
       "      <th class=\"blank col4\" >&nbsp;</th>\n",
       "      <th class=\"blank col5\" >&nbsp;</th>\n",
       "      <th class=\"blank col6\" >&nbsp;</th>\n",
       "      <th class=\"blank col7\" >&nbsp;</th>\n",
       "      <th class=\"blank col8\" >&nbsp;</th>\n",
       "      <th class=\"blank col9\" >&nbsp;</th>\n",
       "      <th class=\"blank col10\" >&nbsp;</th>\n",
       "    </tr>\n",
       "  </thead>\n",
       "  <tbody>\n",
       "    <tr>\n",
       "      <th id=\"T_3c7a6_level0_row0\" class=\"row_heading level0 row0\" >0</th>\n",
       "      <td id=\"T_3c7a6_row0_col0\" class=\"data row0 col0\" >0.0469</td>\n",
       "      <td id=\"T_3c7a6_row0_col1\" class=\"data row0 col1\" >0.0072</td>\n",
       "      <td id=\"T_3c7a6_row0_col2\" class=\"data row0 col2\" >0.0851</td>\n",
       "      <td id=\"T_3c7a6_row0_col3\" class=\"data row0 col3\" >0.8996</td>\n",
       "      <td id=\"T_3c7a6_row0_col4\" class=\"data row0 col4\" >0.0556</td>\n",
       "      <td id=\"T_3c7a6_row0_col5\" class=\"data row0 col5\" >0.1845</td>\n",
       "      <td id=\"T_3c7a6_row0_col6\" class=\"data row0 col6\" >0.0389</td>\n",
       "      <td id=\"T_3c7a6_row0_col7\" class=\"data row0 col7\" >0.0281</td>\n",
       "      <td id=\"T_3c7a6_row0_col8\" class=\"data row0 col8\" >0.0851</td>\n",
       "      <td id=\"T_3c7a6_row0_col9\" class=\"data row0 col9\" >0.0609</td>\n",
       "      <td id=\"T_3c7a6_row0_col10\" class=\"data row0 col10\" >0.0223</td>\n",
       "    </tr>\n",
       "    <tr>\n",
       "      <th id=\"T_3c7a6_level0_row1\" class=\"row_heading level0 row1\" >1</th>\n",
       "      <td id=\"T_3c7a6_row1_col0\" class=\"data row1 col0\" >0.0467</td>\n",
       "      <td id=\"T_3c7a6_row1_col1\" class=\"data row1 col1\" >0.0077</td>\n",
       "      <td id=\"T_3c7a6_row1_col2\" class=\"data row1 col2\" >0.0880</td>\n",
       "      <td id=\"T_3c7a6_row1_col3\" class=\"data row1 col3\" >0.8858</td>\n",
       "      <td id=\"T_3c7a6_row1_col4\" class=\"data row1 col4\" >0.0607</td>\n",
       "      <td id=\"T_3c7a6_row1_col5\" class=\"data row1 col5\" >0.1950</td>\n",
       "      <td id=\"T_3c7a6_row1_col6\" class=\"data row1 col6\" >0.0355</td>\n",
       "      <td id=\"T_3c7a6_row1_col7\" class=\"data row1 col7\" >0.0279</td>\n",
       "      <td id=\"T_3c7a6_row1_col8\" class=\"data row1 col8\" >0.0880</td>\n",
       "      <td id=\"T_3c7a6_row1_col9\" class=\"data row1 col9\" >0.0683</td>\n",
       "      <td id=\"T_3c7a6_row1_col10\" class=\"data row1 col10\" >0.0318</td>\n",
       "    </tr>\n",
       "    <tr>\n",
       "      <th id=\"T_3c7a6_level0_row2\" class=\"row_heading level0 row2\" >2</th>\n",
       "      <td id=\"T_3c7a6_row2_col0\" class=\"data row2 col0\" >0.0439</td>\n",
       "      <td id=\"T_3c7a6_row2_col1\" class=\"data row2 col1\" >0.0078</td>\n",
       "      <td id=\"T_3c7a6_row2_col2\" class=\"data row2 col2\" >0.0882</td>\n",
       "      <td id=\"T_3c7a6_row2_col3\" class=\"data row2 col3\" >0.8871</td>\n",
       "      <td id=\"T_3c7a6_row2_col4\" class=\"data row2 col4\" >0.0508</td>\n",
       "      <td id=\"T_3c7a6_row2_col5\" class=\"data row2 col5\" >0.1577</td>\n",
       "      <td id=\"T_3c7a6_row2_col6\" class=\"data row2 col6\" >0.0354</td>\n",
       "      <td id=\"T_3c7a6_row2_col7\" class=\"data row2 col7\" >0.0261</td>\n",
       "      <td id=\"T_3c7a6_row2_col8\" class=\"data row2 col8\" >0.0882</td>\n",
       "      <td id=\"T_3c7a6_row2_col9\" class=\"data row2 col9\" >0.0474</td>\n",
       "      <td id=\"T_3c7a6_row2_col10\" class=\"data row2 col10\" >0.0207</td>\n",
       "    </tr>\n",
       "    <tr>\n",
       "      <th id=\"T_3c7a6_level0_row3\" class=\"row_heading level0 row3\" >3</th>\n",
       "      <td id=\"T_3c7a6_row3_col0\" class=\"data row3 col0\" >0.0566</td>\n",
       "      <td id=\"T_3c7a6_row3_col1\" class=\"data row3 col1\" >0.0117</td>\n",
       "      <td id=\"T_3c7a6_row3_col2\" class=\"data row3 col2\" >0.1082</td>\n",
       "      <td id=\"T_3c7a6_row3_col3\" class=\"data row3 col3\" >0.8248</td>\n",
       "      <td id=\"T_3c7a6_row3_col4\" class=\"data row3 col4\" >0.0735</td>\n",
       "      <td id=\"T_3c7a6_row3_col5\" class=\"data row3 col5\" >0.1807</td>\n",
       "      <td id=\"T_3c7a6_row3_col6\" class=\"data row3 col6\" >0.0403</td>\n",
       "      <td id=\"T_3c7a6_row3_col7\" class=\"data row3 col7\" >0.0292</td>\n",
       "      <td id=\"T_3c7a6_row3_col8\" class=\"data row3 col8\" >0.1082</td>\n",
       "      <td id=\"T_3c7a6_row3_col9\" class=\"data row3 col9\" >0.0847</td>\n",
       "      <td id=\"T_3c7a6_row3_col10\" class=\"data row3 col10\" >0.0397</td>\n",
       "    </tr>\n",
       "    <tr>\n",
       "      <th id=\"T_3c7a6_level0_row4\" class=\"row_heading level0 row4\" >4</th>\n",
       "      <td id=\"T_3c7a6_row4_col0\" class=\"data row4 col0\" >0.0502</td>\n",
       "      <td id=\"T_3c7a6_row4_col1\" class=\"data row4 col1\" >0.0083</td>\n",
       "      <td id=\"T_3c7a6_row4_col2\" class=\"data row4 col2\" >0.0909</td>\n",
       "      <td id=\"T_3c7a6_row4_col3\" class=\"data row4 col3\" >0.8903</td>\n",
       "      <td id=\"T_3c7a6_row4_col4\" class=\"data row4 col4\" >0.0560</td>\n",
       "      <td id=\"T_3c7a6_row4_col5\" class=\"data row4 col5\" >0.1908</td>\n",
       "      <td id=\"T_3c7a6_row4_col6\" class=\"data row4 col6\" >0.0374</td>\n",
       "      <td id=\"T_3c7a6_row4_col7\" class=\"data row4 col7\" >0.0286</td>\n",
       "      <td id=\"T_3c7a6_row4_col8\" class=\"data row4 col8\" >0.0909</td>\n",
       "      <td id=\"T_3c7a6_row4_col9\" class=\"data row4 col9\" >0.0567</td>\n",
       "      <td id=\"T_3c7a6_row4_col10\" class=\"data row4 col10\" >0.0302</td>\n",
       "    </tr>\n",
       "    <tr>\n",
       "      <th id=\"T_3c7a6_level0_row5\" class=\"row_heading level0 row5\" >5</th>\n",
       "      <td id=\"T_3c7a6_row5_col0\" class=\"data row5 col0\" >0.0524</td>\n",
       "      <td id=\"T_3c7a6_row5_col1\" class=\"data row5 col1\" >0.0111</td>\n",
       "      <td id=\"T_3c7a6_row5_col2\" class=\"data row5 col2\" >0.1054</td>\n",
       "      <td id=\"T_3c7a6_row5_col3\" class=\"data row5 col3\" >0.8594</td>\n",
       "      <td id=\"T_3c7a6_row5_col4\" class=\"data row5 col4\" >0.0654</td>\n",
       "      <td id=\"T_3c7a6_row5_col5\" class=\"data row5 col5\" >0.1757</td>\n",
       "      <td id=\"T_3c7a6_row5_col6\" class=\"data row5 col6\" >0.0400</td>\n",
       "      <td id=\"T_3c7a6_row5_col7\" class=\"data row5 col7\" >0.0284</td>\n",
       "      <td id=\"T_3c7a6_row5_col8\" class=\"data row5 col8\" >0.1054</td>\n",
       "      <td id=\"T_3c7a6_row5_col9\" class=\"data row5 col9\" >0.0697</td>\n",
       "      <td id=\"T_3c7a6_row5_col10\" class=\"data row5 col10\" >0.0254</td>\n",
       "    </tr>\n",
       "    <tr>\n",
       "      <th id=\"T_3c7a6_level0_row6\" class=\"row_heading level0 row6\" >6</th>\n",
       "      <td id=\"T_3c7a6_row6_col0\" class=\"data row6 col0\" >0.0507</td>\n",
       "      <td id=\"T_3c7a6_row6_col1\" class=\"data row6 col1\" >0.0093</td>\n",
       "      <td id=\"T_3c7a6_row6_col2\" class=\"data row6 col2\" >0.0966</td>\n",
       "      <td id=\"T_3c7a6_row6_col3\" class=\"data row6 col3\" >0.8653</td>\n",
       "      <td id=\"T_3c7a6_row6_col4\" class=\"data row6 col4\" >0.0641</td>\n",
       "      <td id=\"T_3c7a6_row6_col5\" class=\"data row6 col5\" >0.1927</td>\n",
       "      <td id=\"T_3c7a6_row6_col6\" class=\"data row6 col6\" >0.0392</td>\n",
       "      <td id=\"T_3c7a6_row6_col7\" class=\"data row6 col7\" >0.0283</td>\n",
       "      <td id=\"T_3c7a6_row6_col8\" class=\"data row6 col8\" >0.0966</td>\n",
       "      <td id=\"T_3c7a6_row6_col9\" class=\"data row6 col9\" >0.0769</td>\n",
       "      <td id=\"T_3c7a6_row6_col10\" class=\"data row6 col10\" >0.0286</td>\n",
       "    </tr>\n",
       "    <tr>\n",
       "      <th id=\"T_3c7a6_level0_row7\" class=\"row_heading level0 row7\" >7</th>\n",
       "      <td id=\"T_3c7a6_row7_col0\" class=\"data row7 col0\" >0.0500</td>\n",
       "      <td id=\"T_3c7a6_row7_col1\" class=\"data row7 col1\" >0.0109</td>\n",
       "      <td id=\"T_3c7a6_row7_col2\" class=\"data row7 col2\" >0.1046</td>\n",
       "      <td id=\"T_3c7a6_row7_col3\" class=\"data row7 col3\" >0.8434</td>\n",
       "      <td id=\"T_3c7a6_row7_col4\" class=\"data row7 col4\" >0.0638</td>\n",
       "      <td id=\"T_3c7a6_row7_col5\" class=\"data row7 col5\" >0.1651</td>\n",
       "      <td id=\"T_3c7a6_row7_col6\" class=\"data row7 col6\" >0.0357</td>\n",
       "      <td id=\"T_3c7a6_row7_col7\" class=\"data row7 col7\" >0.0276</td>\n",
       "      <td id=\"T_3c7a6_row7_col8\" class=\"data row7 col8\" >0.1046</td>\n",
       "      <td id=\"T_3c7a6_row7_col9\" class=\"data row7 col9\" >0.0641</td>\n",
       "      <td id=\"T_3c7a6_row7_col10\" class=\"data row7 col10\" >0.0254</td>\n",
       "    </tr>\n",
       "    <tr>\n",
       "      <th id=\"T_3c7a6_level0_row8\" class=\"row_heading level0 row8\" >8</th>\n",
       "      <td id=\"T_3c7a6_row8_col0\" class=\"data row8 col0\" >0.0470</td>\n",
       "      <td id=\"T_3c7a6_row8_col1\" class=\"data row8 col1\" >0.0083</td>\n",
       "      <td id=\"T_3c7a6_row8_col2\" class=\"data row8 col2\" >0.0911</td>\n",
       "      <td id=\"T_3c7a6_row8_col3\" class=\"data row8 col3\" >0.8720</td>\n",
       "      <td id=\"T_3c7a6_row8_col4\" class=\"data row8 col4\" >0.0623</td>\n",
       "      <td id=\"T_3c7a6_row8_col5\" class=\"data row8 col5\" >0.1545</td>\n",
       "      <td id=\"T_3c7a6_row8_col6\" class=\"data row8 col6\" >0.0387</td>\n",
       "      <td id=\"T_3c7a6_row8_col7\" class=\"data row8 col7\" >0.0275</td>\n",
       "      <td id=\"T_3c7a6_row8_col8\" class=\"data row8 col8\" >0.0911</td>\n",
       "      <td id=\"T_3c7a6_row8_col9\" class=\"data row8 col9\" >0.0764</td>\n",
       "      <td id=\"T_3c7a6_row8_col10\" class=\"data row8 col10\" >0.0238</td>\n",
       "    </tr>\n",
       "    <tr>\n",
       "      <th id=\"T_3c7a6_level0_row9\" class=\"row_heading level0 row9\" >9</th>\n",
       "      <td id=\"T_3c7a6_row9_col0\" class=\"data row9 col0\" >0.0481</td>\n",
       "      <td id=\"T_3c7a6_row9_col1\" class=\"data row9 col1\" >0.0081</td>\n",
       "      <td id=\"T_3c7a6_row9_col2\" class=\"data row9 col2\" >0.0899</td>\n",
       "      <td id=\"T_3c7a6_row9_col3\" class=\"data row9 col3\" >0.8812</td>\n",
       "      <td id=\"T_3c7a6_row9_col4\" class=\"data row9 col4\" >0.0612</td>\n",
       "      <td id=\"T_3c7a6_row9_col5\" class=\"data row9 col5\" >0.1622</td>\n",
       "      <td id=\"T_3c7a6_row9_col6\" class=\"data row9 col6\" >0.0401</td>\n",
       "      <td id=\"T_3c7a6_row9_col7\" class=\"data row9 col7\" >0.0293</td>\n",
       "      <td id=\"T_3c7a6_row9_col8\" class=\"data row9 col8\" >0.0899</td>\n",
       "      <td id=\"T_3c7a6_row9_col9\" class=\"data row9 col9\" >0.0685</td>\n",
       "      <td id=\"T_3c7a6_row9_col10\" class=\"data row9 col10\" >0.0191</td>\n",
       "    </tr>\n",
       "    <tr>\n",
       "      <th id=\"T_3c7a6_level0_row10\" class=\"row_heading level0 row10\" >Mean</th>\n",
       "      <td id=\"T_3c7a6_row10_col0\" class=\"data row10 col0\" >0.0493</td>\n",
       "      <td id=\"T_3c7a6_row10_col1\" class=\"data row10 col1\" >0.0090</td>\n",
       "      <td id=\"T_3c7a6_row10_col2\" class=\"data row10 col2\" >0.0948</td>\n",
       "      <td id=\"T_3c7a6_row10_col3\" class=\"data row10 col3\" >0.8709</td>\n",
       "      <td id=\"T_3c7a6_row10_col4\" class=\"data row10 col4\" >0.0613</td>\n",
       "      <td id=\"T_3c7a6_row10_col5\" class=\"data row10 col5\" >0.1759</td>\n",
       "      <td id=\"T_3c7a6_row10_col6\" class=\"data row10 col6\" >0.0381</td>\n",
       "      <td id=\"T_3c7a6_row10_col7\" class=\"data row10 col7\" >0.0281</td>\n",
       "      <td id=\"T_3c7a6_row10_col8\" class=\"data row10 col8\" >0.0948</td>\n",
       "      <td id=\"T_3c7a6_row10_col9\" class=\"data row10 col9\" >0.0673</td>\n",
       "      <td id=\"T_3c7a6_row10_col10\" class=\"data row10 col10\" >0.0267</td>\n",
       "    </tr>\n",
       "    <tr>\n",
       "      <th id=\"T_3c7a6_level0_row11\" class=\"row_heading level0 row11\" >Std</th>\n",
       "      <td id=\"T_3c7a6_row11_col0\" class=\"data row11 col0\" >0.0034</td>\n",
       "      <td id=\"T_3c7a6_row11_col1\" class=\"data row11 col1\" >0.0015</td>\n",
       "      <td id=\"T_3c7a6_row11_col2\" class=\"data row11 col2\" >0.0079</td>\n",
       "      <td id=\"T_3c7a6_row11_col3\" class=\"data row11 col3\" >0.0220</td>\n",
       "      <td id=\"T_3c7a6_row11_col4\" class=\"data row11 col4\" >0.0059</td>\n",
       "      <td id=\"T_3c7a6_row11_col5\" class=\"data row11 col5\" >0.0143</td>\n",
       "      <td id=\"T_3c7a6_row11_col6\" class=\"data row11 col6\" >0.0019</td>\n",
       "      <td id=\"T_3c7a6_row11_col7\" class=\"data row11 col7\" >0.0009</td>\n",
       "      <td id=\"T_3c7a6_row11_col8\" class=\"data row11 col8\" >0.0079</td>\n",
       "      <td id=\"T_3c7a6_row11_col9\" class=\"data row11 col9\" >0.0102</td>\n",
       "      <td id=\"T_3c7a6_row11_col10\" class=\"data row11 col10\" >0.0058</td>\n",
       "    </tr>\n",
       "  </tbody>\n",
       "</table>\n"
      ],
      "text/plain": [
       "<pandas.io.formats.style.Styler at 0x7f2dfa2a9430>"
      ]
     },
     "metadata": {},
     "output_type": "display_data"
    }
   ],
   "source": [
    "stacked_model_z = pyr.stack_models(estimator_list = base_models,\n",
    "                                   meta_model     = meta_model,\n",
    "                                   optimize       = metric_2_opt, \n",
    "                                   restack        = True)"
   ]
  },
  {
   "cell_type": "code",
   "execution_count": 61,
   "id": "5b96496e",
   "metadata": {},
   "outputs": [],
   "source": [
    "# rf_tune_grid                 = pyr.models(internal=True).loc['rf']['Tune Grid']\n",
    "# rf_tune_grid['max_depth']    = [3, 4, 5, 6, 7, 8, 9, 10, 11]  # old = [1, 2, 3, 4, 5, 6, 7, 8, 9, 10, 11]\n",
    "# rf_tune_grid['max_features'] = [0.25, 0.33, 0.66]  # old = [1.0, 'sqrt', 'log2']"
   ]
  },
  {
   "cell_type": "code",
   "execution_count": 57,
   "id": "91e8381b",
   "metadata": {
    "id": "Dz0XvX17teel"
   },
   "outputs": [
    {
     "data": {
      "text/html": [
       "<style type=\"text/css\">\n",
       "#T_c0769_row10_col0, #T_c0769_row10_col1, #T_c0769_row10_col2, #T_c0769_row10_col3, #T_c0769_row10_col4, #T_c0769_row10_col5, #T_c0769_row10_col6, #T_c0769_row10_col7, #T_c0769_row10_col8, #T_c0769_row10_col9, #T_c0769_row10_col10 {\n",
       "  background: yellow;\n",
       "}\n",
       "</style>\n",
       "<table id=\"T_c0769\">\n",
       "  <thead>\n",
       "    <tr>\n",
       "      <th class=\"blank level0\" >&nbsp;</th>\n",
       "      <th id=\"T_c0769_level0_col0\" class=\"col_heading level0 col0\" >MAE</th>\n",
       "      <th id=\"T_c0769_level0_col1\" class=\"col_heading level0 col1\" >MSE</th>\n",
       "      <th id=\"T_c0769_level0_col2\" class=\"col_heading level0 col2\" >RMSE</th>\n",
       "      <th id=\"T_c0769_level0_col3\" class=\"col_heading level0 col3\" >R2</th>\n",
       "      <th id=\"T_c0769_level0_col4\" class=\"col_heading level0 col4\" >RMSLE</th>\n",
       "      <th id=\"T_c0769_level0_col5\" class=\"col_heading level0 col5\" >MAPE</th>\n",
       "      <th id=\"T_c0769_level0_col6\" class=\"col_heading level0 col6\" >sigma_mad</th>\n",
       "      <th id=\"T_c0769_level0_col7\" class=\"col_heading level0 col7\" >sigma_nmad</th>\n",
       "      <th id=\"T_c0769_level0_col8\" class=\"col_heading level0 col8\" >sigma_z</th>\n",
       "      <th id=\"T_c0769_level0_col9\" class=\"col_heading level0 col9\" >sigma_z_norm</th>\n",
       "      <th id=\"T_c0769_level0_col10\" class=\"col_heading level0 col10\" >outlier_fr</th>\n",
       "    </tr>\n",
       "    <tr>\n",
       "      <th class=\"index_name level0\" >Fold</th>\n",
       "      <th class=\"blank col0\" >&nbsp;</th>\n",
       "      <th class=\"blank col1\" >&nbsp;</th>\n",
       "      <th class=\"blank col2\" >&nbsp;</th>\n",
       "      <th class=\"blank col3\" >&nbsp;</th>\n",
       "      <th class=\"blank col4\" >&nbsp;</th>\n",
       "      <th class=\"blank col5\" >&nbsp;</th>\n",
       "      <th class=\"blank col6\" >&nbsp;</th>\n",
       "      <th class=\"blank col7\" >&nbsp;</th>\n",
       "      <th class=\"blank col8\" >&nbsp;</th>\n",
       "      <th class=\"blank col9\" >&nbsp;</th>\n",
       "      <th class=\"blank col10\" >&nbsp;</th>\n",
       "    </tr>\n",
       "  </thead>\n",
       "  <tbody>\n",
       "    <tr>\n",
       "      <th id=\"T_c0769_level0_row0\" class=\"row_heading level0 row0\" >0</th>\n",
       "      <td id=\"T_c0769_row0_col0\" class=\"data row0 col0\" >0.0475</td>\n",
       "      <td id=\"T_c0769_row0_col1\" class=\"data row0 col1\" >0.0078</td>\n",
       "      <td id=\"T_c0769_row0_col2\" class=\"data row0 col2\" >0.0881</td>\n",
       "      <td id=\"T_c0769_row0_col3\" class=\"data row0 col3\" >0.8925</td>\n",
       "      <td id=\"T_c0769_row0_col4\" class=\"data row0 col4\" >0.0569</td>\n",
       "      <td id=\"T_c0769_row0_col5\" class=\"data row0 col5\" >0.1868</td>\n",
       "      <td id=\"T_c0769_row0_col6\" class=\"data row0 col6\" >0.0365</td>\n",
       "      <td id=\"T_c0769_row0_col7\" class=\"data row0 col7\" >0.0271</td>\n",
       "      <td id=\"T_c0769_row0_col8\" class=\"data row0 col8\" >0.0881</td>\n",
       "      <td id=\"T_c0769_row0_col9\" class=\"data row0 col9\" >0.0619</td>\n",
       "      <td id=\"T_c0769_row0_col10\" class=\"data row0 col10\" >0.0302</td>\n",
       "    </tr>\n",
       "    <tr>\n",
       "      <th id=\"T_c0769_level0_row1\" class=\"row_heading level0 row1\" >1</th>\n",
       "      <td id=\"T_c0769_row1_col0\" class=\"data row1 col0\" >0.0466</td>\n",
       "      <td id=\"T_c0769_row1_col1\" class=\"data row1 col1\" >0.0075</td>\n",
       "      <td id=\"T_c0769_row1_col2\" class=\"data row1 col2\" >0.0868</td>\n",
       "      <td id=\"T_c0769_row1_col3\" class=\"data row1 col3\" >0.8890</td>\n",
       "      <td id=\"T_c0769_row1_col4\" class=\"data row1 col4\" >0.0601</td>\n",
       "      <td id=\"T_c0769_row1_col5\" class=\"data row1 col5\" >0.2026</td>\n",
       "      <td id=\"T_c0769_row1_col6\" class=\"data row1 col6\" >0.0364</td>\n",
       "      <td id=\"T_c0769_row1_col7\" class=\"data row1 col7\" >0.0275</td>\n",
       "      <td id=\"T_c0769_row1_col8\" class=\"data row1 col8\" >0.0868</td>\n",
       "      <td id=\"T_c0769_row1_col9\" class=\"data row1 col9\" >0.0674</td>\n",
       "      <td id=\"T_c0769_row1_col10\" class=\"data row1 col10\" >0.0286</td>\n",
       "    </tr>\n",
       "    <tr>\n",
       "      <th id=\"T_c0769_level0_row2\" class=\"row_heading level0 row2\" >2</th>\n",
       "      <td id=\"T_c0769_row2_col0\" class=\"data row2 col0\" >0.0427</td>\n",
       "      <td id=\"T_c0769_row2_col1\" class=\"data row2 col1\" >0.0073</td>\n",
       "      <td id=\"T_c0769_row2_col2\" class=\"data row2 col2\" >0.0857</td>\n",
       "      <td id=\"T_c0769_row2_col3\" class=\"data row2 col3\" >0.8935</td>\n",
       "      <td id=\"T_c0769_row2_col4\" class=\"data row2 col4\" >0.0490</td>\n",
       "      <td id=\"T_c0769_row2_col5\" class=\"data row2 col5\" >0.1587</td>\n",
       "      <td id=\"T_c0769_row2_col6\" class=\"data row2 col6\" >0.0348</td>\n",
       "      <td id=\"T_c0769_row2_col7\" class=\"data row2 col7\" >0.0267</td>\n",
       "      <td id=\"T_c0769_row2_col8\" class=\"data row2 col8\" >0.0857</td>\n",
       "      <td id=\"T_c0769_row2_col9\" class=\"data row2 col9\" >0.0459</td>\n",
       "      <td id=\"T_c0769_row2_col10\" class=\"data row2 col10\" >0.0143</td>\n",
       "    </tr>\n",
       "    <tr>\n",
       "      <th id=\"T_c0769_level0_row3\" class=\"row_heading level0 row3\" >3</th>\n",
       "      <td id=\"T_c0769_row3_col0\" class=\"data row3 col0\" >0.0564</td>\n",
       "      <td id=\"T_c0769_row3_col1\" class=\"data row3 col1\" >0.0120</td>\n",
       "      <td id=\"T_c0769_row3_col2\" class=\"data row3 col2\" >0.1097</td>\n",
       "      <td id=\"T_c0769_row3_col3\" class=\"data row3 col3\" >0.8201</td>\n",
       "      <td id=\"T_c0769_row3_col4\" class=\"data row3 col4\" >0.0745</td>\n",
       "      <td id=\"T_c0769_row3_col5\" class=\"data row3 col5\" >0.1873</td>\n",
       "      <td id=\"T_c0769_row3_col6\" class=\"data row3 col6\" >0.0396</td>\n",
       "      <td id=\"T_c0769_row3_col7\" class=\"data row3 col7\" >0.0287</td>\n",
       "      <td id=\"T_c0769_row3_col8\" class=\"data row3 col8\" >0.1097</td>\n",
       "      <td id=\"T_c0769_row3_col9\" class=\"data row3 col9\" >0.0868</td>\n",
       "      <td id=\"T_c0769_row3_col10\" class=\"data row3 col10\" >0.0397</td>\n",
       "    </tr>\n",
       "    <tr>\n",
       "      <th id=\"T_c0769_level0_row4\" class=\"row_heading level0 row4\" >4</th>\n",
       "      <td id=\"T_c0769_row4_col0\" class=\"data row4 col0\" >0.0500</td>\n",
       "      <td id=\"T_c0769_row4_col1\" class=\"data row4 col1\" >0.0087</td>\n",
       "      <td id=\"T_c0769_row4_col2\" class=\"data row4 col2\" >0.0934</td>\n",
       "      <td id=\"T_c0769_row4_col3\" class=\"data row4 col3\" >0.8843</td>\n",
       "      <td id=\"T_c0769_row4_col4\" class=\"data row4 col4\" >0.0570</td>\n",
       "      <td id=\"T_c0769_row4_col5\" class=\"data row4 col5\" >0.2006</td>\n",
       "      <td id=\"T_c0769_row4_col6\" class=\"data row4 col6\" >0.0382</td>\n",
       "      <td id=\"T_c0769_row4_col7\" class=\"data row4 col7\" >0.0277</td>\n",
       "      <td id=\"T_c0769_row4_col8\" class=\"data row4 col8\" >0.0934</td>\n",
       "      <td id=\"T_c0769_row4_col9\" class=\"data row4 col9\" >0.0569</td>\n",
       "      <td id=\"T_c0769_row4_col10\" class=\"data row4 col10\" >0.0286</td>\n",
       "    </tr>\n",
       "    <tr>\n",
       "      <th id=\"T_c0769_level0_row5\" class=\"row_heading level0 row5\" >5</th>\n",
       "      <td id=\"T_c0769_row5_col0\" class=\"data row5 col0\" >0.0522</td>\n",
       "      <td id=\"T_c0769_row5_col1\" class=\"data row5 col1\" >0.0102</td>\n",
       "      <td id=\"T_c0769_row5_col2\" class=\"data row5 col2\" >0.1012</td>\n",
       "      <td id=\"T_c0769_row5_col3\" class=\"data row5 col3\" >0.8703</td>\n",
       "      <td id=\"T_c0769_row5_col4\" class=\"data row5 col4\" >0.0627</td>\n",
       "      <td id=\"T_c0769_row5_col5\" class=\"data row5 col5\" >0.1882</td>\n",
       "      <td id=\"T_c0769_row5_col6\" class=\"data row5 col6\" >0.0379</td>\n",
       "      <td id=\"T_c0769_row5_col7\" class=\"data row5 col7\" >0.0276</td>\n",
       "      <td id=\"T_c0769_row5_col8\" class=\"data row5 col8\" >0.1012</td>\n",
       "      <td id=\"T_c0769_row5_col9\" class=\"data row5 col9\" >0.0664</td>\n",
       "      <td id=\"T_c0769_row5_col10\" class=\"data row5 col10\" >0.0270</td>\n",
       "    </tr>\n",
       "    <tr>\n",
       "      <th id=\"T_c0769_level0_row6\" class=\"row_heading level0 row6\" >6</th>\n",
       "      <td id=\"T_c0769_row6_col0\" class=\"data row6 col0\" >0.0500</td>\n",
       "      <td id=\"T_c0769_row6_col1\" class=\"data row6 col1\" >0.0081</td>\n",
       "      <td id=\"T_c0769_row6_col2\" class=\"data row6 col2\" >0.0899</td>\n",
       "      <td id=\"T_c0769_row6_col3\" class=\"data row6 col3\" >0.8834</td>\n",
       "      <td id=\"T_c0769_row6_col4\" class=\"data row6 col4\" >0.0608</td>\n",
       "      <td id=\"T_c0769_row6_col5\" class=\"data row6 col5\" >0.2017</td>\n",
       "      <td id=\"T_c0769_row6_col6\" class=\"data row6 col6\" >0.0422</td>\n",
       "      <td id=\"T_c0769_row6_col7\" class=\"data row6 col7\" >0.0294</td>\n",
       "      <td id=\"T_c0769_row6_col8\" class=\"data row6 col8\" >0.0899</td>\n",
       "      <td id=\"T_c0769_row6_col9\" class=\"data row6 col9\" >0.0694</td>\n",
       "      <td id=\"T_c0769_row6_col10\" class=\"data row6 col10\" >0.0286</td>\n",
       "    </tr>\n",
       "    <tr>\n",
       "      <th id=\"T_c0769_level0_row7\" class=\"row_heading level0 row7\" >7</th>\n",
       "      <td id=\"T_c0769_row7_col0\" class=\"data row7 col0\" >0.0506</td>\n",
       "      <td id=\"T_c0769_row7_col1\" class=\"data row7 col1\" >0.0108</td>\n",
       "      <td id=\"T_c0769_row7_col2\" class=\"data row7 col2\" >0.1039</td>\n",
       "      <td id=\"T_c0769_row7_col3\" class=\"data row7 col3\" >0.8453</td>\n",
       "      <td id=\"T_c0769_row7_col4\" class=\"data row7 col4\" >0.0635</td>\n",
       "      <td id=\"T_c0769_row7_col5\" class=\"data row7 col5\" >0.1703</td>\n",
       "      <td id=\"T_c0769_row7_col6\" class=\"data row7 col6\" >0.0376</td>\n",
       "      <td id=\"T_c0769_row7_col7\" class=\"data row7 col7\" >0.0273</td>\n",
       "      <td id=\"T_c0769_row7_col8\" class=\"data row7 col8\" >0.1039</td>\n",
       "      <td id=\"T_c0769_row7_col9\" class=\"data row7 col9\" >0.0638</td>\n",
       "      <td id=\"T_c0769_row7_col10\" class=\"data row7 col10\" >0.0238</td>\n",
       "    </tr>\n",
       "    <tr>\n",
       "      <th id=\"T_c0769_level0_row8\" class=\"row_heading level0 row8\" >8</th>\n",
       "      <td id=\"T_c0769_row8_col0\" class=\"data row8 col0\" >0.0463</td>\n",
       "      <td id=\"T_c0769_row8_col1\" class=\"data row8 col1\" >0.0071</td>\n",
       "      <td id=\"T_c0769_row8_col2\" class=\"data row8 col2\" >0.0845</td>\n",
       "      <td id=\"T_c0769_row8_col3\" class=\"data row8 col3\" >0.8899</td>\n",
       "      <td id=\"T_c0769_row8_col4\" class=\"data row8 col4\" >0.0589</td>\n",
       "      <td id=\"T_c0769_row8_col5\" class=\"data row8 col5\" >0.1580</td>\n",
       "      <td id=\"T_c0769_row8_col6\" class=\"data row8 col6\" >0.0383</td>\n",
       "      <td id=\"T_c0769_row8_col7\" class=\"data row8 col7\" >0.0276</td>\n",
       "      <td id=\"T_c0769_row8_col8\" class=\"data row8 col8\" >0.0845</td>\n",
       "      <td id=\"T_c0769_row8_col9\" class=\"data row8 col9\" >0.0683</td>\n",
       "      <td id=\"T_c0769_row8_col10\" class=\"data row8 col10\" >0.0223</td>\n",
       "    </tr>\n",
       "    <tr>\n",
       "      <th id=\"T_c0769_level0_row9\" class=\"row_heading level0 row9\" >9</th>\n",
       "      <td id=\"T_c0769_row9_col0\" class=\"data row9 col0\" >0.0477</td>\n",
       "      <td id=\"T_c0769_row9_col1\" class=\"data row9 col1\" >0.0080</td>\n",
       "      <td id=\"T_c0769_row9_col2\" class=\"data row9 col2\" >0.0892</td>\n",
       "      <td id=\"T_c0769_row9_col3\" class=\"data row9 col3\" >0.8830</td>\n",
       "      <td id=\"T_c0769_row9_col4\" class=\"data row9 col4\" >0.0611</td>\n",
       "      <td id=\"T_c0769_row9_col5\" class=\"data row9 col5\" >0.1684</td>\n",
       "      <td id=\"T_c0769_row9_col6\" class=\"data row9 col6\" >0.0390</td>\n",
       "      <td id=\"T_c0769_row9_col7\" class=\"data row9 col7\" >0.0292</td>\n",
       "      <td id=\"T_c0769_row9_col8\" class=\"data row9 col8\" >0.0892</td>\n",
       "      <td id=\"T_c0769_row9_col9\" class=\"data row9 col9\" >0.0703</td>\n",
       "      <td id=\"T_c0769_row9_col10\" class=\"data row9 col10\" >0.0191</td>\n",
       "    </tr>\n",
       "    <tr>\n",
       "      <th id=\"T_c0769_level0_row10\" class=\"row_heading level0 row10\" >Mean</th>\n",
       "      <td id=\"T_c0769_row10_col0\" class=\"data row10 col0\" >0.0490</td>\n",
       "      <td id=\"T_c0769_row10_col1\" class=\"data row10 col1\" >0.0088</td>\n",
       "      <td id=\"T_c0769_row10_col2\" class=\"data row10 col2\" >0.0932</td>\n",
       "      <td id=\"T_c0769_row10_col3\" class=\"data row10 col3\" >0.8751</td>\n",
       "      <td id=\"T_c0769_row10_col4\" class=\"data row10 col4\" >0.0605</td>\n",
       "      <td id=\"T_c0769_row10_col5\" class=\"data row10 col5\" >0.1822</td>\n",
       "      <td id=\"T_c0769_row10_col6\" class=\"data row10 col6\" >0.0381</td>\n",
       "      <td id=\"T_c0769_row10_col7\" class=\"data row10 col7\" >0.0279</td>\n",
       "      <td id=\"T_c0769_row10_col8\" class=\"data row10 col8\" >0.0932</td>\n",
       "      <td id=\"T_c0769_row10_col9\" class=\"data row10 col9\" >0.0657</td>\n",
       "      <td id=\"T_c0769_row10_col10\" class=\"data row10 col10\" >0.0262</td>\n",
       "    </tr>\n",
       "    <tr>\n",
       "      <th id=\"T_c0769_level0_row11\" class=\"row_heading level0 row11\" >Std</th>\n",
       "      <td id=\"T_c0769_row11_col0\" class=\"data row11 col0\" >0.0035</td>\n",
       "      <td id=\"T_c0769_row11_col1\" class=\"data row11 col1\" >0.0016</td>\n",
       "      <td id=\"T_c0769_row11_col2\" class=\"data row11 col2\" >0.0082</td>\n",
       "      <td id=\"T_c0769_row11_col3\" class=\"data row11 col3\" >0.0228</td>\n",
       "      <td id=\"T_c0769_row11_col4\" class=\"data row11 col4\" >0.0061</td>\n",
       "      <td id=\"T_c0769_row11_col5\" class=\"data row11 col5\" >0.0164</td>\n",
       "      <td id=\"T_c0769_row11_col6\" class=\"data row11 col6\" >0.0019</td>\n",
       "      <td id=\"T_c0769_row11_col7\" class=\"data row11 col7\" >0.0009</td>\n",
       "      <td id=\"T_c0769_row11_col8\" class=\"data row11 col8\" >0.0082</td>\n",
       "      <td id=\"T_c0769_row11_col9\" class=\"data row11 col9\" >0.0099</td>\n",
       "      <td id=\"T_c0769_row11_col10\" class=\"data row11 col10\" >0.0066</td>\n",
       "    </tr>\n",
       "  </tbody>\n",
       "</table>\n"
      ],
      "text/plain": [
       "<pandas.io.formats.style.Styler at 0x7f2df7e76fd0>"
      ]
     },
     "metadata": {},
     "output_type": "display_data"
    }
   ],
   "source": [
    "# tuned_z_reg = pyr.tune_model(estimator        = stacked_model_z,\n",
    "#                              early_stopping   = True,\n",
    "#                              optimize         = metric_2_opt,\n",
    "#                              search_library   = 'tune-sklearn',\n",
    "#                              search_algorithm = 'bayesian',\n",
    "#                              choose_better    = True,\n",
    "#                              custom_grid      = rf_tune_grid)  # 1h30\n",
    "tuned_z_reg = pyr.tune_model(estimator        = stacked_model_z,\n",
    "                             early_stopping   = True,\n",
    "                             optimize         = metric_2_opt,\n",
    "                             search_library   = 'tune-sklearn',\n",
    "                             search_algorithm = 'bayesian',\n",
    "                             choose_better    = True)  # 1h30"
   ]
  },
  {
   "cell_type": "code",
   "execution_count": 58,
   "id": "7ee9147f",
   "metadata": {
    "id": "GJfDVspZtn7Z"
   },
   "outputs": [
    {
     "data": {
      "image/png": "[encoded data removed]",
      "text/plain": [
       "<Figure size 640x480 with 1 Axes>"
      ]
     },
     "metadata": {},
     "output_type": "display_data"
    }
   ],
   "source": [
    "pyr.plot_model(tuned_z_reg, plot='error')"
   ]
  },
  {
   "cell_type": "code",
   "execution_count": 59,
   "id": "59e76aef",
   "metadata": {
    "id": "3N6_OxWptsEe",
    "tags": []
   },
   "outputs": [
    {
     "data": {
      "image/png": "[encoded data removed]",
      "text/plain": [
       "<Figure size 640x480 with 2 Axes>"
      ]
     },
     "metadata": {},
     "output_type": "display_data"
    }
   ],
   "source": [
    "pyr.plot_model(tuned_z_reg, plot='residuals')"
   ]
  },
  {
   "cell_type": "code",
   "execution_count": 77,
   "id": "2adcb45e",
   "metadata": {
    "id": "Mq15jdjqtv3Y"
   },
   "outputs": [],
   "source": [
    "# pyr.plot_model(tuned_z_reg.final_estimator_, plot='feature_all')"
   ]
  },
  {
   "cell_type": "code",
   "execution_count": 60,
   "id": "36639b57",
   "metadata": {
    "id": "Mq15jdjqtv3Y"
   },
   "outputs": [
    {
     "data": {
      "text/html": [
       "<div>\n",
       "<style scoped>\n",
       "    .dataframe tbody tr th:only-of-type {\n",
       "        vertical-align: middle;\n",
       "    }\n",
       "\n",
       "    .dataframe tbody tr th {\n",
       "        vertical-align: top;\n",
       "    }\n",
       "\n",
       "    .dataframe thead th {\n",
       "        text-align: right;\n",
       "    }\n",
       "</style>\n",
       "<table border=\"1\" class=\"dataframe\">\n",
       "  <thead>\n",
       "    <tr style=\"text-align: right;\">\n",
       "      <th></th>\n",
       "      <th>Parameters</th>\n",
       "    </tr>\n",
       "  </thead>\n",
       "  <tbody>\n",
       "    <tr>\n",
       "      <th>bootstrap</th>\n",
       "      <td>False</td>\n",
       "    </tr>\n",
       "    <tr>\n",
       "      <th>ccp_alpha</th>\n",
       "      <td>0.0</td>\n",
       "    </tr>\n",
       "    <tr>\n",
       "      <th>criterion</th>\n",
       "      <td>mse</td>\n",
       "    </tr>\n",
       "    <tr>\n",
       "      <th>max_depth</th>\n",
       "      <td>None</td>\n",
       "    </tr>\n",
       "    <tr>\n",
       "      <th>max_features</th>\n",
       "      <td>auto</td>\n",
       "    </tr>\n",
       "    <tr>\n",
       "      <th>max_leaf_nodes</th>\n",
       "      <td>None</td>\n",
       "    </tr>\n",
       "    <tr>\n",
       "      <th>max_samples</th>\n",
       "      <td>None</td>\n",
       "    </tr>\n",
       "    <tr>\n",
       "      <th>min_impurity_decrease</th>\n",
       "      <td>0.0</td>\n",
       "    </tr>\n",
       "    <tr>\n",
       "      <th>min_impurity_split</th>\n",
       "      <td>None</td>\n",
       "    </tr>\n",
       "    <tr>\n",
       "      <th>min_samples_leaf</th>\n",
       "      <td>1</td>\n",
       "    </tr>\n",
       "    <tr>\n",
       "      <th>min_samples_split</th>\n",
       "      <td>2</td>\n",
       "    </tr>\n",
       "    <tr>\n",
       "      <th>min_weight_fraction_leaf</th>\n",
       "      <td>0.0</td>\n",
       "    </tr>\n",
       "    <tr>\n",
       "      <th>n_estimators</th>\n",
       "      <td>100</td>\n",
       "    </tr>\n",
       "    <tr>\n",
       "      <th>n_jobs</th>\n",
       "      <td>12</td>\n",
       "    </tr>\n",
       "    <tr>\n",
       "      <th>oob_score</th>\n",
       "      <td>False</td>\n",
       "    </tr>\n",
       "    <tr>\n",
       "      <th>random_state</th>\n",
       "      <td>42</td>\n",
       "    </tr>\n",
       "    <tr>\n",
       "      <th>verbose</th>\n",
       "      <td>0</td>\n",
       "    </tr>\n",
       "    <tr>\n",
       "      <th>warm_start</th>\n",
       "      <td>False</td>\n",
       "    </tr>\n",
       "  </tbody>\n",
       "</table>\n",
       "</div>"
      ],
      "text/plain": [
       "                         Parameters\n",
       "bootstrap                     False\n",
       "ccp_alpha                       0.0\n",
       "criterion                       mse\n",
       "max_depth                      None\n",
       "max_features                   auto\n",
       "max_leaf_nodes                 None\n",
       "max_samples                    None\n",
       "min_impurity_decrease           0.0\n",
       "min_impurity_split             None\n",
       "min_samples_leaf                  1\n",
       "min_samples_split                 2\n",
       "min_weight_fraction_leaf        0.0\n",
       "n_estimators                    100\n",
       "n_jobs                           12\n",
       "oob_score                     False\n",
       "random_state                     42\n",
       "verbose                           0\n",
       "warm_start                    False"
      ]
     },
     "metadata": {},
     "output_type": "display_data"
    }
   ],
   "source": [
    "pyr.plot_model(tuned_z_reg.final_estimator_, plot='parameter')"
   ]
  },
  {
   "cell_type": "code",
   "execution_count": 61,
   "id": "b34e742d",
   "metadata": {
    "id": "Mq15jdjqtv3Y"
   },
   "outputs": [
    {
     "data": {
      "text/html": [
       "<div>\n",
       "<style scoped>\n",
       "    .dataframe tbody tr th:only-of-type {\n",
       "        vertical-align: middle;\n",
       "    }\n",
       "\n",
       "    .dataframe tbody tr th {\n",
       "        vertical-align: top;\n",
       "    }\n",
       "\n",
       "    .dataframe thead th {\n",
       "        text-align: right;\n",
       "    }\n",
       "</style>\n",
       "<table border=\"1\" class=\"dataframe\">\n",
       "  <thead>\n",
       "    <tr style=\"text-align: right;\">\n",
       "      <th></th>\n",
       "      <th>Parameters</th>\n",
       "    </tr>\n",
       "  </thead>\n",
       "  <tbody>\n",
       "    <tr>\n",
       "      <th>bootstrap</th>\n",
       "      <td>False</td>\n",
       "    </tr>\n",
       "    <tr>\n",
       "      <th>ccp_alpha</th>\n",
       "      <td>0.0</td>\n",
       "    </tr>\n",
       "    <tr>\n",
       "      <th>criterion</th>\n",
       "      <td>mse</td>\n",
       "    </tr>\n",
       "    <tr>\n",
       "      <th>max_depth</th>\n",
       "      <td>None</td>\n",
       "    </tr>\n",
       "    <tr>\n",
       "      <th>max_features</th>\n",
       "      <td>auto</td>\n",
       "    </tr>\n",
       "    <tr>\n",
       "      <th>max_leaf_nodes</th>\n",
       "      <td>None</td>\n",
       "    </tr>\n",
       "    <tr>\n",
       "      <th>max_samples</th>\n",
       "      <td>None</td>\n",
       "    </tr>\n",
       "    <tr>\n",
       "      <th>min_impurity_decrease</th>\n",
       "      <td>0.0</td>\n",
       "    </tr>\n",
       "    <tr>\n",
       "      <th>min_impurity_split</th>\n",
       "      <td>None</td>\n",
       "    </tr>\n",
       "    <tr>\n",
       "      <th>min_samples_leaf</th>\n",
       "      <td>1</td>\n",
       "    </tr>\n",
       "    <tr>\n",
       "      <th>min_samples_split</th>\n",
       "      <td>2</td>\n",
       "    </tr>\n",
       "    <tr>\n",
       "      <th>min_weight_fraction_leaf</th>\n",
       "      <td>0.0</td>\n",
       "    </tr>\n",
       "    <tr>\n",
       "      <th>n_estimators</th>\n",
       "      <td>100</td>\n",
       "    </tr>\n",
       "    <tr>\n",
       "      <th>n_jobs</th>\n",
       "      <td>12</td>\n",
       "    </tr>\n",
       "    <tr>\n",
       "      <th>oob_score</th>\n",
       "      <td>False</td>\n",
       "    </tr>\n",
       "    <tr>\n",
       "      <th>random_state</th>\n",
       "      <td>42</td>\n",
       "    </tr>\n",
       "    <tr>\n",
       "      <th>verbose</th>\n",
       "      <td>0</td>\n",
       "    </tr>\n",
       "    <tr>\n",
       "      <th>warm_start</th>\n",
       "      <td>False</td>\n",
       "    </tr>\n",
       "  </tbody>\n",
       "</table>\n",
       "</div>"
      ],
      "text/plain": [
       "                         Parameters\n",
       "bootstrap                     False\n",
       "ccp_alpha                       0.0\n",
       "criterion                       mse\n",
       "max_depth                      None\n",
       "max_features                   auto\n",
       "max_leaf_nodes                 None\n",
       "max_samples                    None\n",
       "min_impurity_decrease           0.0\n",
       "min_impurity_split             None\n",
       "min_samples_leaf                  1\n",
       "min_samples_split                 2\n",
       "min_weight_fraction_leaf        0.0\n",
       "n_estimators                    100\n",
       "n_jobs                           12\n",
       "oob_score                     False\n",
       "random_state                     42\n",
       "verbose                           0\n",
       "warm_start                    False"
      ]
     },
     "metadata": {},
     "output_type": "display_data"
    }
   ],
   "source": [
    "pyr.plot_model(tuned_z_reg.final_estimator, plot='parameter')"
   ]
  },
  {
   "cell_type": "code",
   "execution_count": 62,
   "id": "2350b40f",
   "metadata": {
    "id": "t2CRgDLptzuE"
   },
   "outputs": [],
   "source": [
    "plt.rcParams.update(plt.rcParamsDefault)\n",
    "plt.rcParams['text.usetex'] = True"
   ]
  },
  {
   "cell_type": "code",
   "execution_count": 63,
   "id": "9d56875c",
   "metadata": {},
   "outputs": [
    {
     "data": {
      "text/html": [
       "<style type=\"text/css\">\n",
       "</style>\n",
       "<table id=\"T_fdd19\">\n",
       "  <thead>\n",
       "    <tr>\n",
       "      <th class=\"blank level0\" >&nbsp;</th>\n",
       "      <th id=\"T_fdd19_level0_col0\" class=\"col_heading level0 col0\" >Model</th>\n",
       "      <th id=\"T_fdd19_level0_col1\" class=\"col_heading level0 col1\" >MAE</th>\n",
       "      <th id=\"T_fdd19_level0_col2\" class=\"col_heading level0 col2\" >MSE</th>\n",
       "      <th id=\"T_fdd19_level0_col3\" class=\"col_heading level0 col3\" >RMSE</th>\n",
       "      <th id=\"T_fdd19_level0_col4\" class=\"col_heading level0 col4\" >R2</th>\n",
       "      <th id=\"T_fdd19_level0_col5\" class=\"col_heading level0 col5\" >RMSLE</th>\n",
       "      <th id=\"T_fdd19_level0_col6\" class=\"col_heading level0 col6\" >MAPE</th>\n",
       "      <th id=\"T_fdd19_level0_col7\" class=\"col_heading level0 col7\" >sigma_mad</th>\n",
       "      <th id=\"T_fdd19_level0_col8\" class=\"col_heading level0 col8\" >sigma_nmad</th>\n",
       "      <th id=\"T_fdd19_level0_col9\" class=\"col_heading level0 col9\" >sigma_z</th>\n",
       "      <th id=\"T_fdd19_level0_col10\" class=\"col_heading level0 col10\" >sigma_z_norm</th>\n",
       "      <th id=\"T_fdd19_level0_col11\" class=\"col_heading level0 col11\" >outlier_fr</th>\n",
       "    </tr>\n",
       "  </thead>\n",
       "  <tbody>\n",
       "    <tr>\n",
       "      <th id=\"T_fdd19_level0_row0\" class=\"row_heading level0 row0\" >0</th>\n",
       "      <td id=\"T_fdd19_row0_col0\" class=\"data row0 col0\" >Stacking Regressor</td>\n",
       "      <td id=\"T_fdd19_row0_col1\" class=\"data row0 col1\" >0.0558</td>\n",
       "      <td id=\"T_fdd19_row0_col2\" class=\"data row0 col2\" >0.0120</td>\n",
       "      <td id=\"T_fdd19_row0_col3\" class=\"data row0 col3\" >0.1097</td>\n",
       "      <td id=\"T_fdd19_row0_col4\" class=\"data row0 col4\" >0.8311</td>\n",
       "      <td id=\"T_fdd19_row0_col5\" class=\"data row0 col5\" >0.0678</td>\n",
       "      <td id=\"T_fdd19_row0_col6\" class=\"data row0 col6\" >0.1476</td>\n",
       "      <td id=\"T_fdd19_row0_col7\" class=\"data row0 col7\" >0.0395</td>\n",
       "      <td id=\"T_fdd19_row0_col8\" class=\"data row0 col8\" >0.0284</td>\n",
       "      <td id=\"T_fdd19_row0_col9\" class=\"data row0 col9\" >0.1097</td>\n",
       "      <td id=\"T_fdd19_row0_col10\" class=\"data row0 col10\" >0.0715</td>\n",
       "      <td id=\"T_fdd19_row0_col11\" class=\"data row0 col11\" >0.0383</td>\n",
       "    </tr>\n",
       "  </tbody>\n",
       "</table>\n"
      ],
      "text/plain": [
       "<pandas.io.formats.style.Styler at 0x7f2e1473e370>"
      ]
     },
     "metadata": {},
     "output_type": "display_data"
    },
    {
     "data": {
      "text/html": [
       "<div>\n",
       "<style scoped>\n",
       "    .dataframe tbody tr th:only-of-type {\n",
       "        vertical-align: middle;\n",
       "    }\n",
       "\n",
       "    .dataframe tbody tr th {\n",
       "        vertical-align: top;\n",
       "    }\n",
       "\n",
       "    .dataframe thead th {\n",
       "        text-align: right;\n",
       "    }\n",
       "</style>\n",
       "<table border=\"1\" class=\"dataframe\">\n",
       "  <thead>\n",
       "    <tr style=\"text-align: right;\">\n",
       "      <th></th>\n",
       "      <th>Z</th>\n",
       "      <th>Label</th>\n",
       "    </tr>\n",
       "  </thead>\n",
       "  <tbody>\n",
       "    <tr>\n",
       "      <th>count</th>\n",
       "      <td>784.000000</td>\n",
       "      <td>784.000000</td>\n",
       "    </tr>\n",
       "    <tr>\n",
       "      <th>mean</th>\n",
       "      <td>0.432370</td>\n",
       "      <td>0.430308</td>\n",
       "    </tr>\n",
       "    <tr>\n",
       "      <th>std</th>\n",
       "      <td>0.267227</td>\n",
       "      <td>0.245907</td>\n",
       "    </tr>\n",
       "    <tr>\n",
       "      <th>min</th>\n",
       "      <td>0.000000</td>\n",
       "      <td>0.020634</td>\n",
       "    </tr>\n",
       "    <tr>\n",
       "      <th>25%</th>\n",
       "      <td>0.160565</td>\n",
       "      <td>0.162656</td>\n",
       "    </tr>\n",
       "    <tr>\n",
       "      <th>50%</th>\n",
       "      <td>0.474925</td>\n",
       "      <td>0.501211</td>\n",
       "    </tr>\n",
       "    <tr>\n",
       "      <th>75%</th>\n",
       "      <td>0.607532</td>\n",
       "      <td>0.615272</td>\n",
       "    </tr>\n",
       "    <tr>\n",
       "      <th>max</th>\n",
       "      <td>1.975860</td>\n",
       "      <td>0.994557</td>\n",
       "    </tr>\n",
       "  </tbody>\n",
       "</table>\n",
       "</div>"
      ],
      "text/plain": [
       "                Z       Label\n",
       "count  784.000000  784.000000\n",
       "mean     0.432370    0.430308\n",
       "std      0.267227    0.245907\n",
       "min      0.000000    0.020634\n",
       "25%      0.160565    0.162656\n",
       "50%      0.474925    0.501211\n",
       "75%      0.607532    0.615272\n",
       "max      1.975860    0.994557"
      ]
     },
     "execution_count": 63,
     "metadata": {},
     "output_type": "execute_result"
    }
   ],
   "source": [
    "pyr.predict_model(tuned_z_reg).loc[:, [target_feat, 'Label']].describe()"
   ]
  },
  {
   "cell_type": "code",
   "execution_count": 64,
   "id": "98fd44e2",
   "metadata": {},
   "outputs": [
    {
     "data": {
      "text/html": [
       "<style type=\"text/css\">\n",
       "</style>\n",
       "<table id=\"T_68c8c\">\n",
       "  <thead>\n",
       "    <tr>\n",
       "      <th class=\"blank level0\" >&nbsp;</th>\n",
       "      <th id=\"T_68c8c_level0_col0\" class=\"col_heading level0 col0\" >Model</th>\n",
       "      <th id=\"T_68c8c_level0_col1\" class=\"col_heading level0 col1\" >MAE</th>\n",
       "      <th id=\"T_68c8c_level0_col2\" class=\"col_heading level0 col2\" >MSE</th>\n",
       "      <th id=\"T_68c8c_level0_col3\" class=\"col_heading level0 col3\" >RMSE</th>\n",
       "      <th id=\"T_68c8c_level0_col4\" class=\"col_heading level0 col4\" >R2</th>\n",
       "      <th id=\"T_68c8c_level0_col5\" class=\"col_heading level0 col5\" >RMSLE</th>\n",
       "      <th id=\"T_68c8c_level0_col6\" class=\"col_heading level0 col6\" >MAPE</th>\n",
       "      <th id=\"T_68c8c_level0_col7\" class=\"col_heading level0 col7\" >sigma_mad</th>\n",
       "      <th id=\"T_68c8c_level0_col8\" class=\"col_heading level0 col8\" >sigma_nmad</th>\n",
       "      <th id=\"T_68c8c_level0_col9\" class=\"col_heading level0 col9\" >sigma_z</th>\n",
       "      <th id=\"T_68c8c_level0_col10\" class=\"col_heading level0 col10\" >sigma_z_norm</th>\n",
       "      <th id=\"T_68c8c_level0_col11\" class=\"col_heading level0 col11\" >outlier_fr</th>\n",
       "    </tr>\n",
       "  </thead>\n",
       "  <tbody>\n",
       "    <tr>\n",
       "      <th id=\"T_68c8c_level0_row0\" class=\"row_heading level0 row0\" >0</th>\n",
       "      <td id=\"T_68c8c_row0_col0\" class=\"data row0 col0\" >Stacking Regressor</td>\n",
       "      <td id=\"T_68c8c_row0_col1\" class=\"data row0 col1\" >0.0558</td>\n",
       "      <td id=\"T_68c8c_row0_col2\" class=\"data row0 col2\" >0.0120</td>\n",
       "      <td id=\"T_68c8c_row0_col3\" class=\"data row0 col3\" >0.1097</td>\n",
       "      <td id=\"T_68c8c_row0_col4\" class=\"data row0 col4\" >0.8311</td>\n",
       "      <td id=\"T_68c8c_row0_col5\" class=\"data row0 col5\" >0.0678</td>\n",
       "      <td id=\"T_68c8c_row0_col6\" class=\"data row0 col6\" >0.1476</td>\n",
       "      <td id=\"T_68c8c_row0_col7\" class=\"data row0 col7\" >0.0395</td>\n",
       "      <td id=\"T_68c8c_row0_col8\" class=\"data row0 col8\" >0.0284</td>\n",
       "      <td id=\"T_68c8c_row0_col9\" class=\"data row0 col9\" >0.1097</td>\n",
       "      <td id=\"T_68c8c_row0_col10\" class=\"data row0 col10\" >0.0715</td>\n",
       "      <td id=\"T_68c8c_row0_col11\" class=\"data row0 col11\" >0.0383</td>\n",
       "    </tr>\n",
       "  </tbody>\n",
       "</table>\n"
      ],
      "text/plain": [
       "<pandas.io.formats.style.Styler at 0x7f31c1b1b160>"
      ]
     },
     "metadata": {},
     "output_type": "display_data"
    }
   ],
   "source": [
    "test_prediction_reg = pyr.predict_model(tuned_z_reg)"
   ]
  },
  {
   "cell_type": "code",
   "execution_count": 65,
   "id": "867e3104",
   "metadata": {
    "id": "WsMuc6dtt2ci"
   },
   "outputs": [
    {
     "name": "stderr",
     "output_type": "stream",
     "text": [
      "/home/rcarvajal/.miniforge3/envs/test_pycaret/lib/python3.8/site-packages/xgboost/compat.py:36: FutureWarning: pandas.Int64Index is deprecated and will be removed from pandas in a future version. Use pandas.Index with the appropriate dtype instead.\n",
      "  from pandas import MultiIndex, Int64Index\n",
      "/home/rcarvajal/.miniforge3/envs/test_pycaret/lib/python3.8/site-packages/xgboost/data.py:262: FutureWarning: pandas.Int64Index is deprecated and will be removed from pandas in a future version. Use pandas.Index with the appropriate dtype instead.\n",
      "  elif isinstance(data.columns, (pd.Int64Index, pd.RangeIndex)):\n",
      "/home/rcarvajal/.miniforge3/envs/test_pycaret/lib/python3.8/site-packages/xgboost/compat.py:36: FutureWarning: pandas.Int64Index is deprecated and will be removed from pandas in a future version. Use pandas.Index with the appropriate dtype instead.\n",
      "  from pandas import MultiIndex, Int64Index\n",
      "/home/rcarvajal/.miniforge3/envs/test_pycaret/lib/python3.8/site-packages/xgboost/compat.py:36: FutureWarning: pandas.Int64Index is deprecated and will be removed from pandas in a future version. Use pandas.Index with the appropriate dtype instead.\n",
      "  from pandas import MultiIndex, Int64Index\n",
      "/home/rcarvajal/.miniforge3/envs/test_pycaret/lib/python3.8/site-packages/xgboost/compat.py:36: FutureWarning: pandas.Int64Index is deprecated and will be removed from pandas in a future version. Use pandas.Index with the appropriate dtype instead.\n",
      "  from pandas import MultiIndex, Int64Index\n",
      "/home/rcarvajal/.miniforge3/envs/test_pycaret/lib/python3.8/site-packages/xgboost/compat.py:36: FutureWarning: pandas.Int64Index is deprecated and will be removed from pandas in a future version. Use pandas.Index with the appropriate dtype instead.\n",
      "  from pandas import MultiIndex, Int64Index\n",
      "/home/rcarvajal/.miniforge3/envs/test_pycaret/lib/python3.8/site-packages/xgboost/compat.py:36: FutureWarning: pandas.Int64Index is deprecated and will be removed from pandas in a future version. Use pandas.Index with the appropriate dtype instead.\n",
      "  from pandas import MultiIndex, Int64Index\n",
      "Custom logger is already specified. Specify more than one logger at same time is not thread safe.Custom logger is already specified. Specify more than one logger at same time is not thread safe.Custom logger is already specified. Specify more than one logger at same time is not thread safe.Custom logger is already specified. Specify more than one logger at same time is not thread safe."
     ]
    }
   ],
   "source": [
    "final_z_reg = pyr.finalize_model(tuned_z_reg)"
   ]
  },
  {
   "cell_type": "code",
   "execution_count": 66,
   "id": "de65fec8",
   "metadata": {},
   "outputs": [
    {
     "data": {
      "text/html": [
       "<style type=\"text/css\">\n",
       "</style>\n",
       "<table id=\"T_7b00a\">\n",
       "  <thead>\n",
       "    <tr>\n",
       "      <th class=\"blank level0\" >&nbsp;</th>\n",
       "      <th id=\"T_7b00a_level0_col0\" class=\"col_heading level0 col0\" >Model</th>\n",
       "      <th id=\"T_7b00a_level0_col1\" class=\"col_heading level0 col1\" >MAE</th>\n",
       "      <th id=\"T_7b00a_level0_col2\" class=\"col_heading level0 col2\" >MSE</th>\n",
       "      <th id=\"T_7b00a_level0_col3\" class=\"col_heading level0 col3\" >RMSE</th>\n",
       "      <th id=\"T_7b00a_level0_col4\" class=\"col_heading level0 col4\" >R2</th>\n",
       "      <th id=\"T_7b00a_level0_col5\" class=\"col_heading level0 col5\" >RMSLE</th>\n",
       "      <th id=\"T_7b00a_level0_col6\" class=\"col_heading level0 col6\" >MAPE</th>\n",
       "      <th id=\"T_7b00a_level0_col7\" class=\"col_heading level0 col7\" >sigma_mad</th>\n",
       "      <th id=\"T_7b00a_level0_col8\" class=\"col_heading level0 col8\" >sigma_nmad</th>\n",
       "      <th id=\"T_7b00a_level0_col9\" class=\"col_heading level0 col9\" >sigma_z</th>\n",
       "      <th id=\"T_7b00a_level0_col10\" class=\"col_heading level0 col10\" >sigma_z_norm</th>\n",
       "      <th id=\"T_7b00a_level0_col11\" class=\"col_heading level0 col11\" >outlier_fr</th>\n",
       "    </tr>\n",
       "  </thead>\n",
       "  <tbody>\n",
       "    <tr>\n",
       "      <th id=\"T_7b00a_level0_row0\" class=\"row_heading level0 row0\" >0</th>\n",
       "      <td id=\"T_7b00a_row0_col0\" class=\"data row0 col0\" >Stacking Regressor</td>\n",
       "      <td id=\"T_7b00a_row0_col1\" class=\"data row0 col1\" >0.0558</td>\n",
       "      <td id=\"T_7b00a_row0_col2\" class=\"data row0 col2\" >0.0120</td>\n",
       "      <td id=\"T_7b00a_row0_col3\" class=\"data row0 col3\" >0.1097</td>\n",
       "      <td id=\"T_7b00a_row0_col4\" class=\"data row0 col4\" >0.8311</td>\n",
       "      <td id=\"T_7b00a_row0_col5\" class=\"data row0 col5\" >0.0678</td>\n",
       "      <td id=\"T_7b00a_row0_col6\" class=\"data row0 col6\" >0.1476</td>\n",
       "      <td id=\"T_7b00a_row0_col7\" class=\"data row0 col7\" >0.0395</td>\n",
       "      <td id=\"T_7b00a_row0_col8\" class=\"data row0 col8\" >0.0284</td>\n",
       "      <td id=\"T_7b00a_row0_col9\" class=\"data row0 col9\" >0.1097</td>\n",
       "      <td id=\"T_7b00a_row0_col10\" class=\"data row0 col10\" >0.0715</td>\n",
       "      <td id=\"T_7b00a_row0_col11\" class=\"data row0 col11\" >0.0383</td>\n",
       "    </tr>\n",
       "  </tbody>\n",
       "</table>\n"
      ],
      "text/plain": [
       "<pandas.io.formats.style.Styler at 0x7f312c1f2460>"
      ]
     },
     "metadata": {},
     "output_type": "display_data"
    },
    {
     "data": {
      "text/html": [
       "<div>\n",
       "<style scoped>\n",
       "    .dataframe tbody tr th:only-of-type {\n",
       "        vertical-align: middle;\n",
       "    }\n",
       "\n",
       "    .dataframe tbody tr th {\n",
       "        vertical-align: top;\n",
       "    }\n",
       "\n",
       "    .dataframe thead th {\n",
       "        text-align: right;\n",
       "    }\n",
       "</style>\n",
       "<table border=\"1\" class=\"dataframe\">\n",
       "  <thead>\n",
       "    <tr style=\"text-align: right;\">\n",
       "      <th></th>\n",
       "      <th>Z</th>\n",
       "      <th>Label</th>\n",
       "    </tr>\n",
       "  </thead>\n",
       "  <tbody>\n",
       "    <tr>\n",
       "      <th>count</th>\n",
       "      <td>784.000000</td>\n",
       "      <td>784.000000</td>\n",
       "    </tr>\n",
       "    <tr>\n",
       "      <th>mean</th>\n",
       "      <td>0.432370</td>\n",
       "      <td>0.430308</td>\n",
       "    </tr>\n",
       "    <tr>\n",
       "      <th>std</th>\n",
       "      <td>0.267227</td>\n",
       "      <td>0.245907</td>\n",
       "    </tr>\n",
       "    <tr>\n",
       "      <th>min</th>\n",
       "      <td>0.000000</td>\n",
       "      <td>0.020634</td>\n",
       "    </tr>\n",
       "    <tr>\n",
       "      <th>25%</th>\n",
       "      <td>0.160565</td>\n",
       "      <td>0.162656</td>\n",
       "    </tr>\n",
       "    <tr>\n",
       "      <th>50%</th>\n",
       "      <td>0.474925</td>\n",
       "      <td>0.501211</td>\n",
       "    </tr>\n",
       "    <tr>\n",
       "      <th>75%</th>\n",
       "      <td>0.607532</td>\n",
       "      <td>0.615272</td>\n",
       "    </tr>\n",
       "    <tr>\n",
       "      <th>max</th>\n",
       "      <td>1.975860</td>\n",
       "      <td>0.994557</td>\n",
       "    </tr>\n",
       "  </tbody>\n",
       "</table>\n",
       "</div>"
      ],
      "text/plain": [
       "                Z       Label\n",
       "count  784.000000  784.000000\n",
       "mean     0.432370    0.430308\n",
       "std      0.267227    0.245907\n",
       "min      0.000000    0.020634\n",
       "25%      0.160565    0.162656\n",
       "50%      0.474925    0.501211\n",
       "75%      0.607532    0.615272\n",
       "max      1.975860    0.994557"
      ]
     },
     "execution_count": 66,
     "metadata": {},
     "output_type": "execute_result"
    }
   ],
   "source": [
    "pyr.predict_model(final_z_reg).loc[:, [target_feat, 'Label']].describe()"
   ]
  },
  {
   "cell_type": "code",
   "execution_count": 67,
   "id": "b033a11f",
   "metadata": {
    "id": "kAciINC6t-gk"
   },
   "outputs": [
    {
     "name": "stdout",
     "output_type": "stream",
     "text": [
      "Transformation Pipeline and Model Successfully Saved\n"
     ]
    }
   ],
   "source": [
    "if save_model_flag:\n",
    "    pyr.save_model(final_z_reg, gv.models_path + gv.z_radio_galaxies_model)  # Model (it will be saved with .pkl extension)"
   ]
  },
  {
   "cell_type": "markdown",
   "id": "7f87e787",
   "metadata": {
    "id": "ef654bbb-7b74-4cef-a809-42d2eb8e7fcb"
   },
   "source": [
    "## Load Models"
   ]
  },
  {
   "cell_type": "markdown",
   "id": "c817e0c9",
   "metadata": {
    "id": "217777e4-0212-4a37-b535-6fcaf2f0817e"
   },
   "source": [
    "AGN detection model."
   ]
  },
  {
   "cell_type": "code",
   "execution_count": 50,
   "id": "e2c90305",
   "metadata": {
    "id": "ad6bf94f-c59d-4013-b523-76a77df047cc",
    "outputId": "d8cd5b82-e109-4bd1-90ea-bf0e85e10ccd",
    "tags": []
   },
   "outputs": [
    {
     "name": "stdout",
     "output_type": "stream",
     "text": [
      "Transformation Pipeline and Model Successfully Loaded\n"
     ]
    }
   ],
   "source": [
    "if load_model_flag:\n",
    "    final_z_reg = pyr.load_model(gv.models_path + gv.z_radio_galaxies_model)"
   ]
  },
  {
   "cell_type": "markdown",
   "id": "d81baad9",
   "metadata": {
    "id": "6fcb2c6c-a004-4801-b43d-a3593f802cf5"
   },
   "source": [
    "### Prediction process"
   ]
  },
  {
   "cell_type": "markdown",
   "id": "b56701c4",
   "metadata": {},
   "source": [
    "#### Feature importances"
   ]
  },
  {
   "cell_type": "code",
   "execution_count": 68,
   "id": "1e29cde1",
   "metadata": {
    "jupyter": {
     "source_hidden": true
    }
   },
   "outputs": [],
   "source": [
    "base_models_names = gf.get_base_estimators_names(final_z_reg)\n",
    "base_models       = gf.get_base_estimators_models(final_z_reg)"
   ]
  },
  {
   "cell_type": "code",
   "execution_count": 69,
   "id": "befeb1a1",
   "metadata": {
    "jupyter": {
     "source_hidden": true
    }
   },
   "outputs": [
    {
     "name": "stdout",
     "output_type": "stream",
     "text": [
      "Running data pre-processing:\n",
      "\n"
     ]
    }
   ],
   "source": [
    "print('Running data pre-processing:\\n')\n",
    "extended_data_z_df = gf.preprocess_data(final_z_reg, validation_df, base_models_names)"
   ]
  },
  {
   "cell_type": "code",
   "execution_count": 70,
   "id": "2c4fe251",
   "metadata": {
    "jupyter": {
     "source_hidden": true
    }
   },
   "outputs": [],
   "source": [
    "coef_sorted_meta_df = gf.feat_importances_meta_model(final_z_reg, extended_data_z_df)"
   ]
  },
  {
   "cell_type": "code",
   "execution_count": 71,
   "id": "36f7593c",
   "metadata": {
    "jupyter": {
     "source_hidden": true
    }
   },
   "outputs": [],
   "source": [
    "coef_sorted_base_df = gf.feat_importances_base_models(base_models_names, base_models, extended_data_z_df)"
   ]
  },
  {
   "cell_type": "code",
   "execution_count": 72,
   "id": "0f426ae2",
   "metadata": {
    "jupyter": {
     "source_hidden": true
    },
    "tags": []
   },
   "outputs": [],
   "source": [
    "multicol_feat = [(key, name) for key in coef_sorted_base_df.keys() for name in ('Feature', 'Importance')]"
   ]
  },
  {
   "cell_type": "code",
   "execution_count": 73,
   "id": "01871503",
   "metadata": {
    "jupyter": {
     "source_hidden": true
    },
    "tags": []
   },
   "outputs": [
    {
     "name": "stdout",
     "output_type": "stream",
     "text": [
      "Feature importances scaled to sum 100\n",
      "Calculating for rf...\n",
      "Calculating for catboost...\n",
      "Calculating for xgboost...\n",
      "Calculating for gbr...\n"
     ]
    },
    {
     "data": {
      "text/html": [
       "<div>\n",
       "<style scoped>\n",
       "    .dataframe tbody tr th:only-of-type {\n",
       "        vertical-align: middle;\n",
       "    }\n",
       "\n",
       "    .dataframe tbody tr th {\n",
       "        vertical-align: top;\n",
       "    }\n",
       "\n",
       "    .dataframe thead tr th {\n",
       "        text-align: left;\n",
       "    }\n",
       "</style>\n",
       "<table border=\"1\" class=\"dataframe\">\n",
       "  <thead>\n",
       "    <tr>\n",
       "      <th></th>\n",
       "      <th colspan=\"2\" halign=\"left\">rf</th>\n",
       "      <th colspan=\"2\" halign=\"left\">catboost</th>\n",
       "      <th colspan=\"2\" halign=\"left\">xgboost</th>\n",
       "      <th colspan=\"2\" halign=\"left\">gbr</th>\n",
       "    </tr>\n",
       "    <tr>\n",
       "      <th></th>\n",
       "      <th>Feature</th>\n",
       "      <th>Importance</th>\n",
       "      <th>Feature</th>\n",
       "      <th>Importance</th>\n",
       "      <th>Feature</th>\n",
       "      <th>Importance</th>\n",
       "      <th>Feature</th>\n",
       "      <th>Importance</th>\n",
       "    </tr>\n",
       "  </thead>\n",
       "  <tbody>\n",
       "    <tr>\n",
       "      <th>0</th>\n",
       "      <td>y_J</td>\n",
       "      <td>67.826600</td>\n",
       "      <td>y_J</td>\n",
       "      <td>31.668494</td>\n",
       "      <td>y_J</td>\n",
       "      <td>68.710152</td>\n",
       "      <td>y_J</td>\n",
       "      <td>73.757244</td>\n",
       "    </tr>\n",
       "    <tr>\n",
       "      <th>1</th>\n",
       "      <td>g_r</td>\n",
       "      <td>8.585822</td>\n",
       "      <td>g_r</td>\n",
       "      <td>11.353303</td>\n",
       "      <td>g_r</td>\n",
       "      <td>4.752092</td>\n",
       "      <td>g_r</td>\n",
       "      <td>8.045276</td>\n",
       "    </tr>\n",
       "    <tr>\n",
       "      <th>2</th>\n",
       "      <td>W1_W2</td>\n",
       "      <td>4.866648</td>\n",
       "      <td>W1_W2</td>\n",
       "      <td>10.001339</td>\n",
       "      <td>J_H</td>\n",
       "      <td>4.083099</td>\n",
       "      <td>r_z</td>\n",
       "      <td>4.555819</td>\n",
       "    </tr>\n",
       "    <tr>\n",
       "      <th>3</th>\n",
       "      <td>r_z</td>\n",
       "      <td>4.120817</td>\n",
       "      <td>r_z</td>\n",
       "      <td>8.847266</td>\n",
       "      <td>r_z</td>\n",
       "      <td>3.382936</td>\n",
       "      <td>y_W2</td>\n",
       "      <td>3.055882</td>\n",
       "    </tr>\n",
       "    <tr>\n",
       "      <th>4</th>\n",
       "      <td>y_W2</td>\n",
       "      <td>3.781268</td>\n",
       "      <td>y_W2</td>\n",
       "      <td>7.665951</td>\n",
       "      <td>H_K</td>\n",
       "      <td>3.265643</td>\n",
       "      <td>W1_W2</td>\n",
       "      <td>2.503261</td>\n",
       "    </tr>\n",
       "    <tr>\n",
       "      <th>5</th>\n",
       "      <td>i_y</td>\n",
       "      <td>2.339599</td>\n",
       "      <td>W1_W3</td>\n",
       "      <td>5.515226</td>\n",
       "      <td>y_W2</td>\n",
       "      <td>3.115971</td>\n",
       "      <td>H_K</td>\n",
       "      <td>2.142351</td>\n",
       "    </tr>\n",
       "    <tr>\n",
       "      <th>6</th>\n",
       "      <td>r_i</td>\n",
       "      <td>2.295434</td>\n",
       "      <td>i_y</td>\n",
       "      <td>5.437104</td>\n",
       "      <td>W1_W2</td>\n",
       "      <td>2.521893</td>\n",
       "      <td>i_y</td>\n",
       "      <td>2.104840</td>\n",
       "    </tr>\n",
       "    <tr>\n",
       "      <th>7</th>\n",
       "      <td>W1_W3</td>\n",
       "      <td>1.819493</td>\n",
       "      <td>H_K</td>\n",
       "      <td>4.875894</td>\n",
       "      <td>i_y</td>\n",
       "      <td>2.282407</td>\n",
       "      <td>r_i</td>\n",
       "      <td>1.375205</td>\n",
       "    </tr>\n",
       "    <tr>\n",
       "      <th>8</th>\n",
       "      <td>i_z</td>\n",
       "      <td>1.351365</td>\n",
       "      <td>r_i</td>\n",
       "      <td>4.327637</td>\n",
       "      <td>K_W3</td>\n",
       "      <td>1.771751</td>\n",
       "      <td>W1_W3</td>\n",
       "      <td>0.958964</td>\n",
       "    </tr>\n",
       "    <tr>\n",
       "      <th>9</th>\n",
       "      <td>z_y</td>\n",
       "      <td>1.258755</td>\n",
       "      <td>K_W3</td>\n",
       "      <td>3.923099</td>\n",
       "      <td>r_i</td>\n",
       "      <td>1.606269</td>\n",
       "      <td>K_W3</td>\n",
       "      <td>0.552706</td>\n",
       "    </tr>\n",
       "    <tr>\n",
       "      <th>10</th>\n",
       "      <td>H_K</td>\n",
       "      <td>0.698322</td>\n",
       "      <td>z_y</td>\n",
       "      <td>2.833257</td>\n",
       "      <td>W1_W3</td>\n",
       "      <td>1.390551</td>\n",
       "      <td>J_H</td>\n",
       "      <td>0.363272</td>\n",
       "    </tr>\n",
       "    <tr>\n",
       "      <th>11</th>\n",
       "      <td>J_H</td>\n",
       "      <td>0.479080</td>\n",
       "      <td>i_z</td>\n",
       "      <td>2.577302</td>\n",
       "      <td>i_z</td>\n",
       "      <td>1.341448</td>\n",
       "      <td>i_z</td>\n",
       "      <td>0.357511</td>\n",
       "    </tr>\n",
       "    <tr>\n",
       "      <th>12</th>\n",
       "      <td>K_W3</td>\n",
       "      <td>0.443141</td>\n",
       "      <td>J_H</td>\n",
       "      <td>0.750108</td>\n",
       "      <td>z_y</td>\n",
       "      <td>1.292631</td>\n",
       "      <td>z_y</td>\n",
       "      <td>0.154774</td>\n",
       "    </tr>\n",
       "    <tr>\n",
       "      <th>13</th>\n",
       "      <td>W4mag</td>\n",
       "      <td>0.133656</td>\n",
       "      <td>W4mag</td>\n",
       "      <td>0.224020</td>\n",
       "      <td>W4mag</td>\n",
       "      <td>0.483152</td>\n",
       "      <td>W4mag</td>\n",
       "      <td>0.072894</td>\n",
       "    </tr>\n",
       "  </tbody>\n",
       "</table>\n",
       "</div>"
      ],
      "text/plain": [
       "        rf            catboost            xgboost                gbr  \\\n",
       "   Feature Importance  Feature Importance Feature Importance Feature   \n",
       "0      y_J  67.826600      y_J  31.668494     y_J  68.710152     y_J   \n",
       "1      g_r   8.585822      g_r  11.353303     g_r   4.752092     g_r   \n",
       "2    W1_W2   4.866648    W1_W2  10.001339     J_H   4.083099     r_z   \n",
       "3      r_z   4.120817      r_z   8.847266     r_z   3.382936    y_W2   \n",
       "4     y_W2   3.781268     y_W2   7.665951     H_K   3.265643   W1_W2   \n",
       "5      i_y   2.339599    W1_W3   5.515226    y_W2   3.115971     H_K   \n",
       "6      r_i   2.295434      i_y   5.437104   W1_W2   2.521893     i_y   \n",
       "7    W1_W3   1.819493      H_K   4.875894     i_y   2.282407     r_i   \n",
       "8      i_z   1.351365      r_i   4.327637    K_W3   1.771751   W1_W3   \n",
       "9      z_y   1.258755     K_W3   3.923099     r_i   1.606269    K_W3   \n",
       "10     H_K   0.698322      z_y   2.833257   W1_W3   1.390551     J_H   \n",
       "11     J_H   0.479080      i_z   2.577302     i_z   1.341448     i_z   \n",
       "12    K_W3   0.443141      J_H   0.750108     z_y   1.292631     z_y   \n",
       "13   W4mag   0.133656    W4mag   0.224020   W4mag   0.483152   W4mag   \n",
       "\n",
       "               \n",
       "   Importance  \n",
       "0   73.757244  \n",
       "1    8.045276  \n",
       "2    4.555819  \n",
       "3    3.055882  \n",
       "4    2.503261  \n",
       "5    2.142351  \n",
       "6    2.104840  \n",
       "7    1.375205  \n",
       "8    0.958964  \n",
       "9    0.552706  \n",
       "10   0.363272  \n",
       "11   0.357511  \n",
       "12   0.154774  \n",
       "13   0.072894  "
      ]
     },
     "metadata": {},
     "output_type": "display_data"
    }
   ],
   "source": [
    "print('Feature importances scaled to sum 100')\n",
    "coef_sorted_base_df_copy_sum = coef_sorted_base_df.copy()\n",
    "for key in coef_sorted_base_df_copy_sum.keys():\n",
    "    print(f'Calculating for {key}...')\n",
    "    coef_sorted_base_df_copy_sum[key].loc[:, 'Importance'] = coef_sorted_base_df[key].loc[:, 'Importance'] /\\\n",
    "                                                        coef_sorted_base_df[key].loc[:, 'Importance'].sum() * 100\n",
    "    # display(coef_sorted_base_df_copy_sum[key])\n",
    "coef_sorted_base_full_df = pd.concat([coef_sorted_base_df_copy_sum[key].reset_index(drop=True) for key in coef_sorted_base_df_copy_sum.keys()], axis=1)\n",
    "coef_sorted_base_full_df.columns = pd.MultiIndex.from_tuples(multicol_feat)\n",
    "display(coef_sorted_base_full_df)"
   ]
  },
  {
   "cell_type": "code",
   "execution_count": 74,
   "id": "5507d4de",
   "metadata": {
    "jupyter": {
     "source_hidden": true
    },
    "tags": []
   },
   "outputs": [
    {
     "name": "stdout",
     "output_type": "stream",
     "text": [
      "Feature importances scaled to sum 100\n",
      "Meta model\n"
     ]
    },
    {
     "data": {
      "text/html": [
       "<div>\n",
       "<style scoped>\n",
       "    .dataframe tbody tr th:only-of-type {\n",
       "        vertical-align: middle;\n",
       "    }\n",
       "\n",
       "    .dataframe tbody tr th {\n",
       "        vertical-align: top;\n",
       "    }\n",
       "\n",
       "    .dataframe thead th {\n",
       "        text-align: right;\n",
       "    }\n",
       "</style>\n",
       "<table border=\"1\" class=\"dataframe\">\n",
       "  <thead>\n",
       "    <tr style=\"text-align: right;\">\n",
       "      <th></th>\n",
       "      <th>Feature</th>\n",
       "      <th>Importance</th>\n",
       "      <th>Cumulative_sum</th>\n",
       "    </tr>\n",
       "  </thead>\n",
       "  <tbody>\n",
       "    <tr>\n",
       "      <th>0</th>\n",
       "      <td>catboost</td>\n",
       "      <td>25.148080</td>\n",
       "      <td>25.148080</td>\n",
       "    </tr>\n",
       "    <tr>\n",
       "      <th>1</th>\n",
       "      <td>gbr</td>\n",
       "      <td>24.848431</td>\n",
       "      <td>49.996512</td>\n",
       "    </tr>\n",
       "    <tr>\n",
       "      <th>2</th>\n",
       "      <td>xgboost</td>\n",
       "      <td>17.966386</td>\n",
       "      <td>67.962897</td>\n",
       "    </tr>\n",
       "    <tr>\n",
       "      <th>3</th>\n",
       "      <td>rf</td>\n",
       "      <td>15.567918</td>\n",
       "      <td>83.530815</td>\n",
       "    </tr>\n",
       "    <tr>\n",
       "      <th>4</th>\n",
       "      <td>y_J</td>\n",
       "      <td>5.087259</td>\n",
       "      <td>88.618075</td>\n",
       "    </tr>\n",
       "    <tr>\n",
       "      <th>5</th>\n",
       "      <td>W1_W2</td>\n",
       "      <td>1.626149</td>\n",
       "      <td>90.244224</td>\n",
       "    </tr>\n",
       "    <tr>\n",
       "      <th>6</th>\n",
       "      <td>r_z</td>\n",
       "      <td>1.572367</td>\n",
       "      <td>91.816591</td>\n",
       "    </tr>\n",
       "    <tr>\n",
       "      <th>7</th>\n",
       "      <td>H_K</td>\n",
       "      <td>1.333489</td>\n",
       "      <td>93.150080</td>\n",
       "    </tr>\n",
       "    <tr>\n",
       "      <th>8</th>\n",
       "      <td>r_i</td>\n",
       "      <td>0.992049</td>\n",
       "      <td>94.142129</td>\n",
       "    </tr>\n",
       "    <tr>\n",
       "      <th>9</th>\n",
       "      <td>W1_W3</td>\n",
       "      <td>0.957202</td>\n",
       "      <td>95.099332</td>\n",
       "    </tr>\n",
       "    <tr>\n",
       "      <th>10</th>\n",
       "      <td>i_y</td>\n",
       "      <td>0.801549</td>\n",
       "      <td>95.900881</td>\n",
       "    </tr>\n",
       "    <tr>\n",
       "      <th>11</th>\n",
       "      <td>g_r</td>\n",
       "      <td>0.762880</td>\n",
       "      <td>96.663761</td>\n",
       "    </tr>\n",
       "    <tr>\n",
       "      <th>12</th>\n",
       "      <td>y_W2</td>\n",
       "      <td>0.752756</td>\n",
       "      <td>97.416517</td>\n",
       "    </tr>\n",
       "    <tr>\n",
       "      <th>13</th>\n",
       "      <td>K_W3</td>\n",
       "      <td>0.673374</td>\n",
       "      <td>98.089891</td>\n",
       "    </tr>\n",
       "    <tr>\n",
       "      <th>14</th>\n",
       "      <td>i_z</td>\n",
       "      <td>0.649799</td>\n",
       "      <td>98.739689</td>\n",
       "    </tr>\n",
       "    <tr>\n",
       "      <th>15</th>\n",
       "      <td>z_y</td>\n",
       "      <td>0.646139</td>\n",
       "      <td>99.385829</td>\n",
       "    </tr>\n",
       "    <tr>\n",
       "      <th>16</th>\n",
       "      <td>W4mag</td>\n",
       "      <td>0.362662</td>\n",
       "      <td>99.748491</td>\n",
       "    </tr>\n",
       "    <tr>\n",
       "      <th>17</th>\n",
       "      <td>J_H</td>\n",
       "      <td>0.251509</td>\n",
       "      <td>100.000000</td>\n",
       "    </tr>\n",
       "  </tbody>\n",
       "</table>\n",
       "</div>"
      ],
      "text/plain": [
       "     Feature  Importance  Cumulative_sum\n",
       "0   catboost   25.148080       25.148080\n",
       "1        gbr   24.848431       49.996512\n",
       "2    xgboost   17.966386       67.962897\n",
       "3         rf   15.567918       83.530815\n",
       "4        y_J    5.087259       88.618075\n",
       "5      W1_W2    1.626149       90.244224\n",
       "6        r_z    1.572367       91.816591\n",
       "7        H_K    1.333489       93.150080\n",
       "8        r_i    0.992049       94.142129\n",
       "9      W1_W3    0.957202       95.099332\n",
       "10       i_y    0.801549       95.900881\n",
       "11       g_r    0.762880       96.663761\n",
       "12      y_W2    0.752756       97.416517\n",
       "13      K_W3    0.673374       98.089891\n",
       "14       i_z    0.649799       98.739689\n",
       "15       z_y    0.646139       99.385829\n",
       "16     W4mag    0.362662       99.748491\n",
       "17       J_H    0.251509      100.000000"
      ]
     },
     "metadata": {},
     "output_type": "display_data"
    }
   ],
   "source": [
    "print('Feature importances scaled to sum 100')\n",
    "coef_sorted_meta_df_copy_sum = coef_sorted_meta_df.copy()\n",
    "coef_sorted_meta_df_copy_sum.loc[:, 'Importance'] = coef_sorted_meta_df.loc[:, 'Importance'] /\\\n",
    "                                                     coef_sorted_meta_df.loc[:, 'Importance'].sum() * 100\n",
    "coef_sorted_meta_df_copy_sum['Cumulative_sum'] = coef_sorted_meta_df_copy_sum.loc[:, 'Importance'].cumsum()\n",
    "print('Meta model')\n",
    "display(coef_sorted_meta_df_copy_sum)"
   ]
  },
  {
   "cell_type": "code",
   "execution_count": 75,
   "id": "01695e00",
   "metadata": {
    "jupyter": {
     "source_hidden": true
    }
   },
   "outputs": [
    {
     "name": "stdout",
     "output_type": "stream",
     "text": [
      "Combined feature importances scaled to sum 100\n"
     ]
    },
    {
     "data": {
      "text/html": [
       "<div>\n",
       "<style scoped>\n",
       "    .dataframe tbody tr th:only-of-type {\n",
       "        vertical-align: middle;\n",
       "    }\n",
       "\n",
       "    .dataframe tbody tr th {\n",
       "        vertical-align: top;\n",
       "    }\n",
       "\n",
       "    .dataframe thead th {\n",
       "        text-align: right;\n",
       "    }\n",
       "</style>\n",
       "<table border=\"1\" class=\"dataframe\">\n",
       "  <thead>\n",
       "    <tr style=\"text-align: right;\">\n",
       "      <th></th>\n",
       "      <th>Cumulative_sum</th>\n",
       "      <th>Importance</th>\n",
       "    </tr>\n",
       "    <tr>\n",
       "      <th>Feature</th>\n",
       "      <th></th>\n",
       "      <th></th>\n",
       "    </tr>\n",
       "  </thead>\n",
       "  <tbody>\n",
       "    <tr>\n",
       "      <th>y_J</th>\n",
       "      <td>54.2827</td>\n",
       "      <td>54.2827</td>\n",
       "    </tr>\n",
       "    <tr>\n",
       "      <th>g_r</th>\n",
       "      <td>62.0903</td>\n",
       "      <td>7.8076</td>\n",
       "    </tr>\n",
       "    <tr>\n",
       "      <th>r_z</th>\n",
       "      <td>68.2689</td>\n",
       "      <td>6.1787</td>\n",
       "    </tr>\n",
       "    <tr>\n",
       "      <th>W1_W2</th>\n",
       "      <td>74.2430</td>\n",
       "      <td>5.9740</td>\n",
       "    </tr>\n",
       "    <tr>\n",
       "      <th>y_W2</th>\n",
       "      <td>78.8314</td>\n",
       "      <td>4.5884</td>\n",
       "    </tr>\n",
       "    <tr>\n",
       "      <th>H_K</th>\n",
       "      <td>82.6188</td>\n",
       "      <td>3.7875</td>\n",
       "    </tr>\n",
       "    <tr>\n",
       "      <th>i_y</th>\n",
       "      <td>86.0850</td>\n",
       "      <td>3.4662</td>\n",
       "    </tr>\n",
       "    <tr>\n",
       "      <th>W1_W3</th>\n",
       "      <td>89.2006</td>\n",
       "      <td>3.1156</td>\n",
       "    </tr>\n",
       "    <tr>\n",
       "      <th>r_i</th>\n",
       "      <td>92.2686</td>\n",
       "      <td>3.0680</td>\n",
       "    </tr>\n",
       "    <tr>\n",
       "      <th>K_W3</th>\n",
       "      <td>94.4532</td>\n",
       "      <td>2.1846</td>\n",
       "    </tr>\n",
       "    <tr>\n",
       "      <th>i_z</th>\n",
       "      <td>96.2914</td>\n",
       "      <td>1.8382</td>\n",
       "    </tr>\n",
       "    <tr>\n",
       "      <th>z_y</th>\n",
       "      <td>98.1167</td>\n",
       "      <td>1.8253</td>\n",
       "    </tr>\n",
       "    <tr>\n",
       "      <th>J_H</th>\n",
       "      <td>99.4553</td>\n",
       "      <td>1.3386</td>\n",
       "    </tr>\n",
       "    <tr>\n",
       "      <th>W4mag</th>\n",
       "      <td>100.0000</td>\n",
       "      <td>0.5447</td>\n",
       "    </tr>\n",
       "  </tbody>\n",
       "</table>\n",
       "</div>"
      ],
      "text/plain": [
       "         Cumulative_sum  Importance\n",
       "Feature                            \n",
       "y_J             54.2827     54.2827\n",
       "g_r             62.0903      7.8076\n",
       "r_z             68.2689      6.1787\n",
       "W1_W2           74.2430      5.9740\n",
       "y_W2            78.8314      4.5884\n",
       "H_K             82.6188      3.7875\n",
       "i_y             86.0850      3.4662\n",
       "W1_W3           89.2006      3.1156\n",
       "r_i             92.2686      3.0680\n",
       "K_W3            94.4532      2.1846\n",
       "i_z             96.2914      1.8382\n",
       "z_y             98.1167      1.8253\n",
       "J_H             99.4553      1.3386\n",
       "W4mag          100.0000      0.5447"
      ]
     },
     "metadata": {},
     "output_type": "display_data"
    }
   ],
   "source": [
    "print('Combined feature importances scaled to sum 100')\n",
    "coef_sorted_comb_sum = coef_sorted_meta_df_copy_sum.copy().set_index('Feature')\n",
    "for key in coef_sorted_base_df_copy_sum.keys():\n",
    "    factor = coef_sorted_meta_df_copy_sum.set_index('Feature').loc[key] / 100\n",
    "    tmp_feat_imp = coef_sorted_base_full_df.loc[:, key].copy().set_index('Feature')\n",
    "    coef_sorted_comb_sum = coef_sorted_comb_sum + tmp_feat_imp * factor\n",
    "    coef_sorted_comb_sum = coef_sorted_comb_sum.sort_values(by=['Importance'], ascending=False)#.drop(index=base_models_names)\n",
    "    coef_sorted_comb_sum['Cumulative_sum'] = coef_sorted_comb_sum.loc[:, 'Importance'].cumsum()\n",
    "with pd.option_context('display.float_format', '{:.4f}'.format):\n",
    "    display(coef_sorted_comb_sum.drop(index=base_models_names))"
   ]
  },
  {
   "cell_type": "code",
   "execution_count": 76,
   "id": "eed519f3",
   "metadata": {
    "jupyter": {
     "source_hidden": true
    },
    "tags": []
   },
   "outputs": [
    {
     "name": "stdout",
     "output_type": "stream",
     "text": [
      "Feature importances scaled to sum 100\n",
      "--------------------\n",
      "top features:\n",
      "Feature\tImportance\n",
      "y_J\t54.283\n",
      "g_r\t7.808\n",
      "r_z\t6.179\n",
      "W1_W2\t5.974\n",
      "y_W2\t4.588\n",
      "H_K\t3.787\n",
      "i_y\t3.466\n",
      "W1_W3\t3.116\n",
      "r_i\t3.068\n",
      "K_W3\t2.185\n",
      "i_z\t1.838\n",
      "z_y\t1.825\n",
      "J_H\t1.339\n",
      "W4mag\t0.545\n"
     ]
    },
    {
     "data": {
      "image/png": "[encoded data removed]",
      "text/plain": [
       "<Figure size 700x1000 with 1 Axes>"
      ]
     },
     "metadata": {},
     "output_type": "display_data"
    }
   ],
   "source": [
    "print('Feature importances scaled to sum 100')\n",
    "try:\n",
    "    fig         = plt.figure(figsize=(7,10))\n",
    "    ax1         = fig.add_subplot(111)\n",
    "    features_df = coef_sorted_comb_sum.sort_values(by=['Importance'], ascending=True).drop(index=base_models_names)\n",
    "    features    = features_df.index.to_list()\n",
    "    importances = features_df.loc[:, 'Importance'].to_list()\n",
    "    import_scal_colors = (importances - np.nanmin(importances)) / (np.nanmax(importances) - np.nanmin(importances))\n",
    "    ax1.set_title('Feature Importances', size=14)\n",
    "    ax1.barh(range(len(importances)), importances,\\\n",
    "             color=plt.get_cmap('bone', len(importances))(import_scal_colors), align='center', ec='k', lw=1.5)\n",
    "    plt.yticks(range(len(importances)), features)\n",
    "    ax1.set_xlabel('Relative Importance', size=14)\n",
    "    ax1.set_ylabel('Features', size=14)\n",
    "    ax1.tick_params(axis='both', which='major', labelsize=14)\n",
    "    ax1.tick_params(axis='y', which='major', rotation=30)\n",
    "    plt.setp(ax1.spines.values(), linewidth=2.5)\n",
    "    ax1.tick_params(which='both',top=True, right=False, direction='in')\n",
    "    plt.tight_layout()\n",
    "    if save_plot_flag:\n",
    "        plt.savefig(gv.plots_path + 'feat_imp_regression_z_04.pdf', bbox_inches='tight')\n",
    "\n",
    "    print('-' * 20)\n",
    "    print('top features:')\n",
    "    print('Feature\\tImportance')\n",
    "    for feat, imp in zip(reversed(features), reversed(importances)):\n",
    "        print(f'{feat}\\t{round(imp, 3):>.3f}')\n",
    "\n",
    "except:\n",
    "    print('learning algorithm does not provide feature importance.')"
   ]
  },
  {
   "cell_type": "markdown",
   "id": "e77190d0",
   "metadata": {},
   "source": [
    "#### List optimised hyperparameters"
   ]
  },
  {
   "cell_type": "code",
   "execution_count": 77,
   "id": "53a66f86",
   "metadata": {
    "jupyter": {
     "source_hidden": true
    }
   },
   "outputs": [
    {
     "data": {
      "text/html": [
       "<div>\n",
       "<style scoped>\n",
       "    .dataframe tbody tr th:only-of-type {\n",
       "        vertical-align: middle;\n",
       "    }\n",
       "\n",
       "    .dataframe tbody tr th {\n",
       "        vertical-align: top;\n",
       "    }\n",
       "\n",
       "    .dataframe thead th {\n",
       "        text-align: right;\n",
       "    }\n",
       "</style>\n",
       "<table border=\"1\" class=\"dataframe\">\n",
       "  <thead>\n",
       "    <tr style=\"text-align: right;\">\n",
       "      <th></th>\n",
       "      <th>rf</th>\n",
       "      <th>rf</th>\n",
       "      <th>catboost</th>\n",
       "      <th>xgboost</th>\n",
       "      <th>gbr</th>\n",
       "    </tr>\n",
       "  </thead>\n",
       "  <tbody>\n",
       "    <tr>\n",
       "      <th>n_estimators</th>\n",
       "      <td>100</td>\n",
       "      <td>100.0000</td>\n",
       "      <td>NaN</td>\n",
       "      <td>100.0000</td>\n",
       "      <td>100.0000</td>\n",
       "    </tr>\n",
       "    <tr>\n",
       "      <th>max_depth</th>\n",
       "      <td>None</td>\n",
       "      <td>NaN</td>\n",
       "      <td>NaN</td>\n",
       "      <td>6.0000</td>\n",
       "      <td>3.0000</td>\n",
       "    </tr>\n",
       "    <tr>\n",
       "      <th>min_impurity_decrease</th>\n",
       "      <td>0.0000</td>\n",
       "      <td>0.0000</td>\n",
       "      <td>NaN</td>\n",
       "      <td>NaN</td>\n",
       "      <td>0.0000</td>\n",
       "    </tr>\n",
       "    <tr>\n",
       "      <th>max_features</th>\n",
       "      <td>auto</td>\n",
       "      <td>auto</td>\n",
       "      <td>NaN</td>\n",
       "      <td>NaN</td>\n",
       "      <td>None</td>\n",
       "    </tr>\n",
       "    <tr>\n",
       "      <th>bootstrap</th>\n",
       "      <td>False</td>\n",
       "      <td>True</td>\n",
       "      <td>NaN</td>\n",
       "      <td>NaN</td>\n",
       "      <td>NaN</td>\n",
       "    </tr>\n",
       "    <tr>\n",
       "      <th>criterion</th>\n",
       "      <td>mse</td>\n",
       "      <td>mse</td>\n",
       "      <td>NaN</td>\n",
       "      <td>NaN</td>\n",
       "      <td>NaN</td>\n",
       "    </tr>\n",
       "    <tr>\n",
       "      <th>min_samples_split</th>\n",
       "      <td>2</td>\n",
       "      <td>2.0000</td>\n",
       "      <td>NaN</td>\n",
       "      <td>NaN</td>\n",
       "      <td>2.0000</td>\n",
       "    </tr>\n",
       "    <tr>\n",
       "      <th>min_samples_leaf</th>\n",
       "      <td>1</td>\n",
       "      <td>1.0000</td>\n",
       "      <td>NaN</td>\n",
       "      <td>NaN</td>\n",
       "      <td>1.0000</td>\n",
       "    </tr>\n",
       "    <tr>\n",
       "      <th>learning_rate</th>\n",
       "      <td>NaN</td>\n",
       "      <td>NaN</td>\n",
       "      <td>0.0547</td>\n",
       "      <td>0.3000</td>\n",
       "      <td>0.1000</td>\n",
       "    </tr>\n",
       "    <tr>\n",
       "      <th>depth</th>\n",
       "      <td>NaN</td>\n",
       "      <td>NaN</td>\n",
       "      <td>6.0000</td>\n",
       "      <td>NaN</td>\n",
       "      <td>NaN</td>\n",
       "    </tr>\n",
       "    <tr>\n",
       "      <th>random_strength</th>\n",
       "      <td>NaN</td>\n",
       "      <td>NaN</td>\n",
       "      <td>1.0000</td>\n",
       "      <td>NaN</td>\n",
       "      <td>NaN</td>\n",
       "    </tr>\n",
       "    <tr>\n",
       "      <th>l2_leaf_reg</th>\n",
       "      <td>NaN</td>\n",
       "      <td>NaN</td>\n",
       "      <td>3.0000</td>\n",
       "      <td>NaN</td>\n",
       "      <td>NaN</td>\n",
       "    </tr>\n",
       "    <tr>\n",
       "      <th>subsample</th>\n",
       "      <td>NaN</td>\n",
       "      <td>NaN</td>\n",
       "      <td>NaN</td>\n",
       "      <td>1.0000</td>\n",
       "      <td>1.0000</td>\n",
       "    </tr>\n",
       "    <tr>\n",
       "      <th>colsample_bytree</th>\n",
       "      <td>NaN</td>\n",
       "      <td>NaN</td>\n",
       "      <td>NaN</td>\n",
       "      <td>1.0000</td>\n",
       "      <td>NaN</td>\n",
       "    </tr>\n",
       "    <tr>\n",
       "      <th>min_child_weight</th>\n",
       "      <td>NaN</td>\n",
       "      <td>NaN</td>\n",
       "      <td>NaN</td>\n",
       "      <td>1.0000</td>\n",
       "      <td>NaN</td>\n",
       "    </tr>\n",
       "    <tr>\n",
       "      <th>reg_alpha</th>\n",
       "      <td>NaN</td>\n",
       "      <td>NaN</td>\n",
       "      <td>NaN</td>\n",
       "      <td>0.0000</td>\n",
       "      <td>NaN</td>\n",
       "    </tr>\n",
       "    <tr>\n",
       "      <th>reg_lambda</th>\n",
       "      <td>NaN</td>\n",
       "      <td>NaN</td>\n",
       "      <td>NaN</td>\n",
       "      <td>1.0000</td>\n",
       "      <td>NaN</td>\n",
       "    </tr>\n",
       "    <tr>\n",
       "      <th>scale_pos_weight</th>\n",
       "      <td>NaN</td>\n",
       "      <td>NaN</td>\n",
       "      <td>NaN</td>\n",
       "      <td>1.0000</td>\n",
       "      <td>NaN</td>\n",
       "    </tr>\n",
       "  </tbody>\n",
       "</table>\n",
       "</div>"
      ],
      "text/plain": [
       "                          rf       rf catboost  xgboost      gbr\n",
       "n_estimators             100 100.0000      NaN 100.0000 100.0000\n",
       "max_depth               None      NaN      NaN   6.0000   3.0000\n",
       "min_impurity_decrease 0.0000   0.0000      NaN      NaN   0.0000\n",
       "max_features            auto     auto      NaN      NaN     None\n",
       "bootstrap              False     True      NaN      NaN      NaN\n",
       "criterion                mse      mse      NaN      NaN      NaN\n",
       "min_samples_split          2   2.0000      NaN      NaN   2.0000\n",
       "min_samples_leaf           1   1.0000      NaN      NaN   1.0000\n",
       "learning_rate            NaN      NaN   0.0547   0.3000   0.1000\n",
       "depth                    NaN      NaN   6.0000      NaN      NaN\n",
       "random_strength          NaN      NaN   1.0000      NaN      NaN\n",
       "l2_leaf_reg              NaN      NaN   3.0000      NaN      NaN\n",
       "subsample                NaN      NaN      NaN   1.0000   1.0000\n",
       "colsample_bytree         NaN      NaN      NaN   1.0000      NaN\n",
       "min_child_weight         NaN      NaN      NaN   1.0000      NaN\n",
       "reg_alpha                NaN      NaN      NaN   0.0000      NaN\n",
       "reg_lambda               NaN      NaN      NaN   1.0000      NaN\n",
       "scale_pos_weight         NaN      NaN      NaN   1.0000      NaN"
      ]
     },
     "metadata": {},
     "output_type": "display_data"
    }
   ],
   "source": [
    "hyperparams_models_df = gf.obtain_optimised_hyperpars(final_z_reg, 'rf', 'regression')\n",
    "with pd.option_context('display.float_format', '{:.4f}'.format):\n",
    "    display(hyperparams_models_df)"
   ]
  },
  {
   "cell_type": "markdown",
   "id": "de42222e",
   "metadata": {},
   "source": [
    "---"
   ]
  },
  {
   "cell_type": "code",
   "execution_count": 78,
   "id": "2441d044",
   "metadata": {
    "jupyter": {
     "source_hidden": true
    }
   },
   "outputs": [
    {
     "name": "stdout",
     "output_type": "stream",
     "text": [
      "Size of train set is 6,290\n",
      "Size of test set is  784\n"
     ]
    }
   ],
   "source": [
    "print(f'Size of train set is {len(train_df):,}')\n",
    "print(f'Size of test set is  {len(test_df):,}')"
   ]
  },
  {
   "cell_type": "code",
   "execution_count": 79,
   "id": "68af2afe",
   "metadata": {},
   "outputs": [
    {
     "data": {
      "text/html": [
       "<style type=\"text/css\">\n",
       "</style>\n",
       "<table id=\"T_ab70d\">\n",
       "  <thead>\n",
       "    <tr>\n",
       "      <th class=\"blank level0\" >&nbsp;</th>\n",
       "      <th id=\"T_ab70d_level0_col0\" class=\"col_heading level0 col0\" >Model</th>\n",
       "      <th id=\"T_ab70d_level0_col1\" class=\"col_heading level0 col1\" >MAE</th>\n",
       "      <th id=\"T_ab70d_level0_col2\" class=\"col_heading level0 col2\" >MSE</th>\n",
       "      <th id=\"T_ab70d_level0_col3\" class=\"col_heading level0 col3\" >RMSE</th>\n",
       "      <th id=\"T_ab70d_level0_col4\" class=\"col_heading level0 col4\" >R2</th>\n",
       "      <th id=\"T_ab70d_level0_col5\" class=\"col_heading level0 col5\" >RMSLE</th>\n",
       "      <th id=\"T_ab70d_level0_col6\" class=\"col_heading level0 col6\" >MAPE</th>\n",
       "      <th id=\"T_ab70d_level0_col7\" class=\"col_heading level0 col7\" >sigma_mad</th>\n",
       "      <th id=\"T_ab70d_level0_col8\" class=\"col_heading level0 col8\" >sigma_nmad</th>\n",
       "      <th id=\"T_ab70d_level0_col9\" class=\"col_heading level0 col9\" >sigma_z</th>\n",
       "      <th id=\"T_ab70d_level0_col10\" class=\"col_heading level0 col10\" >sigma_z_norm</th>\n",
       "      <th id=\"T_ab70d_level0_col11\" class=\"col_heading level0 col11\" >outlier_fr</th>\n",
       "    </tr>\n",
       "  </thead>\n",
       "  <tbody>\n",
       "    <tr>\n",
       "      <th id=\"T_ab70d_level0_row0\" class=\"row_heading level0 row0\" >0</th>\n",
       "      <td id=\"T_ab70d_row0_col0\" class=\"data row0 col0\" >Stacking Regressor</td>\n",
       "      <td id=\"T_ab70d_row0_col1\" class=\"data row0 col1\" >0.0292</td>\n",
       "      <td id=\"T_ab70d_row0_col2\" class=\"data row0 col2\" >0.0047</td>\n",
       "      <td id=\"T_ab70d_row0_col3\" class=\"data row0 col3\" >0.0687</td>\n",
       "      <td id=\"T_ab70d_row0_col4\" class=\"data row0 col4\" >0.9329</td>\n",
       "      <td id=\"T_ab70d_row0_col5\" class=\"data row0 col5\" >0.0418</td>\n",
       "      <td id=\"T_ab70d_row0_col6\" class=\"data row0 col6\" >0.0924</td>\n",
       "      <td id=\"T_ab70d_row0_col7\" class=\"data row0 col7\" >0.0201</td>\n",
       "      <td id=\"T_ab70d_row0_col8\" class=\"data row0 col8\" >0.0145</td>\n",
       "      <td id=\"T_ab70d_row0_col9\" class=\"data row0 col9\" >0.0687</td>\n",
       "      <td id=\"T_ab70d_row0_col10\" class=\"data row0 col10\" >0.0413</td>\n",
       "      <td id=\"T_ab70d_row0_col11\" class=\"data row0 col11\" >0.0089</td>\n",
       "    </tr>\n",
       "  </tbody>\n",
       "</table>\n"
      ],
      "text/plain": [
       "<pandas.io.formats.style.Styler at 0x7f30dddd6520>"
      ]
     },
     "metadata": {},
     "output_type": "display_data"
    },
    {
     "data": {
      "text/html": [
       "<style type=\"text/css\">\n",
       "</style>\n",
       "<table id=\"T_1bc94\">\n",
       "  <thead>\n",
       "    <tr>\n",
       "      <th class=\"blank level0\" >&nbsp;</th>\n",
       "      <th id=\"T_1bc94_level0_col0\" class=\"col_heading level0 col0\" >Model</th>\n",
       "      <th id=\"T_1bc94_level0_col1\" class=\"col_heading level0 col1\" >MAE</th>\n",
       "      <th id=\"T_1bc94_level0_col2\" class=\"col_heading level0 col2\" >MSE</th>\n",
       "      <th id=\"T_1bc94_level0_col3\" class=\"col_heading level0 col3\" >RMSE</th>\n",
       "      <th id=\"T_1bc94_level0_col4\" class=\"col_heading level0 col4\" >R2</th>\n",
       "      <th id=\"T_1bc94_level0_col5\" class=\"col_heading level0 col5\" >RMSLE</th>\n",
       "      <th id=\"T_1bc94_level0_col6\" class=\"col_heading level0 col6\" >MAPE</th>\n",
       "      <th id=\"T_1bc94_level0_col7\" class=\"col_heading level0 col7\" >sigma_mad</th>\n",
       "      <th id=\"T_1bc94_level0_col8\" class=\"col_heading level0 col8\" >sigma_nmad</th>\n",
       "      <th id=\"T_1bc94_level0_col9\" class=\"col_heading level0 col9\" >sigma_z</th>\n",
       "      <th id=\"T_1bc94_level0_col10\" class=\"col_heading level0 col10\" >sigma_z_norm</th>\n",
       "      <th id=\"T_1bc94_level0_col11\" class=\"col_heading level0 col11\" >outlier_fr</th>\n",
       "    </tr>\n",
       "  </thead>\n",
       "  <tbody>\n",
       "    <tr>\n",
       "      <th id=\"T_1bc94_level0_row0\" class=\"row_heading level0 row0\" >0</th>\n",
       "      <td id=\"T_1bc94_row0_col0\" class=\"data row0 col0\" >Stacking Regressor</td>\n",
       "      <td id=\"T_1bc94_row0_col1\" class=\"data row0 col1\" >0.0558</td>\n",
       "      <td id=\"T_1bc94_row0_col2\" class=\"data row0 col2\" >0.0120</td>\n",
       "      <td id=\"T_1bc94_row0_col3\" class=\"data row0 col3\" >0.1097</td>\n",
       "      <td id=\"T_1bc94_row0_col4\" class=\"data row0 col4\" >0.8311</td>\n",
       "      <td id=\"T_1bc94_row0_col5\" class=\"data row0 col5\" >0.0678</td>\n",
       "      <td id=\"T_1bc94_row0_col6\" class=\"data row0 col6\" >0.1476</td>\n",
       "      <td id=\"T_1bc94_row0_col7\" class=\"data row0 col7\" >0.0395</td>\n",
       "      <td id=\"T_1bc94_row0_col8\" class=\"data row0 col8\" >0.0284</td>\n",
       "      <td id=\"T_1bc94_row0_col9\" class=\"data row0 col9\" >0.1097</td>\n",
       "      <td id=\"T_1bc94_row0_col10\" class=\"data row0 col10\" >0.0715</td>\n",
       "      <td id=\"T_1bc94_row0_col11\" class=\"data row0 col11\" >0.0383</td>\n",
       "    </tr>\n",
       "  </tbody>\n",
       "</table>\n"
      ],
      "text/plain": [
       "<pandas.io.formats.style.Styler at 0x7f2df7e6e8e0>"
      ]
     },
     "metadata": {},
     "output_type": "display_data"
    },
    {
     "data": {
      "text/html": [
       "<style type=\"text/css\">\n",
       "</style>\n",
       "<table id=\"T_a96c6\">\n",
       "  <thead>\n",
       "    <tr>\n",
       "      <th class=\"blank level0\" >&nbsp;</th>\n",
       "      <th id=\"T_a96c6_level0_col0\" class=\"col_heading level0 col0\" >Model</th>\n",
       "      <th id=\"T_a96c6_level0_col1\" class=\"col_heading level0 col1\" >MAE</th>\n",
       "      <th id=\"T_a96c6_level0_col2\" class=\"col_heading level0 col2\" >MSE</th>\n",
       "      <th id=\"T_a96c6_level0_col3\" class=\"col_heading level0 col3\" >RMSE</th>\n",
       "      <th id=\"T_a96c6_level0_col4\" class=\"col_heading level0 col4\" >R2</th>\n",
       "      <th id=\"T_a96c6_level0_col5\" class=\"col_heading level0 col5\" >RMSLE</th>\n",
       "      <th id=\"T_a96c6_level0_col6\" class=\"col_heading level0 col6\" >MAPE</th>\n",
       "      <th id=\"T_a96c6_level0_col7\" class=\"col_heading level0 col7\" >sigma_mad</th>\n",
       "      <th id=\"T_a96c6_level0_col8\" class=\"col_heading level0 col8\" >sigma_nmad</th>\n",
       "      <th id=\"T_a96c6_level0_col9\" class=\"col_heading level0 col9\" >sigma_z</th>\n",
       "      <th id=\"T_a96c6_level0_col10\" class=\"col_heading level0 col10\" >sigma_z_norm</th>\n",
       "      <th id=\"T_a96c6_level0_col11\" class=\"col_heading level0 col11\" >outlier_fr</th>\n",
       "    </tr>\n",
       "  </thead>\n",
       "  <tbody>\n",
       "    <tr>\n",
       "      <th id=\"T_a96c6_level0_row0\" class=\"row_heading level0 row0\" >0</th>\n",
       "      <td id=\"T_a96c6_row0_col0\" class=\"data row0 col0\" >Stacking Regressor</td>\n",
       "      <td id=\"T_a96c6_row0_col1\" class=\"data row0 col1\" >0.0345</td>\n",
       "      <td id=\"T_a96c6_row0_col2\" class=\"data row0 col2\" >0.0065</td>\n",
       "      <td id=\"T_a96c6_row0_col3\" class=\"data row0 col3\" >0.0807</td>\n",
       "      <td id=\"T_a96c6_row0_col4\" class=\"data row0 col4\" >0.9080</td>\n",
       "      <td id=\"T_a96c6_row0_col5\" class=\"data row0 col5\" >0.0493</td>\n",
       "      <td id=\"T_a96c6_row0_col6\" class=\"data row0 col6\" >0.1066</td>\n",
       "      <td id=\"T_a96c6_row0_col7\" class=\"data row0 col7\" >0.0228</td>\n",
       "      <td id=\"T_a96c6_row0_col8\" class=\"data row0 col8\" >0.0169</td>\n",
       "      <td id=\"T_a96c6_row0_col9\" class=\"data row0 col9\" >0.0807</td>\n",
       "      <td id=\"T_a96c6_row0_col10\" class=\"data row0 col10\" >0.0503</td>\n",
       "      <td id=\"T_a96c6_row0_col11\" class=\"data row0 col11\" >0.0144</td>\n",
       "    </tr>\n",
       "  </tbody>\n",
       "</table>\n"
      ],
      "text/plain": [
       "<pandas.io.formats.style.Styler at 0x7f2df7e68370>"
      ]
     },
     "metadata": {},
     "output_type": "display_data"
    },
    {
     "data": {
      "text/html": [
       "<style type=\"text/css\">\n",
       "</style>\n",
       "<table id=\"T_ea379\">\n",
       "  <thead>\n",
       "    <tr>\n",
       "      <th class=\"blank level0\" >&nbsp;</th>\n",
       "      <th id=\"T_ea379_level0_col0\" class=\"col_heading level0 col0\" >Model</th>\n",
       "      <th id=\"T_ea379_level0_col1\" class=\"col_heading level0 col1\" >MAE</th>\n",
       "      <th id=\"T_ea379_level0_col2\" class=\"col_heading level0 col2\" >MSE</th>\n",
       "      <th id=\"T_ea379_level0_col3\" class=\"col_heading level0 col3\" >RMSE</th>\n",
       "      <th id=\"T_ea379_level0_col4\" class=\"col_heading level0 col4\" >R2</th>\n",
       "      <th id=\"T_ea379_level0_col5\" class=\"col_heading level0 col5\" >RMSLE</th>\n",
       "      <th id=\"T_ea379_level0_col6\" class=\"col_heading level0 col6\" >MAPE</th>\n",
       "      <th id=\"T_ea379_level0_col7\" class=\"col_heading level0 col7\" >sigma_mad</th>\n",
       "      <th id=\"T_ea379_level0_col8\" class=\"col_heading level0 col8\" >sigma_nmad</th>\n",
       "      <th id=\"T_ea379_level0_col9\" class=\"col_heading level0 col9\" >sigma_z</th>\n",
       "      <th id=\"T_ea379_level0_col10\" class=\"col_heading level0 col10\" >sigma_z_norm</th>\n",
       "      <th id=\"T_ea379_level0_col11\" class=\"col_heading level0 col11\" >outlier_fr</th>\n",
       "    </tr>\n",
       "  </thead>\n",
       "  <tbody>\n",
       "    <tr>\n",
       "      <th id=\"T_ea379_level0_row0\" class=\"row_heading level0 row0\" >0</th>\n",
       "      <td id=\"T_ea379_row0_col0\" class=\"data row0 col0\" >Stacking Regressor</td>\n",
       "      <td id=\"T_ea379_row0_col1\" class=\"data row0 col1\" >0.0559</td>\n",
       "      <td id=\"T_ea379_row0_col2\" class=\"data row0 col2\" >0.0154</td>\n",
       "      <td id=\"T_ea379_row0_col3\" class=\"data row0 col3\" >0.1243</td>\n",
       "      <td id=\"T_ea379_row0_col4\" class=\"data row0 col4\" >0.7881</td>\n",
       "      <td id=\"T_ea379_row0_col5\" class=\"data row0 col5\" >0.0760</td>\n",
       "      <td id=\"T_ea379_row0_col6\" class=\"data row0 col6\" >0.1798</td>\n",
       "      <td id=\"T_ea379_row0_col7\" class=\"data row0 col7\" >0.0388</td>\n",
       "      <td id=\"T_ea379_row0_col8\" class=\"data row0 col8\" >0.0278</td>\n",
       "      <td id=\"T_ea379_row0_col9\" class=\"data row0 col9\" >0.1243</td>\n",
       "      <td id=\"T_ea379_row0_col10\" class=\"data row0 col10\" >0.0812</td>\n",
       "      <td id=\"T_ea379_row0_col11\" class=\"data row0 col11\" >0.0348</td>\n",
       "    </tr>\n",
       "  </tbody>\n",
       "</table>\n"
      ],
      "text/plain": [
       "<pandas.io.formats.style.Styler at 0x7f3141f1d400>"
      ]
     },
     "metadata": {},
     "output_type": "display_data"
    },
    {
     "data": {
      "text/html": [
       "<style type=\"text/css\">\n",
       "</style>\n",
       "<table id=\"T_cafaf\">\n",
       "  <thead>\n",
       "    <tr>\n",
       "      <th class=\"blank level0\" >&nbsp;</th>\n",
       "      <th id=\"T_cafaf_level0_col0\" class=\"col_heading level0 col0\" >Model</th>\n",
       "      <th id=\"T_cafaf_level0_col1\" class=\"col_heading level0 col1\" >MAE</th>\n",
       "      <th id=\"T_cafaf_level0_col2\" class=\"col_heading level0 col2\" >MSE</th>\n",
       "      <th id=\"T_cafaf_level0_col3\" class=\"col_heading level0 col3\" >RMSE</th>\n",
       "      <th id=\"T_cafaf_level0_col4\" class=\"col_heading level0 col4\" >R2</th>\n",
       "      <th id=\"T_cafaf_level0_col5\" class=\"col_heading level0 col5\" >RMSLE</th>\n",
       "      <th id=\"T_cafaf_level0_col6\" class=\"col_heading level0 col6\" >MAPE</th>\n",
       "      <th id=\"T_cafaf_level0_col7\" class=\"col_heading level0 col7\" >sigma_mad</th>\n",
       "      <th id=\"T_cafaf_level0_col8\" class=\"col_heading level0 col8\" >sigma_nmad</th>\n",
       "      <th id=\"T_cafaf_level0_col9\" class=\"col_heading level0 col9\" >sigma_z</th>\n",
       "      <th id=\"T_cafaf_level0_col10\" class=\"col_heading level0 col10\" >sigma_z_norm</th>\n",
       "      <th id=\"T_cafaf_level0_col11\" class=\"col_heading level0 col11\" >outlier_fr</th>\n",
       "    </tr>\n",
       "  </thead>\n",
       "  <tbody>\n",
       "    <tr>\n",
       "      <th id=\"T_cafaf_level0_row0\" class=\"row_heading level0 row0\" >0</th>\n",
       "      <td id=\"T_cafaf_row0_col0\" class=\"data row0 col0\" >Stacking Regressor</td>\n",
       "      <td id=\"T_cafaf_row0_col1\" class=\"data row0 col1\" >0.0525</td>\n",
       "      <td id=\"T_cafaf_row0_col2\" class=\"data row0 col2\" >0.0109</td>\n",
       "      <td id=\"T_cafaf_row0_col3\" class=\"data row0 col3\" >0.1044</td>\n",
       "      <td id=\"T_cafaf_row0_col4\" class=\"data row0 col4\" >0.8484</td>\n",
       "      <td id=\"T_cafaf_row0_col5\" class=\"data row0 col5\" >0.0657</td>\n",
       "      <td id=\"T_cafaf_row0_col6\" class=\"data row0 col6\" >0.2784</td>\n",
       "      <td id=\"T_cafaf_row0_col7\" class=\"data row0 col7\" >0.0386</td>\n",
       "      <td id=\"T_cafaf_row0_col8\" class=\"data row0 col8\" >0.0289</td>\n",
       "      <td id=\"T_cafaf_row0_col9\" class=\"data row0 col9\" >0.1044</td>\n",
       "      <td id=\"T_cafaf_row0_col10\" class=\"data row0 col10\" >0.0709</td>\n",
       "      <td id=\"T_cafaf_row0_col11\" class=\"data row0 col11\" >0.0279</td>\n",
       "    </tr>\n",
       "  </tbody>\n",
       "</table>\n"
      ],
      "text/plain": [
       "<pandas.io.formats.style.Styler at 0x7f312c1166d0>"
      ]
     },
     "metadata": {},
     "output_type": "display_data"
    }
   ],
   "source": [
    "train_prediction_reg      = pyr.predict_model(final_z_reg, data=train_df)\n",
    "test_prediction_reg       = pyr.predict_model(final_z_reg, data=test_df)\n",
    "train_test_prediction_reg = pyr.predict_model(final_z_reg, data=train_test_df)\n",
    "calib_prediction_reg      = pyr.predict_model(final_z_reg, data=calibration_df)\n",
    "validation_prediction_reg = pyr.predict_model(final_z_reg, data=validation_df)"
   ]
  },
  {
   "cell_type": "code",
   "execution_count": 80,
   "id": "e9351c07",
   "metadata": {},
   "outputs": [
    {
     "data": {
      "text/html": [
       "<div>\n",
       "<style scoped>\n",
       "    .dataframe tbody tr th:only-of-type {\n",
       "        vertical-align: middle;\n",
       "    }\n",
       "\n",
       "    .dataframe tbody tr th {\n",
       "        vertical-align: top;\n",
       "    }\n",
       "\n",
       "    .dataframe thead th {\n",
       "        text-align: right;\n",
       "    }\n",
       "</style>\n",
       "<table border=\"1\" class=\"dataframe\">\n",
       "  <thead>\n",
       "    <tr style=\"text-align: right;\">\n",
       "      <th></th>\n",
       "      <th>Z</th>\n",
       "      <th>Label</th>\n",
       "    </tr>\n",
       "  </thead>\n",
       "  <tbody>\n",
       "    <tr>\n",
       "      <th>count</th>\n",
       "      <td>2004.000000</td>\n",
       "      <td>2004.000000</td>\n",
       "    </tr>\n",
       "    <tr>\n",
       "      <th>mean</th>\n",
       "      <td>0.413818</td>\n",
       "      <td>0.413423</td>\n",
       "    </tr>\n",
       "    <tr>\n",
       "      <th>std</th>\n",
       "      <td>0.268146</td>\n",
       "      <td>0.248786</td>\n",
       "    </tr>\n",
       "    <tr>\n",
       "      <th>min</th>\n",
       "      <td>0.000000</td>\n",
       "      <td>0.021351</td>\n",
       "    </tr>\n",
       "    <tr>\n",
       "      <th>25%</th>\n",
       "      <td>0.136877</td>\n",
       "      <td>0.139881</td>\n",
       "    </tr>\n",
       "    <tr>\n",
       "      <th>50%</th>\n",
       "      <td>0.447040</td>\n",
       "      <td>0.469356</td>\n",
       "    </tr>\n",
       "    <tr>\n",
       "      <th>75%</th>\n",
       "      <td>0.604455</td>\n",
       "      <td>0.608766</td>\n",
       "    </tr>\n",
       "    <tr>\n",
       "      <th>max</th>\n",
       "      <td>1.838030</td>\n",
       "      <td>1.159524</td>\n",
       "    </tr>\n",
       "  </tbody>\n",
       "</table>\n",
       "</div>"
      ],
      "text/plain": [
       "                 Z        Label\n",
       "count  2004.000000  2004.000000\n",
       "mean      0.413818     0.413423\n",
       "std       0.268146     0.248786\n",
       "min       0.000000     0.021351\n",
       "25%       0.136877     0.139881\n",
       "50%       0.447040     0.469356\n",
       "75%       0.604455     0.608766\n",
       "max       1.838030     1.159524"
      ]
     },
     "execution_count": 80,
     "metadata": {},
     "output_type": "execute_result"
    }
   ],
   "source": [
    "validation_prediction_reg.loc[:, [target_feat, 'Label']].describe()"
   ]
  },
  {
   "cell_type": "code",
   "execution_count": 81,
   "id": "dc839d50",
   "metadata": {
    "jupyter": {
     "source_hidden": true
    },
    "tags": []
   },
   "outputs": [],
   "source": [
    "sigma_mad_train         = gf.sigma_mad(train_prediction_reg.loc[:, target_feat],         train_prediction_reg.loc[:, 'Label'])\n",
    "sigma_mad_test          = gf.sigma_mad(test_prediction_reg.loc[:, target_feat],          test_prediction_reg.loc[:, 'Label'])\n",
    "sigma_mad_train_test    = gf.sigma_mad(train_test_prediction_reg.loc[:, target_feat],    train_test_prediction_reg.loc[:, 'Label'])\n",
    "sigma_mad_calib         = gf.sigma_mad(calib_prediction_reg.loc[:, target_feat],         calib_prediction_reg.loc[:, 'Label'])\n",
    "sigma_mad_valid         = gf.sigma_mad(validation_prediction_reg.loc[:, target_feat],    validation_prediction_reg.loc[:, 'Label'])"
   ]
  },
  {
   "cell_type": "code",
   "execution_count": 82,
   "id": "3c832b2c",
   "metadata": {
    "jupyter": {
     "source_hidden": true
    },
    "tags": []
   },
   "outputs": [],
   "source": [
    "sigma_nmad_train        = gf.sigma_nmad(train_prediction_reg.loc[:, target_feat],        train_prediction_reg.loc[:, 'Label'])\n",
    "sigma_nmad_test         = gf.sigma_nmad(test_prediction_reg.loc[:, target_feat],         test_prediction_reg.loc[:, 'Label'])\n",
    "sigma_nmad_train_test   = gf.sigma_nmad(train_test_prediction_reg.loc[:, target_feat],   train_test_prediction_reg.loc[:, 'Label'])\n",
    "sigma_nmad_calib        = gf.sigma_nmad(calib_prediction_reg.loc[:, target_feat],        calib_prediction_reg.loc[:, 'Label'])\n",
    "sigma_nmad_valid        = gf.sigma_nmad(validation_prediction_reg.loc[:, target_feat],   validation_prediction_reg.loc[:, 'Label'])"
   ]
  },
  {
   "cell_type": "code",
   "execution_count": 83,
   "id": "f316f2d6",
   "metadata": {
    "jupyter": {
     "source_hidden": true
    },
    "tags": []
   },
   "outputs": [],
   "source": [
    "sigma_z_train           = gf.sigma_z(train_prediction_reg.loc[:, target_feat],           train_prediction_reg.loc[:, 'Label'])\n",
    "sigma_z_test            = gf.sigma_z(test_prediction_reg.loc[:, target_feat],            test_prediction_reg.loc[:, 'Label'])\n",
    "sigma_z_train_test      = gf.sigma_z(train_test_prediction_reg.loc[:, target_feat],      train_test_prediction_reg.loc[:, 'Label'])\n",
    "sigma_z_calib           = gf.sigma_z(calib_prediction_reg.loc[:, target_feat],           calib_prediction_reg.loc[:, 'Label'])\n",
    "sigma_z_valid           = gf.sigma_z(validation_prediction_reg.loc[:, target_feat],      validation_prediction_reg.loc[:, 'Label'])"
   ]
  },
  {
   "cell_type": "code",
   "execution_count": 84,
   "id": "085c4be1",
   "metadata": {
    "jupyter": {
     "source_hidden": true
    },
    "tags": []
   },
   "outputs": [],
   "source": [
    "sigma_z_norm_train      = gf.sigma_z_norm(train_prediction_reg.loc[:, target_feat],      train_prediction_reg.loc[:, 'Label'])\n",
    "sigma_z_norm_test       = gf.sigma_z_norm(test_prediction_reg.loc[:, target_feat],       test_prediction_reg.loc[:, 'Label'])\n",
    "sigma_z_norm_train_test = gf.sigma_z_norm(train_test_prediction_reg.loc[:, target_feat], train_test_prediction_reg.loc[:, 'Label'])\n",
    "sigma_z_norm_calib      = gf.sigma_z_norm(calib_prediction_reg.loc[:, target_feat],      calib_prediction_reg.loc[:, 'Label'])\n",
    "sigma_z_norm_valid      = gf.sigma_z_norm(validation_prediction_reg.loc[:, target_feat], validation_prediction_reg.loc[:, 'Label'])"
   ]
  },
  {
   "cell_type": "code",
   "execution_count": 85,
   "id": "fb024e0f",
   "metadata": {
    "jupyter": {
     "source_hidden": true
    },
    "tags": []
   },
   "outputs": [],
   "source": [
    "out_frac_train          = gf.outlier_frac(train_prediction_reg.loc[:, target_feat],      train_prediction_reg.loc[:, 'Label'])\n",
    "out_frac_test           = gf.outlier_frac(test_prediction_reg.loc[:, target_feat],       test_prediction_reg.loc[:, 'Label'])\n",
    "out_frac_train_test     = gf.outlier_frac(train_test_prediction_reg.loc[:, target_feat], train_test_prediction_reg.loc[:, 'Label'])\n",
    "out_frac_calib          = gf.outlier_frac(calib_prediction_reg.loc[:, target_feat],      calib_prediction_reg.loc[:, 'Label'])\n",
    "out_frac_valid          = gf.outlier_frac(validation_prediction_reg.loc[:, target_feat], validation_prediction_reg.loc[:, 'Label'])"
   ]
  },
  {
   "cell_type": "markdown",
   "id": "bef0d350",
   "metadata": {},
   "source": [
    "Display metrics as DataFrame"
   ]
  },
  {
   "cell_type": "code",
   "execution_count": 86,
   "id": "9c950cf3",
   "metadata": {
    "jupyter": {
     "source_hidden": true
    }
   },
   "outputs": [],
   "source": [
    "metrics_z = np.array([[len(train_prediction_reg),      sigma_mad_train,      sigma_nmad_train,\\\n",
    "                       sigma_z_train,      sigma_z_norm_train,      out_frac_train],\\\n",
    "                      [len(test_prediction_reg),       sigma_mad_test,       sigma_nmad_test,\\\n",
    "                       sigma_z_test,       sigma_z_norm_test,       out_frac_test],\\\n",
    "                      [len(train_test_prediction_reg), sigma_mad_train_test, sigma_nmad_train_test,\\\n",
    "                       sigma_z_train_test, sigma_z_norm_train_test, out_frac_train_test],\\\n",
    "                      [len(calib_prediction_reg),      sigma_mad_calib,      sigma_nmad_calib,\\\n",
    "                       sigma_z_calib,      sigma_z_norm_calib,      out_frac_calib],\\\n",
    "                      [len(validation_prediction_reg), sigma_mad_valid,      sigma_nmad_valid,\\\n",
    "                       sigma_z_valid,      sigma_z_norm_valid,      out_frac_valid]])"
   ]
  },
  {
   "cell_type": "code",
   "execution_count": 87,
   "id": "8b5dc660",
   "metadata": {
    "jupyter": {
     "source_hidden": true
    }
   },
   "outputs": [],
   "source": [
    "metrics_z_df = pd.DataFrame(data=metrics_z, index=['Train', 'Test', 'Train+Test', 'Calibration', 'Validation'],\\\n",
    "                            columns=['Sample', '\\u03C3 MAD', '\\u03C3 NMAD', '\\u03C3 z', '\\u03C3 z N', '\\u03B7'])"
   ]
  },
  {
   "cell_type": "code",
   "execution_count": 88,
   "id": "96d2b80e",
   "metadata": {
    "jupyter": {
     "source_hidden": true
    }
   },
   "outputs": [
    {
     "data": {
      "text/html": [
       "<div>\n",
       "<style scoped>\n",
       "    .dataframe tbody tr th:only-of-type {\n",
       "        vertical-align: middle;\n",
       "    }\n",
       "\n",
       "    .dataframe tbody tr th {\n",
       "        vertical-align: top;\n",
       "    }\n",
       "\n",
       "    .dataframe thead th {\n",
       "        text-align: right;\n",
       "    }\n",
       "</style>\n",
       "<table border=\"1\" class=\"dataframe\">\n",
       "  <thead>\n",
       "    <tr style=\"text-align: right;\">\n",
       "      <th></th>\n",
       "      <th>Sample</th>\n",
       "      <th>σ MAD</th>\n",
       "      <th>σ NMAD</th>\n",
       "      <th>σ z</th>\n",
       "      <th>σ z N</th>\n",
       "      <th>η</th>\n",
       "    </tr>\n",
       "  </thead>\n",
       "  <tbody>\n",
       "    <tr>\n",
       "      <th>Train</th>\n",
       "      <td>6290</td>\n",
       "      <td>0.0201</td>\n",
       "      <td>0.0145</td>\n",
       "      <td>0.0687</td>\n",
       "      <td>0.0413</td>\n",
       "      <td>0.0089</td>\n",
       "    </tr>\n",
       "    <tr>\n",
       "      <th>Test</th>\n",
       "      <td>784</td>\n",
       "      <td>0.0395</td>\n",
       "      <td>0.0284</td>\n",
       "      <td>0.1097</td>\n",
       "      <td>0.0715</td>\n",
       "      <td>0.0383</td>\n",
       "    </tr>\n",
       "    <tr>\n",
       "      <th>Train+Test</th>\n",
       "      <td>7849</td>\n",
       "      <td>0.0228</td>\n",
       "      <td>0.0169</td>\n",
       "      <td>0.0807</td>\n",
       "      <td>0.0503</td>\n",
       "      <td>0.0144</td>\n",
       "    </tr>\n",
       "    <tr>\n",
       "      <th>Calibration</th>\n",
       "      <td>775</td>\n",
       "      <td>0.0388</td>\n",
       "      <td>0.0278</td>\n",
       "      <td>0.1243</td>\n",
       "      <td>0.0812</td>\n",
       "      <td>0.0348</td>\n",
       "    </tr>\n",
       "    <tr>\n",
       "      <th>Validation</th>\n",
       "      <td>2004</td>\n",
       "      <td>0.0386</td>\n",
       "      <td>0.0289</td>\n",
       "      <td>0.1044</td>\n",
       "      <td>0.0709</td>\n",
       "      <td>0.0279</td>\n",
       "    </tr>\n",
       "  </tbody>\n",
       "</table>\n",
       "</div>"
      ],
      "text/plain": [
       "             Sample  σ MAD  σ NMAD    σ z  σ z N      η\n",
       "Train          6290 0.0201  0.0145 0.0687 0.0413 0.0089\n",
       "Test            784 0.0395  0.0284 0.1097 0.0715 0.0383\n",
       "Train+Test     7849 0.0228  0.0169 0.0807 0.0503 0.0144\n",
       "Calibration     775 0.0388  0.0278 0.1243 0.0812 0.0348\n",
       "Validation     2004 0.0386  0.0289 0.1044 0.0709 0.0279"
      ]
     },
     "metadata": {},
     "output_type": "display_data"
    }
   ],
   "source": [
    "with pd.option_context('display.float_format', '{:.4f}'.format):\n",
    "    metrics_z_df.loc[:, 'Sample'] = metrics_z_df.loc[:, 'Sample'].astype(int)\n",
    "    display(metrics_z_df)"
   ]
  },
  {
   "cell_type": "markdown",
   "id": "53ef9a2c",
   "metadata": {},
   "source": [
    "Mean biases per sub-set."
   ]
  },
  {
   "cell_type": "code",
   "execution_count": 89,
   "id": "3917d570",
   "metadata": {
    "jupyter": {
     "source_hidden": true
    }
   },
   "outputs": [],
   "source": [
    "res_z_train      = (train_prediction_reg.loc[:, 'Label']      -\n",
    "                    train_prediction_reg.loc[:, target_feat])      / (1 + train_prediction_reg.loc[:, target_feat])\n",
    "res_z_test       = (test_prediction_reg.loc[:, 'Label']       -\n",
    "                    test_prediction_reg.loc[:, target_feat])       / (1 + test_prediction_reg.loc[:, target_feat])\n",
    "res_z_train_test = (train_test_prediction_reg.loc[:, 'Label'] -\n",
    "                    train_test_prediction_reg.loc[:, target_feat]) / (1 + train_test_prediction_reg.loc[:, target_feat])\n",
    "res_z_calib      = (calib_prediction_reg.loc[:, 'Label']      -\n",
    "                    calib_prediction_reg.loc[:, target_feat])      / (1 + calib_prediction_reg.loc[:, target_feat])\n",
    "res_z_validation = (validation_prediction_reg.loc[:, 'Label'] -\n",
    "                    validation_prediction_reg.loc[:, target_feat]) / (1 + validation_prediction_reg.loc[:, target_feat])"
   ]
  },
  {
   "cell_type": "code",
   "execution_count": 90,
   "id": "97252701",
   "metadata": {
    "jupyter": {
     "source_hidden": true
    }
   },
   "outputs": [],
   "source": [
    "stats_res_z  = np.array([[len(train_prediction_reg),      np.nanmean(res_z_train),      np.nanstd(res_z_train)],\n",
    "                         [len(test_prediction_reg),       np.nanmean(res_z_test),       np.nanstd(res_z_test)], \n",
    "                         [len(train_test_prediction_reg), np.nanmean(res_z_train_test), np.nanstd(res_z_train_test)],\n",
    "                         [len(calib_prediction_reg),      np.nanmean(res_z_calib),      np.nanstd(res_z_calib)],\n",
    "                         [len(validation_prediction_reg), np.nanmean(res_z_validation), np.nanstd(res_z_validation)]])"
   ]
  },
  {
   "cell_type": "code",
   "execution_count": 91,
   "id": "d1221a28",
   "metadata": {
    "jupyter": {
     "source_hidden": true
    }
   },
   "outputs": [],
   "source": [
    "stats_res_z_df = pd.DataFrame(data=stats_res_z, index=['Train', 'Test', 'Train+Test', 'Calibration', 'Validation'],\\\n",
    "                            columns=['Sample', 'Mean \\u0394 z / (1 + z)', 'Std. dev. \\u0394 z / (1 + z)'])"
   ]
  },
  {
   "cell_type": "code",
   "execution_count": 92,
   "id": "93253686",
   "metadata": {
    "jupyter": {
     "source_hidden": true
    }
   },
   "outputs": [
    {
     "data": {
      "text/html": [
       "<div>\n",
       "<style scoped>\n",
       "    .dataframe tbody tr th:only-of-type {\n",
       "        vertical-align: middle;\n",
       "    }\n",
       "\n",
       "    .dataframe tbody tr th {\n",
       "        vertical-align: top;\n",
       "    }\n",
       "\n",
       "    .dataframe thead th {\n",
       "        text-align: right;\n",
       "    }\n",
       "</style>\n",
       "<table border=\"1\" class=\"dataframe\">\n",
       "  <thead>\n",
       "    <tr style=\"text-align: right;\">\n",
       "      <th></th>\n",
       "      <th>Sample</th>\n",
       "      <th>Mean Δ z / (1 + z)</th>\n",
       "      <th>Std. dev. Δ z / (1 + z)</th>\n",
       "    </tr>\n",
       "  </thead>\n",
       "  <tbody>\n",
       "    <tr>\n",
       "      <th>Train</th>\n",
       "      <td>6290</td>\n",
       "      <td>0.0020</td>\n",
       "      <td>0.0413</td>\n",
       "    </tr>\n",
       "    <tr>\n",
       "      <th>Test</th>\n",
       "      <td>784</td>\n",
       "      <td>0.0029</td>\n",
       "      <td>0.0715</td>\n",
       "    </tr>\n",
       "    <tr>\n",
       "      <th>Train+Test</th>\n",
       "      <td>7849</td>\n",
       "      <td>0.0024</td>\n",
       "      <td>0.0503</td>\n",
       "    </tr>\n",
       "    <tr>\n",
       "      <th>Calibration</th>\n",
       "      <td>775</td>\n",
       "      <td>0.0053</td>\n",
       "      <td>0.0810</td>\n",
       "    </tr>\n",
       "    <tr>\n",
       "      <th>Validation</th>\n",
       "      <td>2004</td>\n",
       "      <td>0.0040</td>\n",
       "      <td>0.0707</td>\n",
       "    </tr>\n",
       "  </tbody>\n",
       "</table>\n",
       "</div>"
      ],
      "text/plain": [
       "             Sample  Mean Δ z / (1 + z)  Std. dev. Δ z / (1 + z)\n",
       "Train          6290              0.0020                   0.0413\n",
       "Test            784              0.0029                   0.0715\n",
       "Train+Test     7849              0.0024                   0.0503\n",
       "Calibration     775              0.0053                   0.0810\n",
       "Validation     2004              0.0040                   0.0707"
      ]
     },
     "metadata": {},
     "output_type": "display_data"
    }
   ],
   "source": [
    "with pd.option_context('display.float_format', '{:.4f}'.format):\n",
    "    stats_res_z_df.loc[:, 'Sample'] = stats_res_z_df.loc[:, 'Sample'].astype(int)\n",
    "    display(stats_res_z_df)"
   ]
  },
  {
   "cell_type": "code",
   "execution_count": 93,
   "id": "264a76ab",
   "metadata": {
    "jupyter": {
     "source_hidden": true
    },
    "tags": []
   },
   "outputs": [
    {
     "data": {
      "image/png": "[encoded data removed]",
      "text/plain": [
       "<Figure size 750x600 with 3 Axes>"
      ]
     },
     "metadata": {},
     "output_type": "display_data"
    }
   ],
   "source": [
    "# visualize the embedding\n",
    "fig             = plt.figure(figsize=(7.5,6))\n",
    "ax1             = fig.add_subplot(111, projection='scatter_density', xscale='log', yscale='log')\n",
    "_ = gf.plot_redshift_compare(train_prediction_reg.loc[:, target_feat], train_prediction_reg.loc[:, 'Label'],\\\n",
    "                      ax_pre=ax1, title='Training set', dpi=10, show_clb=True, log_stretch=False)\n",
    "if save_plot_flag:\n",
    "    plt.savefig(gv.plots_path + 'compare_plot_train_redshift_04.pdf', bbox_inches='tight')\n",
    "plt.show()"
   ]
  },
  {
   "cell_type": "code",
   "execution_count": 94,
   "id": "bb2da7bd",
   "metadata": {
    "jupyter": {
     "source_hidden": true
    },
    "tags": []
   },
   "outputs": [
    {
     "data": {
      "image/png": "[encoded data removed]",
      "text/plain": [
       "<Figure size 750x600 with 3 Axes>"
      ]
     },
     "metadata": {},
     "output_type": "display_data"
    }
   ],
   "source": [
    "# visualize the embedding\n",
    "fig             = plt.figure(figsize=(7.5,6))\n",
    "ax1             = fig.add_subplot(111, projection='scatter_density', xscale='log', yscale='log')\n",
    "_ = gf.plot_redshift_compare(test_prediction_reg.loc[:, target_feat], test_prediction_reg.loc[:, 'Label'],\\\n",
    "                      ax_pre=ax1, title='Test set', dpi=10, show_clb=True, log_stretch=False)\n",
    "if save_plot_flag:\n",
    "    plt.savefig(gv.plots_path + 'compare_plot_test_redshift_04.pdf', bbox_inches='tight')\n",
    "plt.show()"
   ]
  },
  {
   "cell_type": "code",
   "execution_count": 95,
   "id": "7dc890c5",
   "metadata": {
    "jupyter": {
     "source_hidden": true
    },
    "tags": []
   },
   "outputs": [
    {
     "data": {
      "image/png": "[encoded data removed]",
      "text/plain": [
       "<Figure size 750x600 with 3 Axes>"
      ]
     },
     "metadata": {},
     "output_type": "display_data"
    }
   ],
   "source": [
    "# visualize the embedding\n",
    "fig             = plt.figure(figsize=(7.5,6))\n",
    "ax1             = fig.add_subplot(111, projection='scatter_density', xscale='log', yscale='log')\n",
    "_ = gf.plot_redshift_compare(calib_prediction_reg.loc[:, target_feat], calib_prediction_reg.loc[:, 'Label'],\\\n",
    "                      ax_pre=ax1, title='Calibration set', dpi=10, show_clb=True, log_stretch=False)\n",
    "if save_plot_flag:\n",
    "    plt.savefig(gv.plots_path + 'compare_plot_calibration_redshift_04.pdf', bbox_inches='tight')\n",
    "plt.show()"
   ]
  },
  {
   "cell_type": "code",
   "execution_count": 96,
   "id": "e4ff8ca3",
   "metadata": {
    "jupyter": {
     "source_hidden": true
    },
    "tags": []
   },
   "outputs": [
    {
     "data": {
      "image/png": "[encoded data removed]",
      "text/plain": [
       "<Figure size 750x600 with 3 Axes>"
      ]
     },
     "metadata": {},
     "output_type": "display_data"
    }
   ],
   "source": [
    "# visualize the embedding\n",
    "fig             = plt.figure(figsize=(7.5,6))\n",
    "ax1             = fig.add_subplot(111, projection='scatter_density', xscale='log', yscale='log')\n",
    "_ = gf.plot_redshift_compare(validation_prediction_reg.loc[:, target_feat], validation_prediction_reg.loc[:, 'Label'],\\\n",
    "                      ax_pre=ax1, title='Validation set', dpi=10, show_clb=True, log_stretch=False)\n",
    "if save_plot_flag:\n",
    "    plt.savefig(gv.plots_path + 'compare_plot_validation_redshift_04.pdf', bbox_inches='tight')\n",
    "plt.show()"
   ]
  },
  {
   "cell_type": "code",
   "execution_count": 97,
   "id": "2177a066",
   "metadata": {
    "jupyter": {
     "source_hidden": true
    },
    "tags": []
   },
   "outputs": [
    {
     "data": {
      "image/png": "[encoded data removed]",
      "text/plain": [
       "<Figure size 1000x350 with 1 Axes>"
      ]
     },
     "metadata": {},
     "output_type": "display_data"
    }
   ],
   "source": [
    "fig             = plt.figure(figsize=(10,3.5))\n",
    "ax1             = fig.add_subplot(111, xscale='linear', yscale='log')\n",
    "\n",
    "min_for_range = np.nanmin([np.nanmin(validation_prediction_reg.loc[:, target_feat]),\\\n",
    "                           np.nanmin(validation_prediction_reg.loc[:, 'Label'])])\n",
    "max_for_range = np.nanmax([np.nanmax(validation_prediction_reg.loc[:, target_feat]),\\\n",
    "                           np.nanmax(validation_prediction_reg.loc[:, 'Label'])])\n",
    "bins_z        = np.linspace(min_for_range, max_for_range, 50)\n",
    "\n",
    "_, bins, _ = ax1.hist(validation_prediction_reg.loc[:, 'Label'], bins=bins_z, histtype='stepfilled',\\\n",
    "                      ec='k', fc='mediumpurple', lw=3.5,\\\n",
    "                      label=f\"Predicted\\nN={np.sum(np.array(validation_prediction_reg.loc[:, 'Label'] > 0))}\")\n",
    "ax1.hist(validation_prediction_reg.loc[:, target_feat], bins=bins_z, histtype='stepfilled', ec='k', fc='darkcyan',\\\n",
    "         lw=3.5, label=f\"True\\nN={np.sum(np.array(validation_prediction_reg.loc[:, 'Z'] > 0))}\", alpha=0.7)\n",
    "\n",
    "ax1.tick_params(which='both', top=True, right=True, direction='in')\n",
    "ax1.tick_params(axis='both', which='major', labelsize=14)\n",
    "ax1.tick_params(which='major', length=8, width=1.5)\n",
    "ax1.tick_params(which='minor', length=4, width=1.5)\n",
    "# ax1.set_xlabel('$m_{\\mathrm{W1}}\\, \\mathrm{[AB]}$', size=20)\n",
    "ax1.set_xlabel('Redshift', size=20)\n",
    "ax1.set_ylabel('Frequency', size=20)\n",
    "# ax1.set_ylabel('Frequency', size=20)\n",
    "plt.setp(ax1.spines.values(), linewidth=3.5)\n",
    "plt.setp(ax1.spines.values(), linewidth=3.5)\n",
    "plt.legend(loc=1, fontsize=20)\n",
    "# ax1.invert_xaxis()\n",
    "# ax1.set_xlim(left=-4, right=6)\n",
    "#ax1.set_aspect('equal', 'box')\n",
    "fig.tight_layout()\n",
    "if save_plot_flag:\n",
    "    plt.savefig(gv.plots_path + 'hist_true_predicted_z_04.pdf')\n",
    "plt.show()"
   ]
  },
  {
   "cell_type": "markdown",
   "id": "cda6a434",
   "metadata": {},
   "source": [
    "---"
   ]
  },
  {
   "cell_type": "markdown",
   "id": "3feceb05",
   "metadata": {},
   "source": [
    "#### Redshift threshold"
   ]
  },
  {
   "cell_type": "markdown",
   "id": "da588075",
   "metadata": {},
   "source": [
    "In order to understand where (in redshift) the predictions are far off from real values, we can use the evolution of the outlier fraction to obtain the point where that happens."
   ]
  },
  {
   "cell_type": "code",
   "execution_count": 98,
   "id": "c4f1d9d7",
   "metadata": {},
   "outputs": [],
   "source": [
    "n_elems        = 50\n",
    "z_range_lin    = np.linspace(0, np.nanmax(train_test_prediction_reg.loc[:, target_feat]), n_elems)\n",
    "z_range_log    = np.logspace(np.log10(np.abs(np.nanmin(train_test_prediction_reg.loc[:, target_feat]))),\\\n",
    "                          np.log10(np.abs(np.nanmax(train_test_prediction_reg.loc[:, target_feat]))), n_elems)\n",
    "z_range_lg_inv = np.abs(np.abs(np.nanmax(train_test_prediction_reg.loc[:, target_feat]))) - z_range_log"
   ]
  },
  {
   "cell_type": "code",
   "execution_count": 99,
   "id": "1bf7069e",
   "metadata": {
    "jupyter": {
     "source_hidden": true
    }
   },
   "outputs": [],
   "source": [
    "train_test_prediction_reg = train_test_prediction_reg.rename(columns={'Label': 'pred_Z'})"
   ]
  },
  {
   "cell_type": "code",
   "execution_count": 100,
   "id": "2de18710",
   "metadata": {},
   "outputs": [],
   "source": [
    "s_MAD_z_z_lin          = z_metric_in_z_ranges(train_test_prediction_reg, target_feat, z_range_lin, gf.sigma_mad,      target_feat,            'pred_Z')\n",
    "s_NMAD_z_z_lin         = z_metric_in_z_ranges(train_test_prediction_reg, target_feat, z_range_lin, gf.sigma_nmad,     target_feat,            'pred_Z')\n",
    "sigma_z_z_z_lin        = z_metric_in_z_ranges(train_test_prediction_reg, target_feat, z_range_lin, gf.sigma_z,        target_feat,            'pred_Z')\n",
    "sigma_z_N_z_z_lin      = z_metric_in_z_ranges(train_test_prediction_reg, target_feat, z_range_lin, gf.sigma_z_norm,   target_feat,            'pred_Z')\n",
    "out_fr_z_z_lin         = z_metric_in_z_ranges(train_test_prediction_reg, target_feat, z_range_lin, gf.outlier_frac,   target_feat,            'pred_Z')"
   ]
  },
  {
   "cell_type": "code",
   "execution_count": 101,
   "id": "0ffdd748",
   "metadata": {
    "jupyter": {
     "source_hidden": true
    }
   },
   "outputs": [],
   "source": [
    "s_MAD_z_z_log          = z_metric_in_z_ranges(train_test_prediction_reg, target_feat, z_range_log, gf.sigma_mad,      target_feat,            'pred_Z')\n",
    "s_NMAD_z_z_log         = z_metric_in_z_ranges(train_test_prediction_reg, target_feat, z_range_log, gf.sigma_nmad,     target_feat,            'pred_Z')\n",
    "sigma_z_z_z_log        = z_metric_in_z_ranges(train_test_prediction_reg, target_feat, z_range_log, gf.sigma_z,        target_feat,            'pred_Z')\n",
    "sigma_z_N_z_z_log      = z_metric_in_z_ranges(train_test_prediction_reg, target_feat, z_range_log, gf.sigma_z_norm,   target_feat,            'pred_Z')\n",
    "out_fr_z_z_log         = z_metric_in_z_ranges(train_test_prediction_reg, target_feat, z_range_log, gf.outlier_frac,   target_feat,            'pred_Z')"
   ]
  },
  {
   "cell_type": "code",
   "execution_count": 102,
   "id": "85906a03",
   "metadata": {
    "jupyter": {
     "source_hidden": true
    }
   },
   "outputs": [],
   "source": [
    "s_MAD_z_z_log_inv      = z_metric_in_z_ranges(train_test_prediction_reg, target_feat, z_range_lg_inv, gf.sigma_mad,      target_feat,            'pred_Z')\n",
    "s_NMAD_z_z_log_inv     = z_metric_in_z_ranges(train_test_prediction_reg, target_feat, z_range_lg_inv, gf.sigma_nmad,     target_feat,            'pred_Z')\n",
    "sigma_z_z_z_log_inv    = z_metric_in_z_ranges(train_test_prediction_reg, target_feat, z_range_lg_inv, gf.sigma_z,        target_feat,            'pred_Z')\n",
    "sigma_z_N_z_z_log_inv  = z_metric_in_z_ranges(train_test_prediction_reg, target_feat, z_range_lg_inv, gf.sigma_z_norm,   target_feat,            'pred_Z')\n",
    "out_fr_z_z_log_inv     = z_metric_in_z_ranges(train_test_prediction_reg, target_feat, z_range_lg_inv, gf.outlier_frac,   target_feat,            'pred_Z')"
   ]
  },
  {
   "cell_type": "code",
   "execution_count": 103,
   "id": "26a0fe29",
   "metadata": {
    "jupyter": {
     "source_hidden": true
    }
   },
   "outputs": [
    {
     "data": {
      "image/png": "[encoded data removed]",
      "text/plain": [
       "<Figure size 600x500 with 1 Axes>"
      ]
     },
     "metadata": {},
     "output_type": "display_data"
    }
   ],
   "source": [
    "fig             = plt.figure(figsize=(6,5))\n",
    "ax1             = fig.add_subplot(111, xscale='linear', yscale='linear')\n",
    "plot_metric_over_z(z_range_lin, s_MAD_z_z_lin, '\\sigma_{MAD}', ax1, title='Train+test')\n",
    "# ax1.axhline(y=0.10, ls='--', c='Gray', lw=2.0)\n",
    "ax1.axhline(y=0.15, ls='--', c='Gray', lw=2.0)\n",
    "ax1.axvline(x=3.60, ls='--', c='Gray', lw=2.0)\n",
    "# ax1.axhline(y=0.20, ls='--', c='Gray', lw=2.0)\n",
    "# ax1.axhline(y=0.50, ls='--', c='Gray', lw=2.0)\n",
    "fig.tight_layout()\n",
    "if save_plot_flag:\n",
    "    plt.savefig(gv.plots_path + 'sigma_mad_linear_redshift_train_test.pdf', bbox_inches='tight')\n",
    "plt.show()"
   ]
  },
  {
   "cell_type": "code",
   "execution_count": 104,
   "id": "bd33aeee",
   "metadata": {
    "jupyter": {
     "source_hidden": true
    }
   },
   "outputs": [
    {
     "data": {
      "image/png": "[encoded data removed]",
      "text/plain": [
       "<Figure size 600x500 with 1 Axes>"
      ]
     },
     "metadata": {},
     "output_type": "display_data"
    }
   ],
   "source": [
    "fig             = plt.figure(figsize=(6,5))\n",
    "ax1             = fig.add_subplot(111, xscale='linear', yscale='linear')\n",
    "plot_metric_over_z(z_range_lin, s_NMAD_z_z_lin, '\\sigma_{NMAD}', ax1, title='Train+test')\n",
    "# ax1.axhline(y=0.10, ls='--', c='Gray', lw=2.0)\n",
    "ax1.axhline(y=0.15, ls='--', c='Gray', lw=2.0)\n",
    "ax1.axvline(x=3.60, ls='--', c='Gray', lw=2.0)\n",
    "# ax1.axhline(y=0.20, ls='--', c='Gray', lw=2.0)\n",
    "# ax1.axhline(y=0.50, ls='--', c='Gray', lw=2.0)\n",
    "fig.tight_layout()\n",
    "if save_plot_flag:\n",
    "    plt.savefig(gv.plots_path + 'sigma_nmad_linear_redshift_train_test.pdf', bbox_inches='tight')\n",
    "plt.show()"
   ]
  },
  {
   "cell_type": "code",
   "execution_count": 105,
   "id": "91191960",
   "metadata": {
    "jupyter": {
     "source_hidden": true
    }
   },
   "outputs": [
    {
     "data": {
      "image/png": "[encoded data removed]",
      "text/plain": [
       "<Figure size 600x500 with 1 Axes>"
      ]
     },
     "metadata": {},
     "output_type": "display_data"
    }
   ],
   "source": [
    "fig             = plt.figure(figsize=(6,5))\n",
    "ax1             = fig.add_subplot(111, xscale='linear', yscale='linear')\n",
    "plot_metric_over_z(z_range_lin, out_fr_z_z_lin, 'Outlier\\,Fraction', ax1, title='Train+test')\n",
    "# ax1.axhline(y=0.10, ls='--', c='Gray', lw=2.0)\n",
    "ax1.axhline(y=0.15, ls='--', c='Gray', lw=2.0)\n",
    "ax1.axvline(x=3.60, ls='--', c='Gray', lw=2.0)\n",
    "# ax1.axhline(y=0.20, ls='--', c='Gray', lw=2.0)\n",
    "# ax1.axhline(y=0.50, ls='--', c='Gray', lw=2.0)\n",
    "fig.tight_layout()\n",
    "if save_plot_flag:\n",
    "    plt.savefig(gv.plots_path + 'outlier_fraction_linear_redshift_train_test.pdf', bbox_inches='tight')\n",
    "plt.show()"
   ]
  },
  {
   "cell_type": "code",
   "execution_count": 106,
   "id": "c62aa2c7",
   "metadata": {
    "jupyter": {
     "source_hidden": true
    }
   },
   "outputs": [
    {
     "data": {
      "image/png": "[encoded data removed]",
      "text/plain": [
       "<Figure size 600x500 with 1 Axes>"
      ]
     },
     "metadata": {},
     "output_type": "display_data"
    }
   ],
   "source": [
    "fig             = plt.figure(figsize=(6,5))\n",
    "ax1             = fig.add_subplot(111, xscale='log', yscale='linear')\n",
    "plot_metric_over_z(z_range_log, out_fr_z_z_log, 'Outlier\\,Fraction', ax1, title='Train+test')\n",
    "# ax1.axhline(y=0.10, ls='--', c='Gray', lw=2.0)\n",
    "ax1.axhline(y=0.15, ls='--', c='Gray', lw=2.0)\n",
    "ax1.axvline(x=3.60, ls='--', c='Gray', lw=2.0)\n",
    "# ax1.axhline(y=0.20, ls='--', c='Gray', lw=2.0)\n",
    "# ax1.axhline(y=0.50, ls='--', c='Gray', lw=2.0)\n",
    "fig.tight_layout()\n",
    "if save_plot_flag:\n",
    "    plt.savefig(gv.plots_path + 'outlier_fraction_log_redshift_redshift_train_test.pdf', bbox_inches='tight')\n",
    "plt.show()"
   ]
  },
  {
   "cell_type": "code",
   "execution_count": 107,
   "id": "a0e05c37",
   "metadata": {
    "jupyter": {
     "source_hidden": true
    }
   },
   "outputs": [
    {
     "data": {
      "image/png": "[encoded data removed]",
      "text/plain": [
       "<Figure size 600x500 with 1 Axes>"
      ]
     },
     "metadata": {},
     "output_type": "display_data"
    },
    {
     "name": "stderr",
     "output_type": "stream",
     "text": [
      "Custom logger is already specified. Specify more than one logger at same time is not thread safe.Custom logger is already specified. Specify more than one logger at same time is not thread safe.Custom logger is already specified. Specify more than one logger at same time is not thread safe.Custom logger is already specified. Specify more than one logger at same time is not thread safe."
     ]
    }
   ],
   "source": [
    "fig             = plt.figure(figsize=(6,5))\n",
    "ax1             = fig.add_subplot(111, xscale='linear', yscale='linear')\n",
    "plot_metric_over_z(z_range_lg_inv, out_fr_z_z_log_inv, 'Outlier\\,Fraction', ax1, title='Train+test')\n",
    "# ax1.axhline(y=0.10, ls='--', c='Gray', lw=2.0)\n",
    "ax1.axhline(y=0.15, ls='--', c='Gray', lw=2.0)\n",
    "ax1.axvline(x=3.60, ls='--', c='Gray', lw=2.0)\n",
    "# ax1.axhline(y=0.20, ls='--', c='Gray', lw=2.0)\n",
    "# ax1.axhline(y=0.50, ls='--', c='Gray', lw=2.0)\n",
    "fig.tight_layout()\n",
    "if save_plot_flag:\n",
    "    plt.savefig(gv.plots_path + 'outlier_fraction_inv_log_redshift_redshift_train_test.pdf', bbox_inches='tight')\n",
    "plt.show()"
   ]
  },
  {
   "cell_type": "code",
   "execution_count": null,
   "id": "b0e474bd",
   "metadata": {},
   "outputs": [],
   "source": []
  },
  {
   "cell_type": "code",
   "execution_count": null,
   "id": "c79b5b49",
   "metadata": {},
   "outputs": [],
   "source": []
  }
 ],
 "metadata": {
  "accelerator": "GPU",
  "colab": {
   "name": "HETDEX_pipeline_AGN_training.ipynb",
   "provenance": []
  },
  "kernelspec": {
   "display_name": "Python 3 (ipykernel)",
   "language": "python",
   "name": "python3"
  },
  "language_info": {
   "codemirror_mode": {
    "name": "ipython",
    "version": 3
   },
   "file_extension": ".py",
   "mimetype": "text/x-python",
   "name": "python",
   "nbconvert_exporter": "python",
   "pygments_lexer": "ipython3",
   "version": "3.8.13"
  }
 },
 "nbformat": 4,
 "nbformat_minor": 5
}
