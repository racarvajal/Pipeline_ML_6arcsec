{
 "cells": [
  {
   "cell_type": "markdown",
   "metadata": {},
   "source": [
    "# Pipeline for High-z Radio Galaxies 13: Study behaviour of scores on radio flux"
   ]
  },
  {
   "cell_type": "markdown",
   "metadata": {},
   "source": [
    "## Introduction"
   ]
  },
  {
   "cell_type": "markdown",
   "metadata": {},
   "source": [
    "In this file, three models will be applied consecutively in order to predict  \n",
    "the detection of Radio Galaxies (radio AGN) and their redshift.  \n",
    "\n",
    "In principle, this pipeline should be applied to data in Stripe 82. But  \n",
    "it can be used with any other suitable dataset."
   ]
  },
  {
   "cell_type": "code",
   "execution_count": 1,
   "metadata": {},
   "outputs": [],
   "source": [
    "%matplotlib inline\n",
    "# Static plots\n",
    "#%matplotlib ipympl\n",
    "# Interactive plots\n",
    "import numpy as np\n",
    "import matplotlib as mpl\n",
    "import matplotlib.cm as cm\n",
    "from matplotlib import ticker\n",
    "import matplotlib.pyplot as plt\n",
    "import matplotlib.colors as mcolors\n",
    "import matplotlib.patheffects as mpe\n",
    "import matplotlib.patches as mpatches\n",
    "from matplotlib.ticker import ScalarFormatter\n",
    "from mpl_toolkits.axes_grid1.inset_locator import inset_axes\n",
    "from astropy.visualization import LogStretch, PowerStretch\n",
    "from astropy.visualization.mpl_normalize import ImageNormalize\n",
    "from sklearn.preprocessing import MinMaxScaler\n",
    "from sklearn.metrics import ConfusionMatrixDisplay\n",
    "import sklearn.pipeline\n",
    "import colorcet as cc\n",
    "# from pycaret import classification as pyc\n",
    "# from pycaret import regression as pyr\n",
    "from joblib import dump, load\n",
    "import pandas as pd\n",
    "import global_variables as gv\n",
    "import global_functions as gf"
   ]
  },
  {
   "cell_type": "code",
   "execution_count": 2,
   "metadata": {},
   "outputs": [],
   "source": [
    "mpl.rcdefaults()"
   ]
  },
  {
   "cell_type": "code",
   "execution_count": 3,
   "metadata": {},
   "outputs": [],
   "source": [
    "plt.rcParams['text.usetex'] = True"
   ]
  },
  {
   "cell_type": "markdown",
   "metadata": {},
   "source": [
    "---"
   ]
  },
  {
   "cell_type": "markdown",
   "metadata": {},
   "source": [
    "## Reading data"
   ]
  },
  {
   "cell_type": "markdown",
   "metadata": {
    "tags": []
   },
   "source": [
    "Flags."
   ]
  },
  {
   "cell_type": "code",
   "execution_count": 4,
   "metadata": {},
   "outputs": [],
   "source": [
    "save_plot_flag      = False\n",
    "save_preds_flag     = False"
   ]
  },
  {
   "cell_type": "code",
   "execution_count": 5,
   "metadata": {},
   "outputs": [],
   "source": [
    "used_area           = 'HETDEX'  # can be 'S82', 'HETDEX', 'COSMOS'"
   ]
  },
  {
   "cell_type": "code",
   "execution_count": 6,
   "metadata": {
    "tags": []
   },
   "outputs": [],
   "source": [
    "file_name_dict      = {'S82': gv.file_S82, 'HETDEX': gv.file_HETDEX, 'COSMOS': gv.file_COSMOS}\n",
    "file_name           = file_name_dict[used_area]"
   ]
  },
  {
   "cell_type": "code",
   "execution_count": 7,
   "metadata": {
    "tags": []
   },
   "outputs": [],
   "source": [
    "feats_2_disc_S82    = ['objID', 'RA_MILLI', 'DEC_MILLI', 'W1mag', 'W2mag', 'num_imputed']\n",
    "feats_2_disc_HETDEX = ['objID', 'RA_MILLI', 'DEC_MILLI', 'W1mag', 'W2mag', 'num_imputed']\n",
    "feats_2_disc_COSMOS = ['objID', 'RA_MILLI', 'DEC_MILLI', 'W1mag', 'W2mag', 'num_imputed']\n",
    "\n",
    "feats_2_disc        = {'S82': feats_2_disc_S82, 'HETDEX': feats_2_disc_HETDEX, 'COSMOS': feats_2_disc_COSMOS}\n",
    "features_2_discard  = feats_2_disc[used_area]"
   ]
  },
  {
   "cell_type": "code",
   "execution_count": 8,
   "metadata": {},
   "outputs": [],
   "source": [
    "# full_catalog_df     = pd.read_hdf(gv.cat_path + file_name, key='df').drop(columns=features_2_discard)"
   ]
  },
  {
   "cell_type": "code",
   "execution_count": 9,
   "metadata": {},
   "outputs": [],
   "source": [
    "full_catalog_df = pd.read_hdf(gv.preds_path + 'HETDEX_full_prediction.h5', key='df')"
   ]
  },
  {
   "cell_type": "code",
   "execution_count": 10,
   "metadata": {},
   "outputs": [],
   "source": [
    "full_catalog_df.loc[(full_catalog_df.loc[:, 'Sint_LOFAR_non_imp'] == 0), 'Sint_LOFAR_non_imp'] = np.nan"
   ]
  },
  {
   "cell_type": "code",
   "execution_count": 11,
   "metadata": {},
   "outputs": [],
   "source": [
    "full_catalog_df['SNR_LOFAR'] = full_catalog_df.loc[:, 'Sint_LOFAR_non_imp'] / full_catalog_df.loc[:, 'rms_LOFAR']"
   ]
  },
  {
   "cell_type": "code",
   "execution_count": 12,
   "metadata": {},
   "outputs": [],
   "source": [
    "if used_area == 'S82':\n",
    "    full_catalog_df.loc[:, 'LOFAR_detect'] = full_catalog_df.loc[:, 'VLAS82_detect'].copy()\n",
    "    full_catalog_df = full_catalog_df.drop(columns=['VLAS82_detect'])\n",
    "if used_area == 'COSMOS':\n",
    "    full_catalog_df.loc[:, 'LOFAR_detect'] = full_catalog_df.loc[:, 'COSMOSVLA3_detect'].copy()\n",
    "    full_catalog_df = full_catalog_df.drop(columns=['COSMOSVLA3_detect'])"
   ]
  },
  {
   "cell_type": "markdown",
   "metadata": {},
   "source": [
    "Create features with class and combined redshift."
   ]
  },
  {
   "cell_type": "code",
   "execution_count": 13,
   "metadata": {},
   "outputs": [],
   "source": [
    "# full_catalog_df['class']            = full_catalog_df.loc[:, 'is_AGN'].copy()\n",
    "filter_non_confirmed                = np.array(full_catalog_df.loc[:, 'class'] == 1) | np.array(full_catalog_df.loc[:, 'class'] == 0)\n",
    "# full_catalog_df.loc[~filter_non_confirmed, 'class'] = np.nan\n",
    "# idx_non_Z                           = full_catalog_df.loc[:, 'Z'].where(full_catalog_df.loc[:, 'Z'] > 0).isna()\n",
    "# full_catalog_df.loc[idx_non_Z, 'Z'] = full_catalog_df.loc[:, 'Z'].mask(idx_non_Z, full_catalog_df.loc[idx_non_Z, 'zsp'])"
   ]
  },
  {
   "cell_type": "code",
   "execution_count": 14,
   "metadata": {},
   "outputs": [
    {
     "name": "stdout",
     "output_type": "stream",
     "text": [
      "Shape of used data in HETDEX\n",
      "------------------------------------------------------------\n",
      "Full confirmed dataset size:                      (15136878, 107)\n",
      "Data for Modeling (Train, Test, and Calibration): (94987, 107)\n",
      "Training data:                                    (75989, 107)\n",
      "Testing data:                                     (9499, 107)\n",
      "Calibration data:                                 (9499, 107)\n",
      "Validation data:                                  (23747, 107)\n",
      "------------------------------------------------------------\n",
      "\n"
     ]
    }
   ],
   "source": [
    "known_idx            = np.loadtxt(gv.indices_path + 'indices_known.txt')\n",
    "train_idx            = np.loadtxt(gv.indices_path + 'indices_train.txt')\n",
    "train_validation_idx = np.loadtxt(gv.indices_path + 'indices_train_validation.txt')  # in the future, fix naming\n",
    "validation_idx       = np.loadtxt(gv.indices_path + 'indices_validation.txt')  # in the future, fix naming\n",
    "calibration_idx      = np.loadtxt(gv.indices_path + 'indices_calibration.txt')\n",
    "test_idx             = np.loadtxt(gv.indices_path + 'indices_test.txt')\n",
    "    \n",
    "train_test_df        = full_catalog_df.loc[train_validation_idx]\n",
    "train_df             = full_catalog_df.loc[train_idx]\n",
    "test_df              = full_catalog_df.loc[validation_idx]\n",
    "calibration_df       = full_catalog_df.loc[calibration_idx]\n",
    "validation_df        = full_catalog_df.loc[test_idx]\n",
    "    \n",
    "print('Shape of used data in HETDEX')\n",
    "print('-' * 60)\n",
    "print(f'Full confirmed dataset size:                      {full_catalog_df.shape}')\n",
    "print(f'Data for Modeling (Train, Test, and Calibration): {train_test_df.shape}')\n",
    "print(f'Training data:                                    {train_df.shape}')\n",
    "print(f'Testing data:                                     {test_df.shape}')\n",
    "print(f'Calibration data:                                 {calibration_df.shape}')\n",
    "print(f'Validation data:                                  {validation_df.shape}')\n",
    "print('-' * 60)\n",
    "print()"
   ]
  },
  {
   "cell_type": "code",
   "execution_count": 15,
   "metadata": {},
   "outputs": [
    {
     "data": {
      "text/plain": [
       "array(['RA_ICRS', 'DE_ICRS', 'Name', 'TYPE', 'Z', 'band_num',\n",
       "       'Sint_LOFAR', 'Sint_LOFAR_AB', 'Sint_LOFAR_non_imp', 'rms_LOFAR',\n",
       "       'is_str', 'W1mproPM', 'W2mproPM', 'gmag', 'rmag', 'imag', 'zmag',\n",
       "       'ymag', 'W3mag', 'W4mag', 'Jmag', 'Hmag', 'Kmag', 'g_r', 'g_i',\n",
       "       'g_z', 'g_y', 'g_J', 'g_H', 'g_K', 'g_W1', 'g_W2', 'g_W3', 'g_W4',\n",
       "       'r_i', 'r_z', 'r_y', 'r_J', 'r_H', 'r_K', 'r_W1', 'r_W2', 'r_W3',\n",
       "       'r_W4', 'i_z', 'i_y', 'i_J', 'i_H', 'i_K', 'i_W1', 'i_W2', 'i_W3',\n",
       "       'i_W4', 'z_y', 'z_J', 'z_H', 'z_K', 'z_W1', 'z_W2', 'z_W3', 'z_W4',\n",
       "       'y_J', 'y_H', 'y_K', 'y_W1', 'y_W2', 'y_W3', 'y_W4', 'J_H', 'J_K',\n",
       "       'J_W1', 'J_W2', 'J_W3', 'J_W4', 'H_K', 'H_W1', 'H_W2', 'H_W3',\n",
       "       'H_W4', 'K_W1', 'K_W2', 'K_W3', 'K_W4', 'W1_W2', 'W1_W3', 'W1_W4',\n",
       "       'W2_W3', 'W2_W4', 'W3_W4', 'radio_detect', 'LOFAR_detect', 'class',\n",
       "       'radio_AGN', 'Prob_AGN', 'Prob_radio_AGN', 'Prob_radio_gal',\n",
       "       'pred_Z_rAGN', 'pred_Z_rGal', 'pred_class_cal',\n",
       "       'pred_radio_cal_AGN', 'pred_radio_cal_gal', 'pred_prob_rAGN',\n",
       "       'Prob_rAGN', 'pred_prob_rGal', 'Prob_rGal', 'ID', 'SNR_LOFAR'],\n",
       "      dtype=object)"
      ]
     },
     "execution_count": 15,
     "metadata": {},
     "output_type": "execute_result"
    }
   ],
   "source": [
    "np.array(train_test_df.columns)"
   ]
  },
  {
   "cell_type": "code",
   "execution_count": 43,
   "metadata": {},
   "outputs": [],
   "source": [
    "filter_pred_AGN_train_test = np.array(train_test_df.loc[:, 'pred_class_cal'] == 1)"
   ]
  },
  {
   "cell_type": "code",
   "execution_count": 50,
   "metadata": {},
   "outputs": [],
   "source": [
    "cm_AGN_gal_train_test = gf.conf_mat_func(train_test_df.loc[:, 'class'], train_test_df.loc[:, 'pred_class_cal'])\n",
    "cm_radio_train_test   = gf.conf_mat_func(train_test_df.loc[filter_pred_AGN_train_test, 'radio_detect'], \n",
    "                                         train_test_df.loc[filter_pred_AGN_train_test, 'pred_radio_cal_AGN'])"
   ]
  },
  {
   "cell_type": "code",
   "execution_count": 51,
   "metadata": {},
   "outputs": [],
   "source": [
    "prec_AGN_gal_train_test = gf.Precision_from_CM(cm_AGN_gal_train_test)\n",
    "rec_AGN_gal_train_test  = gf.Recall_from_CM(cm_AGN_gal_train_test)"
   ]
  },
  {
   "cell_type": "code",
   "execution_count": 52,
   "metadata": {},
   "outputs": [],
   "source": [
    "prec_radio_train_test = gf.Precision_from_CM(cm_radio_train_test)\n",
    "rec_radio_train_test  = gf.Recall_from_CM(cm_radio_train_test)"
   ]
  },
  {
   "cell_type": "code",
   "execution_count": 53,
   "metadata": {},
   "outputs": [
    {
     "data": {
      "text/plain": [
       "0.96512216"
      ]
     },
     "execution_count": 53,
     "metadata": {},
     "output_type": "execute_result"
    }
   ],
   "source": [
    "prec_AGN_gal_train_test"
   ]
  },
  {
   "cell_type": "code",
   "execution_count": 54,
   "metadata": {},
   "outputs": [
    {
     "data": {
      "text/plain": [
       "0.98763293"
      ]
     },
     "execution_count": 54,
     "metadata": {},
     "output_type": "execute_result"
    }
   ],
   "source": [
    "rec_AGN_gal_train_test"
   ]
  },
  {
   "cell_type": "code",
   "execution_count": 55,
   "metadata": {},
   "outputs": [
    {
     "data": {
      "text/plain": [
       "0.45165616"
      ]
     },
     "execution_count": 55,
     "metadata": {},
     "output_type": "execute_result"
    }
   ],
   "source": [
    "prec_radio_train_test"
   ]
  },
  {
   "cell_type": "code",
   "execution_count": 56,
   "metadata": {},
   "outputs": [
    {
     "data": {
      "text/plain": [
       "0.6865882"
      ]
     },
     "execution_count": 56,
     "metadata": {},
     "output_type": "execute_result"
    }
   ],
   "source": [
    "rec_radio_train_test"
   ]
  },
  {
   "cell_type": "code",
   "execution_count": 71,
   "metadata": {},
   "outputs": [],
   "source": []
  },
  {
   "cell_type": "code",
   "execution_count": 60,
   "metadata": {},
   "outputs": [],
   "source": []
  },
  {
   "cell_type": "code",
   "execution_count": 65,
   "metadata": {},
   "outputs": [],
   "source": []
  },
  {
   "cell_type": "code",
   "execution_count": 61,
   "metadata": {},
   "outputs": [],
   "source": []
  },
  {
   "cell_type": "code",
   "execution_count": 68,
   "metadata": {},
   "outputs": [],
   "source": []
  },
  {
   "cell_type": "code",
   "execution_count": 62,
   "metadata": {},
   "outputs": [],
   "source": [
    "temp_radio_detect_train_test_flx = train_test_df.loc[filter_pred_AGN_train_test, 'radio_detect'].copy()\n",
    "LOFAR_flx_range = np.unique(train_test_df.loc[np.isfinite(train_test_df.loc[:, 'Sint_LOFAR_non_imp']) & filter_pred_AGN_train_test, 'Sint_LOFAR_non_imp'])\n",
    "radio_precs_flx   = []\n",
    "radio_recalls_flx = []\n",
    "for count, flx in enumerate(LOFAR_flx_range):\n",
    "    tmp_filt         = np.array(train_test_df.loc[filter_pred_AGN_train_test, 'Sint_LOFAR_non_imp'] < flx)\n",
    "    temp_radio_detect_train_test_flx.loc[tmp_filt] = 0\n",
    "    tmp_radio_cm     = gf.conf_mat_func(temp_radio_detect_train_test_flx, \n",
    "                                        train_test_df.loc[filter_pred_AGN_train_test, 'pred_radio_cal_AGN'])\n",
    "    tmp_radio_prec   = gf.Precision_from_CM(tmp_radio_cm)\n",
    "    tmp_radio_recall = gf.Recall_from_CM(tmp_radio_cm)\n",
    "    radio_precs_flx.append(tmp_radio_prec)\n",
    "    radio_recalls_flx.append(tmp_radio_recall)"
   ]
  },
  {
   "cell_type": "code",
   "execution_count": 74,
   "metadata": {},
   "outputs": [],
   "source": [
    "temp_radio_detect_train_test_SNR = train_test_df.loc[filter_pred_AGN_train_test, 'radio_detect'].copy()\n",
    "LOFAR_SNR_range = np.unique(train_test_df.loc[np.isfinite(train_test_df.loc[:, 'SNR_LOFAR']) & filter_pred_AGN_train_test, 'SNR_LOFAR'])\n",
    "radio_precs_SNR   = []\n",
    "radio_recalls_SNR = []\n",
    "for count, SNR in enumerate(LOFAR_SNR_range):\n",
    "    tmp_filt         = np.array(train_test_df.loc[filter_pred_AGN_train_test, 'SNR_LOFAR'] < SNR)\n",
    "    temp_radio_detect_train_test_SNR.loc[tmp_filt] = 0\n",
    "    tmp_radio_cm     = gf.conf_mat_func(temp_radio_detect_train_test_SNR, \n",
    "                                        train_test_df.loc[filter_pred_AGN_train_test, 'pred_radio_cal_AGN'])\n",
    "    tmp_radio_prec   = gf.Precision_from_CM(tmp_radio_cm)\n",
    "    tmp_radio_recall = gf.Recall_from_CM(tmp_radio_cm)\n",
    "    radio_precs_SNR.append(tmp_radio_prec)\n",
    "    radio_recalls_SNR.append(tmp_radio_recall)"
   ]
  },
  {
   "cell_type": "code",
   "execution_count": null,
   "metadata": {},
   "outputs": [],
   "source": []
  },
  {
   "cell_type": "code",
   "execution_count": null,
   "metadata": {},
   "outputs": [],
   "source": []
  },
  {
   "cell_type": "code",
   "execution_count": 109,
   "metadata": {},
   "outputs": [
    {
     "data": {
      "image/png": "[encoded data removed]",
      "text/plain": [
       "<Figure size 700x500 with 1 Axes>"
      ]
     },
     "metadata": {},
     "output_type": "display_data"
    }
   ],
   "source": [
    "fig             = plt.figure(figsize=(7,5))\n",
    "ax1             = fig.add_subplot(111)\n",
    "\n",
    "ax1.plot(LOFAR_flx_range, radio_precs_flx, ls='-', marker='None', label=r'$\\mathrm{Precision}$', \n",
    "         lw=3.5, color=plt.get_cmap('cet_rainbow')(0.05))\n",
    "ax1.plot(LOFAR_flx_range, radio_recalls_flx, ls='-.', marker='None', label=r'$\\mathrm{Recall}$', \n",
    "         lw=3.5, color=plt.get_cmap('cet_rainbow')(0.95))\n",
    "ax1.set_xscale('log')\n",
    "# ax1.set_yscale('log')\n",
    "# ax1.set_xlim(right=1.0)\n",
    "ax1.set_xlabel(r'$\\mathrm{F}_{150 \\, \\mathrm{MHz}} ~ [\\mathrm{mJy}]$', fontsize=20)\n",
    "ax1.set_ylabel(r'$\\mathrm{Score}$', fontsize=20)\n",
    "ax1.tick_params(which='both', top=True, right=True, direction='in')\n",
    "ax1.tick_params(axis='both', which='major', labelsize=14)\n",
    "ax1.tick_params(which='major', length=8, width=1.5)\n",
    "ax1.tick_params(which='minor', length=4, width=1.5)\n",
    "plt.setp(ax1.spines.values(), linewidth=2.5)\n",
    "plt.setp(ax1.spines.values(), linewidth=2.5)\n",
    "plt.legend(loc='best', fontsize=14, title='Train+Test', title_fontsize=14)\n",
    "fig.tight_layout()\n",
    "plt.show()"
   ]
  },
  {
   "cell_type": "code",
   "execution_count": 101,
   "metadata": {},
   "outputs": [
    {
     "data": {
      "image/png": "[encoded data removed]",
      "text/plain": [
       "<Figure size 700x500 with 1 Axes>"
      ]
     },
     "metadata": {},
     "output_type": "display_data"
    }
   ],
   "source": [
    "fig             = plt.figure(figsize=(7,5))\n",
    "ax1             = fig.add_subplot(111)\n",
    "\n",
    "ax1.plot(LOFAR_SNR_range, radio_precs_SNR, ls='-', marker='None', label=r'$\\mathrm{Precision}$', \n",
    "         lw=3.5, color=plt.get_cmap('cet_rainbow')(0.05))\n",
    "ax1.plot(LOFAR_SNR_range, radio_recalls_SNR, ls='-.', marker='None', label=r'$\\mathrm{Recall}$', \n",
    "         lw=3.5, color=plt.get_cmap('cet_rainbow')(0.95))\n",
    "ax1.set_xscale('log')\n",
    "#ax1.set_yscale('log')\n",
    "ax1.set_xlabel(r'$\\mathrm{S/N}_{150 \\, \\mathrm{MHz}}$', fontsize=20)\n",
    "ax1.set_ylabel(r'$\\mathrm{Score}$', fontsize=20)\n",
    "ax1.tick_params(which='both', top=True, right=True, direction='in')\n",
    "ax1.tick_params(axis='both', which='major', labelsize=14)\n",
    "ax1.tick_params(which='major', length=8, width=1.5)\n",
    "ax1.tick_params(which='minor', length=4, width=1.5)\n",
    "plt.setp(ax1.spines.values(), linewidth=2.5)\n",
    "plt.setp(ax1.spines.values(), linewidth=2.5)\n",
    "plt.legend(loc='best', fontsize=14, title='Train+Test', title_fontsize=14)\n",
    "fig.tight_layout()\n",
    "plt.show()"
   ]
  },
  {
   "cell_type": "code",
   "execution_count": 107,
   "metadata": {},
   "outputs": [
    {
     "data": {
      "image/png": "[encoded data removed]",
      "text/plain": [
       "<Figure size 700x500 with 1 Axes>"
      ]
     },
     "metadata": {},
     "output_type": "display_data"
    }
   ],
   "source": [
    "fig             = plt.figure(figsize=(7,5))\n",
    "ax1             = fig.add_subplot(111)\n",
    "\n",
    "ax1.plot(LOFAR_SNR_range, radio_precs_SNR, ls='-', marker='None', label=r'$\\mathrm{Precision}$', \n",
    "         lw=3.5, color=plt.get_cmap('cet_rainbow')(0.05))\n",
    "ax1.plot(LOFAR_SNR_range, radio_recalls_SNR, ls='-.', marker='None', label=r'$\\mathrm{Recall}$', \n",
    "         lw=3.5, color=plt.get_cmap('cet_rainbow')(0.95))\n",
    "ax1.axvline(x=5.0, ls=':', lw=3.0, color='gray', zorder=1)\n",
    "# ax1.set_xscale('log')\n",
    "# ax1.set_yscale('log')\n",
    "ax1.set_xlim(left=2.0, right=10.0)\n",
    "ax1.set_xlabel(r'$\\mathrm{S/N}_{150 \\, \\mathrm{MHz}}$', fontsize=20)\n",
    "ax1.set_ylabel(r'$\\mathrm{Score}$', fontsize=20)\n",
    "ax1.tick_params(which='both', top=True, right=True, direction='in')\n",
    "ax1.tick_params(axis='both', which='major', labelsize=14)\n",
    "ax1.tick_params(which='major', length=8, width=1.5)\n",
    "ax1.tick_params(which='minor', length=4, width=1.5)\n",
    "plt.setp(ax1.spines.values(), linewidth=2.5)\n",
    "plt.setp(ax1.spines.values(), linewidth=2.5)\n",
    "plt.legend(loc='best', fontsize=14, title='Train+Test', title_fontsize=14)\n",
    "fig.tight_layout()\n",
    "plt.show()"
   ]
  },
  {
   "cell_type": "code",
   "execution_count": 112,
   "metadata": {},
   "outputs": [
    {
     "data": {
      "image/png": "[encoded data removed]",
      "text/plain": [
       "<Figure size 700x500 with 1 Axes>"
      ]
     },
     "metadata": {},
     "output_type": "display_data"
    }
   ],
   "source": [
    "fig             = plt.figure(figsize=(7,5.0))\n",
    "ax1             = fig.add_subplot(111, xscale='log', yscale='log')\n",
    "\n",
    "set_to_plot     = train_test_df\n",
    "\n",
    "min_SNR  = np.nanmin(set_to_plot.loc[:, 'SNR_LOFAR'])\n",
    "max_SNR  = np.nanmax(set_to_plot.loc[:, 'SNR_LOFAR'])\n",
    "SNR_bins = np.logspace(np.log10(min_SNR), np.log10(max_SNR), 30)\n",
    "\n",
    "sample_size = len(set_to_plot.loc[:, 'SNR_LOFAR'])\n",
    "\n",
    "ax1.hist(set_to_plot.loc[:, 'SNR_LOFAR'], bins=SNR_bins, histtype='stepfilled', \n",
    "         ec='k', lw=3.5, color=cm.get_cmap('cet_gray')(0.8), alpha=1.0, \n",
    "         label=f'N={sample_size:,}'.replace(',', '$\\,$'))\n",
    "    \n",
    "ax1.tick_params(which='both', top=True, right=True, direction='in')\n",
    "ax1.tick_params(axis='both', which='major', labelsize=14)\n",
    "ax1.tick_params(which='major', length=8, width=1.5)\n",
    "ax1.tick_params(which='minor', length=4, width=1.5)\n",
    "ax1.set_xlabel(r'$\\mathrm{S/N}_{150 \\, \\mathrm{MHz}}$', size=20)\n",
    "ax1.set_ylabel(r'$\\mathrm{Frequency}$', size=20)\n",
    "plt.setp(ax1.spines.values(), linewidth=3.5)\n",
    "plt.setp(ax1.spines.values(), linewidth=3.5)\n",
    "plt.legend(loc=1, fontsize=14)\n",
    "plt.grid(False)\n",
    "fig.tight_layout()\n",
    "plt.show()"
   ]
  },
  {
   "cell_type": "code",
   "execution_count": 36,
   "metadata": {},
   "outputs": [
    {
     "data": {
      "image/png": "[encoded data removed]",
      "text/plain": [
       "<Figure size 640x480 with 1 Axes>"
      ]
     },
     "metadata": {},
     "output_type": "display_data"
    }
   ],
   "source": [
    "plt.plot(train_test_df.loc[:, 'Sint_LOFAR_non_imp'], train_test_df.loc[:, 'SNR_LOFAR'], ls='None', marker='o')\n",
    "plt.xscale('log')\n",
    "plt.yscale('log')"
   ]
  },
  {
   "cell_type": "code",
   "execution_count": 16,
   "metadata": {},
   "outputs": [
    {
     "data": {
      "text/plain": [
       "40430"
      ]
     },
     "execution_count": 16,
     "metadata": {},
     "output_type": "execute_result"
    }
   ],
   "source": [
    "np.sum(np.array(train_test_df.loc[:, 'class'] == 1))"
   ]
  },
  {
   "cell_type": "code",
   "execution_count": 17,
   "metadata": {},
   "outputs": [
    {
     "data": {
      "text/plain": [
       "54557"
      ]
     },
     "execution_count": 17,
     "metadata": {},
     "output_type": "execute_result"
    }
   ],
   "source": [
    "np.sum(np.array(train_test_df.loc[:, 'class'] == 0))"
   ]
  },
  {
   "cell_type": "code",
   "execution_count": null,
   "metadata": {},
   "outputs": [],
   "source": []
  },
  {
   "cell_type": "code",
   "execution_count": null,
   "metadata": {},
   "outputs": [],
   "source": []
  },
  {
   "cell_type": "code",
   "execution_count": null,
   "metadata": {},
   "outputs": [],
   "source": []
  },
  {
   "cell_type": "markdown",
   "metadata": {},
   "source": [
    "Create column for detection as Radio AGN"
   ]
  },
  {
   "cell_type": "code",
   "execution_count": 12,
   "metadata": {},
   "outputs": [],
   "source": [
    "# full_catalog_df['radio_AGN']      = (np.array(full_catalog_df.loc[:, 'is_AGN'] == 1) &\\\n",
    "#                                      np.array(full_catalog_df.loc[:, 'LOFAR_detect'] == 1)).astype(int)"
   ]
  },
  {
   "cell_type": "markdown",
   "metadata": {},
   "source": [
    "Discard minor features."
   ]
  },
  {
   "cell_type": "code",
   "execution_count": 13,
   "metadata": {},
   "outputs": [],
   "source": [
    "# full_catalog_df                     = full_catalog_df.drop(columns=['is_AGN', 'is_SDSS_QSO', 'is_SDSS_gal', 'is_gal', 'zsp'])"
   ]
  },
  {
   "cell_type": "markdown",
   "metadata": {},
   "source": [
    "#### As we want to predict, only use sources that have not previous spectroscopic classification"
   ]
  },
  {
   "cell_type": "code",
   "execution_count": 14,
   "metadata": {},
   "outputs": [
    {
     "name": "stdout",
     "output_type": "stream",
     "text": [
      "The used data set (in HETDEX) has 15,136,878 sources.\n",
      "And 118,734 have previous spectroscopic classification.\n"
     ]
    }
   ],
   "source": [
    "print(f'The used data set (in {used_area}) has {len(full_catalog_df):,} sources.')\n",
    "print(f'And {np.sum(filter_non_confirmed):,} have previous spectroscopic classification.')"
   ]
  },
  {
   "cell_type": "code",
   "execution_count": 15,
   "metadata": {},
   "outputs": [],
   "source": [
    "# full_catalog_df                     = full_catalog_df.loc[~filter_non_confirmed]"
   ]
  },
  {
   "cell_type": "code",
   "execution_count": 16,
   "metadata": {},
   "outputs": [
    {
     "name": "stdout",
     "output_type": "stream",
     "text": [
      "This pipeline will predict properties for 15,136,878 sources in HETDEX.\n"
     ]
    }
   ],
   "source": [
    "print(f'This pipeline will predict properties for {len(full_catalog_df):,} sources in {used_area}.')"
   ]
  },
  {
   "cell_type": "code",
   "execution_count": 17,
   "metadata": {},
   "outputs": [
    {
     "data": {
      "text/plain": [
       "array(['RA_ICRS', 'DE_ICRS', 'Name', 'TYPE', 'Z', 'band_num',\n",
       "       'Sint_LOFAR', 'Sint_LOFAR_AB', 'Sint_LOFAR_non_imp', 'rms_LOFAR',\n",
       "       'is_str', 'W1mproPM', 'W2mproPM', 'gmag', 'rmag', 'imag', 'zmag',\n",
       "       'ymag', 'W3mag', 'W4mag', 'Jmag', 'Hmag', 'Kmag', 'g_r', 'g_i',\n",
       "       'g_z', 'g_y', 'g_J', 'g_H', 'g_K', 'g_W1', 'g_W2', 'g_W3', 'g_W4',\n",
       "       'r_i', 'r_z', 'r_y', 'r_J', 'r_H', 'r_K', 'r_W1', 'r_W2', 'r_W3',\n",
       "       'r_W4', 'i_z', 'i_y', 'i_J', 'i_H', 'i_K', 'i_W1', 'i_W2', 'i_W3',\n",
       "       'i_W4', 'z_y', 'z_J', 'z_H', 'z_K', 'z_W1', 'z_W2', 'z_W3', 'z_W4',\n",
       "       'y_J', 'y_H', 'y_K', 'y_W1', 'y_W2', 'y_W3', 'y_W4', 'J_H', 'J_K',\n",
       "       'J_W1', 'J_W2', 'J_W3', 'J_W4', 'H_K', 'H_W1', 'H_W2', 'H_W3',\n",
       "       'H_W4', 'K_W1', 'K_W2', 'K_W3', 'K_W4', 'W1_W2', 'W1_W3', 'W1_W4',\n",
       "       'W2_W3', 'W2_W4', 'W3_W4', 'radio_detect', 'LOFAR_detect', 'class',\n",
       "       'radio_AGN', 'Prob_AGN', 'Prob_radio_AGN', 'Prob_radio_gal',\n",
       "       'pred_Z_rAGN', 'pred_Z_rGal', 'pred_class_cal',\n",
       "       'pred_radio_cal_AGN', 'pred_radio_cal_gal', 'pred_prob_rAGN',\n",
       "       'Prob_rAGN', 'pred_prob_rGal', 'Prob_rGal', 'ID'], dtype=object)"
      ]
     },
     "execution_count": 17,
     "metadata": {},
     "output_type": "execute_result"
    }
   ],
   "source": [
    "np.array(full_catalog_df.columns)"
   ]
  },
  {
   "cell_type": "markdown",
   "metadata": {},
   "source": [
    "---"
   ]
  },
  {
   "cell_type": "markdown",
   "metadata": {},
   "source": [
    "### Load models"
   ]
  },
  {
   "cell_type": "code",
   "execution_count": null,
   "metadata": {},
   "outputs": [],
   "source": [
    "cols_AGN   = ['g_r', 'r_i', 'r_J', 'i_z', 'i_y', \n",
    "              'z_y', 'z_W2', 'y_J', 'y_W1', 'y_W2', 'J_H', 'H_K', \n",
    "              'H_W3', 'W1_W2', 'W1_W3', 'W3_W4']  # Only colours (no 'band_num', 'W4mag')\n",
    "cols_radio = ['g_r', 'g_i', 'r_i', 'r_z', 'i_z', \n",
    "              'z_y', 'z_W1', 'y_J', 'y_W1', 'J_H', 'H_K', 'K_W3', \n",
    "              'K_W4', 'W1_W2', 'W2_W3']  # Only colours (no 'band_num', 'W4mag')\n",
    "cols_z     = ['g_r', 'g_W3', 'r_i', 'r_z', 'i_z', \n",
    "              'i_y', 'z_y', 'y_J', 'y_W1', 'J_H', 'H_K', 'K_W3', \n",
    "              'K_W4', 'W1_W2', 'W2_W3']  # Only colours (no 'band_num', 'W4mag')\n",
    "\n",
    "cols_cols = list(np.unique(cols_AGN + cols_radio + cols_z))"
   ]
  },
  {
   "cell_type": "code",
   "execution_count": null,
   "metadata": {},
   "outputs": [],
   "source": []
  },
  {
   "cell_type": "code",
   "execution_count": null,
   "metadata": {},
   "outputs": [],
   "source": []
  },
  {
   "cell_type": "code",
   "execution_count": null,
   "metadata": {},
   "outputs": [],
   "source": []
  }
 ],
 "metadata": {
  "kernelspec": {
   "display_name": "Python 3 (ipykernel)",
   "language": "python",
   "name": "python3"
  },
  "language_info": {
   "codemirror_mode": {
    "name": "ipython",
    "version": 3
   },
   "file_extension": ".py",
   "mimetype": "text/x-python",
   "name": "python",
   "nbconvert_exporter": "python",
   "pygments_lexer": "ipython3",
   "version": "3.8.13"
  },
  "vscode": {
   "interpreter": {
    "hash": "1d7c94ac87c57432169d0bc24ce250f6f2e77b44a3b95192eb5ace62cff26777"
   }
  }
 },
 "nbformat": 4,
 "nbformat_minor": 4
}
