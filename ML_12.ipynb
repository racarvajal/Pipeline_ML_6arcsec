{
 "cells": [
  {
   "cell_type": "markdown",
   "metadata": {},
   "source": [
    "# Pipeline for High-z Radio Galaxies 12: Create lists (files) with radio AGN candidates"
   ]
  },
  {
   "cell_type": "markdown",
   "metadata": {},
   "source": [
    "## Introduction"
   ]
  },
  {
   "cell_type": "markdown",
   "metadata": {},
   "source": [
    "In this file, three models will be applied consecutively in order to predict  \n",
    "the detection of Radio Galaxies (radio AGN) and their redshift.  \n",
    "\n",
    "In principle, this pipeline should be applied to data in Stripe 82. But  \n",
    "it can be used with any other suitable dataset."
   ]
  },
  {
   "cell_type": "code",
   "execution_count": 1,
   "metadata": {},
   "outputs": [],
   "source": [
    "%matplotlib inline\n",
    "# Static plots\n",
    "#%matplotlib ipympl\n",
    "# Interactive plots\n",
    "import numpy as np\n",
    "import matplotlib as mpl\n",
    "import matplotlib.cm as cm\n",
    "from matplotlib import ticker\n",
    "import matplotlib.pyplot as plt\n",
    "import matplotlib.colors as mcolors\n",
    "import matplotlib.patheffects as mpe\n",
    "import matplotlib.patches as mpatches\n",
    "from matplotlib.ticker import ScalarFormatter\n",
    "from mpl_toolkits.axes_grid1.inset_locator import inset_axes\n",
    "from astropy.visualization import LogStretch, PowerStretch\n",
    "from astropy.visualization.mpl_normalize import ImageNormalize\n",
    "from sklearn.preprocessing import MinMaxScaler\n",
    "from sklearn.metrics import ConfusionMatrixDisplay\n",
    "import sklearn.pipeline\n",
    "import colorcet as cc\n",
    "from pycaret import classification as pyc\n",
    "from pycaret import regression as pyr\n",
    "from joblib import dump, load\n",
    "import pandas as pd\n",
    "import mpl_scatter_density\n",
    "import global_variables as gv\n",
    "import global_functions as gf"
   ]
  },
  {
   "cell_type": "code",
   "execution_count": 2,
   "metadata": {},
   "outputs": [],
   "source": [
    "mpl.rcdefaults()"
   ]
  },
  {
   "cell_type": "markdown",
   "metadata": {},
   "source": [
    "Methods to predict values using individual models"
   ]
  },
  {
   "cell_type": "markdown",
   "metadata": {},
   "source": [
    "Predict AGN/Galaxy classification"
   ]
  },
  {
   "cell_type": "code",
   "execution_count": 3,
   "metadata": {
    "jupyter": {
     "source_hidden": true
    }
   },
   "outputs": [],
   "source": [
    "def predict_AGN_gal(catalog_df, \n",
    "                    AGN_gal_model, \n",
    "                    cal_AGN_gal_model, \n",
    "                    threshold, \n",
    "                    cal_threshold, \n",
    "                    raw_score=True):\n",
    "    catalog_df = pyc.predict_model(AGN_gal_model, \n",
    "                                   data=catalog_df, \n",
    "                                   probability_threshold=threshold, \n",
    "                                   raw_score=raw_score, \n",
    "                                   round=10)\n",
    "    catalog_df = catalog_df.drop(columns=['Score_0'])\n",
    "    catalog_df = catalog_df.rename(columns={'Label': 'pred_class', 'Score_1': 'Score_AGN'})\n",
    "    catalog_df.loc[:, 'Score_AGN'] = np.around(catalog_df.loc[:, 'Score_AGN'], decimals=8)\n",
    "    pred_probs = cal_AGN_gal_model.predict(catalog_df.loc[:, 'Score_AGN'])\n",
    "    cal_class  = np.array(pred_probs >= cal_threshold).astype(int)\n",
    "    catalog_df['Prob_AGN']       = pred_probs\n",
    "    catalog_df['pred_class_cal'] = cal_class\n",
    "    return catalog_df"
   ]
  },
  {
   "cell_type": "markdown",
   "metadata": {},
   "source": [
    "Predict radio detection for AGN"
   ]
  },
  {
   "cell_type": "code",
   "execution_count": 4,
   "metadata": {
    "jupyter": {
     "source_hidden": true
    }
   },
   "outputs": [],
   "source": [
    "def predict_radio_det(catalog_df, \n",
    "                      radio_model, \n",
    "                      cal_radio_model, \n",
    "                      threshold, \n",
    "                      cal_threshold, \n",
    "                      raw_score=True):\n",
    "    catalog_df = pyc.predict_model(radio_model, \n",
    "                                   data=catalog_df, \n",
    "                                   probability_threshold=threshold, \n",
    "                                   raw_score=raw_score, \n",
    "                                   round=10)\n",
    "    catalog_df = catalog_df.drop(columns=['Score_0'])\n",
    "    catalog_df = catalog_df.rename(columns={'Label': 'pred_radio', 'Score_1': 'Score_radio'})\n",
    "    catalog_df.loc[:, 'Score_radio'] = np.around(catalog_df.loc[:, 'Score_radio'], decimals=8)\n",
    "    pred_probs = cal_radio_model.predict(catalog_df.loc[:, 'Score_radio'])\n",
    "    cal_class  = np.array(pred_probs >= cal_threshold).astype(int)\n",
    "    catalog_df['Prob_radio']     = pred_probs\n",
    "    catalog_df['pred_radio_cal'] = cal_class\n",
    "    return catalog_df"
   ]
  },
  {
   "cell_type": "markdown",
   "metadata": {},
   "source": [
    "Predict redshift for radio-detected AGN"
   ]
  },
  {
   "cell_type": "code",
   "execution_count": 5,
   "metadata": {
    "jupyter": {
     "source_hidden": true
    }
   },
   "outputs": [],
   "source": [
    "def predict_z(catalog_df, \n",
    "              redshift_model):\n",
    "    catalog_df = pyr.predict_model(redshift_model, \n",
    "                                   data=catalog_df, \n",
    "                                   round=10)\n",
    "    catalog_df = catalog_df.rename(columns={'Label': 'pred_Z'})\n",
    "    catalog_df.loc[:, 'pred_Z'] = np.around(catalog_df.loc[:, 'pred_Z'], decimals=4)\n",
    "    return catalog_df"
   ]
  },
  {
   "cell_type": "markdown",
   "metadata": {},
   "source": [
    "---"
   ]
  },
  {
   "cell_type": "markdown",
   "metadata": {},
   "source": [
    "## Reading data"
   ]
  },
  {
   "cell_type": "markdown",
   "metadata": {
    "tags": []
   },
   "source": [
    "Flags."
   ]
  },
  {
   "cell_type": "code",
   "execution_count": 6,
   "metadata": {},
   "outputs": [],
   "source": [
    "save_plot_flag      = False\n",
    "save_preds_flag     = False\n",
    "load_models_flag    = True\n",
    "predict_only_hi_z   = False\n",
    "use_zeroth_model    = False\n",
    "use_second_z_model  = False  # z >= 3.6 (with SMOGN), or, if needed, z >= 4.0"
   ]
  },
  {
   "cell_type": "code",
   "execution_count": 7,
   "metadata": {},
   "outputs": [],
   "source": [
    "used_area           = 'HETDEX'  # can be 'S82', 'HETDEX', 'COSMOS'"
   ]
  },
  {
   "cell_type": "code",
   "execution_count": 8,
   "metadata": {
    "tags": []
   },
   "outputs": [],
   "source": [
    "file_name_dict      = {'S82': gv.file_S82, 'HETDEX': gv.file_HETDEX, 'COSMOS': gv.file_COSMOS}\n",
    "file_name           = file_name_dict[used_area]"
   ]
  },
  {
   "cell_type": "code",
   "execution_count": 9,
   "metadata": {
    "tags": []
   },
   "outputs": [],
   "source": [
    "feats_2_disc_S82    = ['objID', 'RA_MILLI', 'DEC_MILLI', 'W1mag', 'W2mag', 'num_imputed']\n",
    "feats_2_disc_HETDEX = ['objID', 'RA_MILLI', 'DEC_MILLI', 'W1mag', 'W2mag', 'num_imputed']\n",
    "feats_2_disc_COSMOS = ['objID', 'RA_MILLI', 'DEC_MILLI', 'W1mag', 'W2mag', 'num_imputed']\n",
    "\n",
    "feats_2_disc        = {'S82': feats_2_disc_S82, 'HETDEX': feats_2_disc_HETDEX, 'COSMOS': feats_2_disc_COSMOS}\n",
    "features_2_discard  = feats_2_disc[used_area]"
   ]
  },
  {
   "cell_type": "code",
   "execution_count": 10,
   "metadata": {},
   "outputs": [],
   "source": [
    "full_catalog_df     = pd.read_hdf(gv.cat_path + file_name, key='df').drop(columns=features_2_discard)"
   ]
  },
  {
   "cell_type": "code",
   "execution_count": 11,
   "metadata": {
    "jupyter": {
     "source_hidden": true
    }
   },
   "outputs": [],
   "source": [
    "if used_area == 'S82':\n",
    "    full_catalog_df.loc[:, 'LOFAR_detect'] = full_catalog_df.loc[:, 'VLAS82_detect'].copy()\n",
    "    full_catalog_df = full_catalog_df.drop(columns=['VLAS82_detect'])\n",
    "if used_area == 'COSMOS':\n",
    "    full_catalog_df.loc[:, 'LOFAR_detect'] = full_catalog_df.loc[:, 'COSMOSVLA3_detect'].copy()\n",
    "    full_catalog_df = full_catalog_df.drop(columns=['COSMOSVLA3_detect'])"
   ]
  },
  {
   "cell_type": "markdown",
   "metadata": {},
   "source": [
    "Create features with class and combined redshift."
   ]
  },
  {
   "cell_type": "code",
   "execution_count": 12,
   "metadata": {
    "jupyter": {
     "source_hidden": true
    }
   },
   "outputs": [],
   "source": [
    "full_catalog_df['class']            = full_catalog_df.loc[:, 'is_AGN'].copy()\n",
    "filter_non_confirmed                = np.array(full_catalog_df.loc[:, 'is_AGN'] == 1) | np.array(full_catalog_df.loc[:, 'is_gal'] == 1)\n",
    "full_catalog_df.loc[~filter_non_confirmed, 'class'] = np.nan\n",
    "idx_non_Z                           = full_catalog_df.loc[:, 'Z'].where(full_catalog_df.loc[:, 'Z'] > 0).isna()\n",
    "full_catalog_df.loc[idx_non_Z, 'Z'] = full_catalog_df.loc[:, 'Z'].mask(idx_non_Z, full_catalog_df.loc[idx_non_Z, 'zsp'])"
   ]
  },
  {
   "cell_type": "markdown",
   "metadata": {},
   "source": [
    "Create column for detection as Radio AGN"
   ]
  },
  {
   "cell_type": "code",
   "execution_count": 13,
   "metadata": {},
   "outputs": [],
   "source": [
    "full_catalog_df['radio_AGN']      = (np.array(full_catalog_df.loc[:, 'is_AGN'] == 1) &\\\n",
    "                                     np.array(full_catalog_df.loc[:, 'LOFAR_detect'] == 1)).astype(int)"
   ]
  },
  {
   "cell_type": "markdown",
   "metadata": {},
   "source": [
    "Discard minor features."
   ]
  },
  {
   "cell_type": "code",
   "execution_count": 14,
   "metadata": {},
   "outputs": [],
   "source": [
    "# full_catalog_df                     = full_catalog_df.drop(columns=['is_AGN', 'is_SDSS_QSO', 'is_SDSS_gal', 'is_gal', 'zsp'])"
   ]
  },
  {
   "cell_type": "markdown",
   "metadata": {},
   "source": [
    "#### As we want to predict, only use sources that have not previous spectroscopic classification"
   ]
  },
  {
   "cell_type": "code",
   "execution_count": 15,
   "metadata": {
    "jupyter": {
     "source_hidden": true
    }
   },
   "outputs": [
    {
     "name": "stdout",
     "output_type": "stream",
     "text": [
      "The used data set (in HETDEX) has 15,136,878 sources.\n",
      "And 118,734 have previous spectroscopic classification.\n"
     ]
    }
   ],
   "source": [
    "print(f'The used data set (in {used_area}) has {len(full_catalog_df):,} sources.')\n",
    "print(f'And {np.sum(filter_non_confirmed):,} have previous spectroscopic classification.')"
   ]
  },
  {
   "cell_type": "code",
   "execution_count": 16,
   "metadata": {},
   "outputs": [],
   "source": [
    "# full_catalog_df                     = full_catalog_df.loc[~filter_non_confirmed]"
   ]
  },
  {
   "cell_type": "code",
   "execution_count": 17,
   "metadata": {
    "jupyter": {
     "source_hidden": true
    }
   },
   "outputs": [
    {
     "name": "stdout",
     "output_type": "stream",
     "text": [
      "This pipeline will predict properties for 15,136,878 sources in HETDEX.\n"
     ]
    }
   ],
   "source": [
    "print(f'This pipeline will predict properties for {len(full_catalog_df):,} sources in {used_area}.')"
   ]
  },
  {
   "cell_type": "markdown",
   "metadata": {},
   "source": [
    "---"
   ]
  },
  {
   "cell_type": "markdown",
   "metadata": {},
   "source": [
    "### Load models"
   ]
  },
  {
   "cell_type": "code",
   "execution_count": 18,
   "metadata": {},
   "outputs": [
    {
     "name": "stdout",
     "output_type": "stream",
     "text": [
      "Transformation Pipeline and Model Successfully Loaded\n",
      "Transformation Pipeline and Model Successfully Loaded\n",
      "Transformation Pipeline and Model Successfully Loaded\n",
      "Transformation Pipeline and Model Successfully Loaded\n",
      "Transformation Pipeline and Model Successfully Loaded\n"
     ]
    }
   ],
   "source": [
    "if load_models_flag:\n",
    "    if use_zeroth_model:\n",
    "        star_clf          = pyc.load_model(gv.models_path + gv.star_model)  # star/no-star model\n",
    "        cal_star_clf      = load(gv.models_path + gv.cal_str_model)  # calibrated model\n",
    "    AGN_gal_clf           = pyc.load_model(gv.models_path + gv.AGN_gal_model)  #\n",
    "    cal_AGN_gal_clf       = load(gv.models_path + gv.cal_AGN_gal_model)  # calibrated model\n",
    "    \n",
    "    radio_det_AGN_clf     = pyc.load_model(gv.models_path + gv.radio_model)  # without predicted AGN\n",
    "    radio_det_gal_clf     = pyc.load_model(gv.models_path + gv.radio_galaxies_model)  # Radio detection for galaxies\n",
    "    cal_radio_det_AGN_clf = load(gv.models_path + gv.cal_radio_model)  # calibrated model\n",
    "    cal_radio_det_gal_clf = load(gv.models_path + gv.cal_radio_gals_model)  # calibrated model radio detection for galaxies\n",
    "    \n",
    "    redshift_reg_rAGN     = pyr.load_model(gv.models_path + gv.full_z_model)  # to use on full sample\n",
    "    redshift_reg_rGal     = pyr.load_model(gv.models_path + gv.z_radio_galaxies_model)  # Redshift prediction for radio-galaxies\n",
    "    if use_second_z_model:\n",
    "        redshift_reg_2    = pyr.load_model(gv.models_path + gv.high_z_model)  # sources with predicted z >= 3.6"
   ]
  },
  {
   "cell_type": "markdown",
   "metadata": {},
   "source": [
    "Run predictions"
   ]
  },
  {
   "cell_type": "code",
   "execution_count": 19,
   "metadata": {
    "jupyter": {
     "source_hidden": true
    }
   },
   "outputs": [],
   "source": [
    "full_catalog_df = predict_AGN_gal(full_catalog_df, \n",
    "                                  AGN_gal_clf, \n",
    "                                  cal_AGN_gal_clf, \n",
    "                                  gv.AGN_thresh, \n",
    "                                  gv.cal_AGN_thresh)"
   ]
  },
  {
   "cell_type": "code",
   "execution_count": 20,
   "metadata": {
    "jupyter": {
     "source_hidden": true
    }
   },
   "outputs": [],
   "source": [
    "full_catalog_df = predict_radio_det(full_catalog_df, \n",
    "                                    radio_det_AGN_clf, \n",
    "                                    cal_radio_det_AGN_clf, \n",
    "                                    gv.radio_thresh, \n",
    "                                    gv.cal_radio_thresh)"
   ]
  },
  {
   "cell_type": "code",
   "execution_count": 21,
   "metadata": {
    "jupyter": {
     "source_hidden": true
    }
   },
   "outputs": [],
   "source": [
    "full_catalog_df = full_catalog_df.rename(columns={'Score_radio': 'Score_radio_AGN', \n",
    "                                                            'pred_radio': 'pred_radio_AGN',\n",
    "                                                            'Prob_radio': 'Prob_radio_AGN', \n",
    "                                                            'pred_radio_cal': 'pred_radio_cal_AGN'})"
   ]
  },
  {
   "cell_type": "code",
   "execution_count": 22,
   "metadata": {
    "jupyter": {
     "source_hidden": true
    }
   },
   "outputs": [],
   "source": [
    "full_catalog_df = predict_radio_det(full_catalog_df, \n",
    "                                    radio_det_gal_clf, \n",
    "                                    cal_radio_det_gal_clf, \n",
    "                                    gv.radio_gals_thresh, \n",
    "                                    gv.cal_radio_gals_thresh)"
   ]
  },
  {
   "cell_type": "code",
   "execution_count": 23,
   "metadata": {
    "jupyter": {
     "source_hidden": true
    }
   },
   "outputs": [],
   "source": [
    "full_catalog_df = full_catalog_df.rename(columns={'Score_radio': 'Score_radio_gal', \n",
    "                                                            'pred_radio': 'pred_radio_gal',\n",
    "                                                            'Prob_radio': 'Prob_radio_gal', \n",
    "                                                            'pred_radio_cal': 'pred_radio_cal_gal'})"
   ]
  },
  {
   "cell_type": "code",
   "execution_count": 24,
   "metadata": {
    "jupyter": {
     "source_hidden": true
    }
   },
   "outputs": [],
   "source": [
    "full_catalog_df = predict_z(full_catalog_df, redshift_reg_rAGN)"
   ]
  },
  {
   "cell_type": "code",
   "execution_count": 25,
   "metadata": {
    "jupyter": {
     "source_hidden": true
    }
   },
   "outputs": [],
   "source": [
    "full_catalog_df = full_catalog_df.rename(columns={'pred_Z': 'pred_Z_rAGN'})"
   ]
  },
  {
   "cell_type": "code",
   "execution_count": 26,
   "metadata": {
    "jupyter": {
     "source_hidden": true
    }
   },
   "outputs": [],
   "source": [
    "full_catalog_df = predict_z(full_catalog_df, redshift_reg_rGal)"
   ]
  },
  {
   "cell_type": "code",
   "execution_count": 27,
   "metadata": {
    "jupyter": {
     "source_hidden": true
    }
   },
   "outputs": [],
   "source": [
    "full_catalog_df = full_catalog_df.rename(columns={'pred_Z': 'pred_Z_rGal'})"
   ]
  },
  {
   "cell_type": "code",
   "execution_count": null,
   "metadata": {},
   "outputs": [],
   "source": []
  },
  {
   "cell_type": "code",
   "execution_count": 28,
   "metadata": {},
   "outputs": [
    {
     "data": {
      "text/plain": [
       "array(['RA_ICRS', 'DE_ICRS', 'Name', 'TYPE', 'Z', 'zsp', 'spCl',\n",
       "       'band_num', 'radio_detect', 'LOFAR_detect', 'Sint_LOFAR',\n",
       "       'Sint_LOFAR_AB', 'Speak_LOFAR', 'rms_LOFAR', 'Sint_LOFAR_non_imp',\n",
       "       'Sint_LOFAR_AB_non_imp', 'Speak_LOFAR_non_imp', 'is_str',\n",
       "       'is_SDSS_QSO', 'is_AGN', 'is_SDSS_gal', 'is_gal', 'W1mproPM',\n",
       "       'W2mproPM', 'gmag', 'rmag', 'imag', 'zmag', 'ymag', 'W3mag',\n",
       "       'W4mag', 'Jmag', 'Hmag', 'Kmag', 'g_r', 'g_i', 'g_z', 'g_y', 'g_J',\n",
       "       'g_H', 'g_K', 'g_W1', 'g_W2', 'g_W3', 'g_W4', 'r_i', 'r_z', 'r_y',\n",
       "       'r_J', 'r_H', 'r_K', 'r_W1', 'r_W2', 'r_W3', 'r_W4', 'i_z', 'i_y',\n",
       "       'i_J', 'i_H', 'i_K', 'i_W1', 'i_W2', 'i_W3', 'i_W4', 'z_y', 'z_J',\n",
       "       'z_H', 'z_K', 'z_W1', 'z_W2', 'z_W3', 'z_W4', 'y_J', 'y_H', 'y_K',\n",
       "       'y_W1', 'y_W2', 'y_W3', 'y_W4', 'J_H', 'J_K', 'J_W1', 'J_W2',\n",
       "       'J_W3', 'J_W4', 'H_K', 'H_W1', 'H_W2', 'H_W3', 'H_W4', 'K_W1',\n",
       "       'K_W2', 'K_W3', 'K_W4', 'W1_W2', 'W1_W3', 'W1_W4', 'W2_W3',\n",
       "       'W2_W4', 'W3_W4', 'class', 'radio_AGN', 'pred_class', 'Score_AGN',\n",
       "       'Prob_AGN', 'pred_class_cal', 'pred_radio_AGN', 'Score_radio_AGN',\n",
       "       'Prob_radio_AGN', 'pred_radio_cal_AGN', 'pred_radio_gal',\n",
       "       'Score_radio_gal', 'Prob_radio_gal', 'pred_radio_cal_gal',\n",
       "       'pred_Z_rAGN', 'pred_Z_rGal'], dtype=object)"
      ]
     },
     "execution_count": 28,
     "metadata": {},
     "output_type": "execute_result"
    }
   ],
   "source": [
    "np.array(full_catalog_df.columns)"
   ]
  },
  {
   "cell_type": "code",
   "execution_count": 29,
   "metadata": {},
   "outputs": [
    {
     "data": {
      "text/html": [
       "<div>\n",
       "<style scoped>\n",
       "    .dataframe tbody tr th:only-of-type {\n",
       "        vertical-align: middle;\n",
       "    }\n",
       "\n",
       "    .dataframe tbody tr th {\n",
       "        vertical-align: top;\n",
       "    }\n",
       "\n",
       "    .dataframe thead th {\n",
       "        text-align: right;\n",
       "    }\n",
       "</style>\n",
       "<table border=\"1\" class=\"dataframe\">\n",
       "  <thead>\n",
       "    <tr style=\"text-align: right;\">\n",
       "      <th></th>\n",
       "      <th>pred_class</th>\n",
       "      <th>Score_AGN</th>\n",
       "      <th>Prob_AGN</th>\n",
       "      <th>pred_class_cal</th>\n",
       "    </tr>\n",
       "  </thead>\n",
       "  <tbody>\n",
       "    <tr>\n",
       "      <th>count</th>\n",
       "      <td>1.513688e+07</td>\n",
       "      <td>1.513688e+07</td>\n",
       "      <td>1.513688e+07</td>\n",
       "      <td>1.513688e+07</td>\n",
       "    </tr>\n",
       "    <tr>\n",
       "      <th>mean</th>\n",
       "      <td>6.234434e-01</td>\n",
       "      <td>4.999810e-01</td>\n",
       "      <td>4.486523e-01</td>\n",
       "      <td>6.624084e-01</td>\n",
       "    </tr>\n",
       "    <tr>\n",
       "      <th>std</th>\n",
       "      <td>4.845222e-01</td>\n",
       "      <td>5.409538e-05</td>\n",
       "      <td>2.746302e-01</td>\n",
       "      <td>4.728885e-01</td>\n",
       "    </tr>\n",
       "    <tr>\n",
       "      <th>min</th>\n",
       "      <td>0.000000e+00</td>\n",
       "      <td>4.998757e-01</td>\n",
       "      <td>1.133026e-02</td>\n",
       "      <td>0.000000e+00</td>\n",
       "    </tr>\n",
       "    <tr>\n",
       "      <th>25%</th>\n",
       "      <td>0.000000e+00</td>\n",
       "      <td>4.999432e-01</td>\n",
       "      <td>1.181614e-01</td>\n",
       "      <td>0.000000e+00</td>\n",
       "    </tr>\n",
       "    <tr>\n",
       "      <th>50%</th>\n",
       "      <td>1.000000e+00</td>\n",
       "      <td>5.000116e-01</td>\n",
       "      <td>6.181595e-01</td>\n",
       "      <td>1.000000e+00</td>\n",
       "    </tr>\n",
       "    <tr>\n",
       "      <th>75%</th>\n",
       "      <td>1.000000e+00</td>\n",
       "      <td>5.000116e-01</td>\n",
       "      <td>6.181595e-01</td>\n",
       "      <td>1.000000e+00</td>\n",
       "    </tr>\n",
       "    <tr>\n",
       "      <th>max</th>\n",
       "      <td>1.000000e+00</td>\n",
       "      <td>5.001229e-01</td>\n",
       "      <td>9.893720e-01</td>\n",
       "      <td>1.000000e+00</td>\n",
       "    </tr>\n",
       "  </tbody>\n",
       "</table>\n",
       "</div>"
      ],
      "text/plain": [
       "         pred_class     Score_AGN      Prob_AGN  pred_class_cal\n",
       "count  1.513688e+07  1.513688e+07  1.513688e+07    1.513688e+07\n",
       "mean   6.234434e-01  4.999810e-01  4.486523e-01    6.624084e-01\n",
       "std    4.845222e-01  5.409538e-05  2.746302e-01    4.728885e-01\n",
       "min    0.000000e+00  4.998757e-01  1.133026e-02    0.000000e+00\n",
       "25%    0.000000e+00  4.999432e-01  1.181614e-01    0.000000e+00\n",
       "50%    1.000000e+00  5.000116e-01  6.181595e-01    1.000000e+00\n",
       "75%    1.000000e+00  5.000116e-01  6.181595e-01    1.000000e+00\n",
       "max    1.000000e+00  5.001229e-01  9.893720e-01    1.000000e+00"
      ]
     },
     "execution_count": 29,
     "metadata": {},
     "output_type": "execute_result"
    }
   ],
   "source": [
    "full_catalog_df.loc[:, ['pred_class', 'Score_AGN', 'Prob_AGN', 'pred_class_cal']].describe()"
   ]
  },
  {
   "cell_type": "code",
   "execution_count": 30,
   "metadata": {
    "jupyter": {
     "source_hidden": true
    }
   },
   "outputs": [],
   "source": [
    "full_catalog_df['pred_radio_AGN']     = (np.array(full_catalog_df.loc[:, 'pred_class'] == 1) & np.array(full_catalog_df.loc[:, 'pred_radio_AGN'] == 1)).astype(int)\n",
    "full_catalog_df['Score_rAGN']         = full_catalog_df.loc[:, 'Score_AGN'] * full_catalog_df.loc[:, 'Score_radio_AGN']\n",
    "full_catalog_df['pred_prob_rAGN']     = (np.array(full_catalog_df.loc[:, 'pred_class_cal'] == 1) & np.array(full_catalog_df.loc[:, 'pred_radio_cal_AGN'] == 1)).astype(int)\n",
    "full_catalog_df['Prob_rAGN']          = full_catalog_df.loc[:, 'Prob_AGN'] * full_catalog_df.loc[:, 'Prob_radio_AGN']\n",
    "\n",
    "full_catalog_df['pred_radio_gal']     = (np.array(full_catalog_df.loc[:, 'pred_class'] == 0) & np.array(full_catalog_df.loc[:, 'pred_radio_gal'] == 1)).astype(int)\n",
    "full_catalog_df['Score_rGal']         = (1 - full_catalog_df.loc[:, 'Score_AGN']) * full_catalog_df.loc[:, 'Score_radio_gal']\n",
    "full_catalog_df['pred_prob_rGal']     = (np.array(full_catalog_df.loc[:, 'pred_class_cal'] == 0) & np.array(full_catalog_df.loc[:, 'pred_radio_cal_gal'] == 1)).astype(int)\n",
    "full_catalog_df['Prob_rGal']          = (1 - full_catalog_df.loc[:, 'Prob_AGN']) * full_catalog_df.loc[:, 'Prob_radio_gal']"
   ]
  },
  {
   "cell_type": "code",
   "execution_count": 31,
   "metadata": {},
   "outputs": [],
   "source": [
    "# rad_score_scaler                      = MinMaxScaler()\n",
    "# full_catalog_df['scaled_score_radio'] = rad_score_scaler.fit_transform(full_catalog_df.loc[:, 'Score_radio'].values.reshape(-1, 1))\n",
    "# full_catalog_df['scaled_score_rAGN']  = full_catalog_df.loc[:, 'Score_AGN'] * full_catalog_df.loc[:, 'scaled_score_radio']"
   ]
  },
  {
   "cell_type": "code",
   "execution_count": 32,
   "metadata": {},
   "outputs": [
    {
     "data": {
      "text/html": [
       "<div>\n",
       "<style scoped>\n",
       "    .dataframe tbody tr th:only-of-type {\n",
       "        vertical-align: middle;\n",
       "    }\n",
       "\n",
       "    .dataframe tbody tr th {\n",
       "        vertical-align: top;\n",
       "    }\n",
       "\n",
       "    .dataframe thead th {\n",
       "        text-align: right;\n",
       "    }\n",
       "</style>\n",
       "<table border=\"1\" class=\"dataframe\">\n",
       "  <thead>\n",
       "    <tr style=\"text-align: right;\">\n",
       "      <th></th>\n",
       "      <th>class</th>\n",
       "      <th>pred_class_cal</th>\n",
       "      <th>LOFAR_detect</th>\n",
       "      <th>pred_radio_cal_AGN</th>\n",
       "      <th>pred_radio_cal_gal</th>\n",
       "      <th>Z</th>\n",
       "      <th>pred_Z_rAGN</th>\n",
       "      <th>pred_Z_rGal</th>\n",
       "    </tr>\n",
       "  </thead>\n",
       "  <tbody>\n",
       "    <tr>\n",
       "      <th>count</th>\n",
       "      <td>118734.000000</td>\n",
       "      <td>1.513688e+07</td>\n",
       "      <td>1.513688e+07</td>\n",
       "      <td>1.513688e+07</td>\n",
       "      <td>1.513688e+07</td>\n",
       "      <td>134234.000000</td>\n",
       "      <td>1.513688e+07</td>\n",
       "      <td>1.513688e+07</td>\n",
       "    </tr>\n",
       "    <tr>\n",
       "      <th>mean</th>\n",
       "      <td>0.425641</td>\n",
       "      <td>6.624084e-01</td>\n",
       "      <td>2.526479e-02</td>\n",
       "      <td>1.046465e-01</td>\n",
       "      <td>1.816009e-02</td>\n",
       "      <td>0.876576</td>\n",
       "      <td>2.077934e+00</td>\n",
       "      <td>3.836021e-01</td>\n",
       "    </tr>\n",
       "    <tr>\n",
       "      <th>std</th>\n",
       "      <td>0.494442</td>\n",
       "      <td>4.728885e-01</td>\n",
       "      <td>1.569283e-01</td>\n",
       "      <td>3.060974e-01</td>\n",
       "      <td>1.335301e-01</td>\n",
       "      <td>0.779380</td>\n",
       "      <td>6.822612e-01</td>\n",
       "      <td>2.687310e-01</td>\n",
       "    </tr>\n",
       "    <tr>\n",
       "      <th>min</th>\n",
       "      <td>0.000000</td>\n",
       "      <td>0.000000e+00</td>\n",
       "      <td>0.000000e+00</td>\n",
       "      <td>0.000000e+00</td>\n",
       "      <td>0.000000e+00</td>\n",
       "      <td>-0.004490</td>\n",
       "      <td>1.740000e-02</td>\n",
       "      <td>7.900000e-03</td>\n",
       "    </tr>\n",
       "    <tr>\n",
       "      <th>25%</th>\n",
       "      <td>0.000000</td>\n",
       "      <td>0.000000e+00</td>\n",
       "      <td>0.000000e+00</td>\n",
       "      <td>0.000000e+00</td>\n",
       "      <td>0.000000e+00</td>\n",
       "      <td>0.381018</td>\n",
       "      <td>1.922000e+00</td>\n",
       "      <td>1.916000e-01</td>\n",
       "    </tr>\n",
       "    <tr>\n",
       "      <th>50%</th>\n",
       "      <td>0.000000</td>\n",
       "      <td>1.000000e+00</td>\n",
       "      <td>0.000000e+00</td>\n",
       "      <td>0.000000e+00</td>\n",
       "      <td>0.000000e+00</td>\n",
       "      <td>0.623500</td>\n",
       "      <td>2.186400e+00</td>\n",
       "      <td>1.916000e-01</td>\n",
       "    </tr>\n",
       "    <tr>\n",
       "      <th>75%</th>\n",
       "      <td>1.000000</td>\n",
       "      <td>1.000000e+00</td>\n",
       "      <td>0.000000e+00</td>\n",
       "      <td>0.000000e+00</td>\n",
       "      <td>0.000000e+00</td>\n",
       "      <td>1.282000</td>\n",
       "      <td>2.186400e+00</td>\n",
       "      <td>6.263000e-01</td>\n",
       "    </tr>\n",
       "    <tr>\n",
       "      <th>max</th>\n",
       "      <td>1.000000</td>\n",
       "      <td>1.000000e+00</td>\n",
       "      <td>1.000000e+00</td>\n",
       "      <td>1.000000e+00</td>\n",
       "      <td>1.000000e+00</td>\n",
       "      <td>7.028330</td>\n",
       "      <td>4.698800e+00</td>\n",
       "      <td>1.502200e+00</td>\n",
       "    </tr>\n",
       "  </tbody>\n",
       "</table>\n",
       "</div>"
      ],
      "text/plain": [
       "               class  pred_class_cal  LOFAR_detect  pred_radio_cal_AGN  \\\n",
       "count  118734.000000    1.513688e+07  1.513688e+07        1.513688e+07   \n",
       "mean        0.425641    6.624084e-01  2.526479e-02        1.046465e-01   \n",
       "std         0.494442    4.728885e-01  1.569283e-01        3.060974e-01   \n",
       "min         0.000000    0.000000e+00  0.000000e+00        0.000000e+00   \n",
       "25%         0.000000    0.000000e+00  0.000000e+00        0.000000e+00   \n",
       "50%         0.000000    1.000000e+00  0.000000e+00        0.000000e+00   \n",
       "75%         1.000000    1.000000e+00  0.000000e+00        0.000000e+00   \n",
       "max         1.000000    1.000000e+00  1.000000e+00        1.000000e+00   \n",
       "\n",
       "       pred_radio_cal_gal              Z   pred_Z_rAGN   pred_Z_rGal  \n",
       "count        1.513688e+07  134234.000000  1.513688e+07  1.513688e+07  \n",
       "mean         1.816009e-02       0.876576  2.077934e+00  3.836021e-01  \n",
       "std          1.335301e-01       0.779380  6.822612e-01  2.687310e-01  \n",
       "min          0.000000e+00      -0.004490  1.740000e-02  7.900000e-03  \n",
       "25%          0.000000e+00       0.381018  1.922000e+00  1.916000e-01  \n",
       "50%          0.000000e+00       0.623500  2.186400e+00  1.916000e-01  \n",
       "75%          0.000000e+00       1.282000  2.186400e+00  6.263000e-01  \n",
       "max          1.000000e+00       7.028330  4.698800e+00  1.502200e+00  "
      ]
     },
     "execution_count": 32,
     "metadata": {},
     "output_type": "execute_result"
    }
   ],
   "source": [
    "full_catalog_df.loc[:, ['class', 'pred_class_cal', 'LOFAR_detect', 'pred_radio_cal_AGN', 'pred_radio_cal_gal', 'Z', 'pred_Z_rAGN', 'pred_Z_rGal']].describe()"
   ]
  },
  {
   "cell_type": "markdown",
   "metadata": {},
   "source": [
    "Obtain intermediate metrics"
   ]
  },
  {
   "cell_type": "code",
   "execution_count": 33,
   "metadata": {
    "jupyter": {
     "source_hidden": true
    }
   },
   "outputs": [],
   "source": [
    "filter_radio_AGN_t      = np.array(full_catalog_df.loc[:, 'class'] == 1) & np.array(full_catalog_df.loc[:, 'LOFAR_detect'] == 1)\n",
    "filter_gal_AGN_t        = np.array(full_catalog_df.loc[:, 'class'] == 0) | np.array(full_catalog_df.loc[:, 'class'] == 1)\n",
    "total_size              = len(full_catalog_df)\n",
    "filter_AGN_t            = np.array(full_catalog_df.loc[:, 'class'] == 1)\n",
    "num_AGN_t               = np.sum(filter_AGN_t)\n",
    "num_gal_t               = np.sum(np.array(full_catalog_df.loc[:, 'class'] == 0))\n",
    "num_radio_t             = np.sum(np.array(full_catalog_df.loc[:, 'LOFAR_detect'] == 1))\n",
    "num_radio_AGN_t         = np.sum(filter_radio_AGN_t)"
   ]
  },
  {
   "cell_type": "code",
   "execution_count": 34,
   "metadata": {},
   "outputs": [],
   "source": [
    "# filter_radio_AGN_p      = np.array(full_catalog_df.loc[:, 'Score_AGN']          >= threshold_AGN) &\\\n",
    "#                             np.array(full_catalog_df.loc[:, 'Score_radio']      >= threshold_radio)\n",
    "filter_radio_AGN_p      = np.array(full_catalog_df.loc[:, 'pred_class_cal']      == 1) &\\\n",
    "                            np.array(full_catalog_df.loc[:, 'pred_radio_cal_AGN']    == 1)\n",
    "filter_radio_SFG_p      = np.array(full_catalog_df.loc[:, 'pred_class_cal']      == 0) &\\\n",
    "                            np.array(full_catalog_df.loc[:, 'pred_radio_cal_gal']    == 1)\n",
    "filt_hiz_rAGN_p         = filter_radio_AGN_p * np.array(full_catalog_df.loc[:, 'pred_Z_rAGN'] >= gv.high_z_limit)\n",
    "filter_AGN_p            = np.array(full_catalog_df.loc[:, 'pred_class_cal']      == 1)\n",
    "filter_radio_p          = np.array(full_catalog_df.loc[:, 'pred_radio_cal_AGN']      == 1)\n",
    "num_AGN_p               = np.sum(filter_AGN_p)\n",
    "num_gal_p               = np.sum(np.array(full_catalog_df.loc[:, 'pred_class_cal'] == 0))\n",
    "num_radio_p             = np.sum(filter_radio_p)\n",
    "num_radio_AGN_p         = np.sum(filter_radio_AGN_p)"
   ]
  },
  {
   "cell_type": "code",
   "execution_count": 56,
   "metadata": {},
   "outputs": [
    {
     "data": {
      "text/plain": [
       "5110083"
      ]
     },
     "execution_count": 56,
     "metadata": {},
     "output_type": "execute_result"
    }
   ],
   "source": [
    "np.sum(np.array(full_catalog_df.loc[:, 'pred_class_cal'] == 0))"
   ]
  },
  {
   "cell_type": "code",
   "execution_count": 57,
   "metadata": {},
   "outputs": [
    {
     "data": {
      "text/plain": [
       "10026795"
      ]
     },
     "execution_count": 57,
     "metadata": {},
     "output_type": "execute_result"
    }
   ],
   "source": [
    "np.sum(np.array(full_catalog_df.loc[:, 'pred_class_cal'] == 1))"
   ]
  },
  {
   "cell_type": "code",
   "execution_count": 54,
   "metadata": {},
   "outputs": [
    {
     "data": {
      "text/plain": [
       "163272"
      ]
     },
     "execution_count": 54,
     "metadata": {},
     "output_type": "execute_result"
    }
   ],
   "source": [
    "np.sum(np.array(full_catalog_df.loc[:, 'pred_class_cal'] == 0) & np.array(full_catalog_df.loc[:, 'pred_radio_cal_gal'] == 1))"
   ]
  },
  {
   "cell_type": "code",
   "execution_count": 55,
   "metadata": {},
   "outputs": [
    {
     "data": {
      "text/plain": [
       "98483"
      ]
     },
     "execution_count": 55,
     "metadata": {},
     "output_type": "execute_result"
    }
   ],
   "source": [
    "np.sum(np.array(full_catalog_df.loc[:, 'pred_class_cal'] == 1) & np.array(full_catalog_df.loc[:, 'pred_radio_cal_AGN'] == 1))"
   ]
  },
  {
   "cell_type": "markdown",
   "metadata": {},
   "source": [
    "### Select sources predicted to be Radio AGN (optional)"
   ]
  },
  {
   "cell_type": "code",
   "execution_count": 35,
   "metadata": {},
   "outputs": [],
   "source": [
    "# full_catalog_df         = full_catalog_df.loc[filter_radio_AGN_p]"
   ]
  },
  {
   "cell_type": "markdown",
   "metadata": {},
   "source": [
    "Add individual metrics for redshift"
   ]
  },
  {
   "cell_type": "code",
   "execution_count": 36,
   "metadata": {
    "tags": []
   },
   "outputs": [],
   "source": [
    "full_catalog_df['Delta_z_N'] = np.around((full_catalog_df.loc[:, 'pred_Z_rAGN'] - full_catalog_df.loc[:, 'Z']) /\\\n",
    "                            (1 + full_catalog_df.loc[:, 'Z']), decimals=3)\n",
    "\n",
    "full_catalog_df['sigma_NMAD'] = np.around(1.48 * np.abs(full_catalog_df.loc[:, 'pred_Z_rAGN'] - full_catalog_df.loc[:, 'Z']) /\\\n",
    "                            (1 + full_catalog_df.loc[:, 'Z']), decimals=3)"
   ]
  },
  {
   "cell_type": "markdown",
   "metadata": {},
   "source": [
    "Numerical summary."
   ]
  },
  {
   "cell_type": "code",
   "execution_count": 37,
   "metadata": {
    "tags": []
   },
   "outputs": [],
   "source": [
    "str_0_t   = f'Out of {total_size:,} initial sources in {used_area},\\n'\n",
    "str_1_t   = f'{num_gal_t:,} are confirmed to be galaxies. On the other side,\\n'\n",
    "str_2_t   = f'{num_AGN_t:,} are confirmed to be AGN. And, from the AGN,\\n'\n",
    "str_3_t   = f'{num_radio_AGN_t:,} are detected in radio.'\n",
    "\n",
    "str_0_p   = f'Out of {num_radio_AGN_t:,} initial radio-detected AGN in {used_area},\\n'\n",
    "str_1_p   = f'{num_gal_p:,} are predicted to be galaxies. On the other side,\\n'\n",
    "str_2_p   = f'{num_AGN_p:,} are predicted to be AGN. And, from the predicted AGN,\\n'\n",
    "str_3_p   = f'{num_radio_AGN_p:,} are predicted to be detected in radio.'"
   ]
  },
  {
   "cell_type": "code",
   "execution_count": 38,
   "metadata": {
    "jupyter": {
     "source_hidden": true
    },
    "tags": []
   },
   "outputs": [
    {
     "name": "stdout",
     "output_type": "stream",
     "text": [
      "------------------------------------------------------------\n",
      "Out of 15,136,878 initial sources in HETDEX,\n",
      "68,196 are confirmed to be galaxies. On the other side,\n",
      "50,538 are confirmed to be AGN. And, from the AGN,\n",
      "8,100 are detected in radio.\n",
      "------------------------------------------------------------\n",
      "Out of 8,100 initial radio-detected AGN in HETDEX,\n",
      "5,110,083 are predicted to be galaxies. On the other side,\n",
      "10,026,795 are predicted to be AGN. And, from the predicted AGN,\n",
      "98,483 are predicted to be detected in radio.\n",
      "------------------------------------------------------------\n"
     ]
    }
   ],
   "source": [
    "print('-' * 60)\n",
    "print(str_0_t + str_1_t + str_2_t + str_3_t)\n",
    "print('-' * 60)\n",
    "print(str_0_p + str_1_p + str_2_p + str_3_p)\n",
    "print('-' * 60)"
   ]
  },
  {
   "cell_type": "code",
   "execution_count": 39,
   "metadata": {},
   "outputs": [],
   "source": [
    "cols_4_table = show_columns = ['Name', 'RA_ICRS', 'DE_ICRS', 'TYPE', 'band_num', 'class', 'pred_class',\n",
    "                               'pred_class_cal', 'Score_AGN', 'Prob_AGN', 'LOFAR_detect', 'pred_radio_AGN',\n",
    "                               'pred_radio_cal_AGN', 'Score_radio_AGN', 'Prob_radio_AGN', 'radio_AGN', 'pred_radio_AGN',\n",
    "                               'pred_prob_rAGN', 'Score_rAGN', 'Prob_rAGN', 'Z', 'pred_Z_rAGN']"
   ]
  },
  {
   "cell_type": "code",
   "execution_count": 40,
   "metadata": {},
   "outputs": [],
   "source": [
    "cols_4_export_S82    = ['Fint_VLAS82']\n",
    "cols_4_export_HETDEX = ['Sint_LOFAR']\n",
    "cols_4_export_COSMOS = ['Flux_COSMOSVLA3']\n",
    "\n",
    "cols_4_exp_all       = {'S82': cols_4_export_S82, 'HETDEX': cols_4_export_HETDEX, 'COSMOS': cols_4_export_COSMOS}\n",
    "\n",
    "cols_photo           = ['W1mproPM', 'W2mproPM', 'gmag', 'rmag', 'imag', 'zmag', \n",
    "                        'ymag', 'Jmag', 'Hmag', 'Kmag', 'W3mag', 'W4mag']\n",
    "\n",
    "cols_4_export        = cols_4_table + cols_4_exp_all[used_area] + cols_photo"
   ]
  },
  {
   "cell_type": "code",
   "execution_count": 41,
   "metadata": {},
   "outputs": [],
   "source": [
    "filter_new_rAGN = full_catalog_df.loc[:, 'radio_AGN'] == 0\n",
    "if predict_only_hi_z:\n",
    "    filter_high_z   = full_catalog_df.loc[:, 'pred_Z_rAGN']    >= gv.high_z_limit\n",
    "elif not predict_only_hi_z:\n",
    "    filter_high_z   = np.ones_like(full_catalog_df.loc[:, 'pred_Z_rAGN']).astype(bool)"
   ]
  },
  {
   "cell_type": "code",
   "execution_count": 42,
   "metadata": {},
   "outputs": [],
   "source": [
    "full_catalog_df.loc[:, 'TYPE'] = full_catalog_df.loc[:, 'TYPE'].mask(full_catalog_df.loc[:, 'TYPE'] == '    ', 'CCCC')"
   ]
  },
  {
   "cell_type": "code",
   "execution_count": 43,
   "metadata": {},
   "outputs": [
    {
     "data": {
      "text/html": [
       "<div>\n",
       "<style scoped>\n",
       "    .dataframe tbody tr th:only-of-type {\n",
       "        vertical-align: middle;\n",
       "    }\n",
       "\n",
       "    .dataframe tbody tr th {\n",
       "        vertical-align: top;\n",
       "    }\n",
       "\n",
       "    .dataframe thead th {\n",
       "        text-align: right;\n",
       "    }\n",
       "</style>\n",
       "<table border=\"1\" class=\"dataframe\">\n",
       "  <thead>\n",
       "    <tr style=\"text-align: right;\">\n",
       "      <th></th>\n",
       "      <th>Name</th>\n",
       "      <th>RA_ICRS</th>\n",
       "      <th>DE_ICRS</th>\n",
       "      <th>TYPE</th>\n",
       "      <th>band_num</th>\n",
       "      <th>class</th>\n",
       "      <th>pred_class</th>\n",
       "      <th>pred_class_cal</th>\n",
       "      <th>Score_AGN</th>\n",
       "      <th>Prob_AGN</th>\n",
       "      <th>LOFAR_detect</th>\n",
       "      <th>pred_radio_AGN</th>\n",
       "      <th>pred_radio_cal_AGN</th>\n",
       "      <th>Score_radio_AGN</th>\n",
       "      <th>Prob_radio_AGN</th>\n",
       "      <th>radio_AGN</th>\n",
       "      <th>pred_radio_AGN</th>\n",
       "      <th>pred_prob_rAGN</th>\n",
       "      <th>Score_rAGN</th>\n",
       "      <th>Prob_rAGN</th>\n",
       "      <th>Z</th>\n",
       "      <th>pred_Z_rAGN</th>\n",
       "      <th>Sint_LOFAR</th>\n",
       "      <th>W1mproPM</th>\n",
       "      <th>W2mproPM</th>\n",
       "      <th>gmag</th>\n",
       "      <th>rmag</th>\n",
       "      <th>imag</th>\n",
       "      <th>zmag</th>\n",
       "      <th>ymag</th>\n",
       "      <th>Jmag</th>\n",
       "      <th>Hmag</th>\n",
       "      <th>Kmag</th>\n",
       "      <th>W3mag</th>\n",
       "      <th>W4mag</th>\n",
       "    </tr>\n",
       "  </thead>\n",
       "  <tbody>\n",
       "    <tr>\n",
       "      <th>3323564</th>\n",
       "      <td>J111209.94+542723.2</td>\n",
       "      <td>168.041412</td>\n",
       "      <td>54.456451</td>\n",
       "      <td></td>\n",
       "      <td>6</td>\n",
       "      <td>NaN</td>\n",
       "      <td>0</td>\n",
       "      <td>0</td>\n",
       "      <td>0.499921</td>\n",
       "      <td>0.057037</td>\n",
       "      <td>0</td>\n",
       "      <td>0</td>\n",
       "      <td>1</td>\n",
       "      <td>0.510878</td>\n",
       "      <td>0.461275</td>\n",
       "      <td>0</td>\n",
       "      <td>0</td>\n",
       "      <td>0</td>\n",
       "      <td>0.255399</td>\n",
       "      <td>0.026310</td>\n",
       "      <td>NaN</td>\n",
       "      <td>4.6988</td>\n",
       "      <td>0.356451</td>\n",
       "      <td>19.511000</td>\n",
       "      <td>19.809999</td>\n",
       "      <td>23.299999</td>\n",
       "      <td>21.407400</td>\n",
       "      <td>20.568899</td>\n",
       "      <td>20.302500</td>\n",
       "      <td>20.203501</td>\n",
       "      <td>17.450001</td>\n",
       "      <td>17.24</td>\n",
       "      <td>16.59</td>\n",
       "      <td>16.67</td>\n",
       "      <td>14.62</td>\n",
       "    </tr>\n",
       "    <tr>\n",
       "      <th>3044266</th>\n",
       "      <td>J115427.10+562910.2</td>\n",
       "      <td>178.612915</td>\n",
       "      <td>56.486168</td>\n",
       "      <td></td>\n",
       "      <td>6</td>\n",
       "      <td>NaN</td>\n",
       "      <td>1</td>\n",
       "      <td>1</td>\n",
       "      <td>0.500029</td>\n",
       "      <td>0.751304</td>\n",
       "      <td>0</td>\n",
       "      <td>0</td>\n",
       "      <td>1</td>\n",
       "      <td>0.466157</td>\n",
       "      <td>0.427926</td>\n",
       "      <td>0</td>\n",
       "      <td>0</td>\n",
       "      <td>1</td>\n",
       "      <td>0.233092</td>\n",
       "      <td>0.321503</td>\n",
       "      <td>NaN</td>\n",
       "      <td>4.6962</td>\n",
       "      <td>0.356451</td>\n",
       "      <td>18.837000</td>\n",
       "      <td>19.009001</td>\n",
       "      <td>23.299999</td>\n",
       "      <td>20.534599</td>\n",
       "      <td>19.713200</td>\n",
       "      <td>19.499201</td>\n",
       "      <td>19.355200</td>\n",
       "      <td>17.450001</td>\n",
       "      <td>17.24</td>\n",
       "      <td>16.59</td>\n",
       "      <td>16.67</td>\n",
       "      <td>14.62</td>\n",
       "    </tr>\n",
       "    <tr>\n",
       "      <th>14977711</th>\n",
       "      <td>J144848.14+565154.7</td>\n",
       "      <td>222.200562</td>\n",
       "      <td>56.865215</td>\n",
       "      <td></td>\n",
       "      <td>8</td>\n",
       "      <td>NaN</td>\n",
       "      <td>0</td>\n",
       "      <td>0</td>\n",
       "      <td>0.499902</td>\n",
       "      <td>0.028581</td>\n",
       "      <td>0</td>\n",
       "      <td>0</td>\n",
       "      <td>1</td>\n",
       "      <td>0.317591</td>\n",
       "      <td>0.312549</td>\n",
       "      <td>0</td>\n",
       "      <td>0</td>\n",
       "      <td>0</td>\n",
       "      <td>0.158764</td>\n",
       "      <td>0.008933</td>\n",
       "      <td>NaN</td>\n",
       "      <td>4.6949</td>\n",
       "      <td>0.356451</td>\n",
       "      <td>19.486000</td>\n",
       "      <td>19.809999</td>\n",
       "      <td>23.299999</td>\n",
       "      <td>21.400400</td>\n",
       "      <td>20.561300</td>\n",
       "      <td>20.332001</td>\n",
       "      <td>20.029400</td>\n",
       "      <td>17.450001</td>\n",
       "      <td>17.24</td>\n",
       "      <td>16.59</td>\n",
       "      <td>16.67</td>\n",
       "      <td>14.62</td>\n",
       "    </tr>\n",
       "    <tr>\n",
       "      <th>10219773</th>\n",
       "      <td>J124247.92+521306.6</td>\n",
       "      <td>190.699646</td>\n",
       "      <td>52.218510</td>\n",
       "      <td>Q</td>\n",
       "      <td>8</td>\n",
       "      <td>1.0</td>\n",
       "      <td>1</td>\n",
       "      <td>1</td>\n",
       "      <td>0.500063</td>\n",
       "      <td>0.912322</td>\n",
       "      <td>0</td>\n",
       "      <td>0</td>\n",
       "      <td>1</td>\n",
       "      <td>0.499773</td>\n",
       "      <td>0.453027</td>\n",
       "      <td>0</td>\n",
       "      <td>0</td>\n",
       "      <td>1</td>\n",
       "      <td>0.249918</td>\n",
       "      <td>0.413307</td>\n",
       "      <td>5.040</td>\n",
       "      <td>4.6949</td>\n",
       "      <td>0.356451</td>\n",
       "      <td>19.136999</td>\n",
       "      <td>19.224001</td>\n",
       "      <td>23.299999</td>\n",
       "      <td>21.405399</td>\n",
       "      <td>19.989401</td>\n",
       "      <td>19.860300</td>\n",
       "      <td>19.693899</td>\n",
       "      <td>17.450001</td>\n",
       "      <td>17.24</td>\n",
       "      <td>16.59</td>\n",
       "      <td>16.67</td>\n",
       "      <td>14.62</td>\n",
       "    </tr>\n",
       "    <tr>\n",
       "      <th>7355795</th>\n",
       "      <td>J133422.63+475033.4</td>\n",
       "      <td>203.594269</td>\n",
       "      <td>47.842628</td>\n",
       "      <td>QX</td>\n",
       "      <td>8</td>\n",
       "      <td>1.0</td>\n",
       "      <td>1</td>\n",
       "      <td>1</td>\n",
       "      <td>0.500056</td>\n",
       "      <td>0.892290</td>\n",
       "      <td>1</td>\n",
       "      <td>0</td>\n",
       "      <td>1</td>\n",
       "      <td>0.290173</td>\n",
       "      <td>0.290071</td>\n",
       "      <td>1</td>\n",
       "      <td>0</td>\n",
       "      <td>1</td>\n",
       "      <td>0.145103</td>\n",
       "      <td>0.258828</td>\n",
       "      <td>4.958</td>\n",
       "      <td>4.6886</td>\n",
       "      <td>5.400000</td>\n",
       "      <td>18.983999</td>\n",
       "      <td>19.130001</td>\n",
       "      <td>23.299999</td>\n",
       "      <td>20.933100</td>\n",
       "      <td>19.620399</td>\n",
       "      <td>19.306101</td>\n",
       "      <td>19.200300</td>\n",
       "      <td>17.450001</td>\n",
       "      <td>17.24</td>\n",
       "      <td>16.59</td>\n",
       "      <td>16.67</td>\n",
       "      <td>14.62</td>\n",
       "    </tr>\n",
       "    <tr>\n",
       "      <th>2548114</th>\n",
       "      <td>J111748.06+520101.1</td>\n",
       "      <td>169.450256</td>\n",
       "      <td>52.016972</td>\n",
       "      <td></td>\n",
       "      <td>6</td>\n",
       "      <td>NaN</td>\n",
       "      <td>0</td>\n",
       "      <td>0</td>\n",
       "      <td>0.499932</td>\n",
       "      <td>0.080546</td>\n",
       "      <td>0</td>\n",
       "      <td>0</td>\n",
       "      <td>1</td>\n",
       "      <td>0.360725</td>\n",
       "      <td>0.347034</td>\n",
       "      <td>0</td>\n",
       "      <td>0</td>\n",
       "      <td>0</td>\n",
       "      <td>0.180338</td>\n",
       "      <td>0.027952</td>\n",
       "      <td>NaN</td>\n",
       "      <td>4.6886</td>\n",
       "      <td>0.356451</td>\n",
       "      <td>19.569000</td>\n",
       "      <td>19.809999</td>\n",
       "      <td>23.299999</td>\n",
       "      <td>20.983000</td>\n",
       "      <td>20.142599</td>\n",
       "      <td>19.805000</td>\n",
       "      <td>19.701500</td>\n",
       "      <td>17.450001</td>\n",
       "      <td>17.24</td>\n",
       "      <td>16.59</td>\n",
       "      <td>16.67</td>\n",
       "      <td>14.62</td>\n",
       "    </tr>\n",
       "    <tr>\n",
       "      <th>3226938</th>\n",
       "      <td>J111714.13+540919.4</td>\n",
       "      <td>169.308868</td>\n",
       "      <td>54.155396</td>\n",
       "      <td>Q</td>\n",
       "      <td>8</td>\n",
       "      <td>1.0</td>\n",
       "      <td>1</td>\n",
       "      <td>1</td>\n",
       "      <td>0.500068</td>\n",
       "      <td>0.926060</td>\n",
       "      <td>1</td>\n",
       "      <td>0</td>\n",
       "      <td>0</td>\n",
       "      <td>0.190850</td>\n",
       "      <td>0.203994</td>\n",
       "      <td>1</td>\n",
       "      <td>0</td>\n",
       "      <td>0</td>\n",
       "      <td>0.095438</td>\n",
       "      <td>0.188911</td>\n",
       "      <td>4.700</td>\n",
       "      <td>4.6862</td>\n",
       "      <td>0.600000</td>\n",
       "      <td>19.456999</td>\n",
       "      <td>19.754002</td>\n",
       "      <td>23.299999</td>\n",
       "      <td>21.331800</td>\n",
       "      <td>20.118099</td>\n",
       "      <td>19.834101</td>\n",
       "      <td>19.797501</td>\n",
       "      <td>17.450001</td>\n",
       "      <td>17.24</td>\n",
       "      <td>16.59</td>\n",
       "      <td>16.67</td>\n",
       "      <td>14.62</td>\n",
       "    </tr>\n",
       "    <tr>\n",
       "      <th>12422019</th>\n",
       "      <td>J150428.39+492357.1</td>\n",
       "      <td>226.118317</td>\n",
       "      <td>49.399193</td>\n",
       "      <td></td>\n",
       "      <td>6</td>\n",
       "      <td>NaN</td>\n",
       "      <td>0</td>\n",
       "      <td>0</td>\n",
       "      <td>0.499884</td>\n",
       "      <td>0.015350</td>\n",
       "      <td>0</td>\n",
       "      <td>0</td>\n",
       "      <td>0</td>\n",
       "      <td>0.106053</td>\n",
       "      <td>0.122560</td>\n",
       "      <td>0</td>\n",
       "      <td>0</td>\n",
       "      <td>0</td>\n",
       "      <td>0.053014</td>\n",
       "      <td>0.001881</td>\n",
       "      <td>NaN</td>\n",
       "      <td>4.6847</td>\n",
       "      <td>0.356451</td>\n",
       "      <td>19.661999</td>\n",
       "      <td>19.809999</td>\n",
       "      <td>23.299999</td>\n",
       "      <td>21.107401</td>\n",
       "      <td>20.211599</td>\n",
       "      <td>19.900900</td>\n",
       "      <td>19.641100</td>\n",
       "      <td>17.450001</td>\n",
       "      <td>17.24</td>\n",
       "      <td>16.59</td>\n",
       "      <td>16.67</td>\n",
       "      <td>14.62</td>\n",
       "    </tr>\n",
       "    <tr>\n",
       "      <th>7215086</th>\n",
       "      <td>J133305.80+461317.8</td>\n",
       "      <td>203.274155</td>\n",
       "      <td>46.221642</td>\n",
       "      <td></td>\n",
       "      <td>8</td>\n",
       "      <td>NaN</td>\n",
       "      <td>0</td>\n",
       "      <td>0</td>\n",
       "      <td>0.499917</td>\n",
       "      <td>0.049347</td>\n",
       "      <td>0</td>\n",
       "      <td>0</td>\n",
       "      <td>0</td>\n",
       "      <td>0.183283</td>\n",
       "      <td>0.197074</td>\n",
       "      <td>0</td>\n",
       "      <td>0</td>\n",
       "      <td>0</td>\n",
       "      <td>0.091626</td>\n",
       "      <td>0.009725</td>\n",
       "      <td>NaN</td>\n",
       "      <td>4.6847</td>\n",
       "      <td>0.356451</td>\n",
       "      <td>19.473000</td>\n",
       "      <td>19.809999</td>\n",
       "      <td>23.299999</td>\n",
       "      <td>21.284300</td>\n",
       "      <td>20.365101</td>\n",
       "      <td>20.195499</td>\n",
       "      <td>19.918200</td>\n",
       "      <td>17.450001</td>\n",
       "      <td>17.24</td>\n",
       "      <td>16.59</td>\n",
       "      <td>16.67</td>\n",
       "      <td>14.62</td>\n",
       "    </tr>\n",
       "    <tr>\n",
       "      <th>11282548</th>\n",
       "      <td>J120234.83+555726.0</td>\n",
       "      <td>180.645126</td>\n",
       "      <td>55.957241</td>\n",
       "      <td></td>\n",
       "      <td>8</td>\n",
       "      <td>NaN</td>\n",
       "      <td>0</td>\n",
       "      <td>0</td>\n",
       "      <td>0.499927</td>\n",
       "      <td>0.069073</td>\n",
       "      <td>0</td>\n",
       "      <td>0</td>\n",
       "      <td>0</td>\n",
       "      <td>0.112984</td>\n",
       "      <td>0.129580</td>\n",
       "      <td>0</td>\n",
       "      <td>0</td>\n",
       "      <td>0</td>\n",
       "      <td>0.056484</td>\n",
       "      <td>0.008951</td>\n",
       "      <td>NaN</td>\n",
       "      <td>4.6847</td>\n",
       "      <td>0.356451</td>\n",
       "      <td>19.434999</td>\n",
       "      <td>19.809999</td>\n",
       "      <td>23.299999</td>\n",
       "      <td>20.778900</td>\n",
       "      <td>19.925501</td>\n",
       "      <td>19.599501</td>\n",
       "      <td>19.383499</td>\n",
       "      <td>17.450001</td>\n",
       "      <td>17.24</td>\n",
       "      <td>16.59</td>\n",
       "      <td>16.67</td>\n",
       "      <td>14.62</td>\n",
       "    </tr>\n",
       "    <tr>\n",
       "      <th>15049127</th>\n",
       "      <td>J135454.77+553348.7</td>\n",
       "      <td>208.728226</td>\n",
       "      <td>55.563545</td>\n",
       "      <td></td>\n",
       "      <td>6</td>\n",
       "      <td>NaN</td>\n",
       "      <td>0</td>\n",
       "      <td>0</td>\n",
       "      <td>0.499949</td>\n",
       "      <td>0.140591</td>\n",
       "      <td>0</td>\n",
       "      <td>0</td>\n",
       "      <td>1</td>\n",
       "      <td>0.249001</td>\n",
       "      <td>0.255362</td>\n",
       "      <td>0</td>\n",
       "      <td>0</td>\n",
       "      <td>0</td>\n",
       "      <td>0.124488</td>\n",
       "      <td>0.035902</td>\n",
       "      <td>NaN</td>\n",
       "      <td>4.6847</td>\n",
       "      <td>0.356451</td>\n",
       "      <td>19.688000</td>\n",
       "      <td>19.793001</td>\n",
       "      <td>23.299999</td>\n",
       "      <td>21.513700</td>\n",
       "      <td>20.623501</td>\n",
       "      <td>20.316000</td>\n",
       "      <td>20.350100</td>\n",
       "      <td>17.450001</td>\n",
       "      <td>17.24</td>\n",
       "      <td>16.59</td>\n",
       "      <td>16.67</td>\n",
       "      <td>14.62</td>\n",
       "    </tr>\n",
       "    <tr>\n",
       "      <th>12851857</th>\n",
       "      <td>J145757.61+530928.0</td>\n",
       "      <td>224.490051</td>\n",
       "      <td>53.157784</td>\n",
       "      <td></td>\n",
       "      <td>8</td>\n",
       "      <td>NaN</td>\n",
       "      <td>0</td>\n",
       "      <td>0</td>\n",
       "      <td>0.499923</td>\n",
       "      <td>0.060274</td>\n",
       "      <td>0</td>\n",
       "      <td>0</td>\n",
       "      <td>1</td>\n",
       "      <td>0.322631</td>\n",
       "      <td>0.316631</td>\n",
       "      <td>0</td>\n",
       "      <td>0</td>\n",
       "      <td>0</td>\n",
       "      <td>0.161291</td>\n",
       "      <td>0.019085</td>\n",
       "      <td>NaN</td>\n",
       "      <td>4.6847</td>\n",
       "      <td>0.356451</td>\n",
       "      <td>19.605999</td>\n",
       "      <td>19.809999</td>\n",
       "      <td>23.299999</td>\n",
       "      <td>21.341299</td>\n",
       "      <td>20.479000</td>\n",
       "      <td>20.196699</td>\n",
       "      <td>19.977900</td>\n",
       "      <td>17.450001</td>\n",
       "      <td>17.24</td>\n",
       "      <td>16.59</td>\n",
       "      <td>16.67</td>\n",
       "      <td>14.62</td>\n",
       "    </tr>\n",
       "    <tr>\n",
       "      <th>14220389</th>\n",
       "      <td>J144501.25+561906.4</td>\n",
       "      <td>221.255219</td>\n",
       "      <td>56.318459</td>\n",
       "      <td></td>\n",
       "      <td>8</td>\n",
       "      <td>NaN</td>\n",
       "      <td>0</td>\n",
       "      <td>0</td>\n",
       "      <td>0.499920</td>\n",
       "      <td>0.054713</td>\n",
       "      <td>0</td>\n",
       "      <td>0</td>\n",
       "      <td>1</td>\n",
       "      <td>0.279885</td>\n",
       "      <td>0.281512</td>\n",
       "      <td>0</td>\n",
       "      <td>0</td>\n",
       "      <td>0</td>\n",
       "      <td>0.139920</td>\n",
       "      <td>0.015402</td>\n",
       "      <td>NaN</td>\n",
       "      <td>4.6847</td>\n",
       "      <td>0.356451</td>\n",
       "      <td>19.563999</td>\n",
       "      <td>19.809999</td>\n",
       "      <td>23.299999</td>\n",
       "      <td>21.074600</td>\n",
       "      <td>20.180500</td>\n",
       "      <td>19.962299</td>\n",
       "      <td>19.708200</td>\n",
       "      <td>17.450001</td>\n",
       "      <td>17.24</td>\n",
       "      <td>16.59</td>\n",
       "      <td>16.67</td>\n",
       "      <td>14.62</td>\n",
       "    </tr>\n",
       "    <tr>\n",
       "      <th>13292816</th>\n",
       "      <td>J143508.80+485521.4</td>\n",
       "      <td>218.786652</td>\n",
       "      <td>48.922630</td>\n",
       "      <td>Q</td>\n",
       "      <td>8</td>\n",
       "      <td>1.0</td>\n",
       "      <td>1</td>\n",
       "      <td>1</td>\n",
       "      <td>0.500043</td>\n",
       "      <td>0.833659</td>\n",
       "      <td>0</td>\n",
       "      <td>0</td>\n",
       "      <td>0</td>\n",
       "      <td>0.212496</td>\n",
       "      <td>0.223473</td>\n",
       "      <td>0</td>\n",
       "      <td>0</td>\n",
       "      <td>0</td>\n",
       "      <td>0.106257</td>\n",
       "      <td>0.186300</td>\n",
       "      <td>4.776</td>\n",
       "      <td>4.6847</td>\n",
       "      <td>0.356451</td>\n",
       "      <td>19.424000</td>\n",
       "      <td>19.650002</td>\n",
       "      <td>23.299999</td>\n",
       "      <td>21.011400</td>\n",
       "      <td>19.706301</td>\n",
       "      <td>19.509300</td>\n",
       "      <td>19.394300</td>\n",
       "      <td>17.450001</td>\n",
       "      <td>17.24</td>\n",
       "      <td>16.59</td>\n",
       "      <td>16.67</td>\n",
       "      <td>14.62</td>\n",
       "    </tr>\n",
       "    <tr>\n",
       "      <th>4264628</th>\n",
       "      <td>J141000.75+460134.5</td>\n",
       "      <td>212.503098</td>\n",
       "      <td>46.026260</td>\n",
       "      <td></td>\n",
       "      <td>6</td>\n",
       "      <td>NaN</td>\n",
       "      <td>0</td>\n",
       "      <td>0</td>\n",
       "      <td>0.499961</td>\n",
       "      <td>0.204968</td>\n",
       "      <td>0</td>\n",
       "      <td>0</td>\n",
       "      <td>1</td>\n",
       "      <td>0.581800</td>\n",
       "      <td>0.513696</td>\n",
       "      <td>0</td>\n",
       "      <td>0</td>\n",
       "      <td>0</td>\n",
       "      <td>0.290877</td>\n",
       "      <td>0.105291</td>\n",
       "      <td>NaN</td>\n",
       "      <td>4.6847</td>\n",
       "      <td>0.356451</td>\n",
       "      <td>19.681999</td>\n",
       "      <td>19.809999</td>\n",
       "      <td>23.299999</td>\n",
       "      <td>20.781799</td>\n",
       "      <td>19.471001</td>\n",
       "      <td>19.164101</td>\n",
       "      <td>19.027300</td>\n",
       "      <td>17.450001</td>\n",
       "      <td>17.24</td>\n",
       "      <td>16.59</td>\n",
       "      <td>16.67</td>\n",
       "      <td>14.62</td>\n",
       "    </tr>\n",
       "  </tbody>\n",
       "</table>\n",
       "</div>"
      ],
      "text/plain": [
       "                         Name     RA_ICRS    DE_ICRS TYPE  band_num  class  \\\n",
       "3323564   J111209.94+542723.2  168.041412  54.456451              6    NaN   \n",
       "3044266   J115427.10+562910.2  178.612915  56.486168              6    NaN   \n",
       "14977711  J144848.14+565154.7  222.200562  56.865215              8    NaN   \n",
       "10219773  J124247.92+521306.6  190.699646  52.218510    Q         8    1.0   \n",
       "7355795   J133422.63+475033.4  203.594269  47.842628   QX         8    1.0   \n",
       "2548114   J111748.06+520101.1  169.450256  52.016972              6    NaN   \n",
       "3226938   J111714.13+540919.4  169.308868  54.155396    Q         8    1.0   \n",
       "12422019  J150428.39+492357.1  226.118317  49.399193              6    NaN   \n",
       "7215086   J133305.80+461317.8  203.274155  46.221642              8    NaN   \n",
       "11282548  J120234.83+555726.0  180.645126  55.957241              8    NaN   \n",
       "15049127  J135454.77+553348.7  208.728226  55.563545              6    NaN   \n",
       "12851857  J145757.61+530928.0  224.490051  53.157784              8    NaN   \n",
       "14220389  J144501.25+561906.4  221.255219  56.318459              8    NaN   \n",
       "13292816  J143508.80+485521.4  218.786652  48.922630    Q         8    1.0   \n",
       "4264628   J141000.75+460134.5  212.503098  46.026260              6    NaN   \n",
       "\n",
       "          pred_class  pred_class_cal  Score_AGN  Prob_AGN  LOFAR_detect  \\\n",
       "3323564            0               0   0.499921  0.057037             0   \n",
       "3044266            1               1   0.500029  0.751304             0   \n",
       "14977711           0               0   0.499902  0.028581             0   \n",
       "10219773           1               1   0.500063  0.912322             0   \n",
       "7355795            1               1   0.500056  0.892290             1   \n",
       "2548114            0               0   0.499932  0.080546             0   \n",
       "3226938            1               1   0.500068  0.926060             1   \n",
       "12422019           0               0   0.499884  0.015350             0   \n",
       "7215086            0               0   0.499917  0.049347             0   \n",
       "11282548           0               0   0.499927  0.069073             0   \n",
       "15049127           0               0   0.499949  0.140591             0   \n",
       "12851857           0               0   0.499923  0.060274             0   \n",
       "14220389           0               0   0.499920  0.054713             0   \n",
       "13292816           1               1   0.500043  0.833659             0   \n",
       "4264628            0               0   0.499961  0.204968             0   \n",
       "\n",
       "          pred_radio_AGN  pred_radio_cal_AGN  Score_radio_AGN  Prob_radio_AGN  \\\n",
       "3323564                0                   1         0.510878        0.461275   \n",
       "3044266                0                   1         0.466157        0.427926   \n",
       "14977711               0                   1         0.317591        0.312549   \n",
       "10219773               0                   1         0.499773        0.453027   \n",
       "7355795                0                   1         0.290173        0.290071   \n",
       "2548114                0                   1         0.360725        0.347034   \n",
       "3226938                0                   0         0.190850        0.203994   \n",
       "12422019               0                   0         0.106053        0.122560   \n",
       "7215086                0                   0         0.183283        0.197074   \n",
       "11282548               0                   0         0.112984        0.129580   \n",
       "15049127               0                   1         0.249001        0.255362   \n",
       "12851857               0                   1         0.322631        0.316631   \n",
       "14220389               0                   1         0.279885        0.281512   \n",
       "13292816               0                   0         0.212496        0.223473   \n",
       "4264628                0                   1         0.581800        0.513696   \n",
       "\n",
       "          radio_AGN  pred_radio_AGN  pred_prob_rAGN  Score_rAGN  Prob_rAGN  \\\n",
       "3323564           0               0               0    0.255399   0.026310   \n",
       "3044266           0               0               1    0.233092   0.321503   \n",
       "14977711          0               0               0    0.158764   0.008933   \n",
       "10219773          0               0               1    0.249918   0.413307   \n",
       "7355795           1               0               1    0.145103   0.258828   \n",
       "2548114           0               0               0    0.180338   0.027952   \n",
       "3226938           1               0               0    0.095438   0.188911   \n",
       "12422019          0               0               0    0.053014   0.001881   \n",
       "7215086           0               0               0    0.091626   0.009725   \n",
       "11282548          0               0               0    0.056484   0.008951   \n",
       "15049127          0               0               0    0.124488   0.035902   \n",
       "12851857          0               0               0    0.161291   0.019085   \n",
       "14220389          0               0               0    0.139920   0.015402   \n",
       "13292816          0               0               0    0.106257   0.186300   \n",
       "4264628           0               0               0    0.290877   0.105291   \n",
       "\n",
       "              Z  pred_Z_rAGN  Sint_LOFAR   W1mproPM   W2mproPM       gmag  \\\n",
       "3323564     NaN       4.6988    0.356451  19.511000  19.809999  23.299999   \n",
       "3044266     NaN       4.6962    0.356451  18.837000  19.009001  23.299999   \n",
       "14977711    NaN       4.6949    0.356451  19.486000  19.809999  23.299999   \n",
       "10219773  5.040       4.6949    0.356451  19.136999  19.224001  23.299999   \n",
       "7355795   4.958       4.6886    5.400000  18.983999  19.130001  23.299999   \n",
       "2548114     NaN       4.6886    0.356451  19.569000  19.809999  23.299999   \n",
       "3226938   4.700       4.6862    0.600000  19.456999  19.754002  23.299999   \n",
       "12422019    NaN       4.6847    0.356451  19.661999  19.809999  23.299999   \n",
       "7215086     NaN       4.6847    0.356451  19.473000  19.809999  23.299999   \n",
       "11282548    NaN       4.6847    0.356451  19.434999  19.809999  23.299999   \n",
       "15049127    NaN       4.6847    0.356451  19.688000  19.793001  23.299999   \n",
       "12851857    NaN       4.6847    0.356451  19.605999  19.809999  23.299999   \n",
       "14220389    NaN       4.6847    0.356451  19.563999  19.809999  23.299999   \n",
       "13292816  4.776       4.6847    0.356451  19.424000  19.650002  23.299999   \n",
       "4264628     NaN       4.6847    0.356451  19.681999  19.809999  23.299999   \n",
       "\n",
       "               rmag       imag       zmag       ymag       Jmag   Hmag   Kmag  \\\n",
       "3323564   21.407400  20.568899  20.302500  20.203501  17.450001  17.24  16.59   \n",
       "3044266   20.534599  19.713200  19.499201  19.355200  17.450001  17.24  16.59   \n",
       "14977711  21.400400  20.561300  20.332001  20.029400  17.450001  17.24  16.59   \n",
       "10219773  21.405399  19.989401  19.860300  19.693899  17.450001  17.24  16.59   \n",
       "7355795   20.933100  19.620399  19.306101  19.200300  17.450001  17.24  16.59   \n",
       "2548114   20.983000  20.142599  19.805000  19.701500  17.450001  17.24  16.59   \n",
       "3226938   21.331800  20.118099  19.834101  19.797501  17.450001  17.24  16.59   \n",
       "12422019  21.107401  20.211599  19.900900  19.641100  17.450001  17.24  16.59   \n",
       "7215086   21.284300  20.365101  20.195499  19.918200  17.450001  17.24  16.59   \n",
       "11282548  20.778900  19.925501  19.599501  19.383499  17.450001  17.24  16.59   \n",
       "15049127  21.513700  20.623501  20.316000  20.350100  17.450001  17.24  16.59   \n",
       "12851857  21.341299  20.479000  20.196699  19.977900  17.450001  17.24  16.59   \n",
       "14220389  21.074600  20.180500  19.962299  19.708200  17.450001  17.24  16.59   \n",
       "13292816  21.011400  19.706301  19.509300  19.394300  17.450001  17.24  16.59   \n",
       "4264628   20.781799  19.471001  19.164101  19.027300  17.450001  17.24  16.59   \n",
       "\n",
       "          W3mag  W4mag  \n",
       "3323564   16.67  14.62  \n",
       "3044266   16.67  14.62  \n",
       "14977711  16.67  14.62  \n",
       "10219773  16.67  14.62  \n",
       "7355795   16.67  14.62  \n",
       "2548114   16.67  14.62  \n",
       "3226938   16.67  14.62  \n",
       "12422019  16.67  14.62  \n",
       "7215086   16.67  14.62  \n",
       "11282548  16.67  14.62  \n",
       "15049127  16.67  14.62  \n",
       "12851857  16.67  14.62  \n",
       "14220389  16.67  14.62  \n",
       "13292816  16.67  14.62  \n",
       "4264628   16.67  14.62  "
      ]
     },
     "metadata": {},
     "output_type": "display_data"
    }
   ],
   "source": [
    "display(full_catalog_df.loc[filter_high_z, cols_4_export].sort_values(by=['pred_Z_rAGN'], ascending=False).head(15))"
   ]
  },
  {
   "cell_type": "code",
   "execution_count": 44,
   "metadata": {},
   "outputs": [],
   "source": [
    "if save_preds_flag:\n",
    "    full_catalog_df.loc[filter_high_z, cols_4_export].sort_values(by=['pred_Z_rAGN'],\n",
    "     ascending=False).to_csv(gv.preds_path + f'predicted_rAGN_{used_area}.csv', index_label='ID')"
   ]
  },
  {
   "cell_type": "markdown",
   "metadata": {},
   "source": [
    "---"
   ]
  },
  {
   "cell_type": "code",
   "execution_count": 45,
   "metadata": {},
   "outputs": [],
   "source": [
    "temp_flag = False"
   ]
  },
  {
   "cell_type": "code",
   "execution_count": 46,
   "metadata": {},
   "outputs": [],
   "source": [
    "if temp_flag:\n",
    "    cols_AGN   = ['g_r', 'r_i', 'r_J', 'i_z', 'i_y', \n",
    "                  'z_y', 'z_W2', 'y_J', 'y_W1', 'y_W2', 'J_H', 'H_K', \n",
    "                  'H_W3', 'W1_W2', 'W1_W3', 'W3_W4']  # Only colours (no 'band_num', 'W4mag')\n",
    "    cols_radio = ['g_r', 'g_i', 'r_i', 'r_z', 'i_z', \n",
    "                  'z_y', 'z_W1', 'y_J', 'y_W1', 'J_H', 'H_K', 'K_W3', \n",
    "                  'K_W4', 'W1_W2', 'W2_W3']  # Only colours (no 'band_num', 'W4mag')\n",
    "    cols_z     = ['g_r', 'g_W3', 'r_i', 'r_z', 'i_z', \n",
    "                  'i_y', 'z_y', 'y_J', 'y_W1', 'J_H', 'H_K', 'K_W3', \n",
    "                  'K_W4', 'W1_W2', 'W2_W3']  # Only colours (no 'band_num', 'W4mag')\n",
    "    \n",
    "    cols_cols = list(np.unique(cols_AGN + cols_radio + cols_z))"
   ]
  },
  {
   "cell_type": "code",
   "execution_count": 47,
   "metadata": {},
   "outputs": [],
   "source": [
    "if temp_flag:\n",
    "    \n",
    "    add_columns  = ['band_num', 'class', 'pred_class_cal', 'Score_AGN', 'Prob_AGN', \n",
    "                    'LOFAR_detect', 'pred_radio_cal_AGN', 'Score_radio_AGN', 'Prob_radio_AGN', \n",
    "                    'radio_AGN', 'pred_prob_rAGN', 'Score_rAGN', 'Prob_rAGN', 'Z', 'pred_Z_rAGN']\n",
    "    used_colours = cols_cols"
   ]
  },
  {
   "cell_type": "code",
   "execution_count": 48,
   "metadata": {},
   "outputs": [],
   "source": [
    "if temp_flag:\n",
    "    saving_data = full_catalog_df.loc[:, add_columns + cols_photo + used_colours]\n",
    "    saving_data['ID'] = saving_data.index\n",
    "    saving_data.to_hdf(gv.preds_path + f'{used_area}_for_prediction.h5', key='df')"
   ]
  },
  {
   "cell_type": "code",
   "execution_count": null,
   "metadata": {},
   "outputs": [],
   "source": []
  },
  {
   "cell_type": "code",
   "execution_count": 49,
   "metadata": {},
   "outputs": [],
   "source": [
    "save_full_flag = True"
   ]
  },
  {
   "cell_type": "code",
   "execution_count": 50,
   "metadata": {},
   "outputs": [
    {
     "data": {
      "text/plain": [
       "array(['RA_ICRS', 'DE_ICRS', 'Name', 'TYPE', 'Z', 'zsp', 'spCl',\n",
       "       'band_num', 'radio_detect', 'LOFAR_detect', 'Sint_LOFAR',\n",
       "       'Sint_LOFAR_AB', 'Speak_LOFAR', 'rms_LOFAR', 'Sint_LOFAR_non_imp',\n",
       "       'Sint_LOFAR_AB_non_imp', 'Speak_LOFAR_non_imp', 'is_str',\n",
       "       'is_SDSS_QSO', 'is_AGN', 'is_SDSS_gal', 'is_gal', 'W1mproPM',\n",
       "       'W2mproPM', 'gmag', 'rmag', 'imag', 'zmag', 'ymag', 'W3mag',\n",
       "       'W4mag', 'Jmag', 'Hmag', 'Kmag', 'g_r', 'g_i', 'g_z', 'g_y', 'g_J',\n",
       "       'g_H', 'g_K', 'g_W1', 'g_W2', 'g_W3', 'g_W4', 'r_i', 'r_z', 'r_y',\n",
       "       'r_J', 'r_H', 'r_K', 'r_W1', 'r_W2', 'r_W3', 'r_W4', 'i_z', 'i_y',\n",
       "       'i_J', 'i_H', 'i_K', 'i_W1', 'i_W2', 'i_W3', 'i_W4', 'z_y', 'z_J',\n",
       "       'z_H', 'z_K', 'z_W1', 'z_W2', 'z_W3', 'z_W4', 'y_J', 'y_H', 'y_K',\n",
       "       'y_W1', 'y_W2', 'y_W3', 'y_W4', 'J_H', 'J_K', 'J_W1', 'J_W2',\n",
       "       'J_W3', 'J_W4', 'H_K', 'H_W1', 'H_W2', 'H_W3', 'H_W4', 'K_W1',\n",
       "       'K_W2', 'K_W3', 'K_W4', 'W1_W2', 'W1_W3', 'W1_W4', 'W2_W3',\n",
       "       'W2_W4', 'W3_W4', 'class', 'radio_AGN', 'pred_class', 'Score_AGN',\n",
       "       'Prob_AGN', 'pred_class_cal', 'pred_radio_AGN', 'Score_radio_AGN',\n",
       "       'Prob_radio_AGN', 'pred_radio_cal_AGN', 'pred_radio_gal',\n",
       "       'Score_radio_gal', 'Prob_radio_gal', 'pred_radio_cal_gal',\n",
       "       'pred_Z_rAGN', 'pred_Z_rGal', 'Score_rAGN', 'pred_prob_rAGN',\n",
       "       'Prob_rAGN', 'Score_rGal', 'pred_prob_rGal', 'Prob_rGal',\n",
       "       'Delta_z_N', 'sigma_NMAD'], dtype=object)"
      ]
     },
     "execution_count": 50,
     "metadata": {},
     "output_type": "execute_result"
    }
   ],
   "source": [
    "np.array(full_catalog_df.columns)"
   ]
  },
  {
   "cell_type": "code",
   "execution_count": 51,
   "metadata": {},
   "outputs": [],
   "source": [
    "if save_full_flag:\n",
    "    if used_area == 'S82':\n",
    "        cols_2_save = ['RA_ICRS', 'DE_ICRS', 'Name', 'TYPE', 'Z', 'band_num', 'Fint_VLAS82', \n",
    "                       'Fint_VLAS82_AB', 'Fint_VLAS82_non_imp', 'rms_VLAS82', 'is_str', 'W1mproPM', \n",
    "                       'W2mproPM', 'gmag', 'rmag', 'imag', 'zmag', 'ymag', 'W3mag', 'W4mag', 'Jmag', \n",
    "                       'Hmag', 'Kmag', 'g_r', 'g_i', 'g_z', 'g_y', 'g_J', 'g_H', 'g_K', 'g_W1', \n",
    "                       'g_W2', 'g_W3', 'g_W4', 'r_i', 'r_z', 'r_y', 'r_J', 'r_H', 'r_K', 'r_W1', \n",
    "                       'r_W2', 'r_W3', 'r_W4', 'i_z', 'i_y', 'i_J', 'i_H', 'i_K', 'i_W1', 'i_W2', \n",
    "                       'i_W3', 'i_W4', 'z_y', 'z_J', 'z_H', 'z_K', 'z_W1', 'z_W2', 'z_W3', 'z_W4', \n",
    "                       'y_J', 'y_H', 'y_K', 'y_W1', 'y_W2', 'y_W3', 'y_W4', 'J_H', 'J_K', 'J_W1', \n",
    "                       'J_W2', 'J_W3', 'J_W4', 'H_K', 'H_W1', 'H_W2', 'H_W3', 'H_W4', 'K_W1', \n",
    "                       'K_W2', 'K_W3', 'K_W4', 'W1_W2', 'W1_W3', 'W1_W4', 'W2_W3', 'W2_W4', \n",
    "                       'W3_W4', 'radio_detect', 'LOFAR_detect', 'class', 'radio_AGN', 'Prob_AGN', \n",
    "                       'Prob_radio_AGN', 'Prob_radio_gal', 'pred_Z_rAGN', 'pred_Z_rGal', \n",
    "                       'pred_class_cal', 'pred_radio_cal_AGN', 'pred_radio_cal_gal', \n",
    "                       'pred_prob_rAGN', 'Prob_rAGN', 'pred_prob_rGal', 'Prob_rGal']\n",
    "    if used_area == 'HETDEX':\n",
    "        cols_2_save = ['RA_ICRS', 'DE_ICRS', 'Name', 'TYPE', 'Z', 'band_num', 'Sint_LOFAR', \n",
    "                       'Sint_LOFAR_AB', 'Sint_LOFAR_non_imp', 'rms_LOFAR', 'Speak_LOFAR', \n",
    "                       'Speak_LOFAR_non_imp', 'is_str', 'W1mproPM', 'W2mproPM', 'gmag', 'rmag', \n",
    "                       'imag', 'zmag', 'ymag', 'W3mag', 'W4mag', 'Jmag', 'Hmag', 'Kmag', 'g_r', \n",
    "                       'g_i', 'g_z', 'g_y', 'g_J', 'g_H', 'g_K', 'g_W1', 'g_W2', 'g_W3', 'g_W4', \n",
    "                       'r_i', 'r_z', 'r_y', 'r_J', 'r_H', 'r_K', 'r_W1', 'r_W2', 'r_W3', 'r_W4', \n",
    "                       'i_z','i_y', 'i_J', 'i_H', 'i_K', 'i_W1', 'i_W2', 'i_W3', 'i_W4', 'z_y', \n",
    "                       'z_J', 'z_H', 'z_K', 'z_W1', 'z_W2', 'z_W3', 'z_W4', 'y_J', 'y_H', 'y_K', \n",
    "                       'y_W1', 'y_W2', 'y_W3', 'y_W4', 'J_H', 'J_K', 'J_W1', 'J_W2', 'J_W3', \n",
    "                       'J_W4', 'H_K', 'H_W1', 'H_W2', 'H_W3', 'H_W4', 'K_W1', 'K_W2', 'K_W3', \n",
    "                       'K_W4', 'W1_W2', 'W1_W3', 'W1_W4', 'W2_W3', 'W2_W4', 'W3_W4', \n",
    "                       'radio_detect', 'LOFAR_detect', 'class', 'radio_AGN', 'Prob_AGN', \n",
    "                       'Prob_radio_AGN', 'Prob_radio_gal', 'pred_Z_rAGN', 'pred_Z_rGal', \n",
    "                       'pred_class_cal', 'pred_radio_cal_AGN', 'pred_radio_cal_gal', \n",
    "                       'pred_prob_rAGN', 'Prob_rAGN', 'pred_prob_rGal', 'Prob_rGal']"
   ]
  },
  {
   "cell_type": "code",
   "execution_count": 52,
   "metadata": {},
   "outputs": [],
   "source": [
    "# if save_full_flag:\n",
    "#     saving_data_full       = full_catalog_df.loc[:, cols_2_save]\n",
    "#     saving_data_full['ID'] = saving_data_full.index\n",
    "#     saving_data_full.to_hdf(gv.preds_path + f'{used_area}_full_prediction.h5', key='df')\n",
    "#     print(f'File {gv.preds_path}{used_area}_full_prediction.h5 saved')"
   ]
  },
  {
   "cell_type": "code",
   "execution_count": 53,
   "metadata": {},
   "outputs": [
    {
     "name": "stdout",
     "output_type": "stream",
     "text": [
      "File pred_rAGN/HETDEX_full_prediction.h5 saved\n",
      "File pred_rAGN/HETDEX_full_prediction.parquet saved\n"
     ]
    }
   ],
   "source": [
    "if save_full_flag:\n",
    "    saving_data_full       = full_catalog_df.loc[:, cols_2_save]\n",
    "    saving_data_full['ID'] = saving_data_full.index\n",
    "    try:\n",
    "        saving_data_full.to_hdf(gv.preds_path + f'{used_area}_full_prediction.h5', key='df')\n",
    "        print(f'File {gv.preds_path}{used_area}_full_prediction.h5 saved')\n",
    "    except:\n",
    "        print(f'File {gv.preds_path}{used_area}_full_prediction.h5 was not saved')\n",
    "    try:\n",
    "        saving_data_full.to_parquet(gv.preds_path + f'{used_area}_full_prediction.parquet', index=True, engine='fastparquet')\n",
    "        print(f'File {gv.preds_path}{used_area}_full_prediction.parquet saved')\n",
    "    except:\n",
    "        print(f'File {gv.preds_path}{used_area}_full_prediction.parquet was not saved')"
   ]
  },
  {
   "cell_type": "code",
   "execution_count": null,
   "metadata": {},
   "outputs": [],
   "source": []
  }
 ],
 "metadata": {
  "kernelspec": {
   "display_name": "Python 3 (ipykernel)",
   "language": "python",
   "name": "python3"
  },
  "language_info": {
   "codemirror_mode": {
    "name": "ipython",
    "version": 3
   },
   "file_extension": ".py",
   "mimetype": "text/x-python",
   "name": "python",
   "nbconvert_exporter": "python",
   "pygments_lexer": "ipython3",
   "version": "3.8.16"
  },
  "vscode": {
   "interpreter": {
    "hash": "1d7c94ac87c57432169d0bc24ce250f6f2e77b44a3b95192eb5ace62cff26777"
   }
  }
 },
 "nbformat": 4,
 "nbformat_minor": 4
}
