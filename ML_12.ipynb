{
 "cells": [
  {
   "cell_type": "markdown",
   "metadata": {},
   "source": [
    "# Pipeline for High-z Radio Galaxies 12: Create lists (files) with radio AGN candidates"
   ]
  },
  {
   "cell_type": "markdown",
   "metadata": {},
   "source": [
    "## Introduction"
   ]
  },
  {
   "cell_type": "markdown",
   "metadata": {},
   "source": [
    "In this file, three models will be applied consecutively in order to predict  \n",
    "the detection of Radio Galaxies (radio AGN) and their redshift.  \n",
    "\n",
    "In principle, this pipeline should be applied to data in Stripe 82. But  \n",
    "it can be used with any other suitable dataset."
   ]
  },
  {
   "cell_type": "code",
   "execution_count": 1,
   "metadata": {},
   "outputs": [],
   "source": [
    "%matplotlib inline\n",
    "# Static plots\n",
    "#%matplotlib ipympl\n",
    "# Interactive plots\n",
    "import numpy as np\n",
    "import matplotlib as mpl\n",
    "import matplotlib.cm as cm\n",
    "from sklearn.preprocessing import MinMaxScaler\n",
    "from sklearn.metrics import ConfusionMatrixDisplay\n",
    "import sklearn.pipeline\n",
    "from pycaret import classification as pyc\n",
    "from pycaret import regression as pyr\n",
    "from joblib import dump, load\n",
    "import pandas as pd\n",
    "import global_variables as gv\n",
    "import global_functions as gf"
   ]
  },
  {
   "cell_type": "markdown",
   "metadata": {},
   "source": [
    "---"
   ]
  },
  {
   "cell_type": "markdown",
   "metadata": {},
   "source": [
    "## Reading data"
   ]
  },
  {
   "cell_type": "markdown",
   "metadata": {
    "tags": []
   },
   "source": [
    "Flags."
   ]
  },
  {
   "cell_type": "code",
   "execution_count": 2,
   "metadata": {},
   "outputs": [],
   "source": [
    "save_plot_flag      = False\n",
    "save_preds_flag     = False\n",
    "load_models_flag    = True\n",
    "predict_only_hi_z   = False\n",
    "use_zeroth_model    = False\n",
    "use_second_z_model  = False  # z >= 3.6 (with SMOGN), or, if needed, z >= 4.0"
   ]
  },
  {
   "cell_type": "code",
   "execution_count": 3,
   "metadata": {},
   "outputs": [],
   "source": [
    "used_area           = 'HETDEX'  # can be 'S82', 'HETDEX', 'COSMOS'"
   ]
  },
  {
   "cell_type": "code",
   "execution_count": 4,
   "metadata": {
    "tags": []
   },
   "outputs": [],
   "source": [
    "file_name_dict      = {'S82': gv.file_S82, 'HETDEX': gv.file_HETDEX, 'COSMOS': gv.file_COSMOS}\n",
    "file_name           = file_name_dict[used_area]"
   ]
  },
  {
   "cell_type": "code",
   "execution_count": 5,
   "metadata": {
    "tags": []
   },
   "outputs": [],
   "source": [
    "feats_2_disc_S82    = ['objID', 'RA_MILLI', 'DEC_MILLI', 'W1mag', 'W2mag', 'num_imputed']\n",
    "feats_2_disc_HETDEX = ['objID', 'RA_MILLI', 'DEC_MILLI', 'W1mag', 'W2mag', 'num_imputed']\n",
    "feats_2_disc_COSMOS = ['objID', 'RA_MILLI', 'DEC_MILLI', 'W1mag', 'W2mag', 'num_imputed']\n",
    "\n",
    "feats_2_disc        = {'S82': feats_2_disc_S82, 'HETDEX': feats_2_disc_HETDEX, 'COSMOS': feats_2_disc_COSMOS}\n",
    "features_2_discard  = feats_2_disc[used_area]"
   ]
  },
  {
   "cell_type": "code",
   "execution_count": 6,
   "metadata": {},
   "outputs": [],
   "source": [
    "full_catalog_df     = pd.read_hdf(gv.cat_path + file_name, key='df').drop(columns=features_2_discard)"
   ]
  },
  {
   "cell_type": "code",
   "execution_count": 7,
   "metadata": {},
   "outputs": [],
   "source": [
    "if used_area == 'S82':\n",
    "    full_catalog_df.loc[:, 'LOFAR_detect'] = full_catalog_df.loc[:, 'VLAS82_detect'].copy()\n",
    "    full_catalog_df = full_catalog_df.drop(columns=['VLAS82_detect'])\n",
    "if used_area == 'COSMOS':\n",
    "    full_catalog_df.loc[:, 'LOFAR_detect'] = full_catalog_df.loc[:, 'COSMOSVLA3_detect'].copy()\n",
    "    full_catalog_df = full_catalog_df.drop(columns=['COSMOSVLA3_detect'])"
   ]
  },
  {
   "cell_type": "markdown",
   "metadata": {},
   "source": [
    "Create features with class and combined redshift."
   ]
  },
  {
   "cell_type": "code",
   "execution_count": 8,
   "metadata": {},
   "outputs": [],
   "source": [
    "full_catalog_df['class']            = full_catalog_df.loc[:, 'is_AGN'].copy()\n",
    "filter_non_confirmed                = np.array(full_catalog_df.loc[:, 'is_AGN'] == 1) | np.array(full_catalog_df.loc[:, 'is_gal'] == 1)\n",
    "full_catalog_df.loc[~filter_non_confirmed, 'class'] = np.nan\n",
    "idx_non_Z                           = full_catalog_df.loc[:, 'Z'].where(full_catalog_df.loc[:, 'Z'] > 0).isna()\n",
    "full_catalog_df.loc[idx_non_Z, 'Z'] = full_catalog_df.loc[:, 'Z'].mask(idx_non_Z, full_catalog_df.loc[idx_non_Z, 'zsp'])"
   ]
  },
  {
   "cell_type": "markdown",
   "metadata": {},
   "source": [
    "Create column for detection as Radio AGN"
   ]
  },
  {
   "cell_type": "code",
   "execution_count": 9,
   "metadata": {},
   "outputs": [],
   "source": [
    "full_catalog_df['radio_AGN']      = (np.array(full_catalog_df.loc[:, 'is_AGN'] == 1) &\\\n",
    "                                     np.array(full_catalog_df.loc[:, 'LOFAR_detect'] == 1)).astype(int)"
   ]
  },
  {
   "cell_type": "markdown",
   "metadata": {},
   "source": [
    "Discard minor features."
   ]
  },
  {
   "cell_type": "code",
   "execution_count": 10,
   "metadata": {},
   "outputs": [],
   "source": [
    "# full_catalog_df                     = full_catalog_df.drop(columns=['is_AGN', 'is_SDSS_QSO', 'is_SDSS_gal', 'is_gal', 'zsp'])"
   ]
  },
  {
   "cell_type": "markdown",
   "metadata": {},
   "source": [
    "#### As we want to predict, only use sources that have not previous spectroscopic classification"
   ]
  },
  {
   "cell_type": "code",
   "execution_count": 11,
   "metadata": {},
   "outputs": [
    {
     "name": "stdout",
     "output_type": "stream",
     "text": [
      "The used data set (in HETDEX) has 15,136,878 sources.\n",
      "And 118,734 have previous spectroscopic classification.\n"
     ]
    }
   ],
   "source": [
    "print(f'The used data set (in {used_area}) has {len(full_catalog_df):,} sources.')\n",
    "print(f'And {np.sum(filter_non_confirmed):,} have previous spectroscopic classification.')"
   ]
  },
  {
   "cell_type": "code",
   "execution_count": 12,
   "metadata": {},
   "outputs": [],
   "source": [
    "# full_catalog_df                     = full_catalog_df.loc[~filter_non_confirmed]"
   ]
  },
  {
   "cell_type": "code",
   "execution_count": 13,
   "metadata": {},
   "outputs": [
    {
     "name": "stdout",
     "output_type": "stream",
     "text": [
      "This pipeline will predict properties for 15,136,878 sources in HETDEX.\n"
     ]
    }
   ],
   "source": [
    "print(f'This pipeline will predict properties for {len(full_catalog_df):,} sources in {used_area}.')"
   ]
  },
  {
   "cell_type": "markdown",
   "metadata": {},
   "source": [
    "---"
   ]
  },
  {
   "cell_type": "markdown",
   "metadata": {},
   "source": [
    "### Load models"
   ]
  },
  {
   "cell_type": "code",
   "execution_count": 14,
   "metadata": {},
   "outputs": [
    {
     "name": "stdout",
     "output_type": "stream",
     "text": [
      "Transformation Pipeline and Model Successfully Loaded\n",
      "Transformation Pipeline and Model Successfully Loaded\n",
      "Transformation Pipeline and Model Successfully Loaded\n",
      "Transformation Pipeline and Model Successfully Loaded\n",
      "Transformation Pipeline and Model Successfully Loaded\n"
     ]
    }
   ],
   "source": [
    "if load_models_flag:\n",
    "    if use_zeroth_model:\n",
    "        star_clf          = pyc.load_model(gv.models_path + gv.star_model)  # star/no-star model\n",
    "        cal_star_clf      = load(gv.models_path + gv.cal_str_model)  # calibrated model\n",
    "    AGN_SFG_clf           = pyc.load_model(gv.models_path + gv.AGN_gal_model)  #\n",
    "    cal_AGN_SFG_clf       = load(gv.models_path + gv.cal_AGN_gal_model)  # calibrated model\n",
    "    \n",
    "    radio_det_AGN_clf     = pyc.load_model(gv.models_path + gv.radio_model)  # without predicted AGN\n",
    "    radio_det_SFG_clf     = pyc.load_model(gv.models_path + gv.radio_galaxies_model)  # Radio detection for galaxies\n",
    "    cal_radio_det_AGN_clf = load(gv.models_path + gv.cal_radio_model)  # calibrated model\n",
    "    cal_radio_det_SFG_clf = load(gv.models_path + gv.cal_radio_gals_model)  # calibrated model radio detection for galaxies\n",
    "    \n",
    "    redshift_reg_rAGN     = pyr.load_model(gv.models_path + gv.full_z_model)  # to use on full sample\n",
    "    redshift_reg_rSFG     = pyr.load_model(gv.models_path + gv.z_radio_galaxies_model)  # Redshift prediction for radio-galaxies"
   ]
  },
  {
   "cell_type": "markdown",
   "metadata": {},
   "source": [
    "Run predictions"
   ]
  },
  {
   "cell_type": "code",
   "execution_count": 15,
   "metadata": {},
   "outputs": [],
   "source": [
    "full_cols = list(full_catalog_df.columns.values)"
   ]
  },
  {
   "cell_type": "code",
   "execution_count": 16,
   "metadata": {},
   "outputs": [],
   "source": [
    "model_cols = ['band_num', 'W4mag', 'g_r', 'r_i', 'r_J', 'i_z', 'i_y', 'z_y', 'z_W2', 'y_J',\n",
    "              'y_W1', 'y_W2', 'J_H', 'H_K', 'H_W3', 'W1_W2', 'W1_W3', 'W3_W4', 'g_i', 'r_z',\n",
    "              'z_W1', 'K_W3', 'K_W4', 'W2_W3', 'Kmag', 'g_W2', 'r_y', 'g_W1']"
   ]
  },
  {
   "cell_type": "code",
   "execution_count": 17,
   "metadata": {},
   "outputs": [],
   "source": [
    "non_model_cols = [col_name for col_name in full_cols if col_name not in model_cols]"
   ]
  },
  {
   "cell_type": "code",
   "execution_count": 18,
   "metadata": {},
   "outputs": [],
   "source": [
    "preds_cat_df = full_catalog_df.loc[:, model_cols]"
   ]
  },
  {
   "cell_type": "code",
   "execution_count": 19,
   "metadata": {},
   "outputs": [],
   "source": [
    "preds_cat_df = gf.predict_AGN_gal(preds_cat_df, AGN_SFG_clf,  cal_AGN_SFG_clf,\n",
    "                                      gv.AGN_thresh, gv.cal_AGN_thresh,\n",
    "                                     raw_score=True, cols_out=['pred_class', 'Score_AGN', 'Prob_AGN', 'pred_class_cal'])"
   ]
  },
  {
   "cell_type": "code",
   "execution_count": 20,
   "metadata": {},
   "outputs": [],
   "source": [
    "preds_cat_df = gf.predict_radio_det(preds_cat_df, radio_det_AGN_clf, cal_radio_det_AGN_clf,\n",
    "                                       gv.radio_thresh, gv.cal_radio_thresh, raw_score=True,\n",
    "                                       cols_out=['pred_radio_AGN', 'Score_radio_AGN', 'Prob_radio_AGN', 'pred_radio_AGN_cal'])"
   ]
  },
  {
   "cell_type": "code",
   "execution_count": 21,
   "metadata": {},
   "outputs": [],
   "source": [
    "preds_cat_df = gf.predict_radio_det(preds_cat_df, radio_det_SFG_clf, cal_radio_det_SFG_clf,\n",
    "                                        gv.radio_gals_thresh, gv.cal_radio_gals_thresh, raw_score=True,\n",
    "                                       cols_out=['pred_radio_SFG', 'Score_radio_SFG', 'Prob_radio_SFG', 'pred_radio_SFG_cal'])"
   ]
  },
  {
   "cell_type": "code",
   "execution_count": 22,
   "metadata": {},
   "outputs": [],
   "source": [
    "preds_cat_df = gf.predict_z(preds_cat_df, redshift_reg_rAGN, cols_out=['pred_Z_rAGN'])"
   ]
  },
  {
   "cell_type": "code",
   "execution_count": 23,
   "metadata": {},
   "outputs": [],
   "source": [
    "preds_cat_df = gf.predict_z(preds_cat_df, redshift_reg_rSFG, cols_out=['pred_Z_rSFG'])"
   ]
  },
  {
   "cell_type": "code",
   "execution_count": 24,
   "metadata": {},
   "outputs": [],
   "source": [
    "pred_cols = ['Prob_AGN', 'pred_class_cal', 'Prob_radio_AGN', 'pred_radio_AGN_cal',\n",
    "             'Prob_radio_SFG', 'pred_radio_SFG_cal', 'pred_Z_rAGN', 'pred_Z_rSFG']"
   ]
  },
  {
   "cell_type": "code",
   "execution_count": 25,
   "metadata": {},
   "outputs": [],
   "source": [
    "full_catalog_df[pred_cols] = preds_cat_df.loc[:, pred_cols]"
   ]
  },
  {
   "cell_type": "code",
   "execution_count": null,
   "metadata": {},
   "outputs": [],
   "source": []
  },
  {
   "cell_type": "code",
   "execution_count": 27,
   "metadata": {},
   "outputs": [
    {
     "data": {
      "text/plain": [
       "array(['RA_ICRS', 'DE_ICRS', 'Name', 'TYPE', 'Z', 'zsp', 'spCl',\n",
       "       'band_num', 'radio_detect', 'LOFAR_detect', 'Sint_LOFAR',\n",
       "       'Sint_LOFAR_AB', 'Speak_LOFAR', 'rms_LOFAR', 'Sint_LOFAR_non_imp',\n",
       "       'Sint_LOFAR_AB_non_imp', 'Speak_LOFAR_non_imp', 'is_str',\n",
       "       'is_SDSS_QSO', 'is_AGN', 'is_SDSS_gal', 'is_gal', 'W1mproPM',\n",
       "       'W2mproPM', 'gmag', 'rmag', 'imag', 'zmag', 'ymag', 'W3mag',\n",
       "       'W4mag', 'Jmag', 'Hmag', 'Kmag', 'g_r', 'g_i', 'g_z', 'g_y', 'g_J',\n",
       "       'g_H', 'g_K', 'g_W1', 'g_W2', 'g_W3', 'g_W4', 'r_i', 'r_z', 'r_y',\n",
       "       'r_J', 'r_H', 'r_K', 'r_W1', 'r_W2', 'r_W3', 'r_W4', 'i_z', 'i_y',\n",
       "       'i_J', 'i_H', 'i_K', 'i_W1', 'i_W2', 'i_W3', 'i_W4', 'z_y', 'z_J',\n",
       "       'z_H', 'z_K', 'z_W1', 'z_W2', 'z_W3', 'z_W4', 'y_J', 'y_H', 'y_K',\n",
       "       'y_W1', 'y_W2', 'y_W3', 'y_W4', 'J_H', 'J_K', 'J_W1', 'J_W2',\n",
       "       'J_W3', 'J_W4', 'H_K', 'H_W1', 'H_W2', 'H_W3', 'H_W4', 'K_W1',\n",
       "       'K_W2', 'K_W3', 'K_W4', 'W1_W2', 'W1_W3', 'W1_W4', 'W2_W3',\n",
       "       'W2_W4', 'W3_W4', 'class', 'radio_AGN', 'Prob_AGN',\n",
       "       'pred_class_cal', 'Prob_radio_AGN', 'pred_radio_AGN_cal',\n",
       "       'Prob_radio_SFG', 'pred_radio_SFG_cal', 'pred_Z_rAGN',\n",
       "       'pred_Z_rSFG'], dtype=object)"
      ]
     },
     "execution_count": 27,
     "metadata": {},
     "output_type": "execute_result"
    }
   ],
   "source": [
    "np.array(full_catalog_df.columns)"
   ]
  },
  {
   "cell_type": "code",
   "execution_count": 29,
   "metadata": {},
   "outputs": [
    {
     "data": {
      "text/html": [
       "<div>\n",
       "<style scoped>\n",
       "    .dataframe tbody tr th:only-of-type {\n",
       "        vertical-align: middle;\n",
       "    }\n",
       "\n",
       "    .dataframe tbody tr th {\n",
       "        vertical-align: top;\n",
       "    }\n",
       "\n",
       "    .dataframe thead th {\n",
       "        text-align: right;\n",
       "    }\n",
       "</style>\n",
       "<table border=\"1\" class=\"dataframe\">\n",
       "  <thead>\n",
       "    <tr style=\"text-align: right;\">\n",
       "      <th></th>\n",
       "      <th>Prob_AGN</th>\n",
       "      <th>pred_class_cal</th>\n",
       "    </tr>\n",
       "  </thead>\n",
       "  <tbody>\n",
       "    <tr>\n",
       "      <th>count</th>\n",
       "      <td>1.513688e+07</td>\n",
       "      <td>1.513688e+07</td>\n",
       "    </tr>\n",
       "    <tr>\n",
       "      <th>mean</th>\n",
       "      <td>4.486523e-01</td>\n",
       "      <td>6.624084e-01</td>\n",
       "    </tr>\n",
       "    <tr>\n",
       "      <th>std</th>\n",
       "      <td>2.746302e-01</td>\n",
       "      <td>4.728885e-01</td>\n",
       "    </tr>\n",
       "    <tr>\n",
       "      <th>min</th>\n",
       "      <td>1.133026e-02</td>\n",
       "      <td>0.000000e+00</td>\n",
       "    </tr>\n",
       "    <tr>\n",
       "      <th>25%</th>\n",
       "      <td>1.181614e-01</td>\n",
       "      <td>0.000000e+00</td>\n",
       "    </tr>\n",
       "    <tr>\n",
       "      <th>50%</th>\n",
       "      <td>6.181595e-01</td>\n",
       "      <td>1.000000e+00</td>\n",
       "    </tr>\n",
       "    <tr>\n",
       "      <th>75%</th>\n",
       "      <td>6.181595e-01</td>\n",
       "      <td>1.000000e+00</td>\n",
       "    </tr>\n",
       "    <tr>\n",
       "      <th>max</th>\n",
       "      <td>9.893720e-01</td>\n",
       "      <td>1.000000e+00</td>\n",
       "    </tr>\n",
       "  </tbody>\n",
       "</table>\n",
       "</div>"
      ],
      "text/plain": [
       "           Prob_AGN  pred_class_cal\n",
       "count  1.513688e+07    1.513688e+07\n",
       "mean   4.486523e-01    6.624084e-01\n",
       "std    2.746302e-01    4.728885e-01\n",
       "min    1.133026e-02    0.000000e+00\n",
       "25%    1.181614e-01    0.000000e+00\n",
       "50%    6.181595e-01    1.000000e+00\n",
       "75%    6.181595e-01    1.000000e+00\n",
       "max    9.893720e-01    1.000000e+00"
      ]
     },
     "execution_count": 29,
     "metadata": {},
     "output_type": "execute_result"
    }
   ],
   "source": [
    "full_catalog_df.loc[:, ['Prob_AGN', 'pred_class_cal']].describe()"
   ]
  },
  {
   "cell_type": "code",
   "execution_count": null,
   "metadata": {
    "jupyter": {
     "source_hidden": true
    }
   },
   "outputs": [],
   "source": [
    "full_catalog_df['pred_radio_AGN']     = (np.array(full_catalog_df.loc[:, 'pred_class'] == 1) & np.array(full_catalog_df.loc[:, 'pred_radio_AGN'] == 1)).astype(int)\n",
    "full_catalog_df['Score_rAGN']         = full_catalog_df.loc[:, 'Score_AGN'] * full_catalog_df.loc[:, 'Score_radio_AGN']\n",
    "full_catalog_df['pred_prob_rAGN']     = (np.array(full_catalog_df.loc[:, 'pred_class_cal'] == 1) & np.array(full_catalog_df.loc[:, 'pred_radio_cal_AGN'] == 1)).astype(int)\n",
    "full_catalog_df['Prob_rAGN']          = full_catalog_df.loc[:, 'Prob_AGN'] * full_catalog_df.loc[:, 'Prob_radio_AGN']\n",
    "\n",
    "full_catalog_df['pred_radio_gal']     = (np.array(full_catalog_df.loc[:, 'pred_class'] == 0) & np.array(full_catalog_df.loc[:, 'pred_radio_gal'] == 1)).astype(int)\n",
    "full_catalog_df['Score_rGal']         = (1 - full_catalog_df.loc[:, 'Score_AGN']) * full_catalog_df.loc[:, 'Score_radio_gal']\n",
    "full_catalog_df['pred_prob_rGal']     = (np.array(full_catalog_df.loc[:, 'pred_class_cal'] == 0) & np.array(full_catalog_df.loc[:, 'pred_radio_cal_gal'] == 1)).astype(int)\n",
    "full_catalog_df['Prob_rGal']          = (1 - full_catalog_df.loc[:, 'Prob_AGN']) * full_catalog_df.loc[:, 'Prob_radio_gal']"
   ]
  },
  {
   "cell_type": "code",
   "execution_count": null,
   "metadata": {},
   "outputs": [],
   "source": [
    "# rad_score_scaler                      = MinMaxScaler()\n",
    "# full_catalog_df['scaled_score_radio'] = rad_score_scaler.fit_transform(full_catalog_df.loc[:, 'Score_radio'].values.reshape(-1, 1))\n",
    "# full_catalog_df['scaled_score_rAGN']  = full_catalog_df.loc[:, 'Score_AGN'] * full_catalog_df.loc[:, 'scaled_score_radio']"
   ]
  },
  {
   "cell_type": "code",
   "execution_count": 31,
   "metadata": {},
   "outputs": [
    {
     "data": {
      "text/html": [
       "<div>\n",
       "<style scoped>\n",
       "    .dataframe tbody tr th:only-of-type {\n",
       "        vertical-align: middle;\n",
       "    }\n",
       "\n",
       "    .dataframe tbody tr th {\n",
       "        vertical-align: top;\n",
       "    }\n",
       "\n",
       "    .dataframe thead th {\n",
       "        text-align: right;\n",
       "    }\n",
       "</style>\n",
       "<table border=\"1\" class=\"dataframe\">\n",
       "  <thead>\n",
       "    <tr style=\"text-align: right;\">\n",
       "      <th></th>\n",
       "      <th>class</th>\n",
       "      <th>pred_class_cal</th>\n",
       "      <th>LOFAR_detect</th>\n",
       "      <th>pred_radio_AGN_cal</th>\n",
       "      <th>pred_radio_SFG_cal</th>\n",
       "      <th>Z</th>\n",
       "      <th>pred_Z_rAGN</th>\n",
       "      <th>pred_Z_rSFG</th>\n",
       "    </tr>\n",
       "  </thead>\n",
       "  <tbody>\n",
       "    <tr>\n",
       "      <th>count</th>\n",
       "      <td>118734.000000</td>\n",
       "      <td>1.513688e+07</td>\n",
       "      <td>1.513688e+07</td>\n",
       "      <td>1.513688e+07</td>\n",
       "      <td>1.513688e+07</td>\n",
       "      <td>134234.000000</td>\n",
       "      <td>1.513688e+07</td>\n",
       "      <td>1.513688e+07</td>\n",
       "    </tr>\n",
       "    <tr>\n",
       "      <th>mean</th>\n",
       "      <td>0.425641</td>\n",
       "      <td>6.624084e-01</td>\n",
       "      <td>2.526479e-02</td>\n",
       "      <td>1.046465e-01</td>\n",
       "      <td>1.816009e-02</td>\n",
       "      <td>0.876576</td>\n",
       "      <td>2.077934e+00</td>\n",
       "      <td>3.836021e-01</td>\n",
       "    </tr>\n",
       "    <tr>\n",
       "      <th>std</th>\n",
       "      <td>0.494442</td>\n",
       "      <td>4.728885e-01</td>\n",
       "      <td>1.569283e-01</td>\n",
       "      <td>3.060974e-01</td>\n",
       "      <td>1.335301e-01</td>\n",
       "      <td>0.779380</td>\n",
       "      <td>6.822612e-01</td>\n",
       "      <td>2.687310e-01</td>\n",
       "    </tr>\n",
       "    <tr>\n",
       "      <th>min</th>\n",
       "      <td>0.000000</td>\n",
       "      <td>0.000000e+00</td>\n",
       "      <td>0.000000e+00</td>\n",
       "      <td>0.000000e+00</td>\n",
       "      <td>0.000000e+00</td>\n",
       "      <td>-0.004490</td>\n",
       "      <td>1.740000e-02</td>\n",
       "      <td>7.900000e-03</td>\n",
       "    </tr>\n",
       "    <tr>\n",
       "      <th>25%</th>\n",
       "      <td>0.000000</td>\n",
       "      <td>0.000000e+00</td>\n",
       "      <td>0.000000e+00</td>\n",
       "      <td>0.000000e+00</td>\n",
       "      <td>0.000000e+00</td>\n",
       "      <td>0.381018</td>\n",
       "      <td>1.922000e+00</td>\n",
       "      <td>1.916000e-01</td>\n",
       "    </tr>\n",
       "    <tr>\n",
       "      <th>50%</th>\n",
       "      <td>0.000000</td>\n",
       "      <td>1.000000e+00</td>\n",
       "      <td>0.000000e+00</td>\n",
       "      <td>0.000000e+00</td>\n",
       "      <td>0.000000e+00</td>\n",
       "      <td>0.623500</td>\n",
       "      <td>2.186400e+00</td>\n",
       "      <td>1.916000e-01</td>\n",
       "    </tr>\n",
       "    <tr>\n",
       "      <th>75%</th>\n",
       "      <td>1.000000</td>\n",
       "      <td>1.000000e+00</td>\n",
       "      <td>0.000000e+00</td>\n",
       "      <td>0.000000e+00</td>\n",
       "      <td>0.000000e+00</td>\n",
       "      <td>1.282000</td>\n",
       "      <td>2.186400e+00</td>\n",
       "      <td>6.263000e-01</td>\n",
       "    </tr>\n",
       "    <tr>\n",
       "      <th>max</th>\n",
       "      <td>1.000000</td>\n",
       "      <td>1.000000e+00</td>\n",
       "      <td>1.000000e+00</td>\n",
       "      <td>1.000000e+00</td>\n",
       "      <td>1.000000e+00</td>\n",
       "      <td>7.028330</td>\n",
       "      <td>4.698800e+00</td>\n",
       "      <td>1.502200e+00</td>\n",
       "    </tr>\n",
       "  </tbody>\n",
       "</table>\n",
       "</div>"
      ],
      "text/plain": [
       "               class  pred_class_cal  LOFAR_detect  pred_radio_AGN_cal  \\\n",
       "count  118734.000000    1.513688e+07  1.513688e+07        1.513688e+07   \n",
       "mean        0.425641    6.624084e-01  2.526479e-02        1.046465e-01   \n",
       "std         0.494442    4.728885e-01  1.569283e-01        3.060974e-01   \n",
       "min         0.000000    0.000000e+00  0.000000e+00        0.000000e+00   \n",
       "25%         0.000000    0.000000e+00  0.000000e+00        0.000000e+00   \n",
       "50%         0.000000    1.000000e+00  0.000000e+00        0.000000e+00   \n",
       "75%         1.000000    1.000000e+00  0.000000e+00        0.000000e+00   \n",
       "max         1.000000    1.000000e+00  1.000000e+00        1.000000e+00   \n",
       "\n",
       "       pred_radio_SFG_cal              Z   pred_Z_rAGN   pred_Z_rSFG  \n",
       "count        1.513688e+07  134234.000000  1.513688e+07  1.513688e+07  \n",
       "mean         1.816009e-02       0.876576  2.077934e+00  3.836021e-01  \n",
       "std          1.335301e-01       0.779380  6.822612e-01  2.687310e-01  \n",
       "min          0.000000e+00      -0.004490  1.740000e-02  7.900000e-03  \n",
       "25%          0.000000e+00       0.381018  1.922000e+00  1.916000e-01  \n",
       "50%          0.000000e+00       0.623500  2.186400e+00  1.916000e-01  \n",
       "75%          0.000000e+00       1.282000  2.186400e+00  6.263000e-01  \n",
       "max          1.000000e+00       7.028330  4.698800e+00  1.502200e+00  "
      ]
     },
     "execution_count": 31,
     "metadata": {},
     "output_type": "execute_result"
    }
   ],
   "source": [
    "full_catalog_df.loc[:, ['class', 'pred_class_cal', 'LOFAR_detect', 'pred_radio_AGN_cal', 'pred_radio_SFG_cal', 'Z', 'pred_Z_rAGN', 'pred_Z_rSFG']].describe()"
   ]
  },
  {
   "cell_type": "markdown",
   "metadata": {},
   "source": [
    "---"
   ]
  },
  {
   "cell_type": "code",
   "execution_count": null,
   "metadata": {},
   "outputs": [],
   "source": [
    "temp_flag = False"
   ]
  },
  {
   "cell_type": "code",
   "execution_count": null,
   "metadata": {},
   "outputs": [],
   "source": [
    "if temp_flag:\n",
    "    cols_AGN   = ['g_r', 'r_i', 'r_J', 'i_z', 'i_y', \n",
    "                  'z_y', 'z_W2', 'y_J', 'y_W1', 'y_W2', 'J_H', 'H_K', \n",
    "                  'H_W3', 'W1_W2', 'W1_W3', 'W3_W4']  # Only colours (no 'band_num', 'W4mag')\n",
    "    cols_radio = ['g_r', 'g_i', 'r_i', 'r_z', 'i_z', \n",
    "                  'z_y', 'z_W1', 'y_J', 'y_W1', 'J_H', 'H_K', 'K_W3', \n",
    "                  'K_W4', 'W1_W2', 'W2_W3']  # Only colours (no 'band_num', 'W4mag')\n",
    "    cols_z     = ['g_r', 'g_W3', 'r_i', 'r_z', 'i_z', \n",
    "                  'i_y', 'z_y', 'y_J', 'y_W1', 'J_H', 'H_K', 'K_W3', \n",
    "                  'K_W4', 'W1_W2', 'W2_W3']  # Only colours (no 'band_num', 'W4mag')\n",
    "    \n",
    "    cols_cols = list(np.unique(cols_AGN + cols_radio + cols_z))"
   ]
  },
  {
   "cell_type": "code",
   "execution_count": null,
   "metadata": {},
   "outputs": [],
   "source": []
  },
  {
   "cell_type": "code",
   "execution_count": 32,
   "metadata": {},
   "outputs": [],
   "source": [
    "save_full_flag = True"
   ]
  },
  {
   "cell_type": "code",
   "execution_count": 33,
   "metadata": {},
   "outputs": [
    {
     "data": {
      "text/plain": [
       "array(['RA_ICRS', 'DE_ICRS', 'Name', 'TYPE', 'Z', 'zsp', 'spCl',\n",
       "       'band_num', 'radio_detect', 'LOFAR_detect', 'Sint_LOFAR',\n",
       "       'Sint_LOFAR_AB', 'Speak_LOFAR', 'rms_LOFAR', 'Sint_LOFAR_non_imp',\n",
       "       'Sint_LOFAR_AB_non_imp', 'Speak_LOFAR_non_imp', 'is_str',\n",
       "       'is_SDSS_QSO', 'is_AGN', 'is_SDSS_gal', 'is_gal', 'W1mproPM',\n",
       "       'W2mproPM', 'gmag', 'rmag', 'imag', 'zmag', 'ymag', 'W3mag',\n",
       "       'W4mag', 'Jmag', 'Hmag', 'Kmag', 'g_r', 'g_i', 'g_z', 'g_y', 'g_J',\n",
       "       'g_H', 'g_K', 'g_W1', 'g_W2', 'g_W3', 'g_W4', 'r_i', 'r_z', 'r_y',\n",
       "       'r_J', 'r_H', 'r_K', 'r_W1', 'r_W2', 'r_W3', 'r_W4', 'i_z', 'i_y',\n",
       "       'i_J', 'i_H', 'i_K', 'i_W1', 'i_W2', 'i_W3', 'i_W4', 'z_y', 'z_J',\n",
       "       'z_H', 'z_K', 'z_W1', 'z_W2', 'z_W3', 'z_W4', 'y_J', 'y_H', 'y_K',\n",
       "       'y_W1', 'y_W2', 'y_W3', 'y_W4', 'J_H', 'J_K', 'J_W1', 'J_W2',\n",
       "       'J_W3', 'J_W4', 'H_K', 'H_W1', 'H_W2', 'H_W3', 'H_W4', 'K_W1',\n",
       "       'K_W2', 'K_W3', 'K_W4', 'W1_W2', 'W1_W3', 'W1_W4', 'W2_W3',\n",
       "       'W2_W4', 'W3_W4', 'class', 'radio_AGN', 'Prob_AGN',\n",
       "       'pred_class_cal', 'Prob_radio_AGN', 'pred_radio_AGN_cal',\n",
       "       'Prob_radio_SFG', 'pred_radio_SFG_cal', 'pred_Z_rAGN',\n",
       "       'pred_Z_rSFG'], dtype=object)"
      ]
     },
     "execution_count": 33,
     "metadata": {},
     "output_type": "execute_result"
    }
   ],
   "source": [
    "np.array(full_catalog_df.columns)"
   ]
  },
  {
   "cell_type": "code",
   "execution_count": 34,
   "metadata": {},
   "outputs": [],
   "source": [
    "if save_full_flag:\n",
    "    if used_area == 'S82':\n",
    "        cols_2_save = ['RA_ICRS', 'DE_ICRS', 'Name', 'TYPE', 'Z', 'band_num', 'Fint_VLAS82', \n",
    "                       'Fint_VLAS82_AB', 'Fint_VLAS82_non_imp', 'rms_VLAS82', 'is_str', 'W1mproPM', \n",
    "                       'W2mproPM', 'gmag', 'rmag', 'imag', 'zmag', 'ymag', 'W3mag', 'W4mag', 'Jmag', \n",
    "                       'Hmag', 'Kmag', 'g_r', 'g_i', 'g_z', 'g_y', 'g_J', 'g_H', 'g_K', 'g_W1', \n",
    "                       'g_W2', 'g_W3', 'g_W4', 'r_i', 'r_z', 'r_y', 'r_J', 'r_H', 'r_K', 'r_W1', \n",
    "                       'r_W2', 'r_W3', 'r_W4', 'i_z', 'i_y', 'i_J', 'i_H', 'i_K', 'i_W1', 'i_W2', \n",
    "                       'i_W3', 'i_W4', 'z_y', 'z_J', 'z_H', 'z_K', 'z_W1', 'z_W2', 'z_W3', 'z_W4', \n",
    "                       'y_J', 'y_H', 'y_K', 'y_W1', 'y_W2', 'y_W3', 'y_W4', 'J_H', 'J_K', 'J_W1', \n",
    "                       'J_W2', 'J_W3', 'J_W4', 'H_K', 'H_W1', 'H_W2', 'H_W3', 'H_W4', 'K_W1', \n",
    "                       'K_W2', 'K_W3', 'K_W4', 'W1_W2', 'W1_W3', 'W1_W4', 'W2_W3', 'W2_W4', \n",
    "                       'W3_W4', 'radio_detect', 'LOFAR_detect', 'class', 'radio_AGN', 'Prob_AGN', \n",
    "                       'Prob_radio_AGN', 'Prob_radio_gal', 'pred_Z_rAGN', 'pred_Z_rGal', \n",
    "                       'pred_class_cal', 'pred_radio_cal_AGN', 'pred_radio_cal_gal', \n",
    "                       'pred_prob_rAGN', 'Prob_rAGN', 'pred_prob_rGal', 'Prob_rGal']\n",
    "    if used_area == 'HETDEX':\n",
    "        cols_2_save = ['RA_ICRS', 'DE_ICRS', 'Name', 'TYPE', 'Z', 'band_num', 'Sint_LOFAR',\n",
    "                       'Sint_LOFAR_non_imp', 'rms_LOFAR', 'Speak_LOFAR',\n",
    "                       'Speak_LOFAR_non_imp', 'W1mproPM', 'W2mproPM', 'gmag', 'rmag', 'imag',\n",
    "                       'zmag', 'ymag', 'W3mag', 'W4mag', 'Jmag', 'Hmag', 'Kmag', 'g_r', 'g_i',\n",
    "                       'g_z', 'g_y', 'g_J', 'g_H', 'g_K', 'g_W1', 'g_W2', 'g_W3', 'g_W4',\n",
    "                       'r_i', 'r_z', 'r_y', 'r_J', 'r_H', 'r_K', 'r_W1', 'r_W2', 'r_W3', 'r_W4',\n",
    "                       'i_z','i_y', 'i_J', 'i_H', 'i_K', 'i_W1', 'i_W2', 'i_W3', 'i_W4', 'z_y',\n",
    "                       'z_J', 'z_H', 'z_K', 'z_W1', 'z_W2', 'z_W3', 'z_W4', 'y_J', 'y_H', 'y_K',\n",
    "                       'y_W1', 'y_W2', 'y_W3', 'y_W4', 'J_H', 'J_K', 'J_W1', 'J_W2', 'J_W3',\n",
    "                       'J_W4', 'H_K', 'H_W1', 'H_W2', 'H_W3', 'H_W4', 'K_W1', 'K_W2', 'K_W3',\n",
    "                       'K_W4', 'W1_W2', 'W1_W3', 'W1_W4', 'W2_W3', 'W2_W4', 'W3_W4',\n",
    "                       'radio_detect', 'LOFAR_detect', 'class', 'Prob_AGN', 'pred_class_cal',\n",
    "                       'Prob_radio_AGN', 'pred_radio_AGN_cal', 'Prob_radio_SFG',\n",
    "                       'pred_radio_SFG_cal', 'pred_Z_rAGN', 'pred_Z_rSFG']"
   ]
  },
  {
   "cell_type": "code",
   "execution_count": null,
   "metadata": {},
   "outputs": [],
   "source": [
    "# if save_full_flag:\n",
    "#     saving_data_full       = full_catalog_df.loc[:, cols_2_save]\n",
    "#     saving_data_full['ID'] = saving_data_full.index\n",
    "#     saving_data_full.to_hdf(gv.preds_path + f'{used_area}_full_prediction.h5', key='df')\n",
    "#     print(f'File {gv.preds_path}{used_area}_full_prediction.h5 saved')"
   ]
  },
  {
   "cell_type": "code",
   "execution_count": 35,
   "metadata": {},
   "outputs": [
    {
     "name": "stdout",
     "output_type": "stream",
     "text": [
      "File pred_rAGN/HETDEX_full_prediction.h5 saved\n",
      "File pred_rAGN/HETDEX_full_prediction.parquet saved\n"
     ]
    }
   ],
   "source": [
    "if save_full_flag:\n",
    "    saving_data_full       = full_catalog_df.loc[:, cols_2_save]\n",
    "    saving_data_full['ID'] = saving_data_full.index\n",
    "    try:\n",
    "        saving_data_full.to_hdf(gv.preds_path + f'{used_area}_full_prediction.h5', key='df')\n",
    "        print(f'File {gv.preds_path}{used_area}_full_prediction.h5 saved')\n",
    "    except:\n",
    "        print(f'File {gv.preds_path}{used_area}_full_prediction.h5 was not saved')\n",
    "    try:\n",
    "        saving_data_full.to_parquet(gv.preds_path + f'{used_area}_full_prediction.parquet', index=True, engine='fastparquet')\n",
    "        print(f'File {gv.preds_path}{used_area}_full_prediction.parquet saved')\n",
    "    except:\n",
    "        print(f'File {gv.preds_path}{used_area}_full_prediction.parquet was not saved')"
   ]
  },
  {
   "cell_type": "code",
   "execution_count": null,
   "metadata": {},
   "outputs": [],
   "source": []
  },
  {
   "cell_type": "code",
   "execution_count": 42,
   "metadata": {},
   "outputs": [
    {
     "name": "stdout",
     "output_type": "stream",
     "text": [
      "Shape of used data in HETDEX\n",
      "-----------------------------------------------------------------\n",
      "Full confirmed dataset size                           : (15136878, 103)\n",
      "Data for Modeling (Train, Validation, and Calibration): (94987, 103)\n",
      "Training data                                         : (75989, 103)\n",
      "Validation data                                       : (9499, 103)\n",
      "Calibration data                                      : (9499, 103)\n",
      "Testing data                                          : (23747, 103)\n",
      "-----------------------------------------------------------------\n",
      "\n",
      "Using data from HETDEX\n",
      "Printing all subsets within HETDEX\n",
      "Saving Training subset...\n",
      "File pred_rAGN/HETDEX_Training_prediction.h5 saved\n",
      "File pred_rAGN/HETDEX_Training_prediction.parquet saved\n",
      "Saving Test subset...\n",
      "File pred_rAGN/HETDEX_Test_prediction.h5 saved\n",
      "File pred_rAGN/HETDEX_Test_prediction.parquet saved\n",
      "Saving Test_Val subset...\n",
      "File pred_rAGN/HETDEX_Test_Val_prediction.h5 saved\n",
      "File pred_rAGN/HETDEX_Test_Val_prediction.parquet saved\n",
      "Saving Validation subset...\n",
      "File pred_rAGN/HETDEX_Validation_prediction.h5 saved\n",
      "File pred_rAGN/HETDEX_Validation_prediction.parquet saved\n",
      "Saving Calibration subset...\n",
      "File pred_rAGN/HETDEX_Calibration_prediction.h5 saved\n",
      "File pred_rAGN/HETDEX_Calibration_prediction.parquet saved\n",
      "Saving Known subset...\n",
      "File pred_rAGN/HETDEX_Known_prediction.h5 saved\n",
      "File pred_rAGN/HETDEX_Known_prediction.parquet saved\n",
      "Saving Unknown subset...\n",
      "File pred_rAGN/HETDEX_Unknown_prediction.h5 saved\n",
      "File pred_rAGN/HETDEX_Unknown_prediction.parquet saved\n"
     ]
    }
   ],
   "source": [
    "if used_area == 'HETDEX':\n",
    "    saving_data_full['is_AGN'] = full_catalog_df.loc[:, 'is_AGN']\n",
    "    saving_data_full['is_gal'] = full_catalog_df.loc[:, 'is_gal']\n",
    "    filter_known_spec = (saving_data_full.loc[:, 'is_AGN'] == 1) | (saving_data_full.loc[:, 'is_gal'] == 1)\n",
    "    unknown_cat_df    = saving_data_full.loc[~filter_known_spec]\n",
    "    known_catalog_df  = saving_data_full.loc[filter_known_spec]\n",
    "    train_val_df, train_df, validation_df, calibration_df, test_df = gf.split_set(known_catalog_df,\n",
    "                                                                                  [0.2, 0.2, 0.5],\n",
    "                                                                                  'is_AGN', use_calibration=True)\n",
    "    for sample in [saving_data_full, unknown_cat_df, known_catalog_df, train_val_df, train_df, validation_df, calibration_df, test_df]:\n",
    "        sample = sample.drop(columns=['is_AGN', 'is_gal'])\n",
    "    \n",
    "    print('Shape of used data in HETDEX')\n",
    "    print('-' * 65)\n",
    "    print(f'Full confirmed dataset size                           : {saving_data_full.shape}')\n",
    "    print(f'Data for Modeling (Train, Validation, and Calibration): {train_val_df.shape}')\n",
    "    print(f'Training data                                         : {train_df.shape}')\n",
    "    print(f'Validation data                                       : {validation_df.shape}')\n",
    "    print(f'Calibration data                                      : {calibration_df.shape}')\n",
    "    print(f'Testing data                                          : {test_df.shape}')\n",
    "    print('-' * 65)\n",
    "    print()\n",
    "    print(f'Using data from HETDEX')\n",
    "    selected_dataset = {'Training': train_df, 'Test': test_df, 'Test_Val': train_val_df,\n",
    "                        'Validation': validation_df, 'Calibration': calibration_df,\n",
    "                        'Known': known_catalog_df, 'Unknown': unknown_cat_df}  # fix naming\n",
    "    print('Printing all subsets within HETDEX')\n",
    "    for key in selected_dataset:\n",
    "        print(f'Saving {key} subset...')\n",
    "        try:\n",
    "            selected_dataset[key].to_hdf(gv.preds_path + f'{used_area}_{key}_prediction.h5', key='df')\n",
    "            print(f'File {gv.preds_path}{used_area}_{key}_prediction.h5 saved')\n",
    "        except:\n",
    "            print(f'File {gv.preds_path}{used_area}_{key}_prediction.h5 was not saved')\n",
    "        try:\n",
    "            selected_dataset[key].to_parquet(gv.preds_path + f'{used_area}_{key}_prediction.parquet', index=True, engine='fastparquet')\n",
    "            print(f'File {gv.preds_path}{used_area}_{key}_prediction.parquet saved')\n",
    "        except:\n",
    "            print(f'File {gv.preds_path}{used_area}_{key}_prediction.parquet was not saved')"
   ]
  },
  {
   "cell_type": "code",
   "execution_count": null,
   "metadata": {},
   "outputs": [],
   "source": []
  },
  {
   "cell_type": "code",
   "execution_count": null,
   "metadata": {},
   "outputs": [],
   "source": []
  },
  {
   "cell_type": "code",
   "execution_count": null,
   "metadata": {},
   "outputs": [],
   "source": []
  }
 ],
 "metadata": {
  "kernelspec": {
   "display_name": "Python 3 (ipykernel)",
   "language": "python",
   "name": "python3"
  },
  "language_info": {
   "codemirror_mode": {
    "name": "ipython",
    "version": 3
   },
   "file_extension": ".py",
   "mimetype": "text/x-python",
   "name": "python",
   "nbconvert_exporter": "python",
   "pygments_lexer": "ipython3",
   "version": "3.8.16"
  },
  "vscode": {
   "interpreter": {
    "hash": "1d7c94ac87c57432169d0bc24ce250f6f2e77b44a3b95192eb5ace62cff26777"
   }
  }
 },
 "nbformat": 4,
 "nbformat_minor": 4
}
