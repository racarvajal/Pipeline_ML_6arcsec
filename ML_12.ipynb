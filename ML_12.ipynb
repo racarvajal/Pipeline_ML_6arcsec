{
 "cells": [
  {
   "cell_type": "markdown",
   "metadata": {},
   "source": [
    "# Pipeline for High-z Radio Galaxies 12: Create lists (files) with radio AGN candidates"
   ]
  },
  {
   "cell_type": "markdown",
   "metadata": {},
   "source": [
    "## Introduction"
   ]
  },
  {
   "cell_type": "markdown",
   "metadata": {},
   "source": [
    "In this file, three models will be applied consecutively in order to predict  \n",
    "the detection of Radio Galaxies (radio AGN) and their redshift.  \n",
    "\n",
    "In principle, this pipeline should be applied to data in Stripe 82. But  \n",
    "it can be used with any other suitable dataset."
   ]
  },
  {
   "cell_type": "code",
   "execution_count": 1,
   "metadata": {},
   "outputs": [],
   "source": [
    "%matplotlib inline\n",
    "# Static plots\n",
    "#%matplotlib ipympl\n",
    "# Interactive plots\n",
    "import numpy as np\n",
    "import matplotlib as mpl\n",
    "import matplotlib.cm as cm\n",
    "from matplotlib import ticker\n",
    "import matplotlib.pyplot as plt\n",
    "import matplotlib.colors as mcolors\n",
    "import matplotlib.patheffects as mpe\n",
    "import matplotlib.patches as mpatches\n",
    "from matplotlib.ticker import ScalarFormatter\n",
    "from mpl_toolkits.axes_grid1.inset_locator import inset_axes\n",
    "from astropy.visualization import LogStretch, PowerStretch\n",
    "from astropy.visualization.mpl_normalize import ImageNormalize\n",
    "from sklearn.preprocessing import MinMaxScaler\n",
    "from sklearn.metrics import ConfusionMatrixDisplay\n",
    "import sklearn.pipeline\n",
    "import colorcet as cc\n",
    "from pycaret import classification as pyc\n",
    "from pycaret import regression as pyr\n",
    "from joblib import dump, load\n",
    "import pandas as pd\n",
    "import mpl_scatter_density\n",
    "import global_variables as gv\n",
    "import global_functions as gf"
   ]
  },
  {
   "cell_type": "code",
   "execution_count": 2,
   "metadata": {},
   "outputs": [],
   "source": [
    "mpl.rcdefaults()"
   ]
  },
  {
   "cell_type": "markdown",
   "metadata": {},
   "source": [
    "---"
   ]
  },
  {
   "cell_type": "markdown",
   "metadata": {},
   "source": [
    "## Reading data"
   ]
  },
  {
   "cell_type": "markdown",
   "metadata": {
    "tags": []
   },
   "source": [
    "Flags."
   ]
  },
  {
   "cell_type": "code",
   "execution_count": 3,
   "metadata": {},
   "outputs": [],
   "source": [
    "save_plot_flag      = False\n",
    "save_preds_flag     = False\n",
    "load_models_flag    = True\n",
    "predict_only_hi_z   = False\n",
    "use_zeroth_model    = False\n",
    "use_second_z_model  = False  # z >= 3.6 (with SMOGN), or, if needed, z >= 4.0"
   ]
  },
  {
   "cell_type": "code",
   "execution_count": 4,
   "metadata": {},
   "outputs": [],
   "source": [
    "used_area           = 'S82'  # can be 'S82', 'HETDEX', 'COSMOS'"
   ]
  },
  {
   "cell_type": "code",
   "execution_count": 5,
   "metadata": {
    "tags": []
   },
   "outputs": [],
   "source": [
    "file_name_dict      = {'S82': gv.file_S82, 'HETDEX': gv.file_HETDEX, 'COSMOS': gv.file_COSMOS}\n",
    "file_name           = file_name_dict[used_area]"
   ]
  },
  {
   "cell_type": "code",
   "execution_count": 6,
   "metadata": {
    "tags": []
   },
   "outputs": [],
   "source": [
    "feats_2_disc_S82    = ['objID', 'RA_MILLI', 'DEC_MILLI', 'W1mag', 'W2mag', 'num_imputed']\n",
    "feats_2_disc_HETDEX = ['objID', 'RA_MILLI', 'DEC_MILLI', 'W1mag', 'W2mag', 'num_imputed']\n",
    "feats_2_disc_COSMOS = ['objID', 'RA_MILLI', 'DEC_MILLI', 'W1mag', 'W2mag', 'num_imputed']\n",
    "\n",
    "feats_2_disc        = {'S82': feats_2_disc_S82, 'HETDEX': feats_2_disc_HETDEX, 'COSMOS': feats_2_disc_COSMOS}\n",
    "features_2_discard  = feats_2_disc[used_area]"
   ]
  },
  {
   "cell_type": "code",
   "execution_count": 7,
   "metadata": {},
   "outputs": [],
   "source": [
    "full_catalog_df     = pd.read_hdf(gv.cat_path + file_name, key='df').drop(columns=features_2_discard)"
   ]
  },
  {
   "cell_type": "code",
   "execution_count": 8,
   "metadata": {
    "jupyter": {
     "source_hidden": true
    }
   },
   "outputs": [],
   "source": [
    "if used_area == 'S82':\n",
    "    full_catalog_df.loc[:, 'LOFAR_detect'] = full_catalog_df.loc[:, 'VLAS82_detect'].copy()\n",
    "    full_catalog_df = full_catalog_df.drop(columns=['VLAS82_detect'])\n",
    "if used_area == 'COSMOS':\n",
    "    full_catalog_df.loc[:, 'LOFAR_detect'] = full_catalog_df.loc[:, 'COSMOSVLA3_detect'].copy()\n",
    "    full_catalog_df = full_catalog_df.drop(columns=['COSMOSVLA3_detect'])"
   ]
  },
  {
   "cell_type": "markdown",
   "metadata": {},
   "source": [
    "Create features with class and combined redshift."
   ]
  },
  {
   "cell_type": "code",
   "execution_count": 9,
   "metadata": {
    "jupyter": {
     "source_hidden": true
    }
   },
   "outputs": [],
   "source": [
    "full_catalog_df['class']            = full_catalog_df.loc[:, 'is_AGN'].copy()\n",
    "filter_non_confirmed                = np.array(full_catalog_df.loc[:, 'is_AGN'] == 1) | np.array(full_catalog_df.loc[:, 'is_gal'] == 1)\n",
    "full_catalog_df.loc[~filter_non_confirmed, 'class'] = np.nan\n",
    "idx_non_Z                           = full_catalog_df.loc[:, 'Z'].where(full_catalog_df.loc[:, 'Z'] > 0).isna()\n",
    "full_catalog_df.loc[idx_non_Z, 'Z'] = full_catalog_df.loc[:, 'Z'].mask(idx_non_Z, full_catalog_df.loc[idx_non_Z, 'zsp'])"
   ]
  },
  {
   "cell_type": "markdown",
   "metadata": {},
   "source": [
    "Create column for detection as Radio AGN"
   ]
  },
  {
   "cell_type": "code",
   "execution_count": 10,
   "metadata": {},
   "outputs": [],
   "source": [
    "full_catalog_df['radio_AGN']      = (np.array(full_catalog_df.loc[:, 'is_AGN'] == 1) &\\\n",
    "                                     np.array(full_catalog_df.loc[:, 'LOFAR_detect'] == 1)).astype(int)"
   ]
  },
  {
   "cell_type": "markdown",
   "metadata": {},
   "source": [
    "Discard minor features."
   ]
  },
  {
   "cell_type": "code",
   "execution_count": 11,
   "metadata": {},
   "outputs": [],
   "source": [
    "# full_catalog_df                     = full_catalog_df.drop(columns=['is_AGN', 'is_SDSS_QSO', 'is_SDSS_gal', 'is_gal', 'zsp'])"
   ]
  },
  {
   "cell_type": "markdown",
   "metadata": {},
   "source": [
    "#### As we want to predict, only use sources that have not previous spectroscopic classification"
   ]
  },
  {
   "cell_type": "code",
   "execution_count": 12,
   "metadata": {
    "jupyter": {
     "source_hidden": true
    }
   },
   "outputs": [
    {
     "name": "stdout",
     "output_type": "stream",
     "text": [
      "The used data set (in S82) has 3,590,306 sources.\n",
      "And 21,828 have previous spectroscopic classification.\n"
     ]
    }
   ],
   "source": [
    "print(f'The used data set (in {used_area}) has {len(full_catalog_df):,} sources.')\n",
    "print(f'And {np.sum(filter_non_confirmed):,} have previous spectroscopic classification.')"
   ]
  },
  {
   "cell_type": "code",
   "execution_count": 13,
   "metadata": {},
   "outputs": [],
   "source": [
    "# full_catalog_df                     = full_catalog_df.loc[~filter_non_confirmed]"
   ]
  },
  {
   "cell_type": "code",
   "execution_count": 14,
   "metadata": {
    "jupyter": {
     "source_hidden": true
    }
   },
   "outputs": [
    {
     "name": "stdout",
     "output_type": "stream",
     "text": [
      "This pipeline will predict properties for 3,590,306 sources in S82.\n"
     ]
    }
   ],
   "source": [
    "print(f'This pipeline will predict properties for {len(full_catalog_df):,} sources in {used_area}.')"
   ]
  },
  {
   "cell_type": "markdown",
   "metadata": {},
   "source": [
    "---"
   ]
  },
  {
   "cell_type": "markdown",
   "metadata": {},
   "source": [
    "### Load models"
   ]
  },
  {
   "cell_type": "code",
   "execution_count": 15,
   "metadata": {},
   "outputs": [
    {
     "name": "stdout",
     "output_type": "stream",
     "text": [
      "Transformation Pipeline and Model Successfully Loaded\n",
      "Transformation Pipeline and Model Successfully Loaded\n",
      "Transformation Pipeline and Model Successfully Loaded\n"
     ]
    }
   ],
   "source": [
    "if load_models_flag:\n",
    "    if use_zeroth_model:\n",
    "        star_clf        = pyc.load_model(gv.models_path + gv.star_model)  # star/no-star model\n",
    "        cal_star_clf    = load(gv.models_path + gv.cal_str_model)  # calibrated model\n",
    "    AGN_gal_clf         = pyc.load_model(gv.models_path + gv.AGN_gal_model)  #\n",
    "    cal_AGN_gal_clf     = load(gv.models_path + gv.cal_AGN_gal_model)  # calibrated model\n",
    "    radio_det_clf       = pyc.load_model(gv.models_path + gv.radio_model)  # without predicted AGN\n",
    "    \n",
    "    radio_det_gal_clf     = pyc.load_model(gv.models_path + gv.radio_galaxies_model)  # Radio detection for galaxies\n",
    "    cal_radio_det_gal_clf = load(gv.models_path + gv.cal_radio_gals_model)  # calibrated model radio detection for galaxie\n",
    "    \n",
    "    cal_radio_det_clf   = load(gv.models_path + gv.cal_radio_model)  # calibrated model\n",
    "    redshift_reg        = pyr.load_model(gv.models_path + gv.full_z_model)  # to use on full sample\n",
    "    \n",
    "    redshift_reg_rGal     = pyr.load_model(gv.models_path + gv.z_radio_galaxies_model)  # Redshift prediction for radio-galaxies\n",
    "    if use_second_z_model:\n",
    "        redshift_reg_2  = pyr.load_model(gv.models_path + gv.high_z_model)  # sources with predicted z >= 3.6"
   ]
  },
  {
   "cell_type": "code",
   "execution_count": 16,
   "metadata": {},
   "outputs": [],
   "source": [
    "full_catalog_df = pyc.predict_model(AGN_gal_clf, data=full_catalog_df, probability_threshold=gv.AGN_thresh, raw_score=True, round=10)\n",
    "full_catalog_df = full_catalog_df.drop(columns=['Score_0'])\n",
    "full_catalog_df = full_catalog_df.rename(columns={'Label': 'pred_class', 'Score_1': 'Score_AGN'})\n",
    "full_catalog_df['Score_AGN'] = np.around(full_catalog_df.loc[:, 'Score_AGN'], decimals=7)\n",
    "pred_probs_AGN  = cal_AGN_gal_clf.predict(full_catalog_df.loc[:, 'Score_AGN'])\n",
    "full_catalog_df['Prob_AGN'] = pred_probs_AGN"
   ]
  },
  {
   "cell_type": "code",
   "execution_count": 17,
   "metadata": {},
   "outputs": [],
   "source": [
    "full_catalog_df = pyc.predict_model(radio_det_clf, data=full_catalog_df, probability_threshold=gv.radio_thresh, raw_score=True, round=10)\n",
    "full_catalog_df = full_catalog_df.drop(columns=['Score_0'])\n",
    "full_catalog_df = full_catalog_df.rename(columns={'Label': 'pred_radio', 'Score_1': 'Score_radio'})\n",
    "full_catalog_df['Score_radio'] = np.around(full_catalog_df.loc[:, 'Score_radio'], decimals=7)\n",
    "pred_probs_rad  = cal_radio_det_clf.predict(full_catalog_df.loc[:, 'Score_radio'])\n",
    "full_catalog_df['Prob_radio'] = pred_probs_rad"
   ]
  },
  {
   "cell_type": "code",
   "execution_count": 18,
   "metadata": {},
   "outputs": [],
   "source": [
    "full_catalog_df = pyr.predict_model(redshift_reg, data=full_catalog_df, round=8)\n",
    "full_catalog_df = full_catalog_df.rename(columns={'Label': 'pred_Z'})\n",
    "full_catalog_df['pred_Z'] = np.around(full_catalog_df.loc[:, 'pred_Z'], decimals=3)"
   ]
  },
  {
   "cell_type": "code",
   "execution_count": 19,
   "metadata": {},
   "outputs": [],
   "source": [
    "redshift_tol    = 0.0\n",
    "if use_second_z_model:\n",
    "    full_catalog_df = pyr.predict_model(redshift_reg_2, data=full_catalog_df, round=6)\n",
    "    filter_pred_z   = full_catalog_df.loc[:, 'pred_Z'] >= (gv.high_z_limit + redshift_tol)\n",
    "    full_catalog_df.loc[:, 'pred_Z'] = full_catalog_df.loc[:, 'pred_Z'].mask(filter_pred_z, full_catalog_df.loc[filter_pred_z, 'Label'])\n",
    "    full_catalog_df = full_catalog_df.drop(columns=['Label'])\n",
    "    full_catalog_df.loc[:, 'pred_Z'] = np.around(full_catalog_df.loc[:, 'pred_Z'], decimals=3)"
   ]
  },
  {
   "cell_type": "code",
   "execution_count": 20,
   "metadata": {},
   "outputs": [],
   "source": [
    "full_catalog_df['pred_prob_class']    = (full_catalog_df.loc[:, 'Prob_AGN']   >= gv.cal_AGN_thresh).astype(int)\n",
    "full_catalog_df['pred_prob_radio']    = (full_catalog_df.loc[:, 'Prob_radio'] >= gv.cal_radio_thresh).astype(int)"
   ]
  },
  {
   "cell_type": "code",
   "execution_count": 21,
   "metadata": {},
   "outputs": [],
   "source": [
    "full_catalog_df['pred_radio_AGN']     = (np.array(full_catalog_df.loc[:, 'pred_class'] == 1) & np.array(full_catalog_df.loc[:, 'pred_radio'] == 1)).astype(int)\n",
    "full_catalog_df['Score_rAGN']         = full_catalog_df.loc[:, 'Score_AGN'] * full_catalog_df.loc[:, 'Score_radio']\n",
    "full_catalog_df['pred_prob_rAGN']     = (np.array(full_catalog_df.loc[:, 'pred_prob_class'] == 1) & np.array(full_catalog_df.loc[:, 'pred_prob_radio'] == 1)).astype(int)\n",
    "full_catalog_df['Prob_rAGN']          = full_catalog_df.loc[:, 'Prob_AGN'] * full_catalog_df.loc[:, 'Prob_radio']\n",
    "\n",
    "rad_score_scaler                      = MinMaxScaler()\n",
    "full_catalog_df['scaled_score_radio'] = rad_score_scaler.fit_transform(full_catalog_df.loc[:, 'Score_radio'].values.reshape(-1, 1))\n",
    "full_catalog_df['scaled_score_rAGN']  = full_catalog_df.loc[:, 'Score_AGN'] * full_catalog_df.loc[:, 'scaled_score_radio']"
   ]
  },
  {
   "cell_type": "code",
   "execution_count": 22,
   "metadata": {
    "jupyter": {
     "source_hidden": true
    }
   },
   "outputs": [
    {
     "data": {
      "text/html": [
       "<div>\n",
       "<style scoped>\n",
       "    .dataframe tbody tr th:only-of-type {\n",
       "        vertical-align: middle;\n",
       "    }\n",
       "\n",
       "    .dataframe tbody tr th {\n",
       "        vertical-align: top;\n",
       "    }\n",
       "\n",
       "    .dataframe thead th {\n",
       "        text-align: right;\n",
       "    }\n",
       "</style>\n",
       "<table border=\"1\" class=\"dataframe\">\n",
       "  <thead>\n",
       "    <tr style=\"text-align: right;\">\n",
       "      <th></th>\n",
       "      <th>class</th>\n",
       "      <th>pred_prob_class</th>\n",
       "      <th>LOFAR_detect</th>\n",
       "      <th>pred_prob_radio</th>\n",
       "      <th>Z</th>\n",
       "      <th>pred_Z</th>\n",
       "    </tr>\n",
       "  </thead>\n",
       "  <tbody>\n",
       "    <tr>\n",
       "      <th>count</th>\n",
       "      <td>21828.000000</td>\n",
       "      <td>3.590306e+06</td>\n",
       "      <td>3.590306e+06</td>\n",
       "      <td>3.590306e+06</td>\n",
       "      <td>23130.000000</td>\n",
       "      <td>3.590306e+06</td>\n",
       "    </tr>\n",
       "    <tr>\n",
       "      <th>mean</th>\n",
       "      <td>0.812855</td>\n",
       "      <td>5.825665e-01</td>\n",
       "      <td>4.931613e-03</td>\n",
       "      <td>1.474145e-01</td>\n",
       "      <td>1.305753</td>\n",
       "      <td>2.024889e+00</td>\n",
       "    </tr>\n",
       "    <tr>\n",
       "      <th>std</th>\n",
       "      <td>0.390037</td>\n",
       "      <td>4.931357e-01</td>\n",
       "      <td>7.005208e-02</td>\n",
       "      <td>3.545186e-01</td>\n",
       "      <td>0.833161</td>\n",
       "      <td>7.457807e-01</td>\n",
       "    </tr>\n",
       "    <tr>\n",
       "      <th>min</th>\n",
       "      <td>0.000000</td>\n",
       "      <td>0.000000e+00</td>\n",
       "      <td>0.000000e+00</td>\n",
       "      <td>0.000000e+00</td>\n",
       "      <td>-0.007680</td>\n",
       "      <td>1.800000e-02</td>\n",
       "    </tr>\n",
       "    <tr>\n",
       "      <th>25%</th>\n",
       "      <td>1.000000</td>\n",
       "      <td>0.000000e+00</td>\n",
       "      <td>0.000000e+00</td>\n",
       "      <td>0.000000e+00</td>\n",
       "      <td>0.701000</td>\n",
       "      <td>1.760000e+00</td>\n",
       "    </tr>\n",
       "    <tr>\n",
       "      <th>50%</th>\n",
       "      <td>1.000000</td>\n",
       "      <td>1.000000e+00</td>\n",
       "      <td>0.000000e+00</td>\n",
       "      <td>0.000000e+00</td>\n",
       "      <td>1.203000</td>\n",
       "      <td>2.186000e+00</td>\n",
       "    </tr>\n",
       "    <tr>\n",
       "      <th>75%</th>\n",
       "      <td>1.000000</td>\n",
       "      <td>1.000000e+00</td>\n",
       "      <td>0.000000e+00</td>\n",
       "      <td>0.000000e+00</td>\n",
       "      <td>1.827000</td>\n",
       "      <td>2.186000e+00</td>\n",
       "    </tr>\n",
       "    <tr>\n",
       "      <th>max</th>\n",
       "      <td>1.000000</td>\n",
       "      <td>1.000000e+00</td>\n",
       "      <td>1.000000e+00</td>\n",
       "      <td>1.000000e+00</td>\n",
       "      <td>7.011240</td>\n",
       "      <td>4.696000e+00</td>\n",
       "    </tr>\n",
       "  </tbody>\n",
       "</table>\n",
       "</div>"
      ],
      "text/plain": [
       "              class  pred_prob_class  LOFAR_detect  pred_prob_radio  \\\n",
       "count  21828.000000     3.590306e+06  3.590306e+06     3.590306e+06   \n",
       "mean       0.812855     5.825665e-01  4.931613e-03     1.474145e-01   \n",
       "std        0.390037     4.931357e-01  7.005208e-02     3.545186e-01   \n",
       "min        0.000000     0.000000e+00  0.000000e+00     0.000000e+00   \n",
       "25%        1.000000     0.000000e+00  0.000000e+00     0.000000e+00   \n",
       "50%        1.000000     1.000000e+00  0.000000e+00     0.000000e+00   \n",
       "75%        1.000000     1.000000e+00  0.000000e+00     0.000000e+00   \n",
       "max        1.000000     1.000000e+00  1.000000e+00     1.000000e+00   \n",
       "\n",
       "                  Z        pred_Z  \n",
       "count  23130.000000  3.590306e+06  \n",
       "mean       1.305753  2.024889e+00  \n",
       "std        0.833161  7.457807e-01  \n",
       "min       -0.007680  1.800000e-02  \n",
       "25%        0.701000  1.760000e+00  \n",
       "50%        1.203000  2.186000e+00  \n",
       "75%        1.827000  2.186000e+00  \n",
       "max        7.011240  4.696000e+00  "
      ]
     },
     "execution_count": 22,
     "metadata": {},
     "output_type": "execute_result"
    }
   ],
   "source": [
    "full_catalog_df.loc[:, ['class', 'pred_prob_class', 'LOFAR_detect', 'pred_prob_radio', 'Z', 'pred_Z']].describe()"
   ]
  },
  {
   "cell_type": "markdown",
   "metadata": {},
   "source": [
    "Obtain intermediate metrics"
   ]
  },
  {
   "cell_type": "code",
   "execution_count": 23,
   "metadata": {
    "jupyter": {
     "source_hidden": true
    }
   },
   "outputs": [],
   "source": [
    "filter_radio_AGN_t      = np.array(full_catalog_df.loc[:, 'class'] == 1) & np.array(full_catalog_df.loc[:, 'LOFAR_detect'] == 1)\n",
    "filter_gal_AGN_t        = np.array(full_catalog_df.loc[:, 'class'] == 0) | np.array(full_catalog_df.loc[:, 'class'] == 1)\n",
    "total_size              = len(full_catalog_df)\n",
    "filter_AGN_t            = np.array(full_catalog_df.loc[:, 'class'] == 1)\n",
    "num_AGN_t               = np.sum(filter_AGN_t)\n",
    "num_gal_t               = np.sum(np.array(full_catalog_df.loc[:, 'class'] == 0))\n",
    "num_radio_t             = np.sum(np.array(full_catalog_df.loc[:, 'LOFAR_detect'] == 1))\n",
    "num_radio_AGN_t         = np.sum(filter_radio_AGN_t)"
   ]
  },
  {
   "cell_type": "code",
   "execution_count": 24,
   "metadata": {
    "jupyter": {
     "source_hidden": true
    }
   },
   "outputs": [],
   "source": [
    "# filter_radio_AGN_p      = np.array(full_catalog_df.loc[:, 'Score_AGN']          >= threshold_AGN) &\\\n",
    "#                             np.array(full_catalog_df.loc[:, 'Score_radio']      >= threshold_radio)\n",
    "filter_radio_AGN_p      = np.array(full_catalog_df.loc[:, 'pred_prob_class']      == 1) &\\\n",
    "                            np.array(full_catalog_df.loc[:, 'pred_prob_radio']    == 1)\n",
    "filt_hiz_rAGN_p         = filter_radio_AGN_p * np.array(full_catalog_df.loc[:, 'pred_Z'] >= gv.high_z_limit)\n",
    "filter_AGN_p            = np.array(full_catalog_df.loc[:, 'pred_prob_class']      == 1)\n",
    "filter_radio_p          = np.array(full_catalog_df.loc[:, 'pred_prob_radio']      == 1)\n",
    "num_AGN_p               = np.sum(filter_AGN_p)\n",
    "num_gal_p               = np.sum(np.array(full_catalog_df.loc[:, 'pred_prob_class'] == 0))\n",
    "num_radio_p             = np.sum(filter_radio_p)\n",
    "num_radio_AGN_p         = np.sum(filter_radio_AGN_p)"
   ]
  },
  {
   "cell_type": "markdown",
   "metadata": {},
   "source": [
    "### Select sources predicted to be Radio AGN (optional)"
   ]
  },
  {
   "cell_type": "code",
   "execution_count": 25,
   "metadata": {},
   "outputs": [],
   "source": [
    "# full_catalog_df         = full_catalog_df.loc[filter_radio_AGN_p]"
   ]
  },
  {
   "cell_type": "code",
   "execution_count": 26,
   "metadata": {
    "jupyter": {
     "source_hidden": true
    }
   },
   "outputs": [
    {
     "data": {
      "text/html": [
       "<div>\n",
       "<style scoped>\n",
       "    .dataframe tbody tr th:only-of-type {\n",
       "        vertical-align: middle;\n",
       "    }\n",
       "\n",
       "    .dataframe tbody tr th {\n",
       "        vertical-align: top;\n",
       "    }\n",
       "\n",
       "    .dataframe thead th {\n",
       "        text-align: right;\n",
       "    }\n",
       "</style>\n",
       "<table border=\"1\" class=\"dataframe\">\n",
       "  <thead>\n",
       "    <tr style=\"text-align: right;\">\n",
       "      <th></th>\n",
       "      <th>class</th>\n",
       "      <th>pred_prob_class</th>\n",
       "      <th>LOFAR_detect</th>\n",
       "      <th>pred_prob_radio</th>\n",
       "      <th>Z</th>\n",
       "      <th>pred_Z</th>\n",
       "    </tr>\n",
       "  </thead>\n",
       "  <tbody>\n",
       "    <tr>\n",
       "      <th>count</th>\n",
       "      <td>21828.000000</td>\n",
       "      <td>3.590306e+06</td>\n",
       "      <td>3.590306e+06</td>\n",
       "      <td>3.590306e+06</td>\n",
       "      <td>23130.000000</td>\n",
       "      <td>3.590306e+06</td>\n",
       "    </tr>\n",
       "    <tr>\n",
       "      <th>mean</th>\n",
       "      <td>0.812855</td>\n",
       "      <td>5.825665e-01</td>\n",
       "      <td>4.931613e-03</td>\n",
       "      <td>1.474145e-01</td>\n",
       "      <td>1.305753</td>\n",
       "      <td>2.024889e+00</td>\n",
       "    </tr>\n",
       "    <tr>\n",
       "      <th>std</th>\n",
       "      <td>0.390037</td>\n",
       "      <td>4.931357e-01</td>\n",
       "      <td>7.005208e-02</td>\n",
       "      <td>3.545186e-01</td>\n",
       "      <td>0.833161</td>\n",
       "      <td>7.457807e-01</td>\n",
       "    </tr>\n",
       "    <tr>\n",
       "      <th>min</th>\n",
       "      <td>0.000000</td>\n",
       "      <td>0.000000e+00</td>\n",
       "      <td>0.000000e+00</td>\n",
       "      <td>0.000000e+00</td>\n",
       "      <td>-0.007680</td>\n",
       "      <td>1.800000e-02</td>\n",
       "    </tr>\n",
       "    <tr>\n",
       "      <th>25%</th>\n",
       "      <td>1.000000</td>\n",
       "      <td>0.000000e+00</td>\n",
       "      <td>0.000000e+00</td>\n",
       "      <td>0.000000e+00</td>\n",
       "      <td>0.701000</td>\n",
       "      <td>1.760000e+00</td>\n",
       "    </tr>\n",
       "    <tr>\n",
       "      <th>50%</th>\n",
       "      <td>1.000000</td>\n",
       "      <td>1.000000e+00</td>\n",
       "      <td>0.000000e+00</td>\n",
       "      <td>0.000000e+00</td>\n",
       "      <td>1.203000</td>\n",
       "      <td>2.186000e+00</td>\n",
       "    </tr>\n",
       "    <tr>\n",
       "      <th>75%</th>\n",
       "      <td>1.000000</td>\n",
       "      <td>1.000000e+00</td>\n",
       "      <td>0.000000e+00</td>\n",
       "      <td>0.000000e+00</td>\n",
       "      <td>1.827000</td>\n",
       "      <td>2.186000e+00</td>\n",
       "    </tr>\n",
       "    <tr>\n",
       "      <th>max</th>\n",
       "      <td>1.000000</td>\n",
       "      <td>1.000000e+00</td>\n",
       "      <td>1.000000e+00</td>\n",
       "      <td>1.000000e+00</td>\n",
       "      <td>7.011240</td>\n",
       "      <td>4.696000e+00</td>\n",
       "    </tr>\n",
       "  </tbody>\n",
       "</table>\n",
       "</div>"
      ],
      "text/plain": [
       "              class  pred_prob_class  LOFAR_detect  pred_prob_radio  \\\n",
       "count  21828.000000     3.590306e+06  3.590306e+06     3.590306e+06   \n",
       "mean       0.812855     5.825665e-01  4.931613e-03     1.474145e-01   \n",
       "std        0.390037     4.931357e-01  7.005208e-02     3.545186e-01   \n",
       "min        0.000000     0.000000e+00  0.000000e+00     0.000000e+00   \n",
       "25%        1.000000     0.000000e+00  0.000000e+00     0.000000e+00   \n",
       "50%        1.000000     1.000000e+00  0.000000e+00     0.000000e+00   \n",
       "75%        1.000000     1.000000e+00  0.000000e+00     0.000000e+00   \n",
       "max        1.000000     1.000000e+00  1.000000e+00     1.000000e+00   \n",
       "\n",
       "                  Z        pred_Z  \n",
       "count  23130.000000  3.590306e+06  \n",
       "mean       1.305753  2.024889e+00  \n",
       "std        0.833161  7.457807e-01  \n",
       "min       -0.007680  1.800000e-02  \n",
       "25%        0.701000  1.760000e+00  \n",
       "50%        1.203000  2.186000e+00  \n",
       "75%        1.827000  2.186000e+00  \n",
       "max        7.011240  4.696000e+00  "
      ]
     },
     "execution_count": 26,
     "metadata": {},
     "output_type": "execute_result"
    }
   ],
   "source": [
    "full_catalog_df.loc[:, ['class', 'pred_prob_class', 'LOFAR_detect', 'pred_prob_radio', 'Z', 'pred_Z']].describe()"
   ]
  },
  {
   "cell_type": "markdown",
   "metadata": {},
   "source": [
    "Add individual metrics for redshift"
   ]
  },
  {
   "cell_type": "code",
   "execution_count": 27,
   "metadata": {
    "jupyter": {
     "source_hidden": true
    },
    "tags": []
   },
   "outputs": [],
   "source": [
    "full_catalog_df['Delta_z_N'] = np.around((full_catalog_df.loc[:, 'pred_Z'] - full_catalog_df.loc[:, 'Z']) /\\\n",
    "                            (1 + full_catalog_df.loc[:, 'Z']), decimals=3)\n",
    "\n",
    "full_catalog_df['sigma_NMAD'] = np.around(1.48 * np.abs(full_catalog_df.loc[:, 'pred_Z'] - full_catalog_df.loc[:, 'Z']) /\\\n",
    "                            (1 + full_catalog_df.loc[:, 'Z']), decimals=3)"
   ]
  },
  {
   "cell_type": "markdown",
   "metadata": {},
   "source": [
    "Numerical summary."
   ]
  },
  {
   "cell_type": "code",
   "execution_count": 28,
   "metadata": {
    "jupyter": {
     "source_hidden": true
    },
    "tags": []
   },
   "outputs": [],
   "source": [
    "str_0_t   = f'Out of {total_size:,} initial sources in {used_area},\\n'\n",
    "str_1_t   = f'{num_gal_t:,} are confirmed to be galaxies. On the other side,\\n'\n",
    "str_2_t   = f'{num_AGN_t:,} are confirmed to be AGN. And, from the AGN,\\n'\n",
    "str_3_t   = f'{num_radio_AGN_t:,} are detected in radio.'\n",
    "\n",
    "str_0_p   = f'Out of {num_radio_AGN_t:,} initial radio-detected AGN in {used_area},\\n'\n",
    "str_1_p   = f'{num_gal_p:,} are predicted to be galaxies. On the other side,\\n'\n",
    "str_2_p   = f'{num_AGN_p:,} are predicted to be AGN. And, from the predicted AGN,\\n'\n",
    "str_3_p   = f'{num_radio_AGN_p:,} are predicted to be detected in radio.'"
   ]
  },
  {
   "cell_type": "code",
   "execution_count": 29,
   "metadata": {
    "jupyter": {
     "source_hidden": true
    },
    "tags": []
   },
   "outputs": [
    {
     "name": "stdout",
     "output_type": "stream",
     "text": [
      "------------------------------------------------------------\n",
      "Out of 3,590,306 initial sources in S82,\n",
      "4,085 are confirmed to be galaxies. On the other side,\n",
      "17,743 are confirmed to be AGN. And, from the AGN,\n",
      "873 are detected in radio.\n",
      "------------------------------------------------------------\n",
      "Out of 873 initial radio-detected AGN in S82,\n",
      "1,498,714 are predicted to be galaxies. On the other side,\n",
      "2,091,592 are predicted to be AGN. And, from the predicted AGN,\n",
      "30,131 are predicted to be detected in radio.\n",
      "------------------------------------------------------------\n"
     ]
    }
   ],
   "source": [
    "print('-' * 60)\n",
    "print(str_0_t + str_1_t + str_2_t + str_3_t)\n",
    "print('-' * 60)\n",
    "print(str_0_p + str_1_p + str_2_p + str_3_p)\n",
    "print('-' * 60)"
   ]
  },
  {
   "cell_type": "code",
   "execution_count": 30,
   "metadata": {},
   "outputs": [],
   "source": [
    "cols_4_table = show_columns = ['Name', 'RA_ICRS', 'DE_ICRS', 'TYPE', 'band_num', 'class', 'pred_class',\n",
    "                               'pred_prob_class', 'Score_AGN', 'Prob_AGN', 'LOFAR_detect', 'pred_radio',\n",
    "                               'pred_prob_radio', 'Score_radio', 'Prob_radio', 'radio_AGN', 'pred_radio_AGN',\n",
    "                               'pred_prob_rAGN', 'Score_rAGN', 'Prob_rAGN', 'Z', 'pred_Z']"
   ]
  },
  {
   "cell_type": "code",
   "execution_count": 31,
   "metadata": {},
   "outputs": [],
   "source": [
    "cols_4_export_S82    = ['Fint_VLAS82']\n",
    "cols_4_export_HETDEX = ['Sint_LOFAR']\n",
    "cols_4_export_COSMOS = ['Flux_COSMOSVLA3']\n",
    "\n",
    "cols_4_exp_all       = {'S82': cols_4_export_S82, 'HETDEX': cols_4_export_HETDEX, 'COSMOS': cols_4_export_COSMOS}\n",
    "\n",
    "cols_photo           = ['W1mproPM', 'W2mproPM', 'gmag', 'rmag', 'imag', 'zmag', \n",
    "                        'ymag', 'Jmag', 'Hmag', 'Kmag', 'W3mag', 'W4mag']\n",
    "\n",
    "cols_4_export        = cols_4_table + cols_4_exp_all[used_area] + cols_photo"
   ]
  },
  {
   "cell_type": "code",
   "execution_count": 32,
   "metadata": {},
   "outputs": [],
   "source": [
    "filter_new_rAGN = full_catalog_df.loc[:, 'radio_AGN'] == 0\n",
    "if predict_only_hi_z:\n",
    "    filter_high_z   = full_catalog_df.loc[:, 'pred_Z']    >= gv.high_z_limit\n",
    "elif not predict_only_hi_z:\n",
    "    filter_high_z   = np.ones_like(full_catalog_df.loc[:, 'pred_Z']).astype(bool)"
   ]
  },
  {
   "cell_type": "code",
   "execution_count": 33,
   "metadata": {},
   "outputs": [],
   "source": [
    "full_catalog_df.loc[:, 'TYPE'] = full_catalog_df.loc[:, 'TYPE'].mask(full_catalog_df.loc[:, 'TYPE'] == '    ', 'CCCC')"
   ]
  },
  {
   "cell_type": "code",
   "execution_count": 34,
   "metadata": {},
   "outputs": [
    {
     "data": {
      "text/html": [
       "<div>\n",
       "<style scoped>\n",
       "    .dataframe tbody tr th:only-of-type {\n",
       "        vertical-align: middle;\n",
       "    }\n",
       "\n",
       "    .dataframe tbody tr th {\n",
       "        vertical-align: top;\n",
       "    }\n",
       "\n",
       "    .dataframe thead th {\n",
       "        text-align: right;\n",
       "    }\n",
       "</style>\n",
       "<table border=\"1\" class=\"dataframe\">\n",
       "  <thead>\n",
       "    <tr style=\"text-align: right;\">\n",
       "      <th></th>\n",
       "      <th>Name</th>\n",
       "      <th>RA_ICRS</th>\n",
       "      <th>DE_ICRS</th>\n",
       "      <th>TYPE</th>\n",
       "      <th>band_num</th>\n",
       "      <th>class</th>\n",
       "      <th>pred_class</th>\n",
       "      <th>pred_prob_class</th>\n",
       "      <th>Score_AGN</th>\n",
       "      <th>Prob_AGN</th>\n",
       "      <th>LOFAR_detect</th>\n",
       "      <th>pred_radio</th>\n",
       "      <th>pred_prob_radio</th>\n",
       "      <th>Score_radio</th>\n",
       "      <th>Prob_radio</th>\n",
       "      <th>radio_AGN</th>\n",
       "      <th>pred_radio_AGN</th>\n",
       "      <th>pred_prob_rAGN</th>\n",
       "      <th>Score_rAGN</th>\n",
       "      <th>Prob_rAGN</th>\n",
       "      <th>Z</th>\n",
       "      <th>pred_Z</th>\n",
       "      <th>Fint_VLAS82</th>\n",
       "      <th>W1mproPM</th>\n",
       "      <th>W2mproPM</th>\n",
       "      <th>gmag</th>\n",
       "      <th>rmag</th>\n",
       "      <th>imag</th>\n",
       "      <th>zmag</th>\n",
       "      <th>ymag</th>\n",
       "      <th>Jmag</th>\n",
       "      <th>Hmag</th>\n",
       "      <th>Kmag</th>\n",
       "      <th>W3mag</th>\n",
       "      <th>W4mag</th>\n",
       "    </tr>\n",
       "  </thead>\n",
       "  <tbody>\n",
       "    <tr>\n",
       "      <th>2157420</th>\n",
       "      <td>J230147.61+001621.2</td>\n",
       "      <td>345.448425</td>\n",
       "      <td>0.272568</td>\n",
       "      <td></td>\n",
       "      <td>8</td>\n",
       "      <td>NaN</td>\n",
       "      <td>0</td>\n",
       "      <td>0</td>\n",
       "      <td>0.499952</td>\n",
       "      <td>0.156901</td>\n",
       "      <td>0</td>\n",
       "      <td>0</td>\n",
       "      <td>1</td>\n",
       "      <td>0.288353</td>\n",
       "      <td>0.288562</td>\n",
       "      <td>0</td>\n",
       "      <td>0</td>\n",
       "      <td>0</td>\n",
       "      <td>0.144163</td>\n",
       "      <td>0.045276</td>\n",
       "      <td>NaN</td>\n",
       "      <td>4.696</td>\n",
       "      <td>0.260615</td>\n",
       "      <td>19.511000</td>\n",
       "      <td>19.679001</td>\n",
       "      <td>23.299999</td>\n",
       "      <td>21.422600</td>\n",
       "      <td>20.581499</td>\n",
       "      <td>20.215000</td>\n",
       "      <td>20.057301</td>\n",
       "      <td>17.450001</td>\n",
       "      <td>17.24</td>\n",
       "      <td>16.59</td>\n",
       "      <td>16.67</td>\n",
       "      <td>14.62</td>\n",
       "    </tr>\n",
       "    <tr>\n",
       "      <th>2693550</th>\n",
       "      <td>J005221.55+004054.4</td>\n",
       "      <td>13.089853</td>\n",
       "      <td>0.681765</td>\n",
       "      <td></td>\n",
       "      <td>6</td>\n",
       "      <td>NaN</td>\n",
       "      <td>0</td>\n",
       "      <td>0</td>\n",
       "      <td>0.499972</td>\n",
       "      <td>0.274617</td>\n",
       "      <td>0</td>\n",
       "      <td>0</td>\n",
       "      <td>1</td>\n",
       "      <td>0.316392</td>\n",
       "      <td>0.311575</td>\n",
       "      <td>0</td>\n",
       "      <td>0</td>\n",
       "      <td>0</td>\n",
       "      <td>0.158187</td>\n",
       "      <td>0.085564</td>\n",
       "      <td>NaN</td>\n",
       "      <td>4.686</td>\n",
       "      <td>0.260615</td>\n",
       "      <td>19.427000</td>\n",
       "      <td>19.809999</td>\n",
       "      <td>23.299999</td>\n",
       "      <td>20.830500</td>\n",
       "      <td>19.935900</td>\n",
       "      <td>19.586399</td>\n",
       "      <td>19.670099</td>\n",
       "      <td>17.450001</td>\n",
       "      <td>17.24</td>\n",
       "      <td>16.59</td>\n",
       "      <td>16.67</td>\n",
       "      <td>14.62</td>\n",
       "    </tr>\n",
       "    <tr>\n",
       "      <th>365533</th>\n",
       "      <td>J220514.12-010529.2</td>\n",
       "      <td>331.308868</td>\n",
       "      <td>-1.091477</td>\n",
       "      <td></td>\n",
       "      <td>8</td>\n",
       "      <td>NaN</td>\n",
       "      <td>0</td>\n",
       "      <td>0</td>\n",
       "      <td>0.499928</td>\n",
       "      <td>0.072792</td>\n",
       "      <td>0</td>\n",
       "      <td>0</td>\n",
       "      <td>1</td>\n",
       "      <td>0.606740</td>\n",
       "      <td>0.532142</td>\n",
       "      <td>0</td>\n",
       "      <td>0</td>\n",
       "      <td>0</td>\n",
       "      <td>0.303327</td>\n",
       "      <td>0.038736</td>\n",
       "      <td>NaN</td>\n",
       "      <td>4.685</td>\n",
       "      <td>0.260615</td>\n",
       "      <td>19.497999</td>\n",
       "      <td>19.809999</td>\n",
       "      <td>23.299999</td>\n",
       "      <td>21.335100</td>\n",
       "      <td>19.013599</td>\n",
       "      <td>18.747299</td>\n",
       "      <td>18.526300</td>\n",
       "      <td>17.450001</td>\n",
       "      <td>17.24</td>\n",
       "      <td>16.59</td>\n",
       "      <td>16.67</td>\n",
       "      <td>14.62</td>\n",
       "    </tr>\n",
       "    <tr>\n",
       "      <th>281082</th>\n",
       "      <td>J005421.41-010921.3</td>\n",
       "      <td>13.589242</td>\n",
       "      <td>-1.155940</td>\n",
       "      <td>Q</td>\n",
       "      <td>6</td>\n",
       "      <td>1.0</td>\n",
       "      <td>0</td>\n",
       "      <td>0</td>\n",
       "      <td>0.499950</td>\n",
       "      <td>0.148423</td>\n",
       "      <td>0</td>\n",
       "      <td>0</td>\n",
       "      <td>1</td>\n",
       "      <td>0.322041</td>\n",
       "      <td>0.316154</td>\n",
       "      <td>0</td>\n",
       "      <td>0</td>\n",
       "      <td>0</td>\n",
       "      <td>0.161005</td>\n",
       "      <td>0.046925</td>\n",
       "      <td>5.022</td>\n",
       "      <td>4.685</td>\n",
       "      <td>0.260615</td>\n",
       "      <td>19.458000</td>\n",
       "      <td>19.662001</td>\n",
       "      <td>23.299999</td>\n",
       "      <td>21.498501</td>\n",
       "      <td>20.056499</td>\n",
       "      <td>19.740400</td>\n",
       "      <td>19.598400</td>\n",
       "      <td>17.450001</td>\n",
       "      <td>17.24</td>\n",
       "      <td>16.59</td>\n",
       "      <td>16.67</td>\n",
       "      <td>14.62</td>\n",
       "    </tr>\n",
       "    <tr>\n",
       "      <th>3114638</th>\n",
       "      <td>J004649.85+010015.6</td>\n",
       "      <td>11.707747</td>\n",
       "      <td>1.004355</td>\n",
       "      <td></td>\n",
       "      <td>8</td>\n",
       "      <td>NaN</td>\n",
       "      <td>0</td>\n",
       "      <td>0</td>\n",
       "      <td>0.499882</td>\n",
       "      <td>0.014282</td>\n",
       "      <td>0</td>\n",
       "      <td>0</td>\n",
       "      <td>0</td>\n",
       "      <td>0.089571</td>\n",
       "      <td>0.105550</td>\n",
       "      <td>0</td>\n",
       "      <td>0</td>\n",
       "      <td>0</td>\n",
       "      <td>0.044775</td>\n",
       "      <td>0.001507</td>\n",
       "      <td>NaN</td>\n",
       "      <td>4.685</td>\n",
       "      <td>0.260615</td>\n",
       "      <td>19.299000</td>\n",
       "      <td>19.809999</td>\n",
       "      <td>23.299999</td>\n",
       "      <td>20.070499</td>\n",
       "      <td>19.257401</td>\n",
       "      <td>19.009899</td>\n",
       "      <td>18.795300</td>\n",
       "      <td>17.450001</td>\n",
       "      <td>17.24</td>\n",
       "      <td>16.59</td>\n",
       "      <td>16.67</td>\n",
       "      <td>14.62</td>\n",
       "    </tr>\n",
       "    <tr>\n",
       "      <th>2043045</th>\n",
       "      <td>J003942.25+001103.9</td>\n",
       "      <td>9.926069</td>\n",
       "      <td>0.184424</td>\n",
       "      <td></td>\n",
       "      <td>8</td>\n",
       "      <td>NaN</td>\n",
       "      <td>0</td>\n",
       "      <td>0</td>\n",
       "      <td>0.499921</td>\n",
       "      <td>0.056375</td>\n",
       "      <td>0</td>\n",
       "      <td>0</td>\n",
       "      <td>1</td>\n",
       "      <td>0.347851</td>\n",
       "      <td>0.336844</td>\n",
       "      <td>0</td>\n",
       "      <td>0</td>\n",
       "      <td>0</td>\n",
       "      <td>0.173898</td>\n",
       "      <td>0.018990</td>\n",
       "      <td>NaN</td>\n",
       "      <td>4.683</td>\n",
       "      <td>0.260615</td>\n",
       "      <td>19.511000</td>\n",
       "      <td>19.809999</td>\n",
       "      <td>23.299999</td>\n",
       "      <td>21.497400</td>\n",
       "      <td>20.589399</td>\n",
       "      <td>20.336901</td>\n",
       "      <td>20.083200</td>\n",
       "      <td>17.450001</td>\n",
       "      <td>17.24</td>\n",
       "      <td>16.59</td>\n",
       "      <td>16.67</td>\n",
       "      <td>14.62</td>\n",
       "    </tr>\n",
       "    <tr>\n",
       "      <th>1965383</th>\n",
       "      <td>J013220.13+000730.5</td>\n",
       "      <td>23.083914</td>\n",
       "      <td>0.125152</td>\n",
       "      <td></td>\n",
       "      <td>6</td>\n",
       "      <td>NaN</td>\n",
       "      <td>0</td>\n",
       "      <td>0</td>\n",
       "      <td>0.499883</td>\n",
       "      <td>0.014804</td>\n",
       "      <td>0</td>\n",
       "      <td>0</td>\n",
       "      <td>0</td>\n",
       "      <td>0.193796</td>\n",
       "      <td>0.206672</td>\n",
       "      <td>0</td>\n",
       "      <td>0</td>\n",
       "      <td>0</td>\n",
       "      <td>0.096875</td>\n",
       "      <td>0.003060</td>\n",
       "      <td>NaN</td>\n",
       "      <td>4.683</td>\n",
       "      <td>0.260615</td>\n",
       "      <td>19.535999</td>\n",
       "      <td>19.809999</td>\n",
       "      <td>23.299999</td>\n",
       "      <td>21.132799</td>\n",
       "      <td>20.273300</td>\n",
       "      <td>19.909901</td>\n",
       "      <td>19.588600</td>\n",
       "      <td>17.450001</td>\n",
       "      <td>17.24</td>\n",
       "      <td>16.59</td>\n",
       "      <td>16.67</td>\n",
       "      <td>14.62</td>\n",
       "    </tr>\n",
       "    <tr>\n",
       "      <th>3451384</th>\n",
       "      <td>J221111.62+011634.2</td>\n",
       "      <td>332.798462</td>\n",
       "      <td>1.276164</td>\n",
       "      <td></td>\n",
       "      <td>8</td>\n",
       "      <td>NaN</td>\n",
       "      <td>0</td>\n",
       "      <td>0</td>\n",
       "      <td>0.499891</td>\n",
       "      <td>0.019854</td>\n",
       "      <td>0</td>\n",
       "      <td>0</td>\n",
       "      <td>0</td>\n",
       "      <td>0.057498</td>\n",
       "      <td>0.070958</td>\n",
       "      <td>0</td>\n",
       "      <td>0</td>\n",
       "      <td>0</td>\n",
       "      <td>0.028743</td>\n",
       "      <td>0.001409</td>\n",
       "      <td>NaN</td>\n",
       "      <td>4.681</td>\n",
       "      <td>0.260615</td>\n",
       "      <td>19.556999</td>\n",
       "      <td>19.809999</td>\n",
       "      <td>23.299999</td>\n",
       "      <td>21.625200</td>\n",
       "      <td>20.675501</td>\n",
       "      <td>20.423901</td>\n",
       "      <td>20.220800</td>\n",
       "      <td>17.450001</td>\n",
       "      <td>17.24</td>\n",
       "      <td>16.59</td>\n",
       "      <td>16.67</td>\n",
       "      <td>14.62</td>\n",
       "    </tr>\n",
       "    <tr>\n",
       "      <th>3476186</th>\n",
       "      <td>J221034.88+011803.6</td>\n",
       "      <td>332.645355</td>\n",
       "      <td>1.300992</td>\n",
       "      <td></td>\n",
       "      <td>8</td>\n",
       "      <td>NaN</td>\n",
       "      <td>0</td>\n",
       "      <td>0</td>\n",
       "      <td>0.499918</td>\n",
       "      <td>0.051544</td>\n",
       "      <td>0</td>\n",
       "      <td>0</td>\n",
       "      <td>1</td>\n",
       "      <td>0.255730</td>\n",
       "      <td>0.261121</td>\n",
       "      <td>0</td>\n",
       "      <td>0</td>\n",
       "      <td>0</td>\n",
       "      <td>0.127844</td>\n",
       "      <td>0.013459</td>\n",
       "      <td>NaN</td>\n",
       "      <td>4.681</td>\n",
       "      <td>0.260615</td>\n",
       "      <td>19.673000</td>\n",
       "      <td>19.809999</td>\n",
       "      <td>23.299999</td>\n",
       "      <td>21.569799</td>\n",
       "      <td>20.682199</td>\n",
       "      <td>20.327200</td>\n",
       "      <td>20.161900</td>\n",
       "      <td>17.450001</td>\n",
       "      <td>17.24</td>\n",
       "      <td>16.59</td>\n",
       "      <td>16.67</td>\n",
       "      <td>14.62</td>\n",
       "    </tr>\n",
       "    <tr>\n",
       "      <th>3069283</th>\n",
       "      <td>J011141.88+005809.6</td>\n",
       "      <td>17.924545</td>\n",
       "      <td>0.969337</td>\n",
       "      <td></td>\n",
       "      <td>8</td>\n",
       "      <td>NaN</td>\n",
       "      <td>0</td>\n",
       "      <td>0</td>\n",
       "      <td>0.499885</td>\n",
       "      <td>0.015905</td>\n",
       "      <td>0</td>\n",
       "      <td>0</td>\n",
       "      <td>0</td>\n",
       "      <td>0.210957</td>\n",
       "      <td>0.222103</td>\n",
       "      <td>0</td>\n",
       "      <td>0</td>\n",
       "      <td>0</td>\n",
       "      <td>0.105454</td>\n",
       "      <td>0.003533</td>\n",
       "      <td>NaN</td>\n",
       "      <td>4.681</td>\n",
       "      <td>0.260615</td>\n",
       "      <td>19.584999</td>\n",
       "      <td>19.809999</td>\n",
       "      <td>23.299999</td>\n",
       "      <td>21.520201</td>\n",
       "      <td>20.708599</td>\n",
       "      <td>20.399099</td>\n",
       "      <td>20.243000</td>\n",
       "      <td>17.450001</td>\n",
       "      <td>17.24</td>\n",
       "      <td>16.59</td>\n",
       "      <td>16.67</td>\n",
       "      <td>14.62</td>\n",
       "    </tr>\n",
       "    <tr>\n",
       "      <th>1406323</th>\n",
       "      <td>J021043.14-001818.0</td>\n",
       "      <td>32.679794</td>\n",
       "      <td>-0.305035</td>\n",
       "      <td>QRX</td>\n",
       "      <td>6</td>\n",
       "      <td>1.0</td>\n",
       "      <td>1</td>\n",
       "      <td>1</td>\n",
       "      <td>0.500050</td>\n",
       "      <td>0.866373</td>\n",
       "      <td>1</td>\n",
       "      <td>0</td>\n",
       "      <td>1</td>\n",
       "      <td>0.274664</td>\n",
       "      <td>0.277140</td>\n",
       "      <td>1</td>\n",
       "      <td>0</td>\n",
       "      <td>1</td>\n",
       "      <td>0.137346</td>\n",
       "      <td>0.240107</td>\n",
       "      <td>4.650</td>\n",
       "      <td>4.675</td>\n",
       "      <td>7.720000</td>\n",
       "      <td>19.296000</td>\n",
       "      <td>19.508001</td>\n",
       "      <td>23.299999</td>\n",
       "      <td>20.605801</td>\n",
       "      <td>19.351900</td>\n",
       "      <td>19.277700</td>\n",
       "      <td>19.318701</td>\n",
       "      <td>17.450001</td>\n",
       "      <td>17.24</td>\n",
       "      <td>16.59</td>\n",
       "      <td>16.67</td>\n",
       "      <td>14.62</td>\n",
       "    </tr>\n",
       "    <tr>\n",
       "      <th>1347831</th>\n",
       "      <td>J224648.19-002058.2</td>\n",
       "      <td>341.700867</td>\n",
       "      <td>-0.349526</td>\n",
       "      <td></td>\n",
       "      <td>8</td>\n",
       "      <td>NaN</td>\n",
       "      <td>0</td>\n",
       "      <td>0</td>\n",
       "      <td>0.499930</td>\n",
       "      <td>0.075543</td>\n",
       "      <td>0</td>\n",
       "      <td>0</td>\n",
       "      <td>1</td>\n",
       "      <td>0.288416</td>\n",
       "      <td>0.288615</td>\n",
       "      <td>0</td>\n",
       "      <td>0</td>\n",
       "      <td>0</td>\n",
       "      <td>0.144188</td>\n",
       "      <td>0.021803</td>\n",
       "      <td>NaN</td>\n",
       "      <td>4.674</td>\n",
       "      <td>0.260615</td>\n",
       "      <td>18.914000</td>\n",
       "      <td>19.574001</td>\n",
       "      <td>23.299999</td>\n",
       "      <td>20.677000</td>\n",
       "      <td>19.377399</td>\n",
       "      <td>19.339300</td>\n",
       "      <td>19.042500</td>\n",
       "      <td>17.450001</td>\n",
       "      <td>17.24</td>\n",
       "      <td>16.59</td>\n",
       "      <td>16.67</td>\n",
       "      <td>14.62</td>\n",
       "    </tr>\n",
       "    <tr>\n",
       "      <th>225158</th>\n",
       "      <td>J230015.58-011158.9</td>\n",
       "      <td>345.064972</td>\n",
       "      <td>-1.199725</td>\n",
       "      <td></td>\n",
       "      <td>6</td>\n",
       "      <td>NaN</td>\n",
       "      <td>1</td>\n",
       "      <td>1</td>\n",
       "      <td>0.500035</td>\n",
       "      <td>0.790886</td>\n",
       "      <td>0</td>\n",
       "      <td>0</td>\n",
       "      <td>1</td>\n",
       "      <td>0.506113</td>\n",
       "      <td>0.457738</td>\n",
       "      <td>0</td>\n",
       "      <td>0</td>\n",
       "      <td>1</td>\n",
       "      <td>0.253074</td>\n",
       "      <td>0.362019</td>\n",
       "      <td>NaN</td>\n",
       "      <td>4.673</td>\n",
       "      <td>0.260615</td>\n",
       "      <td>19.726999</td>\n",
       "      <td>19.809999</td>\n",
       "      <td>23.299999</td>\n",
       "      <td>21.257099</td>\n",
       "      <td>19.468000</td>\n",
       "      <td>19.101999</td>\n",
       "      <td>19.349701</td>\n",
       "      <td>17.450001</td>\n",
       "      <td>17.24</td>\n",
       "      <td>16.59</td>\n",
       "      <td>16.67</td>\n",
       "      <td>14.62</td>\n",
       "    </tr>\n",
       "    <tr>\n",
       "      <th>2089266</th>\n",
       "      <td>J004506.68+001310.3</td>\n",
       "      <td>11.277869</td>\n",
       "      <td>0.219528</td>\n",
       "      <td></td>\n",
       "      <td>6</td>\n",
       "      <td>NaN</td>\n",
       "      <td>0</td>\n",
       "      <td>0</td>\n",
       "      <td>0.499930</td>\n",
       "      <td>0.075543</td>\n",
       "      <td>0</td>\n",
       "      <td>0</td>\n",
       "      <td>0</td>\n",
       "      <td>0.217180</td>\n",
       "      <td>0.227629</td>\n",
       "      <td>0</td>\n",
       "      <td>0</td>\n",
       "      <td>0</td>\n",
       "      <td>0.108575</td>\n",
       "      <td>0.017196</td>\n",
       "      <td>NaN</td>\n",
       "      <td>4.671</td>\n",
       "      <td>0.260615</td>\n",
       "      <td>19.712999</td>\n",
       "      <td>19.809999</td>\n",
       "      <td>23.299999</td>\n",
       "      <td>21.491100</td>\n",
       "      <td>20.641701</td>\n",
       "      <td>20.438601</td>\n",
       "      <td>20.183300</td>\n",
       "      <td>17.450001</td>\n",
       "      <td>17.24</td>\n",
       "      <td>16.59</td>\n",
       "      <td>16.67</td>\n",
       "      <td>14.62</td>\n",
       "    </tr>\n",
       "    <tr>\n",
       "      <th>2234917</th>\n",
       "      <td>J224347.79+001957.1</td>\n",
       "      <td>340.949158</td>\n",
       "      <td>0.332520</td>\n",
       "      <td></td>\n",
       "      <td>8</td>\n",
       "      <td>NaN</td>\n",
       "      <td>0</td>\n",
       "      <td>0</td>\n",
       "      <td>0.499878</td>\n",
       "      <td>0.012193</td>\n",
       "      <td>0</td>\n",
       "      <td>0</td>\n",
       "      <td>1</td>\n",
       "      <td>0.359525</td>\n",
       "      <td>0.346087</td>\n",
       "      <td>0</td>\n",
       "      <td>0</td>\n",
       "      <td>0</td>\n",
       "      <td>0.179718</td>\n",
       "      <td>0.004220</td>\n",
       "      <td>NaN</td>\n",
       "      <td>4.669</td>\n",
       "      <td>0.260615</td>\n",
       "      <td>18.941000</td>\n",
       "      <td>19.433001</td>\n",
       "      <td>23.299999</td>\n",
       "      <td>21.000401</td>\n",
       "      <td>19.911600</td>\n",
       "      <td>19.719700</td>\n",
       "      <td>19.487700</td>\n",
       "      <td>17.450001</td>\n",
       "      <td>17.24</td>\n",
       "      <td>16.59</td>\n",
       "      <td>16.67</td>\n",
       "      <td>14.62</td>\n",
       "    </tr>\n",
       "  </tbody>\n",
       "</table>\n",
       "</div>"
      ],
      "text/plain": [
       "                        Name     RA_ICRS   DE_ICRS TYPE  band_num  class  \\\n",
       "2157420  J230147.61+001621.2  345.448425  0.272568              8    NaN   \n",
       "2693550  J005221.55+004054.4   13.089853  0.681765              6    NaN   \n",
       "365533   J220514.12-010529.2  331.308868 -1.091477              8    NaN   \n",
       "281082   J005421.41-010921.3   13.589242 -1.155940    Q         6    1.0   \n",
       "3114638  J004649.85+010015.6   11.707747  1.004355              8    NaN   \n",
       "2043045  J003942.25+001103.9    9.926069  0.184424              8    NaN   \n",
       "1965383  J013220.13+000730.5   23.083914  0.125152              6    NaN   \n",
       "3451384  J221111.62+011634.2  332.798462  1.276164              8    NaN   \n",
       "3476186  J221034.88+011803.6  332.645355  1.300992              8    NaN   \n",
       "3069283  J011141.88+005809.6   17.924545  0.969337              8    NaN   \n",
       "1406323  J021043.14-001818.0   32.679794 -0.305035  QRX         6    1.0   \n",
       "1347831  J224648.19-002058.2  341.700867 -0.349526              8    NaN   \n",
       "225158   J230015.58-011158.9  345.064972 -1.199725              6    NaN   \n",
       "2089266  J004506.68+001310.3   11.277869  0.219528              6    NaN   \n",
       "2234917  J224347.79+001957.1  340.949158  0.332520              8    NaN   \n",
       "\n",
       "         pred_class  pred_prob_class  Score_AGN  Prob_AGN  LOFAR_detect  \\\n",
       "2157420           0                0   0.499952  0.156901             0   \n",
       "2693550           0                0   0.499972  0.274617             0   \n",
       "365533            0                0   0.499928  0.072792             0   \n",
       "281082            0                0   0.499950  0.148423             0   \n",
       "3114638           0                0   0.499882  0.014282             0   \n",
       "2043045           0                0   0.499921  0.056375             0   \n",
       "1965383           0                0   0.499883  0.014804             0   \n",
       "3451384           0                0   0.499891  0.019854             0   \n",
       "3476186           0                0   0.499918  0.051544             0   \n",
       "3069283           0                0   0.499885  0.015905             0   \n",
       "1406323           1                1   0.500050  0.866373             1   \n",
       "1347831           0                0   0.499930  0.075543             0   \n",
       "225158            1                1   0.500035  0.790886             0   \n",
       "2089266           0                0   0.499930  0.075543             0   \n",
       "2234917           0                0   0.499878  0.012193             0   \n",
       "\n",
       "         pred_radio  pred_prob_radio  Score_radio  Prob_radio  radio_AGN  \\\n",
       "2157420           0                1     0.288353    0.288562          0   \n",
       "2693550           0                1     0.316392    0.311575          0   \n",
       "365533            0                1     0.606740    0.532142          0   \n",
       "281082            0                1     0.322041    0.316154          0   \n",
       "3114638           0                0     0.089571    0.105550          0   \n",
       "2043045           0                1     0.347851    0.336844          0   \n",
       "1965383           0                0     0.193796    0.206672          0   \n",
       "3451384           0                0     0.057498    0.070958          0   \n",
       "3476186           0                1     0.255730    0.261121          0   \n",
       "3069283           0                0     0.210957    0.222103          0   \n",
       "1406323           0                1     0.274664    0.277140          1   \n",
       "1347831           0                1     0.288416    0.288615          0   \n",
       "225158            0                1     0.506113    0.457738          0   \n",
       "2089266           0                0     0.217180    0.227629          0   \n",
       "2234917           0                1     0.359525    0.346087          0   \n",
       "\n",
       "         pred_radio_AGN  pred_prob_rAGN  Score_rAGN  Prob_rAGN      Z  pred_Z  \\\n",
       "2157420               0               0    0.144163   0.045276    NaN   4.696   \n",
       "2693550               0               0    0.158187   0.085564    NaN   4.686   \n",
       "365533                0               0    0.303327   0.038736    NaN   4.685   \n",
       "281082                0               0    0.161005   0.046925  5.022   4.685   \n",
       "3114638               0               0    0.044775   0.001507    NaN   4.685   \n",
       "2043045               0               0    0.173898   0.018990    NaN   4.683   \n",
       "1965383               0               0    0.096875   0.003060    NaN   4.683   \n",
       "3451384               0               0    0.028743   0.001409    NaN   4.681   \n",
       "3476186               0               0    0.127844   0.013459    NaN   4.681   \n",
       "3069283               0               0    0.105454   0.003533    NaN   4.681   \n",
       "1406323               0               1    0.137346   0.240107  4.650   4.675   \n",
       "1347831               0               0    0.144188   0.021803    NaN   4.674   \n",
       "225158                0               1    0.253074   0.362019    NaN   4.673   \n",
       "2089266               0               0    0.108575   0.017196    NaN   4.671   \n",
       "2234917               0               0    0.179718   0.004220    NaN   4.669   \n",
       "\n",
       "         Fint_VLAS82   W1mproPM   W2mproPM       gmag       rmag       imag  \\\n",
       "2157420     0.260615  19.511000  19.679001  23.299999  21.422600  20.581499   \n",
       "2693550     0.260615  19.427000  19.809999  23.299999  20.830500  19.935900   \n",
       "365533      0.260615  19.497999  19.809999  23.299999  21.335100  19.013599   \n",
       "281082      0.260615  19.458000  19.662001  23.299999  21.498501  20.056499   \n",
       "3114638     0.260615  19.299000  19.809999  23.299999  20.070499  19.257401   \n",
       "2043045     0.260615  19.511000  19.809999  23.299999  21.497400  20.589399   \n",
       "1965383     0.260615  19.535999  19.809999  23.299999  21.132799  20.273300   \n",
       "3451384     0.260615  19.556999  19.809999  23.299999  21.625200  20.675501   \n",
       "3476186     0.260615  19.673000  19.809999  23.299999  21.569799  20.682199   \n",
       "3069283     0.260615  19.584999  19.809999  23.299999  21.520201  20.708599   \n",
       "1406323     7.720000  19.296000  19.508001  23.299999  20.605801  19.351900   \n",
       "1347831     0.260615  18.914000  19.574001  23.299999  20.677000  19.377399   \n",
       "225158      0.260615  19.726999  19.809999  23.299999  21.257099  19.468000   \n",
       "2089266     0.260615  19.712999  19.809999  23.299999  21.491100  20.641701   \n",
       "2234917     0.260615  18.941000  19.433001  23.299999  21.000401  19.911600   \n",
       "\n",
       "              zmag       ymag       Jmag   Hmag   Kmag  W3mag  W4mag  \n",
       "2157420  20.215000  20.057301  17.450001  17.24  16.59  16.67  14.62  \n",
       "2693550  19.586399  19.670099  17.450001  17.24  16.59  16.67  14.62  \n",
       "365533   18.747299  18.526300  17.450001  17.24  16.59  16.67  14.62  \n",
       "281082   19.740400  19.598400  17.450001  17.24  16.59  16.67  14.62  \n",
       "3114638  19.009899  18.795300  17.450001  17.24  16.59  16.67  14.62  \n",
       "2043045  20.336901  20.083200  17.450001  17.24  16.59  16.67  14.62  \n",
       "1965383  19.909901  19.588600  17.450001  17.24  16.59  16.67  14.62  \n",
       "3451384  20.423901  20.220800  17.450001  17.24  16.59  16.67  14.62  \n",
       "3476186  20.327200  20.161900  17.450001  17.24  16.59  16.67  14.62  \n",
       "3069283  20.399099  20.243000  17.450001  17.24  16.59  16.67  14.62  \n",
       "1406323  19.277700  19.318701  17.450001  17.24  16.59  16.67  14.62  \n",
       "1347831  19.339300  19.042500  17.450001  17.24  16.59  16.67  14.62  \n",
       "225158   19.101999  19.349701  17.450001  17.24  16.59  16.67  14.62  \n",
       "2089266  20.438601  20.183300  17.450001  17.24  16.59  16.67  14.62  \n",
       "2234917  19.719700  19.487700  17.450001  17.24  16.59  16.67  14.62  "
      ]
     },
     "metadata": {},
     "output_type": "display_data"
    }
   ],
   "source": [
    "display(full_catalog_df.loc[filter_high_z, cols_4_export].sort_values(by=['pred_Z'], ascending=False).head(15))"
   ]
  },
  {
   "cell_type": "code",
   "execution_count": 35,
   "metadata": {},
   "outputs": [],
   "source": [
    "if save_preds_flag:\n",
    "    full_catalog_df.loc[filter_high_z, cols_4_export].sort_values(by=['pred_Z'],\n",
    "     ascending=False).to_csv(gv.preds_path + f'predicted_rAGN_{used_area}.csv', index_label='ID')"
   ]
  },
  {
   "cell_type": "markdown",
   "metadata": {},
   "source": [
    "---"
   ]
  },
  {
   "cell_type": "code",
   "execution_count": 36,
   "metadata": {},
   "outputs": [],
   "source": [
    "temp_flag = False"
   ]
  },
  {
   "cell_type": "code",
   "execution_count": 37,
   "metadata": {},
   "outputs": [],
   "source": [
    "if temp_flag:\n",
    "    cols_AGN   = ['g_r', 'r_i', 'r_J', 'i_z', 'i_y', \n",
    "                  'z_y', 'z_W2', 'y_J', 'y_W1', 'y_W2', 'J_H', 'H_K', \n",
    "                  'H_W3', 'W1_W2', 'W1_W3', 'W3_W4']  # Only colours (no 'band_num', 'W4mag')\n",
    "    cols_radio = ['g_r', 'g_i', 'r_i', 'r_z', 'i_z', \n",
    "                  'z_y', 'z_W1', 'y_J', 'y_W1', 'J_H', 'H_K', 'K_W3', \n",
    "                  'K_W4', 'W1_W2', 'W2_W3']  # Only colours (no 'band_num', 'W4mag')\n",
    "    cols_z     = ['g_r', 'g_W3', 'r_i', 'r_z', 'i_z', \n",
    "                  'i_y', 'z_y', 'y_J', 'y_W1', 'J_H', 'H_K', 'K_W3', \n",
    "                  'K_W4', 'W1_W2', 'W2_W3']  # Only colours (no 'band_num', 'W4mag')\n",
    "    \n",
    "    cols_cols = list(np.unique(cols_AGN + cols_radio + cols_z))"
   ]
  },
  {
   "cell_type": "code",
   "execution_count": 38,
   "metadata": {},
   "outputs": [],
   "source": [
    "if temp_flag:\n",
    "    \n",
    "    add_columns  = ['band_num', 'class', 'pred_prob_class', 'Score_AGN', 'Prob_AGN', \n",
    "                    'LOFAR_detect',  'pred_prob_radio', 'Score_radio', 'Prob_radio', \n",
    "                    'radio_AGN', 'pred_prob_rAGN', 'Score_rAGN', 'Prob_rAGN', 'Z', 'pred_Z']\n",
    "    used_colours = cols_cols"
   ]
  },
  {
   "cell_type": "code",
   "execution_count": 39,
   "metadata": {},
   "outputs": [],
   "source": [
    "if temp_flag:\n",
    "    saving_data = full_catalog_df.loc[:, add_columns + cols_photo + used_colours]\n",
    "    saving_data['ID'] = saving_data.index\n",
    "    saving_data.to_hdf(gv.preds_path + f'{used_area}_for_prediction.h5', key='df')"
   ]
  },
  {
   "cell_type": "code",
   "execution_count": null,
   "metadata": {},
   "outputs": [],
   "source": []
  },
  {
   "cell_type": "code",
   "execution_count": null,
   "metadata": {},
   "outputs": [],
   "source": [
    "save_full_flag = False"
   ]
  },
  {
   "cell_type": "code",
   "execution_count": null,
   "metadata": {},
   "outputs": [],
   "source": [
    "if save_full_flag:\n",
    "    cols_2_save = ['RA_ICRS', 'DE_ICRS', 'Name', 'TYPE', 'Z', 'band_num', 'Fint_VLAS82', \n",
    "                   'Fint_VLAS82_AB', 'is_str', 'W1mproPM', 'W2mproPM', 'gmag', 'rmag', \n",
    "                   'imag', 'zmag', 'ymag', 'W3mag', 'W4mag', 'Jmag', 'Hmag', 'Kmag', 'g_r', \n",
    "                   'g_i', 'g_z', 'g_y', 'g_J', 'g_H', 'g_K', 'g_W1', 'g_W2', 'g_W3', 'g_W4', \n",
    "                   'r_i', 'r_z', 'r_y', 'r_J', 'r_H', 'r_K', 'r_W1', 'r_W2', 'r_W3', 'r_W4', \n",
    "                   'i_z', 'i_y', 'i_J', 'i_H', 'i_K', 'i_W1', 'i_W2', 'i_W3', 'i_W4', 'z_y', \n",
    "                   'z_J', 'z_H', 'z_K', 'z_W1', 'z_W2', 'z_W3', 'z_W4', 'y_J', 'y_H', 'y_K', \n",
    "                   'y_W1', 'y_W2', 'y_W3', 'y_W4', 'J_H', 'J_K', 'J_W1', 'J_W2', 'J_W3', \n",
    "                   'J_W4', 'H_K', 'H_W1', 'H_W2', 'H_W3', 'H_W4', 'K_W1', 'K_W2', 'K_W3', \n",
    "                   'K_W4', 'W1_W2', 'W1_W3', 'W1_W4', 'W2_W3', 'W2_W4', 'W3_W4', 'radio_detect', \n",
    "                   'LOFAR_detect', 'class', 'radio_AGN', 'Prob_AGN', 'Prob_radio', 'pred_Z', \n",
    "                   'pred_prob_class', 'pred_prob_radio', 'pred_prob_rAGN', 'Prob_rAGN', ]"
   ]
  },
  {
   "cell_type": "code",
   "execution_count": null,
   "metadata": {},
   "outputs": [],
   "source": [
    "if save_full_flag:\n",
    "    saving_data_full       = full_catalog_df.loc[:, cols_2_save]\n",
    "    saving_data_full['ID'] = saving_data_full.index\n",
    "    saving_data_full.to_hdf(gv.preds_path + f'{used_area}_full_prediction.h5', key='df')"
   ]
  },
  {
   "cell_type": "code",
   "execution_count": 40,
   "metadata": {},
   "outputs": [
    {
     "data": {
      "text/plain": [
       "array(['RA_ICRS', 'DE_ICRS', 'Name', 'TYPE', 'Z', 'spCl', 'band_num',\n",
       "       'Fint_VLAS82', 'Fint_VLAS82_AB', 'is_str', 'W1mproPM', 'W2mproPM',\n",
       "       'gmag', 'rmag', 'imag', 'zmag', 'ymag', 'W3mag', 'W4mag', 'Jmag',\n",
       "       'Hmag', 'Kmag', 'g_r', 'g_i', 'g_z', 'g_y', 'g_J', 'g_H', 'g_K',\n",
       "       'g_W1', 'g_W2', 'g_W3', 'g_W4', 'r_i', 'r_z', 'r_y', 'r_J', 'r_H',\n",
       "       'r_K', 'r_W1', 'r_W2', 'r_W3', 'r_W4', 'i_z', 'i_y', 'i_J', 'i_H',\n",
       "       'i_K', 'i_W1', 'i_W2', 'i_W3', 'i_W4', 'z_y', 'z_J', 'z_H', 'z_K',\n",
       "       'z_W1', 'z_W2', 'z_W3', 'z_W4', 'y_J', 'y_H', 'y_K', 'y_W1',\n",
       "       'y_W2', 'y_W3', 'y_W4', 'J_H', 'J_K', 'J_W1', 'J_W2', 'J_W3',\n",
       "       'J_W4', 'H_K', 'H_W1', 'H_W2', 'H_W3', 'H_W4', 'K_W1', 'K_W2',\n",
       "       'K_W3', 'K_W4', 'W1_W2', 'W1_W3', 'W1_W4', 'W2_W3', 'W2_W4',\n",
       "       'W3_W4', 'LOFAR_detect', 'class', 'radio_AGN', 'pred_class',\n",
       "       'Score_AGN', 'Prob_AGN', 'pred_radio', 'Score_radio', 'Prob_radio',\n",
       "       'pred_Z', 'pred_prob_class', 'pred_prob_radio', 'pred_radio_AGN',\n",
       "       'Score_rAGN', 'pred_prob_rAGN', 'Prob_rAGN', 'scaled_score_radio',\n",
       "       'scaled_score_rAGN', 'Delta_z_N', 'sigma_NMAD'], dtype=object)"
      ]
     },
     "execution_count": 40,
     "metadata": {},
     "output_type": "execute_result"
    }
   ],
   "source": [
    "np.array(full_catalog_df.columns)"
   ]
  },
  {
   "cell_type": "code",
   "execution_count": null,
   "metadata": {},
   "outputs": [],
   "source": []
  },
  {
   "cell_type": "code",
   "execution_count": null,
   "metadata": {},
   "outputs": [],
   "source": []
  },
  {
   "cell_type": "code",
   "execution_count": null,
   "metadata": {},
   "outputs": [],
   "source": []
  }
 ],
 "metadata": {
  "kernelspec": {
   "display_name": "Python 3 (ipykernel)",
   "language": "python",
   "name": "python3"
  },
  "language_info": {
   "codemirror_mode": {
    "name": "ipython",
    "version": 3
   },
   "file_extension": ".py",
   "mimetype": "text/x-python",
   "name": "python",
   "nbconvert_exporter": "python",
   "pygments_lexer": "ipython3",
   "version": "3.8.13"
  },
  "vscode": {
   "interpreter": {
    "hash": "1d7c94ac87c57432169d0bc24ce250f6f2e77b44a3b95192eb5ace62cff26777"
   }
  }
 },
 "nbformat": 4,
 "nbformat_minor": 4
}
